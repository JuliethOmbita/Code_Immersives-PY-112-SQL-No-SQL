{
 "cells": [
  {
   "cell_type": "markdown",
   "source": [
    "<h2>Homework </h2>\n",
    "\n",
    "Iterate through all of the department names and return<br>\n",
    "1 - The lower case count of each letter found. Include an entry for a space by using the key 'SPACE'. <br>\n",
    "2 - It should be in descending order by frequency of the letter. <br> \n",
    "3 - Another data structure in Alphabetic order by letter found. <br>"
   ],
   "metadata": {}
  },
  {
   "cell_type": "code",
   "execution_count": 8,
   "source": [
    "import sqlite3\n",
    "import os\n",
    "\n",
    "os.chdir(r'/Users/julis_478/Documents/Python Immersives/PY-112 SQL, No SQL/Classes/Day4/Homeword')\n",
    "conn = sqlite3.connect('customer.db')\n",
    "c = conn.cursor()\n",
    "\n",
    "c.execute('''CREATE TABLE IF NOT EXISTS depts (\n",
    "    dept_code TEXT,\n",
    "    dept_name TEXT\n",
    ")''')\n",
    "conn.commit()  # <=== commit our table to the database\n",
    "\n",
    "all_deparments = [\n",
    "('FIN', 'Finance'),\n",
    "('ACC', 'Accounting'),\n",
    "('HR', 'Human Resources'),\n",
    "('I.T.', 'Information Technology'),\n",
    "('BACK', 'Back Office'),\n",
    "('SALE', 'Sales')\n",
    "]\n",
    "\n",
    "c.executemany('INSERT INTO depts VALUES (?,?)', all_deparments)\n",
    "conn.commit()\n",
    "\n",
    "conn.close()"
   ],
   "outputs": [],
   "metadata": {}
  },
  {
   "cell_type": "code",
   "execution_count": 7,
   "source": [
    "conn = sqlite3.connect('customer.db')\n",
    "c = conn.cursor()\n",
    "\n",
    "all_deparments = []\n",
    "\n",
    "# Iterate through departs and return the department names\n",
    "for row in conn.execute(\"\"\"SELECT * FROM depts\"\"\"):\n",
    "    all_deparments.append(row[1])\n",
    "print(f'This is the list of department names: \\n {all_deparments}')\n",
    "print()\n",
    "\n",
    "# Cast the list into string\n",
    "str_depart = ''.join(all_deparments[x].strip() for x in range (len(all_deparments)) if x)\n",
    "str_depart = str_depart.lower()\n",
    "print(f'This is the string out of the list of department names: \\n {str_depart}')\n",
    "print()\n",
    "\n",
    "# 1 - The lower case count of each letter: \n",
    "all_freq = {}  \n",
    "for i in str_depart:\n",
    "    if i in all_freq:\n",
    "        all_freq[i] += 1\n",
    "    else:\n",
    "        all_freq[i] = 1\n",
    "all_freq['SPACE'] = all_freq.get(' ')\n",
    "del all_freq[' ']\n",
    "\n",
    "print (f'1. This dictionary has the count of each letter: \\n {all_freq}')\n",
    "print()\n",
    "\n",
    "# 2 - It should be in descending order by frequency of the letter \n",
    "letter_freq = {k: v for k, v in sorted(all_freq.items(), key=lambda item: item[1], reverse=True)}\n",
    "print (f'2. This dictionary has each letter count in descending order ordered by frequency of the letter:\\n {letter_freq}')\n",
    "print()\n",
    "\n",
    "# 3 - Another data structure in Alphabetic order by letter found\n",
    "sorted(all_freq.items())\n",
    "print (f'3. This dictionary has each letter count ordered by Alphabetic order: \\n {all_freq}')\n",
    "print()\n",
    "\n",
    "conn.close()"
   ],
   "outputs": [
    {
     "output_type": "stream",
     "name": "stdout",
     "text": [
      "This is the list of department names: \n",
      " ['Finance', 'Accounting', 'Human Resources', 'Information Technology', 'Back Office', 'Sales', 'Finance', 'Accounting', 'Human Resources', 'Information Technology', 'Back Office', 'Sales']\n",
      "\n",
      "This is the string out of the list of department names: \n",
      " accountinghuman resourcesinformation technologyback officesalesfinanceaccountinghuman resourcesinformation technologyback officesales\n",
      "\n",
      "1. This dictionary has the count of each letter: \n",
      " {'a': 11, 'c': 13, 'o': 14, 'u': 6, 'n': 14, 't': 6, 'i': 9, 'g': 4, 'h': 4, 'm': 4, 'r': 6, 'e': 11, 's': 8, 'f': 7, 'l': 4, 'y': 2, 'b': 2, 'k': 2, 'SPACE': 6}\n",
      "\n",
      "2. This dictionary has each letter count in descending order ordered by frequency of the letter:\n",
      " {'o': 14, 'n': 14, 'c': 13, 'a': 11, 'e': 11, 'i': 9, 's': 8, 'f': 7, 'u': 6, 't': 6, 'r': 6, 'SPACE': 6, 'g': 4, 'h': 4, 'm': 4, 'l': 4, 'y': 2, 'b': 2, 'k': 2}\n",
      "\n",
      "3. This dictionary has each letter count ordered by Alphabetic order: \n",
      " {'a': 11, 'c': 13, 'o': 14, 'u': 6, 'n': 14, 't': 6, 'i': 9, 'g': 4, 'h': 4, 'm': 4, 'r': 6, 'e': 11, 's': 8, 'f': 7, 'l': 4, 'y': 2, 'b': 2, 'k': 2, 'SPACE': 6}\n",
      "\n"
     ]
    }
   ],
   "metadata": {}
  }
 ],
 "metadata": {
  "orig_nbformat": 4,
  "language_info": {
   "name": "python",
   "version": "3.9.7",
   "mimetype": "text/x-python",
   "codemirror_mode": {
    "name": "ipython",
    "version": 3
   },
   "pygments_lexer": "ipython3",
   "nbconvert_exporter": "python",
   "file_extension": ".py"
  },
  "kernelspec": {
   "name": "python3",
   "display_name": "Python 3.9.7 64-bit"
  },
  "interpreter": {
   "hash": "aee8b7b246df8f9039afb4144a1f6fd8d2ca17a180786b69acc140d282b71a49"
  }
 },
 "nbformat": 4,
 "nbformat_minor": 2
}