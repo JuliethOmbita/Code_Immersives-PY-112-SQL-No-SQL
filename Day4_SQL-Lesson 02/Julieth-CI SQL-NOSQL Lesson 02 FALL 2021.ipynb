{
 "cells": [
  {
   "cell_type": "code",
   "execution_count": 1,
   "source": [
    "import sqlite3\n",
    "import os\n",
    "\n",
    "os.chdir(r'/Users/julis_478/Documents/Python Immersives/PY-112 SQL, No SQL/Classes/Activities Github/Day4_SQL-Lesson 02')\n",
    "conn = sqlite3.connect('customer.db')\n",
    "c = conn.cursor()\n",
    "# conn.commit()\n",
    "# conn.close()"
   ],
   "outputs": [],
   "metadata": {}
  },
  {
   "cell_type": "code",
   "execution_count": 2,
   "source": [
    "import os \n",
    "print(os.getcwd())"
   ],
   "outputs": [
    {
     "output_type": "stream",
     "name": "stdout",
     "text": [
      "/Users/julis_478/Documents/Python Immersives/PY-112 SQL, No SQL/Classes/Activities Github/Day4_SQL-Lesson 02\n"
     ]
    }
   ],
   "metadata": {}
  },
  {
   "cell_type": "code",
   "execution_count": 5,
   "source": [
    "conn = sqlite3.connect('customer.db')\n",
    "c = conn.cursor()\n",
    "c.execute('''CREATE TABLE IF NOT EXISTS customers (\n",
    "    first_name TEXT,\n",
    "    last_name TEXT,\n",
    "    address1 TEXT,\n",
    "    address2 TEXT,\n",
    "    city TEXT,\n",
    "    state TEXT,\n",
    "    zip TEXT\n",
    ")''')\n",
    "conn.commit() # <=== commit our table changes to the database !!!\n",
    "# conn.close()  # Close the connection"
   ],
   "outputs": [],
   "metadata": {}
  },
  {
   "cell_type": "code",
   "execution_count": 6,
   "source": [
    "# Retreive all table names in the database\n",
    "for row in c.execute(\"SELECT name FROM sqlite_master\"):\n",
    "    print(row)\n",
    "# Below asks for only 2 specific fields from this table\n",
    "for row in conn.execute(\"SELECT first_name, last_name FROM customers\"):\n",
    "    print(row)\n",
    "# Return all fields from the table customers\n",
    "for row in conn.execute(\"SELECT * FROM customers\"):\n",
    "    print(row)\n",
    "\n",
    "conn.commit()  # <=== commit our table to the database\n",
    "conn.close()"
   ],
   "outputs": [
    {
     "output_type": "stream",
     "name": "stdout",
     "text": [
      "('customers',)\n"
     ]
    }
   ],
   "metadata": {}
  },
  {
   "cell_type": "code",
   "execution_count": 7,
   "source": [
    "import sqlite3\n",
    "import os\n",
    "\n",
    "os.chdir(r'/Users/julis_478/Documents/Python Immersives/PY-112 SQL, No SQL/Classes/Activities Github/Day4_SQL-Lesson 02')\n",
    "conn = sqlite3.connect('customer.db') #Careate or open a database\n",
    "c = conn.cursor() # Create a cursor connection to the database\n",
    "all_customers = [\n",
    "('Fred', 'Fentree', '12 Williams street Avenue', 'Apt 1a', 'Brooklyn', 'NY', '11234'),\n",
    "('Mary', 'Pew', '1 Park Avenue', 'Apt 2a', 'New York', 'NY', '11234'),\n",
    "('Mary', 'Roberts', '1 Park Avenue', 'Apt 2a', 'New York', 'NY', '11234'),\n",
    "('Mary', 'Jones', '10 Center Ave', 'Apt 10b', 'Brooklyn', 'NY', '11234'),\n",
    "('Lea', 'Jones', '1 Park Avenue', 'Apt 2a', 'Bronx', 'NY', '11234') \n",
    "]\n",
    "c.executemany('INSERT INTO customers VALUES (?,?,?,?,?,?,?)', all_customers)\n",
    "conn.commit()\n",
    "# Return all fields from the table customers\n",
    "for row in conn.execute(\"\"\"SELECT * FROM customers\"\"\"):\n",
    "    print(row)\n",
    "# conn.close()\n"
   ],
   "outputs": [
    {
     "output_type": "stream",
     "name": "stdout",
     "text": [
      "('Fred', 'Fentree', '12 Williams street Avenue', 'Apt 1a', 'Brooklyn', 'NY', '11234')\n",
      "('Mary', 'Pew', '1 Park Avenue', 'Apt 2a', 'New York', 'NY', '11234')\n",
      "('Mary', 'Roberts', '1 Park Avenue', 'Apt 2a', 'New York', 'NY', '11234')\n",
      "('Mary', 'Jones', '10 Center Ave', 'Apt 10b', 'Brooklyn', 'NY', '11234')\n",
      "('Lea', 'Jones', '1 Park Avenue', 'Apt 2a', 'Bronx', 'NY', '11234')\n"
     ]
    }
   ],
   "metadata": {}
  },
  {
   "cell_type": "markdown",
   "source": [
    "# Return an unduplicated list of the cities in the customer database "
   ],
   "metadata": {}
  },
  {
   "cell_type": "code",
   "execution_count": 8,
   "source": [
    "#Retrieve just the list of city  \n",
    "city = []\n",
    "for row in conn.execute(\"\"\"SELECT city FROM customers \"\"\"): \n",
    "    city.append(row[0])\n",
    "print(city)\n",
    "print(set(city))\n",
    "print()\n",
    "# Mth 2 - DISTINCT\n",
    "for row in conn.execute(\"\"\"SELECT DISTINCT city FROM customers \"\"\"):\n",
    "    print(row)"
   ],
   "outputs": [
    {
     "output_type": "stream",
     "name": "stdout",
     "text": [
      "['Brooklyn', 'New York', 'New York', 'Brooklyn', 'Bronx']\n",
      "{'Brooklyn', 'New York', 'Bronx'}\n",
      "\n",
      "('Brooklyn',)\n",
      "('New York',)\n",
      "('Bronx',)\n"
     ]
    }
   ],
   "metadata": {}
  },
  {
   "cell_type": "code",
   "execution_count": 9,
   "source": [
    "# 1. City en Alpha order using python\n",
    "\n",
    "city = []\n",
    "for row in conn.execute(\"\"\"SELECT city FROM customers \"\"\"):\n",
    "    city.append(row[0])\n",
    "city_list = list(set(city))\n",
    "# In alpha order or ASCending (ASC)\n",
    "city_list.sort()\n",
    "print (city_list)\n",
    "print('='*35)\n",
    "# In reverse alpha order or DESCending  (DESC)\n",
    "city_list.sort(reverse=True)\n",
    "print (city_list)\n",
    "print('='*35)\n",
    "\n",
    "# 1. City en Alpha order using SQL\n",
    "# In alpha order or ASCending (ASC)\n",
    "for row in conn.execute(\"\"\"SELECT DISTINCT city FROM customers ORDER BY city ASC\"\"\"):\n",
    "    print(row)\n",
    "print('='*35)\n",
    "\n",
    "# In reverse alpha order or DESCending  (DESC)\n",
    "for row in conn.execute(\"\"\"SELECT DISTINCT city FROM customers ORDER BY city DESC\"\"\"):\n",
    "    print(row)"
   ],
   "outputs": [
    {
     "output_type": "stream",
     "name": "stdout",
     "text": [
      "['Bronx', 'Brooklyn', 'New York']\n",
      "===================================\n",
      "['New York', 'Brooklyn', 'Bronx']\n",
      "===================================\n",
      "('Bronx',)\n",
      "('Brooklyn',)\n",
      "('New York',)\n",
      "===================================\n",
      "('New York',)\n",
      "('Brooklyn',)\n",
      "('Bronx',)\n"
     ]
    }
   ],
   "metadata": {}
  },
  {
   "cell_type": "markdown",
   "source": [
    "# Exercise <br>\n",
    "1 - List all customers whose name starts with 'M'. <br>\n",
    "2 - Count of all customer names and the number of times the first name appears in out table. <br>\n"
   ],
   "metadata": {}
  },
  {
   "cell_type": "code",
   "execution_count": 10,
   "source": [
    "# STEPS\n",
    "# 1. Print everything\n",
    "# 2. Refine the list\n",
    "\n",
    "# Mth 1\n",
    "for row in conn.execute(\"SELECT first_name FROM customers\"):\n",
    "    if row[0][:1] =='M':\n",
    "         print (row[0])\n",
    "print()\n",
    "\n",
    "# Mth 1 - LIKE clause\n",
    "for row in conn.execute(\"SELECT first_name FROM customers WHERE first_name LIKE 'M%'\"):\n",
    "    print (row[0])\n",
    "\n"
   ],
   "outputs": [
    {
     "output_type": "stream",
     "name": "stdout",
     "text": [
      "Mary\n",
      "Mary\n",
      "Mary\n",
      "\n",
      "Mary\n",
      "Mary\n",
      "Mary\n"
     ]
    }
   ],
   "metadata": {}
  },
  {
   "cell_type": "code",
   "execution_count": 11,
   "source": [
    "names = {}\n",
    "for row in conn.execute(\"\"\"SELECT first_name FROM customers\"\"\"):\n",
    "    name = row[0] # Get each name\n",
    "    if not name in names: # Does this name exist in the dictionary?\n",
    "        names[name] = 0   # It does so set the count to 0 for that name\n",
    "    names[name] += 1\n",
    "print(names)\n",
    "# conn.commit()  # <=== commit our table to the database\n",
    "# conn.close()"
   ],
   "outputs": [
    {
     "output_type": "stream",
     "name": "stdout",
     "text": [
      "{'Fred': 1, 'Mary': 3, 'Lea': 1}\n"
     ]
    }
   ],
   "metadata": {}
  },
  {
   "cell_type": "code",
   "execution_count": 12,
   "source": [
    "# fetchall() - all data into a list  \n",
    "\n",
    "import sqlite3\n",
    "import os\n",
    "\n",
    "os.chdir(r'/Users/julis_478/Documents/Python Immersives/PY-112 SQL, No SQL/Classes/Activities Github/Day4_SQL-Lesson 02')\n",
    "conn = sqlite3.connect('customer.db')\n",
    "c = conn.cursor()\n",
    "\n",
    "c.execute('SELECT * FROM customers')\n",
    "print(c.fetchall())\n",
    "conn.commit()\n",
    "conn.close()"
   ],
   "outputs": [
    {
     "output_type": "stream",
     "name": "stdout",
     "text": [
      "[('Fred', 'Fentree', '12 Williams street Avenue', 'Apt 1a', 'Brooklyn', 'NY', '11234'), ('Mary', 'Pew', '1 Park Avenue', 'Apt 2a', 'New York', 'NY', '11234'), ('Mary', 'Roberts', '1 Park Avenue', 'Apt 2a', 'New York', 'NY', '11234'), ('Mary', 'Jones', '10 Center Ave', 'Apt 10b', 'Brooklyn', 'NY', '11234'), ('Lea', 'Jones', '1 Park Avenue', 'Apt 2a', 'Bronx', 'NY', '11234')]\n"
     ]
    }
   ],
   "metadata": {}
  },
  {
   "cell_type": "code",
   "execution_count": 13,
   "source": [
    "# fetchone() - one item in a list\n",
    "\n",
    "import sqlite3\n",
    "import os\n",
    "\n",
    "os.chdir(r'/Users/julis_478/Documents/Python Immersives/PY-112 SQL, No SQL/Classes/Activities Github/Day4_SQL-Lesson 02')\n",
    "conn = sqlite3.connect('customer.db')\n",
    "c = conn.cursor()\n",
    "\n",
    "c.execute('SELECT * FROM customers')\n",
    "print(c.fetchone())\n",
    "conn.commit()\n",
    "conn.close()"
   ],
   "outputs": [
    {
     "output_type": "stream",
     "name": "stdout",
     "text": [
      "('Fred', 'Fentree', '12 Williams street Avenue', 'Apt 1a', 'Brooklyn', 'NY', '11234')\n"
     ]
    }
   ],
   "metadata": {}
  },
  {
   "cell_type": "code",
   "execution_count": 14,
   "source": [
    "# fetchmany(3) \n",
    "import sqlite3\n",
    "import os\n",
    "\n",
    "os.chdir(r'/Users/julis_478/Documents/Python Immersives/PY-112 SQL, No SQL/Classes/Activities Github/Day4_SQL-Lesson 02')\n",
    "conn = sqlite3.connect('customer.db')\n",
    "c = conn.cursor()\n",
    "\n",
    "c.execute('SELECT * FROM customers')\n",
    "print(c.fetchmany(3))\n",
    "conn.commit()\n",
    "conn.close()"
   ],
   "outputs": [
    {
     "output_type": "stream",
     "name": "stdout",
     "text": [
      "[('Fred', 'Fentree', '12 Williams street Avenue', 'Apt 1a', 'Brooklyn', 'NY', '11234'), ('Mary', 'Pew', '1 Park Avenue', 'Apt 2a', 'New York', 'NY', '11234'), ('Mary', 'Roberts', '1 Park Avenue', 'Apt 2a', 'New York', 'NY', '11234')]\n"
     ]
    }
   ],
   "metadata": {}
  },
  {
   "cell_type": "markdown",
   "source": [
    "# Filter data using a WHERE clause"
   ],
   "metadata": {}
  },
  {
   "cell_type": "markdown",
   "source": [
    "List all the customers where first name is = 'Mary'"
   ],
   "metadata": {}
  },
  {
   "cell_type": "code",
   "execution_count": 15,
   "source": [
    "import sqlite3\n",
    "import os\n",
    "\n",
    "os.chdir(r'/Users/julis_478/Documents/Python Immersives/PY-112 SQL, No SQL/Classes/Activities Github/Day4_SQL-Lesson 02')\n",
    "conn = sqlite3.connect('customer.db')\n",
    "c = conn.cursor()\n",
    "\n",
    "c.execute('SELECT * FROM customers WHERE first_name = \"Mary\"')\n",
    "print(c.fetchall())\n",
    "conn.commit()\n",
    "conn.close()"
   ],
   "outputs": [
    {
     "output_type": "stream",
     "name": "stdout",
     "text": [
      "[('Mary', 'Pew', '1 Park Avenue', 'Apt 2a', 'New York', 'NY', '11234'), ('Mary', 'Roberts', '1 Park Avenue', 'Apt 2a', 'New York', 'NY', '11234'), ('Mary', 'Jones', '10 Center Ave', 'Apt 10b', 'Brooklyn', 'NY', '11234')]\n"
     ]
    }
   ],
   "metadata": {}
  },
  {
   "cell_type": "code",
   "execution_count": 16,
   "source": [
    "# Compound query based on more than one field\n",
    "import sqlite3\n",
    "import os\n",
    "\n",
    "os.chdir(r'/Users/julis_478/Documents/Python Immersives/PY-112 SQL, No SQL/Classes/Activities Github/Day4_SQL-Lesson 02')\n",
    "conn = sqlite3.connect('customer.db')\n",
    "c = conn.cursor()\n",
    "\n",
    "c.execute('SELECT * FROM customers WHERE first_name = \"Mary\" AND address2=\"Apt 2a\"')\n",
    "print(c.fetchall())\n",
    "conn.commit()\n",
    "conn.close()"
   ],
   "outputs": [
    {
     "output_type": "stream",
     "name": "stdout",
     "text": [
      "[('Mary', 'Pew', '1 Park Avenue', 'Apt 2a', 'New York', 'NY', '11234'), ('Mary', 'Roberts', '1 Park Avenue', 'Apt 2a', 'New York', 'NY', '11234')]\n"
     ]
    }
   ],
   "metadata": {}
  },
  {
   "cell_type": "markdown",
   "source": [
    "# Exercise \n",
    "1- Create a table called Depts <br>\n",
    "2- The table struct ure is the following: <br>\n",
    "dept code TEXT, <br>\n",
    "dept_name TEXT<br> \n",
    "3- Add the following depts <br>\n",
    "FIN, Finance <br>\n",
    "ACC, Accounting <br>\n",
    "HR, Human Resources <br>\n",
    "I.T., Information Technology <br>\n",
    "BACK, Back Office <br>\n",
    "SALE, Sales <br>\n",
    "4- Query and print all depts <br>\n",
    "5 - Using core python query all dept_codes with the letter 'A' inside the code"
   ],
   "metadata": {}
  },
  {
   "cell_type": "code",
   "execution_count": 19,
   "source": [
    "import sqlite3\n",
    "import os\n",
    "\n",
    "os.chdir(r'/Users/julis_478/Documents/Python Immersives/PY-112 SQL, No SQL/Classes/Activities Github/Day4_SQL-Lesson 02')\n",
    "conn = sqlite3.connect('customer.db')\n",
    "c = conn.cursor()\n",
    "\n",
    "# The asterick allows you to retreive all of the fields\n",
    "c.execute(\"\"\"CREATE TABLE IF NOT EXISTS depts (dept_code TEXT,\n",
    "dept_name TEXT)\"\"\")\n",
    "conn.commit()\n",
    "# Which tables exists in my database\n",
    "for row in c.execute(\"\"\"SELECT name FROM sqlite_master\"\"\"):\n",
    "    print(row)\n",
    "    print()\n",
    "#\n",
    "all_depts = [ \n",
    "    ('FIN', 'Finance'),\n",
    "    ('ACC', 'Accounting'),\n",
    "    ('HR', 'Human Resources'),\n",
    "    ('I.T.', 'Information Technology'),\n",
    "    ('BACK' , 'Back Office'),\n",
    "    ('SALE' , 'Sales'),\n",
    "]\n",
    "c.executemany('INSERT INTO depts VALUES (?,?)',all_depts)\n",
    "conn.commit()\n",
    "for row in c.execute('SELECT * FROM depts'):\n",
    "    print(row)\n",
    "print()\n",
    "\n",
    "for row in c.execute('SELECT dept_code FROM depts'):\n",
    "    print(row)\n",
    "print()"
   ],
   "outputs": [
    {
     "output_type": "stream",
     "name": "stdout",
     "text": [
      "('customers',)\n",
      "\n",
      "('depts',)\n",
      "\n",
      "('FIN', 'Finance')\n",
      "('ACC', 'Accounting')\n",
      "('HR', 'Human Resources')\n",
      "('I.T.', 'Information Technology')\n",
      "('BACK', 'Back Office')\n",
      "('SALE', 'Sales')\n",
      "('FIN', 'Finance')\n",
      "('ACC', 'Accounting')\n",
      "('HR', 'Human Resources')\n",
      "('I.T.', 'Information Technology')\n",
      "('BACK', 'Back Office')\n",
      "('SALE', 'Sales')\n",
      "('FIN', 'Finance')\n",
      "('ACC', 'Accounting')\n",
      "('HR', 'Human Resources')\n",
      "('I.T.', 'Information Technology')\n",
      "('BACK', 'Back Office')\n",
      "('SALE', 'Sales')\n",
      "\n",
      "('FIN',)\n",
      "('ACC',)\n",
      "('HR',)\n",
      "('I.T.',)\n",
      "('BACK',)\n",
      "('SALE',)\n",
      "('FIN',)\n",
      "('ACC',)\n",
      "('HR',)\n",
      "('I.T.',)\n",
      "('BACK',)\n",
      "('SALE',)\n",
      "('FIN',)\n",
      "('ACC',)\n",
      "('HR',)\n",
      "('I.T.',)\n",
      "('BACK',)\n",
      "('SALE',)\n",
      "\n"
     ]
    }
   ],
   "metadata": {}
  },
  {
   "cell_type": "code",
   "execution_count": 20,
   "source": [
    "# Using core python query all dept_codes with the letter 'A' inside the code\n",
    "for row in c.execute('SELECT dept_code FROM depts'):\n",
    "    if 'A' in row[0]:\n",
    "        print(row)"
   ],
   "outputs": [
    {
     "output_type": "stream",
     "name": "stdout",
     "text": [
      "('ACC',)\n",
      "('BACK',)\n",
      "('SALE',)\n",
      "('ACC',)\n",
      "('BACK',)\n",
      "('SALE',)\n",
      "('ACC',)\n",
      "('BACK',)\n",
      "('SALE',)\n"
     ]
    }
   ],
   "metadata": {}
  },
  {
   "cell_type": "markdown",
   "source": [
    "<h2>Find the letter 'A' in the dept_code using SQL</h2>"
   ],
   "metadata": {}
  },
  {
   "cell_type": "code",
   "execution_count": 21,
   "source": [
    "# Give me all depts that starts with the letter A \n",
    "for row in c.execute(\"SELECT dept_code FROM depts WHERE dept_code LIKE 'A%'\"):\n",
    "    print(row)\n",
    "print('+'*35)\n",
    "\n",
    "# Give me all depts that ends with the letter E \n",
    "for row in c.execute(\"SELECT dept_code FROM depts WHERE dept_code LIKE '%E'\"):\n",
    "    print(row) \n",
    "print('+'*35)\n",
    "\n",
    "# Give me all depts that contains the letter 'A'\n",
    "for row in c.execute(\"SELECT dept_code FROM depts WHERE dept_code LIKE '%A%' \"):\n",
    "    print(row)\n",
    "print('+'*35)\n",
    "\n",
    "# Add an or statement\n",
    "for row in c.execute(\"SELECT dept_code FROM depts WHERE dept_code LIKE '%A%' or dept_code LIKE '%N' \"):\n",
    "    print(row)\n",
    "print('+'*35)\n",
    "\n",
    "# not statement\n",
    "for row in c.execute(\"SELECT dept_code FROM depts WHERE dept_code NOT LIKE '%A%'  \"):\n",
    "    print(row)"
   ],
   "outputs": [
    {
     "output_type": "stream",
     "name": "stdout",
     "text": [
      "('ACC',)\n",
      "('ACC',)\n",
      "('ACC',)\n",
      "+++++++++++++++++++++++++++++++++++\n",
      "('SALE',)\n",
      "('SALE',)\n",
      "('SALE',)\n",
      "+++++++++++++++++++++++++++++++++++\n",
      "('ACC',)\n",
      "('BACK',)\n",
      "('SALE',)\n",
      "('ACC',)\n",
      "('BACK',)\n",
      "('SALE',)\n",
      "('ACC',)\n",
      "('BACK',)\n",
      "('SALE',)\n",
      "+++++++++++++++++++++++++++++++++++\n",
      "('FIN',)\n",
      "('ACC',)\n",
      "('BACK',)\n",
      "('SALE',)\n",
      "('FIN',)\n",
      "('ACC',)\n",
      "('BACK',)\n",
      "('SALE',)\n",
      "('FIN',)\n",
      "('ACC',)\n",
      "('BACK',)\n",
      "('SALE',)\n",
      "+++++++++++++++++++++++++++++++++++\n",
      "('FIN',)\n",
      "('HR',)\n",
      "('I.T.',)\n",
      "('FIN',)\n",
      "('HR',)\n",
      "('I.T.',)\n",
      "('FIN',)\n",
      "('HR',)\n",
      "('I.T.',)\n"
     ]
    }
   ],
   "metadata": {}
  },
  {
   "cell_type": "markdown",
   "source": [
    "<h2>Homework</h2>\n",
    "Iterate through all of the department names and return<br>\n",
    "1 - The lower case count of each letter found.  Include an<br>\n",
    "entry for a space by using the key 'SPACE'.<br>\n",
    "2 - It should be in descending order by frequency of the letter<br>\n",
    "3 - Another data structure in Alphabetic order by letter found"
   ],
   "metadata": {}
  }
 ],
 "metadata": {
  "orig_nbformat": 4,
  "language_info": {
   "name": "python",
   "version": "3.9.7",
   "mimetype": "text/x-python",
   "codemirror_mode": {
    "name": "ipython",
    "version": 3
   },
   "pygments_lexer": "ipython3",
   "nbconvert_exporter": "python",
   "file_extension": ".py"
  },
  "kernelspec": {
   "name": "python3",
   "display_name": "Python 3.9.7 64-bit"
  },
  "interpreter": {
   "hash": "aee8b7b246df8f9039afb4144a1f6fd8d2ca17a180786b69acc140d282b71a49"
  }
 },
 "nbformat": 4,
 "nbformat_minor": 2
}