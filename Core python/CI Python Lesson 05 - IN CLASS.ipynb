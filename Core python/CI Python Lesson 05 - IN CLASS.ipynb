{
 "cells": [
  {
   "cell_type": "markdown",
   "source": [
    "<h2>Review Functions</h2>"
   ],
   "metadata": {}
  },
  {
   "cell_type": "code",
   "execution_count": 1,
   "source": [
    "def hello_user():\n",
    "    res = 'Hello user'\n",
    "    return res\n",
    "\n",
    "ans = hello_user()\n",
    "print(ans)"
   ],
   "outputs": [
    {
     "output_type": "stream",
     "name": "stdout",
     "text": [
      "Hello user\n"
     ]
    }
   ],
   "metadata": {}
  },
  {
   "cell_type": "markdown",
   "source": [
    "<h4>Pass a parameter</h4>"
   ],
   "metadata": {}
  },
  {
   "cell_type": "code",
   "execution_count": 2,
   "source": [
    "def hello_user(name):\n",
    "    res = f'Hello user {name}'\n",
    "    return res\n",
    "\n",
    "ans = hello_user('Michael')\n",
    "print(ans)"
   ],
   "outputs": [
    {
     "output_type": "stream",
     "name": "stdout",
     "text": [
      "Hello user Michael\n"
     ]
    }
   ],
   "metadata": {}
  },
  {
   "cell_type": "markdown",
   "source": [
    "<h4>Print all names in a list</h4>"
   ],
   "metadata": {}
  },
  {
   "cell_type": "code",
   "execution_count": 3,
   "source": [
    "def hello_user(name):\n",
    "    res = f'Hello user {name}'\n",
    "    return res\n",
    "\n",
    "names = ['Masha','Ed','Sergii','Irene']\n",
    "for name in names:\n",
    "    print(hello_user(name))"
   ],
   "outputs": [
    {
     "output_type": "stream",
     "name": "stdout",
     "text": [
      "Hello user Masha\n",
      "Hello user Ed\n",
      "Hello user Sergii\n",
      "Hello user Irene\n"
     ]
    }
   ],
   "metadata": {}
  },
  {
   "cell_type": "markdown",
   "source": [
    "<h2>Exercise</h2>\n",
    "Print the index and name in our hello_user function<br>\n",
    "Hello Name you are user #<br>"
   ],
   "metadata": {}
  },
  {
   "cell_type": "code",
   "execution_count": 5,
   "source": [
    "def hello_user(num, name):\n",
    "    return (f'Hello {name} you are the user # {num + 1}')\n",
    "\n",
    "names = ['Masha','Ed','Sergii','Irene']\n",
    "for i in enumerate(names):\n",
    "    print (hello_user(i[0], i[1]))"
   ],
   "outputs": [
    {
     "output_type": "stream",
     "name": "stdout",
     "text": [
      "Hello Masha you are the user # 1\n",
      "Hello Ed you are the user # 2\n",
      "Hello Sergii you are the user # 3\n",
      "Hello Irene you are the user # 4\n"
     ]
    }
   ],
   "metadata": {}
  },
  {
   "cell_type": "code",
   "execution_count": 5,
   "source": [
    "def hello_user(i,name):\n",
    "    res = f'{i+1} - Hello user {name}'\n",
    "    return res\n",
    "\n",
    "names = ['Masha','Ed','Sergii','Irene']\n",
    "for i,name in enumerate(names):\n",
    "    print(hello_user(i,name))"
   ],
   "outputs": [
    {
     "output_type": "stream",
     "name": "stdout",
     "text": [
      "1 - Hello user Masha\n",
      "2 - Hello user Ed\n",
      "3 - Hello user Sergii\n",
      "4 - Hello user Irene\n"
     ]
    }
   ],
   "metadata": {}
  },
  {
   "cell_type": "markdown",
   "source": [
    "<h2>Exercise</h2>\n",
    "1 - Calculate the area of a rectangle<br>\n",
    "2 - Calculate the perimeter of a rectangle<br>"
   ],
   "metadata": {}
  },
  {
   "cell_type": "code",
   "execution_count": 10,
   "source": [
    "# Step1 - create my functions no details\n",
    "def calc_area_rectangle(l,w):\n",
    "    pass\n",
    "\n",
    "def calc_perimeter_rectangle(l,w):\n",
    "    pass\n",
    "\n",
    "l = 3\n",
    "w = 5\n",
    "print(f'The area of a rectangle with {l},{w} is {calc_area_rectangle(l,w)}')"
   ],
   "outputs": [
    {
     "output_type": "stream",
     "name": "stdout",
     "text": [
      "The area of a rectangle with 3,5 is None\n"
     ]
    }
   ],
   "metadata": {}
  },
  {
   "cell_type": "code",
   "execution_count": 13,
   "source": [
    "# Step 2 - Add more detail\n",
    "def calc_area_rectangle(l,w):\n",
    "    return l * w\n",
    "\n",
    "def calc_perimeter_rectangle(l,w):\n",
    "    return 2*l + 2*w  # Comment 2 * ( l + w) \n",
    "\n",
    "l = 3\n",
    "w = 5\n",
    "print(f'The area of a rectangle with {l},{w} is {calc_area_rectangle(l,w)}')\n",
    "print(f'The perimeter of a rectangle with {l},{w} is {calc_perimeter_rectangle(l,w)}')"
   ],
   "outputs": [
    {
     "output_type": "stream",
     "name": "stdout",
     "text": [
      "The area of a rectangle with 3,5 is 15\n",
      "The perimeter of a rectangle with 3,5 is 16\n"
     ]
    }
   ],
   "metadata": {}
  },
  {
   "cell_type": "markdown",
   "source": [
    "<h2>Exercise</h2>\n",
    "Create functions:<br>\n",
    "    1 - to calculate the area of a circle - pi r squared<br>\n",
    "    2 - to calculate perimeter of a circle - 2 pi r <br>\n",
    "HINT: Use math.pi"
   ],
   "metadata": {}
  },
  {
   "cell_type": "code",
   "execution_count": 11,
   "source": [
    "import math\n",
    "\n",
    "def area_circle(r):\n",
    "    return round(math.pi * (r**2),2)\n",
    "\n",
    "def perimeter_cicle(r):\n",
    "    return round(2*math.pi*r, 2)\n",
    "\n",
    "r = 10\n",
    "print (f'The area of a circule with radius of {r} is: {area_circle(r)}')\n",
    "print (f'The perimeter of a circule with radius od {r} is {perimeter_cicle(r)}')\n"
   ],
   "outputs": [
    {
     "output_type": "stream",
     "name": "stdout",
     "text": [
      "The area of a circule with radius of 10 is: 314.16\n",
      "The perimeter of a circule with radius od 10 is 62.83\n"
     ]
    }
   ],
   "metadata": {}
  },
  {
   "cell_type": "code",
   "execution_count": 15,
   "source": [
    "import math\n",
    "\n",
    "def calc_circle_area(r):\n",
    "    return round(math.pi * (r**2),2)\n",
    "\n",
    "def calc_circle_perimeter(r):\n",
    "    return round(2 * math.pi * r,2)\n",
    "\n",
    "r = 10\n",
    "print(f'The area of a circle with radius of {r} is {calc_circle_area(r)}')\n",
    "print(f'The perimeter of a circle with radius of {r} is {calc_circle_perimeter(r)}')"
   ],
   "outputs": [
    {
     "output_type": "stream",
     "name": "stdout",
     "text": [
      "The area of a circle with radius of 10 is 314.16\n",
      "The perimeter of a circle with radius of 10 is 62.83\n"
     ]
    }
   ],
   "metadata": {}
  },
  {
   "cell_type": "markdown",
   "source": [
    "<h2>Docstrings</h2>\n",
    "Documenting a function with a brief decription of its usage<br>\n",
    "description<br>\n",
    "input parameters<br>\n",
    "output<br>"
   ],
   "metadata": {}
  },
  {
   "cell_type": "code",
   "execution_count": 22,
   "source": [
    "import math\n",
    "\n",
    "# OPTIONAL declare function: def calc_circle_area(r: float) -> float:\n",
    "def calc_circle_area(r):\n",
    "    '''\n",
    "    This function calculate the area of a circle\n",
    "    r is the radius\n",
    "    \n",
    "    Param r: is a float\n",
    "    Returns: a float\n",
    "    '''\n",
    "    return round(math.pi * (r**2),2)\n",
    "\n",
    "def calc_circle_perimeter(r):\n",
    "    return round(2 * math.pi * r,2)\n",
    "\n",
    "r = 10\n",
    "print(help(calc_circle_area))\n",
    "# print(f'The area of a circle with radius of {r} is {calc_circle_area(r)}')\n",
    "# print(f'The perimeter of a circle with radius of {r} is {calc_circle_perimeter(r)}')"
   ],
   "outputs": [
    {
     "output_type": "stream",
     "name": "stdout",
     "text": [
      "Help on function calc_circle_area in module __main__:\n",
      "\n",
      "calc_circle_area(r)\n",
      "    This function calculate the area of a circle\n",
      "    r is the radius\n",
      "    \n",
      "    Param r: is a float\n",
      "    Returns: a float\n",
      "\n",
      "None\n"
     ]
    }
   ],
   "metadata": {}
  },
  {
   "cell_type": "markdown",
   "source": [
    "<h2>Exercise</h2>\n",
    "Create a function to calculate the conversion of celsius to fahrenheit<br>\n",
    "fTemp = (cTemp * 9/5) + 32<br>\n",
    "include a docstring"
   ],
   "metadata": {}
  },
  {
   "cell_type": "code",
   "execution_count": 27,
   "source": [
    "def celsiusToFahrenheit(cTemp):\n",
    "    \"\"\"\n",
    "    Convert the Celsius temperature to Fahrenheight\n",
    "\n",
    "    Function take a float or integer and returns a float\n",
    "    \"\"\"\n",
    "    return (cTemp * 9/5) + 32\n",
    "\n",
    "temp = 100\n",
    "# convert to Fahrenheit\n",
    "convertedTemp = celsiusToFahrenheit(temp)\n",
    "print(f'{temp} Celsius = {convertedTemp} Fahrenheit')\n",
    "\n",
    "# To view the docstring type the below:\n",
    "help(celsiusToFahrenheit)"
   ],
   "outputs": [
    {
     "output_type": "stream",
     "name": "stdout",
     "text": [
      "100 Celsius = 212.0 Fahrenheit\n",
      "Help on function celsiusToFahrenheit in module __main__:\n",
      "\n",
      "celsiusToFahrenheit(cTemp)\n",
      "    Convert the Celsius temperature to Fahrenheight\n",
      "    \n",
      "    Function take a float or integer and returns a float\n",
      "\n"
     ]
    }
   ],
   "metadata": {}
  },
  {
   "cell_type": "markdown",
   "source": [
    "<h2>Exercise</h2>\n",
    "Create a function to calculate the conversion of fahrenheit to celsius<br>\n",
    "Celsius = (Fahrenheit - 32) * 5/9<br>\n",
    "include a docstring"
   ],
   "metadata": {}
  },
  {
   "cell_type": "code",
   "execution_count": 25,
   "source": [
    "# step 1\n",
    "def farenheitToCelsius(temp):\n",
    "    pass\n",
    "fTemp = 100 # fahrenheit\n",
    "# call my function\n",
    "\n",
    "# print my function"
   ],
   "outputs": [],
   "metadata": {}
  },
  {
   "cell_type": "code",
   "execution_count": 29,
   "source": [
    "# Step 2 add details\n",
    "def farenheitToCelsius(temp):\n",
    "    \"\"\"\n",
    "    Convert the fahrenheit temperature to Celsius\n",
    "    \"\"\"\n",
    "    newTemp = (temp - 32) * 5/9\n",
    "    return round(newTemp,1)\n",
    "\n",
    "cTemp = 32 # celsius\n",
    "# call my function\n",
    "cTemp = farenheitToCelsius(cTemp)\n",
    "# print my function\n",
    "print(cTemp)\n",
    "print(help(farenheitToCelsius))"
   ],
   "outputs": [
    {
     "output_type": "stream",
     "name": "stdout",
     "text": [
      "0.0\n",
      "Help on function farenheitToCelsius in module __main__:\n",
      "\n",
      "farenheitToCelsius(temp)\n",
      "    Convert the fahrenheit temperature to Celsius\n",
      "\n",
      "None\n"
     ]
    }
   ],
   "metadata": {}
  },
  {
   "cell_type": "markdown",
   "source": [
    "<h2>Consolidate your code</h2>\n",
    "Pass 2 arguments - convert type('CF' or 'FC' and temperature<br>\n",
    "Include the docstring<br>\n",
    "for example:\n",
    "<code>\n",
    "    def temp_conversion(conv_type,temp):\n",
    "        '''\n",
    "        'FC' = Fahrenheit to Celsius\n",
    "        'CF' = Celsius to Fahrenheit\n",
    "        '''\n",
    "</code>"
   ],
   "metadata": {}
  },
  {
   "cell_type": "code",
   "execution_count": 30,
   "source": [
    "# Step 1 - create the structure\n",
    "def temp_conversion(conv_type,temp):\n",
    "    '''\n",
    "    'FC' = Fahrenheit to Celsius\n",
    "    'CF' = Celsius to Fahrenheit\n",
    "    '''\n",
    "    pass\n",
    "\n",
    "cv_type = 'FC'\n",
    "temp = 212\n",
    "print(f'{temp} Fahrenheit = {temp_conversion(cv_type,temp)} Celsius ')\n",
    "# print(f'{temp} Celsius = {convertedTemp} Fahrenheit')"
   ],
   "outputs": [
    {
     "output_type": "stream",
     "name": "stdout",
     "text": [
      "212 Fahrenheit = None Celsius \n"
     ]
    }
   ],
   "metadata": {}
  },
  {
   "cell_type": "code",
   "execution_count": 34,
   "source": [
    "# Step 2 - add detail\n",
    "def temp_conversion(conv_type,temp):\n",
    "    '''\n",
    "    Convert either Fahrenheit to Celsius or Celsius to Fahrenheit\n",
    "    Use code below as the only valid inpt parameters for conv_type\n",
    "    \n",
    "    'FC' = Fahrenheit to Celsius\n",
    "    'CF' = Celsius to Fahrenheit\n",
    "    return either a None or the temperature\n",
    "    '''\n",
    "    res = None\n",
    "    if conv_type == 'FC':\n",
    "        res = (temp - 32) * 5/9\n",
    "    elif conv_type == 'CF':\n",
    "        res = (temp * 9/5) + 32\n",
    "    else:\n",
    "        print(f'{conv_type} is a wrong conversion code')\n",
    "    return res \n",
    "\n",
    "cv_type = 'FC'\n",
    "temp = 212\n",
    "print(f'{temp} Fahrenheit = {temp_conversion(cv_type,temp)} Celsius ')\n",
    "\n",
    "# 2nd test C to F\n",
    "cv_type = 'CF'\n",
    "temp = 100\n",
    "print(f'{temp} Celsius = {temp_conversion(cv_type,temp)} Fahrenheit ')\n",
    "\n",
    "# 3rd test - Wrong code\n",
    "cv_type = 'AA'\n",
    "temp = 212\n",
    "print(f'{temp} Fahrenheit = {temp_conversion(cv_type,temp)} Celsius ')\n",
    "\n",
    "\n",
    "# print(f'{temp} Celsius = {convertedTemp} Fahrenheit')"
   ],
   "outputs": [
    {
     "output_type": "stream",
     "name": "stdout",
     "text": [
      "212 Fahrenheit = 100.0 Celsius \n",
      "100 Celsius = 212.0 Fahrenheit \n",
      "AA is a wrong conversion code\n",
      "212 Fahrenheit = None Celsius \n"
     ]
    }
   ],
   "metadata": {}
  },
  {
   "cell_type": "markdown",
   "source": [
    "<h2>import datetime</h2>\n",
    "Use date functions"
   ],
   "metadata": {}
  },
  {
   "cell_type": "code",
   "execution_count": 13,
   "source": [
    "import datetime\n",
    "\n",
    "# Current and time\n",
    "now = datetime.datetime.now()\n",
    "print(now,type(now))\n",
    "print('='*35)\n",
    "\n",
    "# just the date\n",
    "now = datetime.datetime.now().date()\n",
    "print(now,type(now))\n",
    "print('='*35)\n",
    "\n",
    "# employment date - CONSTRUCT A VALID DATE\n",
    "hire_date = datetime.date(2017,2,10)\n",
    "print(hire_date,type(hire_date))\n",
    "\n",
    "print('+'*35)\n",
    "# Date arithmetic\n",
    "# 2 days from now\n",
    "# future_date = now + 2  # NOT ALLOWED\n",
    "future_date = now + datetime.timedelta(days=2)\n",
    "print(future_date,type(future_date))\n",
    "print('='*35)\n",
    "\n",
    "# Subtract 1 date from another\n",
    "days_employed = now - hire_date\n",
    "print(days_employed,type(days_employed))\n",
    "print('='*35)\n",
    "\n",
    "# To convert the timedelta to days add the days method to the end\n",
    "conv_days = days_employed.days\n",
    "print(conv_days,type(conv_days))\n",
    "\n",
    "# subtract days\n",
    "now = datetime.datetime.now().date()\n",
    "# now - 14 days\n",
    "previous_date = now - datetime.timedelta(days = 14)\n",
    "print(previous_date,type(previous_date))\n",
    "print('='*35)\n",
    "\n",
    "# The same as previous\n",
    "# now - 14 days\n",
    "previous_date = now + datetime.timedelta(days = -14)\n",
    "print(previous_date,type(previous_date))\n",
    "print('='*35)"
   ],
   "outputs": [
    {
     "output_type": "stream",
     "name": "stdout",
     "text": [
      "2021-11-13 11:11:39.957667 <class 'datetime.datetime'>\n",
      "===================================\n",
      "2021-11-13 <class 'datetime.date'>\n",
      "===================================\n",
      "2017-02-10 <class 'datetime.date'>\n",
      "+++++++++++++++++++++++++++++++++++\n",
      "2021-11-15 <class 'datetime.date'>\n",
      "===================================\n",
      "1737 days, 0:00:00 <class 'datetime.timedelta'>\n",
      "===================================\n",
      "1737 <class 'int'>\n",
      "2021-10-30 <class 'datetime.date'>\n",
      "===================================\n",
      "2021-10-30 <class 'datetime.date'>\n",
      "===================================\n"
     ]
    }
   ],
   "metadata": {}
  },
  {
   "cell_type": "markdown",
   "source": [
    "<h2>Exercise</h2>\n",
    "Calculate the number of days that the pandemic affected NYC if <br>\n",
    "NYC shot down on 3/17/2020 and reopened on 6/10/2021<br>"
   ],
   "metadata": {}
  },
  {
   "cell_type": "code",
   "execution_count": 22,
   "source": [
    "days_pandemic = datetime.date(2021,6,10) - datetime.date(2020,2,17)\n",
    "print (days_pandemic)\n",
    "print (days_pandemic.days)\n",
    "\n",
    "import math\n",
    "print (type(days_pandemic.days))\n",
    "print (math.floor(days_pandemic.days/365.25))"
   ],
   "outputs": [
    {
     "output_type": "stream",
     "name": "stdout",
     "text": [
      "479 days, 0:00:00\n",
      "479\n",
      "<class 'int'>\n",
      "1\n"
     ]
    }
   ],
   "metadata": {}
  },
  {
   "cell_type": "code",
   "execution_count": 50,
   "source": [
    "od = datetime.date(2021,6,10)\n",
    "cd = datetime.date(2020,3,17)\n",
    "diff = (od - cd).days\n",
    "print(diff,type(diff))\n",
    "\n",
    "# Convert to years cut off the decimal portion - round down\n",
    "import math\n",
    "print(f'Rounded value is {math.floor(diff/365.25)} year(s)')"
   ],
   "outputs": [
    {
     "output_type": "stream",
     "name": "stdout",
     "text": [
      "450 <class 'int'>\n",
      "Rounded value is 1 year(s)\n"
     ]
    }
   ],
   "metadata": {}
  },
  {
   "cell_type": "code",
   "execution_count": 51,
   "source": [
    "od = datetime.date(2021,6,10)\n",
    "cd = datetime.date(2012,8,30)\n",
    "diff = (od - cd).days\n",
    "print(diff,type(diff))\n",
    "\n",
    "# Convert to years cut off the decimal portion - round down\n",
    "import math\n",
    "print(f'Rounded value is {math.floor(diff/365.25)} years')"
   ],
   "outputs": [
    {
     "output_type": "stream",
     "name": "stdout",
     "text": [
      "3206 <class 'int'>\n",
      "Rounded value is 8 years\n"
     ]
    }
   ],
   "metadata": {}
  },
  {
   "cell_type": "markdown",
   "source": [
    "<h2>import random</h2>\n",
    "Use random and several methods:<br>\n",
    "random<br>\n",
    "randint<br>\n",
    "choice<br>"
   ],
   "metadata": {}
  },
  {
   "cell_type": "markdown",
   "source": [
    "<h4>Choose a random number</h4>\n",
    "<code>\n",
    "import random\n",
    "\n",
    "rand_number = random.random()\n",
    "print(rand_number)\n",
    "</code>"
   ],
   "metadata": {}
  },
  {
   "cell_type": "code",
   "execution_count": 26,
   "source": [
    "import random\n",
    "\n",
    "rand_number = random.random()\n",
    "print(round(rand_number,2))"
   ],
   "outputs": [
    {
     "output_type": "stream",
     "name": "stdout",
     "text": [
      "0.96\n"
     ]
    }
   ],
   "metadata": {}
  },
  {
   "cell_type": "markdown",
   "source": [
    "<h4>randint</h4>"
   ],
   "metadata": {}
  },
  {
   "cell_type": "code",
   "execution_count": 39,
   "source": [
    "import random\n",
    "\n",
    "x = random.randint(1,6)\n",
    "print(x)"
   ],
   "outputs": [
    {
     "output_type": "stream",
     "name": "stdout",
     "text": [
      "1\n"
     ]
    }
   ],
   "metadata": {}
  },
  {
   "cell_type": "markdown",
   "source": [
    "<h4>choice</h4>"
   ],
   "metadata": {}
  },
  {
   "cell_type": "code",
   "execution_count": 61,
   "source": [
    "fruits = ['Oranges','Apples','Pears','Grapes','Kiwi','Bananas']\n",
    "picked = random.choice(fruits)\n",
    "print(picked)"
   ],
   "outputs": [
    {
     "output_type": "stream",
     "name": "stdout",
     "text": [
      "Kiwi\n"
     ]
    }
   ],
   "metadata": {}
  },
  {
   "cell_type": "markdown",
   "source": [
    "<h4>Shuffle</h4>"
   ],
   "metadata": {}
  },
  {
   "cell_type": "code",
   "execution_count": 62,
   "source": [
    "# shuffle in place\n",
    "print(fruits)\n",
    "random.shuffle(fruits)\n",
    "print(fruits)"
   ],
   "outputs": [
    {
     "output_type": "stream",
     "name": "stdout",
     "text": [
      "['Oranges', 'Apples', 'Pears', 'Grapes', 'Kiwi', 'Bananas']\n",
      "['Bananas', 'Pears', 'Oranges', 'Apples', 'Kiwi', 'Grapes']\n"
     ]
    }
   ],
   "metadata": {}
  }
 ],
 "metadata": {
  "kernelspec": {
   "name": "python3",
   "display_name": "Python 3.9.7 64-bit"
  },
  "language_info": {
   "codemirror_mode": {
    "name": "ipython",
    "version": 3
   },
   "file_extension": ".py",
   "mimetype": "text/x-python",
   "name": "python",
   "nbconvert_exporter": "python",
   "pygments_lexer": "ipython3",
   "version": "3.9.7"
  },
  "interpreter": {
   "hash": "aee8b7b246df8f9039afb4144a1f6fd8d2ca17a180786b69acc140d282b71a49"
  }
 },
 "nbformat": 4,
 "nbformat_minor": 4
}