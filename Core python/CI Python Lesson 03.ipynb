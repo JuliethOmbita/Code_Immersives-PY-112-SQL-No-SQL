{
 "cells": [
  {
   "cell_type": "markdown",
   "source": [
    "<h2>Review<h2>"
   ],
   "metadata": {}
  },
  {
   "cell_type": "markdown",
   "source": [
    "Write code to calculate the mean of grades.<br>\n",
    "The grades are 88,92,86, 89, 93<br>\n",
    "assign each grade a name<br>\n",
    "Write code below"
   ],
   "metadata": {}
  },
  {
   "cell_type": "code",
   "execution_count": 2,
   "source": [
    "# step 1 - assign each number a name\n",
    "grade_1 = 88\n",
    "grade_2 = 92\n",
    "grade_3 = 86\n",
    "grade_4 = 89\n",
    "grade_5 = 93\n",
    "\n",
    "# step 2 - add all of the grades\n",
    "tot_grades = grade_1 + grade_2 + grade_3 + grade_4 + grade_5\n",
    "print(f'Total of grades is {tot_grades}')\n",
    "\n",
    "# step 3 - To divide by the number of grades - 5 in this case\n",
    "mean_grades = tot_grades / 5\n",
    "print(f'The mean of my grades is {mean_grades}')"
   ],
   "outputs": [
    {
     "output_type": "stream",
     "name": "stdout",
     "text": [
      "Total of grades is 448\n",
      "The mean of my grades is 89.6\n"
     ]
    }
   ],
   "metadata": {}
  },
  {
   "cell_type": "markdown",
   "source": [
    "<h2>New data structure - list</h2>\n",
    "The list holds zero or more items<br>\n",
    "We initialize the list as follows:<br>\n",
    "<code>\n",
    "    grades = []  # We use square brackets to denote a list\n",
    "</code>"
   ],
   "metadata": {}
  },
  {
   "cell_type": "code",
   "execution_count": 4,
   "source": [
    "grades = []\n",
    "print(type(grades))\n",
    "\n",
    "# In production code we use isinstance\n",
    "if isinstance(grades,list):\n",
    "    print('grades is a list')"
   ],
   "outputs": [
    {
     "output_type": "stream",
     "name": "stdout",
     "text": [
      "<class 'list'>\n",
      "grades is a list\n"
     ]
    }
   ],
   "metadata": {}
  },
  {
   "cell_type": "markdown",
   "source": [
    "<h2>How do add items to a list</h2>\n",
    "Method 1 - Store them initially<br>\n",
    "<code>\n",
    "    grades = [ 88,92,86, 89, 93]\n",
    "</code>"
   ],
   "metadata": {}
  },
  {
   "cell_type": "code",
   "execution_count": 5,
   "source": [
    "grades = [ 88,92,86, 89, 93]\n",
    "print(grades)"
   ],
   "outputs": [
    {
     "output_type": "stream",
     "name": "stdout",
     "text": [
      "[88, 92, 86, 89, 93]\n"
     ]
    }
   ],
   "metadata": {}
  },
  {
   "cell_type": "markdown",
   "source": [
    "<h4>How many items in my list?</h4>\n",
    "Use the len() function\n",
    "<code>\n",
    "    grades = [ 88,92,86, 89, 93]\n",
    "    num_of_grades = len(grades)\n",
    "</code>"
   ],
   "metadata": {}
  },
  {
   "cell_type": "markdown",
   "source": [
    "<h4>How do we add up items in our list?</h4>\n",
    "Use the sum() function\n",
    "<code>\n",
    "    grades = [ 88,92,86, 89, 93]\n",
    "    tot_grades = sum(grades)\n",
    "</code>"
   ],
   "metadata": {}
  },
  {
   "cell_type": "code",
   "execution_count": 8,
   "source": [
    "grades = [ 88,92,86, 89, 93]\n",
    "\n",
    "mean_grades = sum(grades) / len(grades)\n",
    "print(f'The mean of my grades is {mean_grades}')"
   ],
   "outputs": [
    {
     "output_type": "stream",
     "name": "stdout",
     "text": [
      "The mean of my grades is 89.6\n"
     ]
    }
   ],
   "metadata": {}
  },
  {
   "cell_type": "markdown",
   "source": [
    "<h2>New data structure is a Tuple</h2>\n",
    "Similar to the list but it is immutable - INTERVIEW QUESTION<br>\n",
    "Use parenthesis to denote\n",
    "<code>\n",
    "    days = ('Mon','Tue')\n",
    "</code>\n",
    "You CANNOT change a tuple once created<br>\n",
    "Like: Days of the week, Planets, Months of the year<br>"
   ],
   "metadata": {}
  },
  {
   "cell_type": "code",
   "execution_count": 12,
   "source": [
    "days_of_the_week = ('Monday','Tuesday','Wednesday','Thursday','Friday','Saturday','Sunday')\n",
    "print(days_of_the_week)\n",
    "print(type(days_of_the_week))"
   ],
   "outputs": [
    {
     "output_type": "stream",
     "name": "stdout",
     "text": [
      "('Monday', 'Tuesday', 'Wednesday', 'Thursday', 'Friday', 'Saturday', 'Sunday')\n",
      "<class 'tuple'>\n"
     ]
    }
   ],
   "metadata": {}
  },
  {
   "cell_type": "markdown",
   "source": [
    "<h2>Method 2 to add to a list - append()</h2>\n",
    "Use append to add to a list<br>\n",
    "Adds the item to the end of the list<br>"
   ],
   "metadata": {}
  },
  {
   "cell_type": "code",
   "execution_count": 13,
   "source": [
    "grades = [ 88,92,86, 89, 93]\n",
    "\n",
    "# Add a new grade\n",
    "grades.append(90)\n",
    "print(grades)"
   ],
   "outputs": [
    {
     "output_type": "stream",
     "name": "stdout",
     "text": [
      "[88, 92, 86, 89, 93, 90]\n"
     ]
    }
   ],
   "metadata": {}
  },
  {
   "cell_type": "markdown",
   "source": [
    "<h4>Attempting to add an item to a tuple will produce an error</h4>\n"
   ],
   "metadata": {}
  },
  {
   "cell_type": "code",
   "execution_count": 14,
   "source": [
    "days_of_the_week = ('Monday','Tuesday','Wednesday','Thursday','Friday','Saturday','Sunday')\n",
    "days_of_the_week.append('Weekend')"
   ],
   "outputs": [
    {
     "output_type": "error",
     "ename": "AttributeError",
     "evalue": "'tuple' object has no attribute 'append'",
     "traceback": [
      "\u001b[1;31m---------------------------------------------------------------------------\u001b[0m",
      "\u001b[1;31mAttributeError\u001b[0m                            Traceback (most recent call last)",
      "\u001b[1;32m<ipython-input-14-78651c3b26c6>\u001b[0m in \u001b[0;36m<module>\u001b[1;34m\u001b[0m\n\u001b[0;32m      1\u001b[0m \u001b[0mdays_of_the_week\u001b[0m \u001b[1;33m=\u001b[0m \u001b[1;33m(\u001b[0m\u001b[1;34m'Monday'\u001b[0m\u001b[1;33m,\u001b[0m\u001b[1;34m'Tuesday'\u001b[0m\u001b[1;33m,\u001b[0m\u001b[1;34m'Wednesday'\u001b[0m\u001b[1;33m,\u001b[0m\u001b[1;34m'Thursday'\u001b[0m\u001b[1;33m,\u001b[0m\u001b[1;34m'Friday'\u001b[0m\u001b[1;33m,\u001b[0m\u001b[1;34m'Saturday'\u001b[0m\u001b[1;33m,\u001b[0m\u001b[1;34m'Sunday'\u001b[0m\u001b[1;33m)\u001b[0m\u001b[1;33m\u001b[0m\u001b[1;33m\u001b[0m\u001b[0m\n\u001b[1;32m----> 2\u001b[1;33m \u001b[0mdays_of_the_week\u001b[0m\u001b[1;33m.\u001b[0m\u001b[0mappend\u001b[0m\u001b[1;33m(\u001b[0m\u001b[1;34m'Weekend'\u001b[0m\u001b[1;33m)\u001b[0m\u001b[1;33m\u001b[0m\u001b[1;33m\u001b[0m\u001b[0m\n\u001b[0m",
      "\u001b[1;31mAttributeError\u001b[0m: 'tuple' object has no attribute 'append'"
     ]
    }
   ],
   "metadata": {}
  },
  {
   "cell_type": "markdown",
   "source": [
    "<h2>How do I know which methods are available for this object</h2>\n",
    "Use dir()"
   ],
   "metadata": {}
  },
  {
   "cell_type": "code",
   "execution_count": 15,
   "source": [
    "print(dir(days_of_the_week))"
   ],
   "outputs": [
    {
     "output_type": "stream",
     "name": "stdout",
     "text": [
      "['__add__', '__class__', '__contains__', '__delattr__', '__dir__', '__doc__', '__eq__', '__format__', '__ge__', '__getattribute__', '__getitem__', '__getnewargs__', '__gt__', '__hash__', '__init__', '__init_subclass__', '__iter__', '__le__', '__len__', '__lt__', '__mul__', '__ne__', '__new__', '__reduce__', '__reduce_ex__', '__repr__', '__rmul__', '__setattr__', '__sizeof__', '__str__', '__subclasshook__', 'count', 'index']\n"
     ]
    }
   ],
   "metadata": {}
  },
  {
   "cell_type": "code",
   "execution_count": 16,
   "source": [
    "grades = [ 88,92,86, 89, 93]\n",
    "print(dir(grades))"
   ],
   "outputs": [
    {
     "output_type": "stream",
     "name": "stdout",
     "text": [
      "['__add__', '__class__', '__contains__', '__delattr__', '__delitem__', '__dir__', '__doc__', '__eq__', '__format__', '__ge__', '__getattribute__', '__getitem__', '__gt__', '__hash__', '__iadd__', '__imul__', '__init__', '__init_subclass__', '__iter__', '__le__', '__len__', '__lt__', '__mul__', '__ne__', '__new__', '__reduce__', '__reduce_ex__', '__repr__', '__reversed__', '__rmul__', '__setattr__', '__setitem__', '__sizeof__', '__str__', '__subclasshook__', 'append', 'clear', 'copy', 'count', 'extend', 'index', 'insert', 'pop', 'remove', 'reverse', 'sort']\n"
     ]
    }
   ],
   "metadata": {}
  },
  {
   "cell_type": "markdown",
   "source": [
    "<h2>How do we access individual items in a list or tuple?</h2>\n",
    "Use indexing<br>\n",
    "Allow us to assign a number to an element to get its value<br>\n",
    "== NOTE == Indexing starts with 0 !!!!!"
   ],
   "metadata": {}
  },
  {
   "cell_type": "code",
   "execution_count": 18,
   "source": [
    "grades = [ 88,92,86, 89, 93]\n",
    "\n",
    "# To access the first item use index 0\n",
    "print(f'The first item in my grades list is {grades[0]}')\n",
    "\n",
    "print(f'The second item in my grades list is {grades[1]}')"
   ],
   "outputs": [
    {
     "output_type": "stream",
     "name": "stdout",
     "text": [
      "The first item in my grades list is 88\n",
      "The second item in my grades list is 92\n"
     ]
    }
   ],
   "metadata": {}
  },
  {
   "cell_type": "code",
   "execution_count": 19,
   "source": [
    "# tuple\n",
    "days_of_the_week = ('Monday','Tuesday','Wednesday','Thursday','Friday','Saturday','Sunday')\n",
    "# To access the first item use index 0\n",
    "print(f'The first item in my days of week list is {days_of_the_week[0]}')\n",
    "\n",
    "print(f'The second item in my  days of week list is {days_of_the_week[1]}')"
   ],
   "outputs": [
    {
     "output_type": "stream",
     "name": "stdout",
     "text": [
      "The first item in my days of week list is Monday\n",
      "The second item in my  days of week list is Tuesday\n"
     ]
    }
   ],
   "metadata": {}
  },
  {
   "cell_type": "markdown",
   "source": [
    "<h4>Shortcuts</h4>"
   ],
   "metadata": {}
  },
  {
   "cell_type": "code",
   "execution_count": 20,
   "source": [
    "# Last element\n",
    "# tuple\n",
    "days_of_the_week = ('Monday','Tuesday','Wednesday','Thursday','Friday','Saturday','Sunday')\n",
    "# To access the first item use index 0\n",
    "print(f'The last item in my days of week list is {days_of_the_week[-1]}')"
   ],
   "outputs": [
    {
     "output_type": "stream",
     "name": "stdout",
     "text": [
      "The last item in my days of week list is Sunday\n"
     ]
    }
   ],
   "metadata": {}
  },
  {
   "cell_type": "markdown",
   "source": [
    "<h2>Indexing and Slicing</h2>\n",
    "Use slicing to access a range of elements in my list.<br>\n",
    "To get the first 2 elements in my list<br>\n",
    "<code>\n",
    "grades = [ 88,92,86, 89, 93]\n",
    "print(grades[:2])\n",
    "</code><br>\n",
    "NOTE - It is exclusive of the last element!!!"
   ],
   "metadata": {}
  },
  {
   "cell_type": "code",
   "execution_count": 21,
   "source": [
    "grades = [ 88,92,86, 89, 93]\n",
    "print(grades[:2])"
   ],
   "outputs": [
    {
     "output_type": "stream",
     "name": "stdout",
     "text": [
      "[88, 92]\n"
     ]
    }
   ],
   "metadata": {}
  },
  {
   "cell_type": "code",
   "execution_count": 22,
   "source": [
    "# To get the 1st and 2nd element\n",
    "grades = [ 88,92,86, 89, 93]\n",
    "print(grades[1:3])"
   ],
   "outputs": [
    {
     "output_type": "stream",
     "name": "stdout",
     "text": [
      "[92, 86]\n"
     ]
    }
   ],
   "metadata": {}
  },
  {
   "cell_type": "code",
   "execution_count": 23,
   "source": [
    "# To get the last 2 elements\n",
    "grades = [ 88,92,86, 89, 93]\n",
    "print(grades[-2:])"
   ],
   "outputs": [
    {
     "output_type": "stream",
     "name": "stdout",
     "text": [
      "[89, 93]\n"
     ]
    }
   ],
   "metadata": {}
  },
  {
   "cell_type": "code",
   "execution_count": 24,
   "source": [
    "# To get the first 2 and the last 2 elements\n",
    "grades = [ 88,92,86, 89, 93]\n",
    "print(grades[:2] + grades[-2:])"
   ],
   "outputs": [
    {
     "output_type": "stream",
     "name": "stdout",
     "text": [
      "[88, 92, 89, 93]\n"
     ]
    }
   ],
   "metadata": {}
  },
  {
   "cell_type": "markdown",
   "source": [
    "<h2>Iteration</h2>\n",
    "The method of accessing each individual element of a list, tuple or a string<br>"
   ],
   "metadata": {}
  },
  {
   "cell_type": "markdown",
   "source": [
    "<h4>Method 1</h4>\n",
    "Use the for and in operators<br>\n",
    "<code>\n",
    "for i in grades:\n",
    "    print(i)\n",
    "</code>"
   ],
   "metadata": {}
  },
  {
   "cell_type": "code",
   "execution_count": 5,
   "source": [
    "grades = [ 88,92,86, 89, 93]\n",
    "for grade in grades:\n",
    "    print(grade)\n",
    "\n",
    "#Tenary operations\n",
    "\n",
    "t_ope = [f'This is the grades list: {grade}' for grade in grades]\n",
    "print (t_ope)"
   ],
   "outputs": [
    {
     "output_type": "stream",
     "name": "stdout",
     "text": [
      "88\n",
      "92\n",
      "86\n",
      "89\n",
      "93\n",
      "['This is the grades list: 88', 'This is the grades list: 92', 'This is the grades list: 86', 'This is the grades list: 89', 'This is the grades list: 93']\n"
     ]
    }
   ],
   "metadata": {}
  },
  {
   "cell_type": "code",
   "execution_count": 6,
   "source": [
    "grades = [ 88,92,86, 89, 93]\n",
    "for grade in grades:\n",
    "    # subtract 5 points from every grade\n",
    "    print(grade-5)\n",
    "\n",
    "\n",
    "minus_5 = [grade-5 for grade in grades]\n",
    "print (minus_5)"
   ],
   "outputs": [
    {
     "output_type": "stream",
     "name": "stdout",
     "text": [
      "83\n",
      "87\n",
      "81\n",
      "84\n",
      "88\n",
      "[83, 87, 81, 84, 88]\n"
     ]
    }
   ],
   "metadata": {}
  },
  {
   "cell_type": "markdown",
   "source": [
    "<h4>Print all output on 1 line</h4>\n",
    "use print() function with an optional parameter end = ''<br>"
   ],
   "metadata": {}
  },
  {
   "cell_type": "code",
   "execution_count": 9,
   "source": [
    "grades = [ 88,92,86, 89, 93]\n",
    "for grade in grades:\n",
    "    print(grade, end=', ')\n",
    "\n",
    "# Invalid syntasis for tenary operations. \n",
    "# one_line = [(grade, end=', ') for grade in grades]"
   ],
   "outputs": [
    {
     "output_type": "error",
     "ename": "SyntaxError",
     "evalue": "invalid syntax (2753091650.py, line 6)",
     "traceback": [
      "\u001b[0;36m  File \u001b[0;32m\"/var/folders/pl/clj7x4m153j6y749_p0tpx4m0000gn/T/ipykernel_5463/2753091650.py\"\u001b[0;36m, line \u001b[0;32m6\u001b[0m\n\u001b[0;31m    one_line = [(grade, end=', ') for grade in grades]\u001b[0m\n\u001b[0m                           ^\u001b[0m\n\u001b[0;31mSyntaxError\u001b[0m\u001b[0;31m:\u001b[0m invalid syntax\n"
     ]
    }
   ],
   "metadata": {}
  },
  {
   "cell_type": "markdown",
   "source": [
    "<h4>Method 2 - Enumeration</h4>\n",
    "Iterate using an index\n",
    "<code>\n",
    "    days_of_the_week = ('Monday','Tuesday','Wednesday','Thursday','Friday','Saturday','Sunday')\n",
    "    for i,day in enumerate(days_of_the_week):\n",
    "        print(i,day)\n",
    "</code>"
   ],
   "metadata": {}
  },
  {
   "cell_type": "code",
   "execution_count": 32,
   "source": [
    "days_of_the_week = ('Monday','Tuesday','Wednesday','Thursday','Friday','Saturday','Sunday')\n",
    "for i in enumerate(days_of_the_week):\n",
    "    print(i[0], i[1], i )\n",
    "\n",
    "print ([day for day in enumerate(days_of_the_week)])"
   ],
   "outputs": [
    {
     "output_type": "stream",
     "name": "stdout",
     "text": [
      "0 Monday (0, 'Monday')\n",
      "1 Tuesday (1, 'Tuesday')\n",
      "2 Wednesday (2, 'Wednesday')\n",
      "3 Thursday (3, 'Thursday')\n",
      "4 Friday (4, 'Friday')\n",
      "5 Saturday (5, 'Saturday')\n",
      "6 Sunday (6, 'Sunday')\n"
     ]
    }
   ],
   "metadata": {}
  },
  {
   "cell_type": "markdown",
   "source": [
    "<h4>Method 3 - Iteration</h4>\n",
    "Use a range object\n",
    "<code>\n",
    "    days_of_the_week = ('Monday','Tuesday','Wednesday','Thursday','Friday','Saturday','Sunday')\n",
    "    for i in range(len(days_of_the_week)):\n",
    "        print(days_of_the_week[i])\n",
    "</code>"
   ],
   "metadata": {}
  },
  {
   "cell_type": "code",
   "execution_count": 16,
   "source": [
    "days_of_the_week = ('Monday','Tuesday','Wednesday','Thursday','Friday','Saturday','Sunday')\n",
    "for i in range(len(days_of_the_week)):\n",
    "    print(days_of_the_week[i])\n",
    "\n",
    "print ([days_of_the_week[i] for i in range(len(days_of_the_week))])"
   ],
   "outputs": [
    {
     "output_type": "stream",
     "name": "stdout",
     "text": [
      "Monday\n",
      "Tuesday\n",
      "Wednesday\n",
      "Thursday\n",
      "Friday\n",
      "Saturday\n",
      "Sunday\n",
      "['Monday', 'Tuesday', 'Wednesday', 'Thursday', 'Friday', 'Saturday', 'Sunday']\n"
     ]
    }
   ],
   "metadata": {}
  },
  {
   "cell_type": "markdown",
   "source": [
    "<h2>Iteration over a string</h2>"
   ],
   "metadata": {}
  },
  {
   "cell_type": "code",
   "execution_count": 39,
   "source": [
    "words = 'A journey of a million miles begins with one step'\n",
    "print(words[10:22])"
   ],
   "outputs": [
    {
     "output_type": "stream",
     "name": "stdout",
     "text": [
      "of a million\n"
     ]
    }
   ],
   "metadata": {}
  },
  {
   "cell_type": "code",
   "execution_count": 35,
   "source": [
    "words = 'A journey of a million miles begins with one step'\n",
    "\n",
    "# method 1 - use the in operator\n",
    "for letter in words:\n",
    "    print(letter)\n",
    "\n",
    "print ([letter for letter in words])"
   ],
   "outputs": [
    {
     "output_type": "stream",
     "name": "stdout",
     "text": [
      "A\n",
      " \n",
      "j\n",
      "o\n",
      "u\n",
      "r\n",
      "n\n",
      "e\n",
      "y\n",
      " \n",
      "o\n",
      "f\n",
      " \n",
      "a\n",
      " \n",
      "m\n",
      "i\n",
      "l\n",
      "l\n",
      "i\n",
      "o\n",
      "n\n",
      " \n",
      "m\n",
      "i\n",
      "l\n",
      "e\n",
      "s\n",
      " \n",
      "b\n",
      "e\n",
      "g\n",
      "i\n",
      "n\n",
      "s\n",
      " \n",
      "w\n",
      "i\n",
      "t\n",
      "h\n",
      " \n",
      "o\n",
      "n\n",
      "e\n",
      " \n",
      "s\n",
      "t\n",
      "e\n",
      "p\n",
      "['A', ' ', 'j', 'o', 'u', 'r', 'n', 'e', 'y', ' ', 'o', 'f', ' ', 'a', ' ', 'm', 'i', 'l', 'l', 'i', 'o', 'n', ' ', 'm', 'i', 'l', 'e', 's', ' ', 'b', 'e', 'g', 'i', 'n', 's', ' ', 'w', 'i', 't', 'h', ' ', 'o', 'n', 'e', ' ', 's', 't', 'e', 'p']\n"
     ]
    }
   ],
   "metadata": {}
  },
  {
   "cell_type": "code",
   "execution_count": 29,
   "source": [
    "words = 'A journey of a million miles begins with one step'\n",
    "\n",
    "# method 2 - use enumeration\n",
    "for i,char in enumerate(words):\n",
    "    # print(i, char)\n",
    "    pass\n",
    "\n",
    "\n",
    "print([(i[0], i[1])  for i in enumerate (words)])"
   ],
   "outputs": [
    {
     "output_type": "stream",
     "name": "stdout",
     "text": [
      "[(0, 'A'), (1, ' '), (2, 'j'), (3, 'o'), (4, 'u'), (5, 'r'), (6, 'n'), (7, 'e'), (8, 'y'), (9, ' '), (10, 'o'), (11, 'f'), (12, ' '), (13, 'a'), (14, ' '), (15, 'm'), (16, 'i'), (17, 'l'), (18, 'l'), (19, 'i'), (20, 'o'), (21, 'n'), (22, ' '), (23, 'm'), (24, 'i'), (25, 'l'), (26, 'e'), (27, 's'), (28, ' '), (29, 'b'), (30, 'e'), (31, 'g'), (32, 'i'), (33, 'n'), (34, 's'), (35, ' '), (36, 'w'), (37, 'i'), (38, 't'), (39, 'h'), (40, ' '), (41, 'o'), (42, 'n'), (43, 'e'), (44, ' '), (45, 's'), (46, 't'), (47, 'e'), (48, 'p')]\n"
     ]
    }
   ],
   "metadata": {}
  },
  {
   "cell_type": "code",
   "execution_count": 43,
   "source": [
    "words = 'A journey of a million miles begins with one step'\n",
    "\n",
    "# method 3 - use range\n",
    "for i in range(len(words)):\n",
    "    print(i, words[i])\n",
    "\n",
    "print ([(i,words[i]) for i in range(len(words))])"
   ],
   "outputs": [
    {
     "output_type": "stream",
     "name": "stdout",
     "text": [
      "[(0, 'A'), (1, ' '), (2, 'j'), (3, 'o'), (4, 'u'), (5, 'r'), (6, 'n'), (7, 'e'), (8, 'y'), (9, ' '), (10, 'o'), (11, 'f'), (12, ' '), (13, 'a'), (14, ' '), (15, 'm'), (16, 'i'), (17, 'l'), (18, 'l'), (19, 'i'), (20, 'o'), (21, 'n'), (22, ' '), (23, 'm'), (24, 'i'), (25, 'l'), (26, 'e'), (27, 's'), (28, ' '), (29, 'b'), (30, 'e'), (31, 'g'), (32, 'i'), (33, 'n'), (34, 's'), (35, ' '), (36, 'w'), (37, 'i'), (38, 't'), (39, 'h'), (40, ' '), (41, 'o'), (42, 'n'), (43, 'e'), (44, ' '), (45, 's'), (46, 't'), (47, 'e'), (48, 'p')]\n"
     ]
    }
   ],
   "metadata": {}
  },
  {
   "cell_type": "markdown",
   "source": [
    "<h2>How do calculate the standard deviation manually?</h2>"
   ],
   "metadata": {}
  },
  {
   "cell_type": "code",
   "execution_count": 48,
   "source": [
    "import math\n",
    "\n",
    "grades = [ 88,92,86, 89, 93]\n",
    "\n",
    "# Calculate the mean\n",
    "calc_mean = sum(grades)/len(grades)\n",
    "sum_squares = 0\n",
    "for grade in grades:\n",
    "    sum_squares += (grade-calc_mean) ** 2\n",
    "\n",
    "grades_std = math.sqrt(sum_squares/(len(grades)-1))\n",
    "print(f'The standard deviation of grades is {round(grades_std,2)}')\n",
    "                        "
   ],
   "outputs": [
    {
     "output_type": "stream",
     "name": "stdout",
     "text": [
      "The standard deviation of grades is 2.88\n"
     ]
    }
   ],
   "metadata": {}
  },
  {
   "cell_type": "markdown",
   "source": [
    "<h2>round function</h2>"
   ],
   "metadata": {}
  },
  {
   "cell_type": "markdown",
   "source": [
    "<h2>Explain what the shorthand +=, -=, /=, */</h2>\n",
    "<code>\n",
    "sum_i = 0\n",
    "for i in range(5):\n",
    "    sum_i = sum_i + i\n",
    "    print(i,sum_i)\n",
    "print(sum_i)\n",
    "\n",
    "<code>"
   ],
   "metadata": {}
  },
  {
   "cell_type": "code",
   "execution_count": 50,
   "source": [
    "sum_i = 0\n",
    "for i in range(5):\n",
    "    sum_i = sum_i + i\n",
    "    print(i,sum_i)\n",
    "print(sum_i)"
   ],
   "outputs": [
    {
     "output_type": "stream",
     "name": "stdout",
     "text": [
      "0 0\n",
      "1 1\n",
      "2 3\n",
      "3 6\n",
      "4 10\n",
      "10\n"
     ]
    }
   ],
   "metadata": {}
  },
  {
   "cell_type": "code",
   "execution_count": 51,
   "source": [
    "sum_i = 0\n",
    "for i in range(5):\n",
    "    sum_i += i\n",
    "    print(i,sum_i)\n",
    "print(sum_i)"
   ],
   "outputs": [
    {
     "output_type": "stream",
     "name": "stdout",
     "text": [
      "0 0\n",
      "1 1\n",
      "2 3\n",
      "3 6\n",
      "4 10\n",
      "10\n"
     ]
    }
   ],
   "metadata": {}
  }
 ],
 "metadata": {
  "kernelspec": {
   "name": "python3",
   "display_name": "Python 3.9.7 64-bit"
  },
  "language_info": {
   "codemirror_mode": {
    "name": "ipython",
    "version": 3
   },
   "file_extension": ".py",
   "mimetype": "text/x-python",
   "name": "python",
   "nbconvert_exporter": "python",
   "pygments_lexer": "ipython3",
   "version": "3.9.7"
  },
  "interpreter": {
   "hash": "aee8b7b246df8f9039afb4144a1f6fd8d2ca17a180786b69acc140d282b71a49"
  }
 },
 "nbformat": 4,
 "nbformat_minor": 4
}