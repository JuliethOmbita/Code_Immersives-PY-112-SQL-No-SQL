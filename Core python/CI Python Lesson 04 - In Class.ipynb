{
 "cells": [
  {
   "cell_type": "markdown",
   "source": [
    "<h2>Range</h2>"
   ],
   "metadata": {}
  },
  {
   "cell_type": "code",
   "execution_count": 2,
   "source": [
    "x = range(10)\n",
    "print(x, type(x))\n",
    "for i in x:\n",
    "    print(i)\n",
    "\n",
    "print ([i for i in x])"
   ],
   "outputs": [
    {
     "output_type": "stream",
     "name": "stdout",
     "text": [
      "range(0, 10) <class 'range'>\n",
      "<generator object <genexpr> at 0x7fab396254a0>\n"
     ]
    }
   ],
   "metadata": {}
  },
  {
   "cell_type": "code",
   "execution_count": 79,
   "source": [
    "x = range(int(10.))\n",
    "print(x)\n"
   ],
   "outputs": [
    {
     "output_type": "stream",
     "name": "stdout",
     "text": [
      "range(0, 10)\n"
     ]
    }
   ],
   "metadata": {}
  },
  {
   "cell_type": "code",
   "execution_count": 6,
   "source": [
    "x = range(10, 21)\n",
    "for i in x:\n",
    "    print(i)\n",
    "\n",
    "\n",
    "print ([i for i in x])"
   ],
   "outputs": [
    {
     "output_type": "stream",
     "name": "stdout",
     "text": [
      "10\n",
      "11\n",
      "12\n",
      "13\n",
      "14\n",
      "15\n",
      "16\n",
      "17\n",
      "18\n",
      "19\n",
      "20\n",
      "[10, 11, 12, 13, 14, 15, 16, 17, 18, 19, 20]\n"
     ]
    }
   ],
   "metadata": {}
  },
  {
   "cell_type": "code",
   "execution_count": 7,
   "source": [
    "beg_val = 100\n",
    "end_val = 121\n",
    "for i in range(beg_val,end_val):\n",
    "    print(i)\n",
    "\n",
    "print ([i for i in range(beg_val, end_val)])"
   ],
   "outputs": [
    {
     "output_type": "stream",
     "name": "stdout",
     "text": [
      "100\n",
      "101\n",
      "102\n",
      "103\n",
      "104\n",
      "105\n",
      "106\n",
      "107\n",
      "108\n",
      "109\n",
      "110\n",
      "111\n",
      "112\n",
      "113\n",
      "114\n",
      "115\n",
      "116\n",
      "117\n",
      "118\n",
      "119\n",
      "120\n",
      "[100, 101, 102, 103, 104, 105, 106, 107, 108, 109, 110, 111, 112, 113, 114, 115, 116, 117, 118, 119, 120]\n"
     ]
    }
   ],
   "metadata": {}
  },
  {
   "cell_type": "code",
   "execution_count": 8,
   "source": [
    "beg_val = 100\n",
    "end_val = 121\n",
    "for i in range(beg_val,end_val,2):\n",
    "    print(i)\n",
    "\n",
    "print ([i for i in range (beg_val, end_val,2 )])"
   ],
   "outputs": [
    {
     "output_type": "stream",
     "name": "stdout",
     "text": [
      "[100, 102, 104, 106, 108, 110, 112, 114, 116, 118, 120]\n"
     ]
    }
   ],
   "metadata": {}
  },
  {
   "cell_type": "code",
   "execution_count": 6,
   "source": [
    "beg_val = 101\n",
    "end_val = 121\n",
    "for i in range(beg_val,end_val,2):\n",
    "    print(i)"
   ],
   "outputs": [
    {
     "output_type": "stream",
     "name": "stdout",
     "text": [
      "101\n",
      "103\n",
      "105\n",
      "107\n",
      "109\n",
      "111\n",
      "113\n",
      "115\n",
      "117\n",
      "119\n"
     ]
    }
   ],
   "metadata": {}
  },
  {
   "cell_type": "code",
   "execution_count": 7,
   "source": [
    "beg_val = 101\n",
    "end_val = 121\n",
    "for i in range(beg_val,end_val):\n",
    "    if i % 2 == 0:\n",
    "        print(f'{i} is an even number')"
   ],
   "outputs": [
    {
     "output_type": "stream",
     "name": "stdout",
     "text": [
      "102 is an even number\n",
      "104 is an even number\n",
      "106 is an even number\n",
      "108 is an even number\n",
      "110 is an even number\n",
      "112 is an even number\n",
      "114 is an even number\n",
      "116 is an even number\n",
      "118 is an even number\n",
      "120 is an even number\n"
     ]
    }
   ],
   "metadata": {}
  },
  {
   "cell_type": "code",
   "execution_count": 11,
   "source": [
    "beg_val = 101\n",
    "end_val = 121\n",
    "for i in range(beg_val,end_val):\n",
    "    if i % 2 == 1:\n",
    "        print(f'{i} is an odd number')\n",
    "\n",
    "print ([f'{i} is an odd number' for i in range(beg_val, end_val) if i % 2 == 1])"
   ],
   "outputs": [
    {
     "output_type": "stream",
     "name": "stdout",
     "text": [
      "101 is an odd number\n",
      "103 is an odd number\n",
      "105 is an odd number\n",
      "107 is an odd number\n",
      "109 is an odd number\n",
      "111 is an odd number\n",
      "113 is an odd number\n",
      "115 is an odd number\n",
      "117 is an odd number\n",
      "119 is an odd number\n",
      "['101 is an odd number', '103 is an odd number', '105 is an odd number', '107 is an odd number', '109 is an odd number', '111 is an odd number', '113 is an odd number', '115 is an odd number', '117 is an odd number', '119 is an odd number']\n"
     ]
    }
   ],
   "metadata": {}
  },
  {
   "cell_type": "markdown",
   "source": [
    "<h4>Count down by -1</h4>"
   ],
   "metadata": {}
  },
  {
   "cell_type": "code",
   "execution_count": 12,
   "source": [
    "for i in range(120,99,-1):\n",
    "    print(i)\n",
    "\n",
    "print ([i for i in range(120,99,-1)])"
   ],
   "outputs": [
    {
     "output_type": "stream",
     "name": "stdout",
     "text": [
      "120\n",
      "119\n",
      "118\n",
      "117\n",
      "116\n",
      "115\n",
      "114\n",
      "113\n",
      "112\n",
      "111\n",
      "110\n",
      "109\n",
      "108\n",
      "107\n",
      "106\n",
      "105\n",
      "104\n",
      "103\n",
      "102\n",
      "101\n",
      "100\n",
      "[120, 119, 118, 117, 116, 115, 114, 113, 112, 111, 110, 109, 108, 107, 106, 105, 104, 103, 102, 101, 100]\n"
     ]
    }
   ],
   "metadata": {}
  },
  {
   "cell_type": "code",
   "execution_count": 12,
   "source": [
    "for i in range(120,99,-2):\n",
    "    print(i)"
   ],
   "outputs": [
    {
     "output_type": "stream",
     "name": "stdout",
     "text": [
      "120\n",
      "118\n",
      "116\n",
      "114\n",
      "112\n",
      "110\n",
      "108\n",
      "106\n",
      "104\n",
      "102\n",
      "100\n"
     ]
    }
   ],
   "metadata": {}
  },
  {
   "cell_type": "markdown",
   "source": [
    "<h2>Exercise</h2>\n",
    "1 - You have the following string and want to print out<br>\n",
    "every 3rd character.<br>\n",
    "<br>\n",
    "phrase = 'Learning at Code Immersives is challenging, but fun'<br>\n",
    "<br>\n",
    "2 - Print the answer as a string with no spaces or commas<br>"
   ],
   "metadata": {}
  },
  {
   "cell_type": "code",
   "execution_count": 24,
   "source": [
    "phrase = 'Learning at Code Immersives is challenging, but fun'\n",
    "\n",
    "for i in range (0, len(phrase),3):\n",
    "    print (i, phrase[i])\n",
    "\n",
    "print ([(i,phrase[i]) for i in range(0, len(phrase), 3)])"
   ],
   "outputs": [
    {
     "output_type": "stream",
     "name": "stdout",
     "text": [
      "[(0, 'L'), (3, 'r'), (6, 'n'), (9, 'a'), (12, 'C'), (15, 'e'), (18, 'm'), (21, 'r'), (24, 'v'), (27, ' '), (30, ' '), (33, 'a'), (36, 'e'), (39, 'i'), (42, ','), (45, 'u'), (48, 'f')]\n"
     ]
    }
   ],
   "metadata": {}
  },
  {
   "cell_type": "markdown",
   "source": [
    "<h4>Special cases</h4>"
   ],
   "metadata": {}
  },
  {
   "cell_type": "code",
   "execution_count": 25,
   "source": [
    "beg_num = 120\n",
    "end_num = 110\n",
    "for i in range(beg_num,end_num,2):\n",
    "    print(i)"
   ],
   "outputs": [],
   "metadata": {}
  },
  {
   "cell_type": "code",
   "execution_count": 14,
   "source": [
    "beg_num = 120\n",
    "end_num = 110\n",
    "for i in range(beg_num,end_num,-2):\n",
    "    print(i)"
   ],
   "outputs": [
    {
     "output_type": "stream",
     "name": "stdout",
     "text": [
      "120\n",
      "118\n",
      "116\n",
      "114\n",
      "112\n"
     ]
    }
   ],
   "metadata": {}
  },
  {
   "cell_type": "markdown",
   "source": [
    "<h2>Insert  and delete in a list</h2>\n",
    "insert function as opposed to append which adds to the end of the list"
   ],
   "metadata": {}
  },
  {
   "cell_type": "code",
   "execution_count": 16,
   "source": [
    "x = [2,5,8,13,6]\n",
    "# Add to the end\n",
    "x.append(90)\n",
    "print(x)\n",
    "\n",
    "# To remove use pop()\n",
    "x.pop()\n",
    "print(x)"
   ],
   "outputs": [
    {
     "output_type": "stream",
     "name": "stdout",
     "text": [
      "[2, 5, 8, 13, 6, 90]\n",
      "[2, 5, 8, 13, 6]\n"
     ]
    }
   ],
   "metadata": {}
  },
  {
   "cell_type": "markdown",
   "source": [
    "<h4>String removed from a list</h4>"
   ],
   "metadata": {}
  },
  {
   "cell_type": "code",
   "execution_count": 27,
   "source": [
    "fruit = ['Banana','Apple','Pear','Kiwi']\n",
    "item_removed = fruit.pop()\n",
    "print(fruit,item_removed)"
   ],
   "outputs": [
    {
     "output_type": "stream",
     "name": "stdout",
     "text": [
      "['Banana', 'Apple', 'Pear'] Kiwi\n"
     ]
    }
   ],
   "metadata": {}
  },
  {
   "cell_type": "markdown",
   "source": [
    "<h4>Insert</h4>"
   ],
   "metadata": {}
  },
  {
   "cell_type": "code",
   "execution_count": 26,
   "source": [
    "fruit = ['Banana','Apple','Pear','Kiwi']\n",
    "\n",
    "# Add to the beginning of the list\n",
    "fruit.insert(0,'Orange')\n",
    "print(fruit)"
   ],
   "outputs": [
    {
     "output_type": "stream",
     "name": "stdout",
     "text": [
      "['Orange', 'Banana', 'Apple', 'Pear', 'Kiwi']\n"
     ]
    }
   ],
   "metadata": {}
  },
  {
   "cell_type": "code",
   "execution_count": 28,
   "source": [
    "fruit = ['Banana','Apple','Pear','Kiwi']\n",
    "\n",
    "# Add to the beginning of the list\n",
    "fruit.insert(len(fruit),'Orange')\n",
    "print(fruit)"
   ],
   "outputs": [
    {
     "output_type": "stream",
     "name": "stdout",
     "text": [
      "['Banana', 'Apple', 'Pear', 'Kiwi', 'Orange']\n"
     ]
    }
   ],
   "metadata": {}
  },
  {
   "cell_type": "markdown",
   "source": [
    "<h4>Method 2 - removing an item from a list</h4>\n",
    "remove()"
   ],
   "metadata": {}
  },
  {
   "cell_type": "code",
   "execution_count": 34,
   "source": [
    "fruit = ['Banana','Apple','Pear','Kiwi','Apple']\n",
    "fruit.remove('Apple')  # Removes the first instance\n",
    "print(fruit)\n",
    "# fruit.remove('Apple')  # You CANNOT remove an item that is not in the list !!!\n",
    "# print(fruit)\n",
    "print(help(fruit.remove))"
   ],
   "outputs": [
    {
     "output_type": "stream",
     "name": "stdout",
     "text": [
      "['Banana', 'Pear', 'Kiwi', 'Apple']\n",
      "Help on built-in function remove:\n",
      "\n",
      "remove(value, /) method of builtins.list instance\n",
      "    Remove first occurrence of value.\n",
      "    \n",
      "    Raises ValueError if the value is not present.\n",
      "\n",
      "None\n"
     ]
    }
   ],
   "metadata": {}
  },
  {
   "cell_type": "markdown",
   "source": [
    "<h4>Last method to remove an item from a list</h4>\n",
    "Use del index"
   ],
   "metadata": {}
  },
  {
   "cell_type": "code",
   "execution_count": 52,
   "source": [
    "fruit = ['Banana','Apple','Pear','Kiwi','Apple']\n",
    "\n",
    "# To remove the second item\n",
    "del fruit[2]\n",
    "\n",
    "print(fruit)\n"
   ],
   "outputs": [
    {
     "output_type": "stream",
     "name": "stdout",
     "text": [
      "['Banana', 'Apple', 'Kiwi', 'Apple']\n"
     ]
    }
   ],
   "metadata": {}
  },
  {
   "cell_type": "markdown",
   "source": [
    "<h4>Position of an item in a list</h4>\n",
    "Use index() and count()\n"
   ],
   "metadata": {}
  },
  {
   "cell_type": "code",
   "execution_count": 37,
   "source": [
    "fruit = ['Prickly Pear', 'Banana','Apple','Pear','Kiwi','Apple', 'Prickly Pear']\n",
    "remove_item = 'Prickly Pear'\n",
    "print (fruit.count(remove_item), fruit.count(remove_item) and fruit.index(remove_item) )\n",
    "if fruit.count(remove_item) and fruit.index(remove_item) > 0:\n",
    "    fruit.remove(remove_item)\n",
    "else:\n",
    "    print(f'The item {remove_item} is not in the list')\n",
    "print(fruit)"
   ],
   "outputs": [
    {
     "output_type": "stream",
     "name": "stdout",
     "text": [
      "2 0\n",
      "The item Prickly Pear is not in the list\n",
      "['Prickly Pear', 'Banana', 'Apple', 'Pear', 'Kiwi', 'Apple', 'Prickly Pear']\n"
     ]
    }
   ],
   "metadata": {}
  },
  {
   "cell_type": "markdown",
   "source": [
    "<h4>How does the boolean evaluate values in an if</h4>\n",
    "Anything that evaluates to 0 is FALSE<br>\n",
    "Any other value is True"
   ],
   "metadata": {}
  },
  {
   "cell_type": "code",
   "execution_count": 39,
   "source": [
    "x = 0\n",
    "if x:\n",
    "    print(f'{x} is True')\n",
    "else:\n",
    "    print(f'{x} is False')\n",
    "\n",
    "print (f'{x} is True' if x else f'{x} is Flase' )"
   ],
   "outputs": [
    {
     "output_type": "stream",
     "name": "stdout",
     "text": [
      "0 is False\n",
      "0 is Flase\n"
     ]
    }
   ],
   "metadata": {}
  },
  {
   "cell_type": "code",
   "execution_count": 40,
   "source": [
    "x = -1\n",
    "if x:\n",
    "    print(f'{x} is True')\n",
    "else:\n",
    "    print(f'{x} is False')\n",
    "\n",
    "print (f'{x} is True' if x else f'{x} is False')"
   ],
   "outputs": [
    {
     "output_type": "stream",
     "name": "stdout",
     "text": [
      "-1 is True\n",
      "-1 is True\n"
     ]
    }
   ],
   "metadata": {}
  },
  {
   "cell_type": "code",
   "execution_count": 43,
   "source": [
    "x = ''\n",
    "if x:\n",
    "    print(f'{x} is True')\n",
    "else:\n",
    "    print(f'{x} is False')"
   ],
   "outputs": [
    {
     "output_type": "stream",
     "name": "stdout",
     "text": [
      " is False\n"
     ]
    }
   ],
   "metadata": {}
  },
  {
   "cell_type": "code",
   "execution_count": 44,
   "source": [
    "x = 'a'\n",
    "if x:\n",
    "    print(f'{x} is True')\n",
    "else:\n",
    "    print(f'{x} is False')"
   ],
   "outputs": [
    {
     "output_type": "stream",
     "name": "stdout",
     "text": [
      "a is True\n"
     ]
    }
   ],
   "metadata": {}
  },
  {
   "cell_type": "code",
   "execution_count": 46,
   "source": [
    "x = 10\n",
    "if x > 12:\n",
    "    print(f'{x} is True')\n",
    "else:\n",
    "    print(f'{x} is False')"
   ],
   "outputs": [
    {
     "output_type": "stream",
     "name": "stdout",
     "text": [
      "10 is False\n"
     ]
    }
   ],
   "metadata": {}
  },
  {
   "cell_type": "code",
   "execution_count": 48,
   "source": [
    "x = 2\n",
    "if x % 2 == 0 and 0:\n",
    "    print(f'{x} is True')\n",
    "else:\n",
    "    print(f'{x} is False')"
   ],
   "outputs": [
    {
     "output_type": "stream",
     "name": "stdout",
     "text": [
      "2 is False\n"
     ]
    }
   ],
   "metadata": {}
  },
  {
   "cell_type": "code",
   "execution_count": 49,
   "source": [
    "x = 2\n",
    "if x % 2 == 0 or 0:\n",
    "    print(f'{x} is True')\n",
    "else:\n",
    "    print(f'{x} is False')"
   ],
   "outputs": [
    {
     "output_type": "stream",
     "name": "stdout",
     "text": [
      "2 is True\n"
     ]
    }
   ],
   "metadata": {}
  },
  {
   "cell_type": "code",
   "execution_count": 80,
   "source": [
    "x = None\n",
    "if x:\n",
    "    print(f'{x} is True')\n",
    "else:\n",
    "    print(f'{x} is False')"
   ],
   "outputs": [
    {
     "output_type": "stream",
     "name": "stdout",
     "text": [
      "None is False\n"
     ]
    }
   ],
   "metadata": {}
  },
  {
   "cell_type": "markdown",
   "source": [
    "<h2>Math library</h2>"
   ],
   "metadata": {}
  },
  {
   "cell_type": "code",
   "execution_count": 42,
   "source": [
    "import math\n",
    "print(dir(math))"
   ],
   "outputs": [
    {
     "output_type": "stream",
     "name": "stdout",
     "text": [
      "['__doc__', '__file__', '__loader__', '__name__', '__package__', '__spec__', 'acos', 'acosh', 'asin', 'asinh', 'atan', 'atan2', 'atanh', 'ceil', 'comb', 'copysign', 'cos', 'cosh', 'degrees', 'dist', 'e', 'erf', 'erfc', 'exp', 'expm1', 'fabs', 'factorial', 'floor', 'fmod', 'frexp', 'fsum', 'gamma', 'gcd', 'hypot', 'inf', 'isclose', 'isfinite', 'isinf', 'isnan', 'isqrt', 'lcm', 'ldexp', 'lgamma', 'log', 'log10', 'log1p', 'log2', 'modf', 'nan', 'nextafter', 'perm', 'pi', 'pow', 'prod', 'radians', 'remainder', 'sin', 'sinh', 'sqrt', 'tan', 'tanh', 'tau', 'trunc', 'ulp']\n"
     ]
    }
   ],
   "metadata": {}
  },
  {
   "cell_type": "code",
   "execution_count": 45,
   "source": [
    "help (math.ceil)"
   ],
   "outputs": [
    {
     "output_type": "stream",
     "name": "stdout",
     "text": [
      "Help on built-in function ceil in module math:\n",
      "\n",
      "ceil(x, /)\n",
      "    Return the ceiling of x as an Integral.\n",
      "    \n",
      "    This is the smallest integer >= x.\n",
      "\n"
     ]
    }
   ],
   "metadata": {}
  },
  {
   "cell_type": "code",
   "execution_count": 55,
   "source": [
    "# Use the built in math library\n",
    "\n",
    "x = 2.2\n",
    "print(type(x))\n",
    "print(math.ceil(x))\n",
    "print(math.e)\n",
    "print(math.factorial(5))\n",
    "print(math.floor(x))\n",
    "print(math.pow(2,4))\n",
    "print(math.prod([2,4]))  # takes a list\n",
    "print(math.remainder(12,5))"
   ],
   "outputs": [
    {
     "output_type": "stream",
     "name": "stdout",
     "text": [
      "<class 'float'>\n",
      "3\n",
      "2.718281828459045\n",
      "120\n",
      "2\n",
      "16.0\n",
      "8\n",
      "2.0\n"
     ]
    }
   ],
   "metadata": {}
  },
  {
   "cell_type": "markdown",
   "source": [
    "<h2>Exercise</h2>\n",
    "Write code to create the factorial of a number"
   ],
   "metadata": {}
  },
  {
   "cell_type": "code",
   "execution_count": 60,
   "source": [
    "x = 5\n",
    "# 5 4 3 2 1 \n",
    "# step 1 - iterate over the proper range of numbers\n",
    "for i in range(x,0,-1):\n",
    "    print(i)\n",
    "    \n",
    "# Step 2 - multiply\n",
    "factorial = 1\n",
    "for i in range(x,0,-1):\n",
    "    factorial *= i\n",
    "print(f'{x} factorial = {factorial}')\n",
    "print(math.factorial(5))"
   ],
   "outputs": [
    {
     "output_type": "stream",
     "name": "stdout",
     "text": [
      "5\n",
      "4\n",
      "3\n",
      "2\n",
      "1\n",
      "5 factorial = 120\n",
      "120\n"
     ]
    }
   ],
   "metadata": {}
  },
  {
   "cell_type": "code",
   "execution_count": 64,
   "source": [
    "x = 2.2\n",
    "print(math.floor(x),type(math.floor(x)))\n",
    "print(math.prod([5,4,3,2,1]))\n",
    "print(math.prod(range(5,0,-1)))"
   ],
   "outputs": [
    {
     "output_type": "stream",
     "name": "stdout",
     "text": [
      "2 <class 'int'>\n",
      "120\n",
      "120\n"
     ]
    }
   ],
   "metadata": {}
  },
  {
   "cell_type": "markdown",
   "source": [
    "<h2>Exercise</h2>\n",
    "Iterate over 2 lists and print the following<br>\n",
    "<code>\n",
    "playerNames = ['John','Duane','Michael','Walter','Terrance']\n",
    "playerHeights = [\"6’1\",\"5’9\",\"6’3\",\"5’11\",\"6’7\"]\n",
    "</code><br>\n",
    "RESULT Sample line:  Duane is 5’9 tall."
   ],
   "metadata": {}
  },
  {
   "cell_type": "code",
   "execution_count": 65,
   "source": [
    "playerNames = ['John','Duane','Michael','Walter','Terrance']\n",
    "playerHeights = [\"6’1\",\"5’9\",\"6’3\",\"5’11\",\"6’7\"]\n",
    "for i,player in enumerate(playerNames):\n",
    "    print(f'{player} is {playerHeights[i]} tall.')\n"
   ],
   "outputs": [
    {
     "output_type": "stream",
     "name": "stdout",
     "text": [
      "John is 6’1 tall.\n",
      "Duane is 5’9 tall.\n",
      "Michael is 6’3 tall.\n",
      "Walter is 5’11 tall.\n",
      "Terrance is 6’7 tall.\n"
     ]
    }
   ],
   "metadata": {}
  },
  {
   "cell_type": "markdown",
   "source": [
    "### functions<a id=\"16\"></a>\n",
    "Defining a function<br>\n",
    "```python\n",
    "def add2(num):\n",
    "    return num + 2\n",
    "newNum = add2(8)\n",
    "print(newNum)\n",
    "```"
   ],
   "metadata": {}
  },
  {
   "cell_type": "code",
   "execution_count": 82,
   "source": [
    "def add2(num):     # Define the function\n",
    "    return num + 2  # Return a value\n",
    "\n",
    "newNum = add2(8)  # Call the function\n",
    "print(newNum)\n"
   ],
   "outputs": [
    {
     "output_type": "stream",
     "name": "stdout",
     "text": [
      "10\n"
     ]
    }
   ],
   "metadata": {}
  },
  {
   "cell_type": "markdown",
   "source": [
    "<h4>Create a new function called multiply by 3</h4>"
   ],
   "metadata": {}
  },
  {
   "cell_type": "code",
   "execution_count": null,
   "source": [
    "def multiplyBy3(num):\n",
    "    return num * 3\n",
    "\n",
    "newNum = multiplyBy3(8)  # Call the function\n",
    "print(newNum)"
   ],
   "outputs": [],
   "metadata": {}
  },
  {
   "cell_type": "markdown",
   "source": [
    "<h2>For the numbers 20 to 40 run your 2 functions</h2>"
   ],
   "metadata": {}
  },
  {
   "cell_type": "code",
   "execution_count": 68,
   "source": [
    "def add2(num):     # Define the function\n",
    "    return num + 2  # Return a value\n",
    "\n",
    "def multiplyBy3(num):\n",
    "    return num * 3\n",
    "\n",
    "for i in range(20,41):\n",
    "    print(i,add2(i),multiplyBy3(i))\n"
   ],
   "outputs": [
    {
     "output_type": "stream",
     "name": "stdout",
     "text": [
      "20 22 60\n",
      "21 23 63\n",
      "22 24 66\n",
      "23 25 69\n",
      "24 26 72\n",
      "25 27 75\n",
      "26 28 78\n",
      "27 29 81\n",
      "28 30 84\n",
      "29 31 87\n",
      "30 32 90\n",
      "31 33 93\n",
      "32 34 96\n",
      "33 35 99\n",
      "34 36 102\n",
      "35 37 105\n",
      "36 38 108\n",
      "37 39 111\n",
      "38 40 114\n",
      "39 41 117\n",
      "40 42 120\n"
     ]
    }
   ],
   "metadata": {}
  },
  {
   "cell_type": "markdown",
   "source": [
    "<h2>Exercise</h2>\n",
    "grades = [90, 78, 66, 59,88,84,49]\n",
    "<code>\n",
    "If the grade is above a 80 print\n",
    "The grade is passing in my class\n",
    "An XYZ grade means you need help in my class\n",
    "</code>"
   ],
   "metadata": {}
  },
  {
   "cell_type": "code",
   "execution_count": 70,
   "source": [
    "grades = [90, 78, 66, 59,88,84,49]\n",
    "for grade in grades:\n",
    "    if grade >= 80:\n",
    "        print(f'The grade {grade} is passing in my class')\n",
    "    else:\n",
    "        print(f'An {grade} grade means you need help in my class')"
   ],
   "outputs": [
    {
     "output_type": "stream",
     "name": "stdout",
     "text": [
      "The grade 90 is passing in my class\n",
      "An 78 grade means you need help in my class\n",
      "An 66 grade means you need help in my class\n",
      "An 59 grade means you need help in my class\n",
      "The grade 88 is passing in my class\n",
      "The grade 84 is passing in my class\n",
      "An 49 grade means you need help in my class\n"
     ]
    }
   ],
   "metadata": {}
  },
  {
   "cell_type": "markdown",
   "source": [
    "Consolidate as a ternary operator"
   ],
   "metadata": {}
  },
  {
   "cell_type": "code",
   "execution_count": 73,
   "source": [
    "grades = [90, 78, 66, 59,88,84,49]\n",
    "for grade in grades:\n",
    "    print(f'The grade {grade} is passing in my class' if grade >= 80 else \\\n",
    "    f'An {grade} grade means you need help in my class')"
   ],
   "outputs": [
    {
     "output_type": "stream",
     "name": "stdout",
     "text": [
      "The grade 90 is passing in my class\n",
      "An 78 grade means you need help in my class\n",
      "An 66 grade means you need help in my class\n",
      "An 59 grade means you need help in my class\n",
      "The grade 88 is passing in my class\n",
      "The grade 84 is passing in my class\n",
      "An 49 grade means you need help in my class\n"
     ]
    }
   ],
   "metadata": {}
  },
  {
   "cell_type": "markdown",
   "source": [
    "<h2>Pass</h2>\n",
    "Temporary holder for code"
   ],
   "metadata": {}
  },
  {
   "cell_type": "code",
   "execution_count": 76,
   "source": [
    "def add2(num):     # Define the function\n",
    "    return num + 2  # Return a value\n",
    "\n",
    "def multiplyBy3(num):\n",
    "    return num * 3\n",
    "\n",
    "def doubler(num):\n",
    "    pass\n",
    "\n",
    "for i in range(20,41):\n",
    "    print(i,add2(i),multiplyBy3(i))"
   ],
   "outputs": [
    {
     "output_type": "stream",
     "name": "stdout",
     "text": [
      "20 22 60\n",
      "21 23 63\n",
      "22 24 66\n",
      "23 25 69\n",
      "24 26 72\n",
      "25 27 75\n",
      "26 28 78\n",
      "27 29 81\n",
      "28 30 84\n",
      "29 31 87\n",
      "30 32 90\n",
      "31 33 93\n",
      "32 34 96\n",
      "33 35 99\n",
      "34 36 102\n",
      "35 37 105\n",
      "36 38 108\n",
      "37 39 111\n",
      "38 40 114\n",
      "39 41 117\n",
      "40 42 120\n"
     ]
    }
   ],
   "metadata": {}
  }
 ],
 "metadata": {
  "kernelspec": {
   "name": "python3",
   "display_name": "Python 3.9.7 64-bit"
  },
  "language_info": {
   "codemirror_mode": {
    "name": "ipython",
    "version": 3
   },
   "file_extension": ".py",
   "mimetype": "text/x-python",
   "name": "python",
   "nbconvert_exporter": "python",
   "pygments_lexer": "ipython3",
   "version": "3.9.7"
  },
  "interpreter": {
   "hash": "aee8b7b246df8f9039afb4144a1f6fd8d2ca17a180786b69acc140d282b71a49"
  }
 },
 "nbformat": 4,
 "nbformat_minor": 4
}