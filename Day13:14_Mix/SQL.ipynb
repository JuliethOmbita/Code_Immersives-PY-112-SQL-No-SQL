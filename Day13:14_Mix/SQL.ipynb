{
 "cells": [
  {
   "cell_type": "markdown",
   "source": [
    "# Python Easter Egg"
   ],
   "metadata": {}
  },
  {
   "cell_type": "code",
   "execution_count": 2,
   "source": [
    "import this"
   ],
   "outputs": [
    {
     "output_type": "stream",
     "name": "stdout",
     "text": [
      "The Zen of Python, by Tim Peters\n",
      "\n",
      "Beautiful is better than ugly.\n",
      "Explicit is better than implicit.\n",
      "Simple is better than complex.\n",
      "Complex is better than complicated.\n",
      "Flat is better than nested.\n",
      "Sparse is better than dense.\n",
      "Readability counts.\n",
      "Special cases aren't special enough to break the rules.\n",
      "Although practicality beats purity.\n",
      "Errors should never pass silently.\n",
      "Unless explicitly silenced.\n",
      "In the face of ambiguity, refuse the temptation to guess.\n",
      "There should be one-- and preferably only one --obvious way to do it.\n",
      "Although that way may not be obvious at first unless you're Dutch.\n",
      "Now is better than never.\n",
      "Although never is often better than *right* now.\n",
      "If the implementation is hard to explain, it's a bad idea.\n",
      "If the implementation is easy to explain, it may be a good idea.\n",
      "Namespaces are one honking great idea -- let's do more of those!\n"
     ]
    }
   ],
   "metadata": {}
  },
  {
   "cell_type": "markdown",
   "source": [
    "<h2>Recursive</h2>"
   ],
   "metadata": {}
  },
  {
   "cell_type": "code",
   "execution_count": 10,
   "source": [
    "import sys\n",
    "sys.setrecursionlimit(1006)\n",
    "new_limit = sys.getrecursionlimit()\n",
    "print(new_limit)"
   ],
   "outputs": [
    {
     "output_type": "stream",
     "name": "stdout",
     "text": [
      "1006\n"
     ]
    }
   ],
   "metadata": {}
  },
  {
   "cell_type": "code",
   "execution_count": 3,
   "source": [
    "for i in 'PYTHON':\n",
    "    print(i)"
   ],
   "outputs": [
    {
     "output_type": "stream",
     "name": "stdout",
     "text": [
      "P\n",
      "Y\n",
      "T\n",
      "H\n",
      "O\n",
      "N\n"
     ]
    }
   ],
   "metadata": {}
  },
  {
   "cell_type": "code",
   "execution_count": 11,
   "source": [
    "phrase = 'PYTHON'\n",
    "for i in range (len(phrase)-1,-1,-1):\n",
    "    print(phrase[i])"
   ],
   "outputs": [
    {
     "output_type": "stream",
     "name": "stdout",
     "text": [
      "N\n",
      "O\n",
      "H\n",
      "T\n",
      "Y\n",
      "P\n"
     ]
    }
   ],
   "metadata": {}
  },
  {
   "cell_type": "code",
   "execution_count": 12,
   "source": [
    "def rev_string(phrase,len_str):\n",
    "    if len_str == -1:\n",
    "        return\n",
    "    print(phrase[len_str])\n",
    "    rev_string(phrase,len_str-1)\n",
    "    return ''\n",
    "phrase = \"PYTHON\"\n",
    "print(rev_string(phrase,len(phrase)-1))"
   ],
   "outputs": [
    {
     "output_type": "stream",
     "name": "stdout",
     "text": [
      "N\n",
      "O\n",
      "H\n",
      "T\n",
      "Y\n",
      "P\n",
      "\n"
     ]
    }
   ],
   "metadata": {}
  },
  {
   "cell_type": "markdown",
   "source": [
    "# recursive - a funtion call itself "
   ],
   "metadata": {}
  },
  {
   "cell_type": "markdown",
   "source": [
    "# MYSQL"
   ],
   "metadata": {}
  },
  {
   "cell_type": "code",
   "execution_count": 6,
   "source": [
    "import os\n",
    "\n",
    "working_dir = r'/Users/julis_478/Documents/Python Immersives/PY-112 SQL, No SQL/Classes/Day13:14'\n",
    "print(os.getcwd())"
   ],
   "outputs": [
    {
     "output_type": "stream",
     "name": "stdout",
     "text": [
      "/Users/julis_478/Documents/Python Immersives/PY-112 SQL, No SQL/Classes/Day13:14\n"
     ]
    }
   ],
   "metadata": {}
  },
  {
   "cell_type": "code",
   "execution_count": 9,
   "source": [
    "import mysql.connector\n",
    "\n",
    "mysql_config =  {\n",
    "  'user': 'root',\n",
    "  'password': 'Admin321',\n",
    "  'host': '127.0.0.1',\n",
    "  'auth_plugin':'mysql_native_password'\n",
    "}\n",
    "conn = mysql.connector.connect(**mysql_config)\n",
    "curr = conn.cursor(buffered=True)\n",
    "curr.execute('CREATE DATABASE IF NOT EXISTS ABC_CORP;')  # <------ The database"
   ],
   "outputs": [],
   "metadata": {}
  },
  {
   "cell_type": "code",
   "execution_count": 8,
   "source": [
    "import mysql.connector\n",
    "\n",
    "mysql_config =  {\n",
    "  'user': 'root',\n",
    "  'password': 'Admin321',\n",
    "  'host': '127.0.0.1',\n",
    "  'auth_plugin':'mysql_native_password'\n",
    "}\n",
    "conn = mysql.connector.connect(**mysql_config)\n",
    "curr = conn.cursor(buffered=True)\n",
    "curr.execute('SHOW DATABASES;')  # <------ The database\n",
    "tables = curr.fetchall()\n",
    "for table in tables:\n",
    "    print(table)\n",
    "conn.close() "
   ],
   "outputs": [
    {
     "output_type": "error",
     "ename": "ModuleNotFoundError",
     "evalue": "No module named 'mysql'",
     "traceback": [
      "\u001b[0;31m---------------------------------------------------------------------------\u001b[0m",
      "\u001b[0;31mModuleNotFoundError\u001b[0m                       Traceback (most recent call last)",
      "\u001b[0;32m/var/folders/pl/clj7x4m153j6y749_p0tpx4m0000gn/T/ipykernel_1677/2078545017.py\u001b[0m in \u001b[0;36m<module>\u001b[0;34m\u001b[0m\n\u001b[0;32m----> 1\u001b[0;31m \u001b[0;32mimport\u001b[0m \u001b[0mmysql\u001b[0m\u001b[0;34m.\u001b[0m\u001b[0mconnector\u001b[0m\u001b[0;34m\u001b[0m\u001b[0;34m\u001b[0m\u001b[0m\n\u001b[0m\u001b[1;32m      2\u001b[0m \u001b[0;34m\u001b[0m\u001b[0m\n\u001b[1;32m      3\u001b[0m mysql_config =  {\n\u001b[1;32m      4\u001b[0m   \u001b[0;34m'user'\u001b[0m\u001b[0;34m:\u001b[0m \u001b[0;34m'root'\u001b[0m\u001b[0;34m,\u001b[0m\u001b[0;34m\u001b[0m\u001b[0;34m\u001b[0m\u001b[0m\n\u001b[1;32m      5\u001b[0m   \u001b[0;34m'password'\u001b[0m\u001b[0;34m:\u001b[0m \u001b[0;34m'Admin321'\u001b[0m\u001b[0;34m,\u001b[0m\u001b[0;34m\u001b[0m\u001b[0;34m\u001b[0m\u001b[0m\n",
      "\u001b[0;31mModuleNotFoundError\u001b[0m: No module named 'mysql'"
     ]
    }
   ],
   "metadata": {}
  },
  {
   "cell_type": "markdown",
   "source": [
    "# MYSQL Data Types:\n",
    "CHAR <br>\n",
    "VARCHAR<br>\n",
    "INT<br>\n",
    "INTEGER<br>\n",
    "FLOAT<br>\n",
    "DOUBLE<br>\n",
    "DECIMAL (10.2)<br>\n",
    "DATE <br>\n",
    "DATETIME<br>\n",
    "TIMESTAMP<br>"
   ],
   "metadata": {}
  },
  {
   "cell_type": "code",
   "execution_count": 1,
   "source": [
    "import mysql.connector\n",
    "\n",
    "mysql_config =  {\n",
    "  'user': 'root',\n",
    "  'password': 'Admin321',\n",
    "  'host': '127.0.0.1',\n",
    "  'auth_plugin':'mysql_native_password'\n",
    "}\n",
    "conn = mysql.connector.connect(**mysql_config)\n",
    "curr = conn.cursor(buffered=True)\n",
    "curr.execute('SHOW DATABASES;')  # <------ The database\n",
    "tables = curr.fetchall()\n",
    "for table in tables:\n",
    "    print(table)\n",
    "# conn.close() "
   ],
   "outputs": [
    {
     "output_type": "error",
     "ename": "ModuleNotFoundError",
     "evalue": "No module named 'mysql'",
     "traceback": [
      "\u001b[0;31m---------------------------------------------------------------------------\u001b[0m",
      "\u001b[0;31mModuleNotFoundError\u001b[0m                       Traceback (most recent call last)",
      "\u001b[0;32m/var/folders/pl/clj7x4m153j6y749_p0tpx4m0000gn/T/ipykernel_1677/4199217389.py\u001b[0m in \u001b[0;36m<module>\u001b[0;34m\u001b[0m\n\u001b[0;32m----> 1\u001b[0;31m \u001b[0;32mimport\u001b[0m \u001b[0mmysql\u001b[0m\u001b[0;34m.\u001b[0m\u001b[0mconnector\u001b[0m\u001b[0;34m\u001b[0m\u001b[0;34m\u001b[0m\u001b[0m\n\u001b[0m\u001b[1;32m      2\u001b[0m \u001b[0;34m\u001b[0m\u001b[0m\n\u001b[1;32m      3\u001b[0m mysql_config =  {\n\u001b[1;32m      4\u001b[0m   \u001b[0;34m'user'\u001b[0m\u001b[0;34m:\u001b[0m \u001b[0;34m'root'\u001b[0m\u001b[0;34m,\u001b[0m\u001b[0;34m\u001b[0m\u001b[0;34m\u001b[0m\u001b[0m\n\u001b[1;32m      5\u001b[0m   \u001b[0;34m'password'\u001b[0m\u001b[0;34m:\u001b[0m \u001b[0;34m'Admin321'\u001b[0m\u001b[0;34m,\u001b[0m\u001b[0;34m\u001b[0m\u001b[0;34m\u001b[0m\u001b[0m\n",
      "\u001b[0;31mModuleNotFoundError\u001b[0m: No module named 'mysql'"
     ]
    }
   ],
   "metadata": {}
  },
  {
   "cell_type": "code",
   "execution_count": 45,
   "source": [
    "import os\n",
    "import mysql.connector\n",
    "\n",
    "mysql_config =  {\n",
    "  'user': 'root',\n",
    "  'password': 'Admin321',\n",
    "  'host': '127.0.0.1',\n",
    "  'auth_plugin':'mysql_native_password'\n",
    "}\n",
    "conn = mysql.connector.connect(**mysql_config)\n",
    "curr = conn.cursor(buffered=True)\n",
    "curr.execute('USE ABC_CORP;')\n",
    "sql = 'create table IF NOT EXISTS states (code CHAR(2), state_name VARCHAR(50));'\n",
    "curr.execute(sql)\n",
    "sql = 'DELETE FROM states;'\n",
    "curr.execute(sql)\n",
    "conn.commit()\n",
    "\n",
    "with open('US_states_codes.txt') as f:\n",
    "    content = f.readlines()\n",
    "    for est in (content):\n",
    "        line = est.strip().split(\" - \")\n",
    "        sql = f\"INSERT INTO states VALUES ('{code}','{state_name}')\"\n",
    "        curr.execute(sql)\n",
    "        conn.commit()\n",
    "        line = f.readline()"
   ],
   "outputs": [
    {
     "output_type": "error",
     "ename": "NameError",
     "evalue": "name 'code' is not defined",
     "traceback": [
      "\u001b[0;31m---------------------------------------------------------------------------\u001b[0m",
      "\u001b[0;31mNameError\u001b[0m                                 Traceback (most recent call last)",
      "\u001b[0;32m/var/folders/pl/clj7x4m153j6y749_p0tpx4m0000gn/T/ipykernel_2437/3969593873.py\u001b[0m in \u001b[0;36m<module>\u001b[0;34m\u001b[0m\n\u001b[1;32m     21\u001b[0m     \u001b[0;32mfor\u001b[0m \u001b[0mest\u001b[0m \u001b[0;32min\u001b[0m \u001b[0;34m(\u001b[0m\u001b[0mcontent\u001b[0m\u001b[0;34m)\u001b[0m\u001b[0;34m:\u001b[0m\u001b[0;34m\u001b[0m\u001b[0;34m\u001b[0m\u001b[0m\n\u001b[1;32m     22\u001b[0m         \u001b[0mline\u001b[0m \u001b[0;34m=\u001b[0m \u001b[0mest\u001b[0m\u001b[0;34m.\u001b[0m\u001b[0mstrip\u001b[0m\u001b[0;34m(\u001b[0m\u001b[0;34m)\u001b[0m\u001b[0;34m.\u001b[0m\u001b[0msplit\u001b[0m\u001b[0;34m(\u001b[0m\u001b[0;34m\" - \"\u001b[0m\u001b[0;34m)\u001b[0m\u001b[0;34m\u001b[0m\u001b[0;34m\u001b[0m\u001b[0m\n\u001b[0;32m---> 23\u001b[0;31m         \u001b[0msql\u001b[0m \u001b[0;34m=\u001b[0m \u001b[0;34mf\"INSERT INTO states VALUES ('{code}','{state_name}')\"\u001b[0m\u001b[0;34m\u001b[0m\u001b[0;34m\u001b[0m\u001b[0m\n\u001b[0m\u001b[1;32m     24\u001b[0m         \u001b[0mcurr\u001b[0m\u001b[0;34m.\u001b[0m\u001b[0mexecute\u001b[0m\u001b[0;34m(\u001b[0m\u001b[0msql\u001b[0m\u001b[0;34m)\u001b[0m\u001b[0;34m\u001b[0m\u001b[0;34m\u001b[0m\u001b[0m\n\u001b[1;32m     25\u001b[0m         \u001b[0mconn\u001b[0m\u001b[0;34m.\u001b[0m\u001b[0mcommit\u001b[0m\u001b[0;34m(\u001b[0m\u001b[0;34m)\u001b[0m\u001b[0;34m\u001b[0m\u001b[0;34m\u001b[0m\u001b[0m\n",
      "\u001b[0;31mNameError\u001b[0m: name 'code' is not defined"
     ]
    }
   ],
   "metadata": {}
  },
  {
   "cell_type": "code",
   "execution_count": null,
   "source": [
    "for row in curr.execute('SELECT code, state_name FROM states ORDER BY state_name ASC'):\n",
    "    names = curr.fetchall()"
   ],
   "outputs": [],
   "metadata": {}
  },
  {
   "cell_type": "code",
   "execution_count": null,
   "source": [
    "import os\n",
    "\n",
    "os.chdir(r'/Users/julis_478/Documents/Python Immersives/PY-112 SQL, No SQL/Classes/Day13:14')\n",
    "with open('US_states_codes.txt') as f:\n",
    "    content = f.readlines()\n",
    "    for est in (content):\n",
    "        line = est.strip().split(\" - \")\n",
    "        print(line)\n",
    "        "
   ],
   "outputs": [],
   "metadata": {}
  }
 ],
 "metadata": {
  "orig_nbformat": 4,
  "language_info": {
   "name": "python",
   "version": "3.9.7",
   "mimetype": "text/x-python",
   "codemirror_mode": {
    "name": "ipython",
    "version": 3
   },
   "pygments_lexer": "ipython3",
   "nbconvert_exporter": "python",
   "file_extension": ".py"
  },
  "kernelspec": {
   "name": "python3",
   "display_name": "Python 3.9.7 64-bit"
  },
  "interpreter": {
   "hash": "aee8b7b246df8f9039afb4144a1f6fd8d2ca17a180786b69acc140d282b71a49"
  }
 },
 "nbformat": 4,
 "nbformat_minor": 2
}