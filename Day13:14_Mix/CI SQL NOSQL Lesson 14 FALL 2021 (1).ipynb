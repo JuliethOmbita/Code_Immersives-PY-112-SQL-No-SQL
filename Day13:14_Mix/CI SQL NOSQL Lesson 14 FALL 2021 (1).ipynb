{
 "cells": [
  {
   "cell_type": "code",
   "execution_count": 42,
   "source": [
    "import os\n",
    "import sqlite3\n",
    "\n",
    "filePath = 'C:\\\\Projects\\\\SQL_NOSQL\\\\'\n",
    "os.chdir(filePath)\n",
    "conn2 = sqlite3.connect(\"ABC_corp2.db\")\n",
    "curr2 = conn2.cursor()\n",
    "curr2 = conn2.cursor()\n",
    "print('='*40) \n",
    "curr2.execute\n",
    "print('='*40) \n",
    "curr2.execute('''SELECT * FROM allData \n",
    "              WHERE dept_id = 'CSALE' ''')\n",
    "tables = curr2.fetchall()\n",
    "for table in tables:\n",
    "    print(table)\n",
    "print('='*40)\n",
    "curr2.execute('''SELECT name FROM sqlite_master''')\n",
    "tables = curr2.fetchall()\n",
    "for table in tables:\n",
    "    print(table)\n",
    "print('='*40)\n",
    "curr2.execute('''SELECT B.first_name,B.last_name,A.emp_id,sum(A.sale_amount) FROM sales A\n",
    "LEFT JOIN allData B ON A.emp_id = B.emp_id GROUP BY A.emp_id''')\n",
    "tables = curr2.fetchall()\n",
    "for table in tables:\n",
    "    print(table)\n",
    "print('='*40)\n",
    "# Who sold over 100,000\n",
    "curr2.execute('''SELECT B.first_name,B.last_name,A.emp_id,sum(A.sale_amount) FROM sales A\n",
    "LEFT JOIN allData B ON A.emp_id = B.emp_id GROUP BY A.emp_id HAVING sum(A.sale_amount) >100000 ''')\n",
    "tables = curr2.fetchall()\n",
    "for table in tables:\n",
    "    print(table)\n",
    "print('='*40)\n",
    "# Print only people who have sale amounts > 0\n",
    "curr2.execute('''SELECT A.first_name,A.last_name,A.emp_id,B.sale_amount,A.dept_id FROM allData A \n",
    "LEFT JOIN sales B  ON A.emp_id = B.emp_id \n",
    "WHERE B.sale_amount > 0\n",
    "''')\n",
    "tables = curr2.fetchall()\n",
    "for table in tables:\n",
    "    print(table)\n",
    "print('='*40)\n",
    "# add the dept name\n",
    "curr2.execute('''SELECT A.first_name,A.last_name,A.emp_id,B.sale_amount,A.dept_id,C.description \n",
    "FROM allData A \n",
    "LEFT JOIN sales B  ON A.emp_id = B.emp_id \n",
    "LEFT JOIN depts C  ON A.dept_id = C.code \n",
    "WHERE B.sale_amount > 0\n",
    "''')\n",
    "tables = curr2.fetchall()\n",
    "for table in tables:\n",
    "    print(table)\n",
    "print('='*40, 'SALES PEOPLE')\n",
    "# list all sales people\n",
    "curr2.execute('''SELECT A.first_name,A.last_name,A.emp_id,A.dept_id\n",
    "FROM allData A WHERE A.dept_id = 'CSALE'\n",
    "''')\n",
    "tables = curr2.fetchall()\n",
    "for table in tables:\n",
    "    print(table)\n",
    "    print('='*40, 'SALES PEOPLE')\n",
    "# list all sales people with SALES > 1000\n",
    "curr2.execute('''\n",
    "SELECT X.last_name,X.first_name FROM allData X WHERE emp_id in \n",
    "(SELECT DISTINCT A.emp_id\n",
    "FROM allData A \n",
    "LEFT JOIN sales B ON a.emp_id = B.emp_id\n",
    "WHERE A.dept_id = 'CSALE' and B.sale_amount > 1000)\n",
    "''')\n",
    "tables = curr2.fetchall()\n",
    "for table in tables:\n",
    "    print(table)\n",
    "print('='*40, 'FORMATING')    \n",
    "sql = '''SELECT last_name || ', ' || first_name as name\n",
    "FROM allData ORDER BY name ASC LIMIT 10;'''  \n",
    "curr2.execute(sql)\n",
    "tables = curr2.fetchall()\n",
    "for table in tables:\n",
    "    print(table)\n",
    "print('='*40, 'SUBSTR')     \n",
    "sql = '''SELECT last_name || ', ' || first_name as name,hire_date,\n",
    "SUBSTR(hire_date,1,4)||substr(hire_date,6,2)||substr(hire_date,9,2) as hd\n",
    "FROM allData ORDER BY hd ASC LIMIT 15; '''  \n",
    "curr2.execute(sql)\n",
    "tables = curr2.fetchall()\n",
    "for table in tables:\n",
    "    print(table)\n",
    "conn2.close()"
   ],
   "outputs": [
    {
     "output_type": "stream",
     "name": "stdout",
     "text": [
      "========================================\n",
      "========================================\n",
      "('100', 'Divorced', 'Kellogg', 'Roger', None, None, 'CSALE', None, '001', None, None, None, None, None, None, None)\n",
      "('101', 'Married', 'Engels', 'Laura', None, None, 'CSALE', None, '100', None, None, None, None, None, None, None)\n",
      "('102', 'Married', 'Pratt', 'Thomas', None, None, 'CSALE', None, '100', None, None, None, None, None, None, None)\n",
      "========================================\n",
      "('allData',)\n",
      "('marriage_codes',)\n",
      "('depts',)\n",
      "('sick_days',)\n",
      "('regions',)\n",
      "('Sales',)\n",
      "========================================\n",
      "('Roger', 'Kellogg', '100', 100000.0)\n",
      "('Laura', 'Engels', '101', 138000.0)\n",
      "========================================\n",
      "('Laura', 'Engels', '101', 138000.0)\n",
      "========================================\n",
      "('Roger', 'Kellogg', '100', 15000.0, 'CSALE')\n",
      "('Roger', 'Kellogg', '100', 35000.0, 'CSALE')\n",
      "('Roger', 'Kellogg', '100', 50000.0, 'CSALE')\n",
      "('Laura', 'Engels', '101', 45000.0, 'CSALE')\n",
      "('Laura', 'Engels', '101', 45000.0, 'CSALE')\n",
      "('Laura', 'Engels', '101', 22000.0, 'CSALE')\n",
      "('Laura', 'Engels', '101', 26000.0, 'CSALE')\n",
      "========================================\n",
      "('Roger', 'Kellogg', '100', 15000.0, 'CSALE', 'Corporate External Sales')\n",
      "('Roger', 'Kellogg', '100', 15000.0, 'CSALE', 'Corporate External Sales')\n",
      "('Roger', 'Kellogg', '100', 35000.0, 'CSALE', 'Corporate External Sales')\n",
      "('Roger', 'Kellogg', '100', 35000.0, 'CSALE', 'Corporate External Sales')\n",
      "('Roger', 'Kellogg', '100', 50000.0, 'CSALE', 'Corporate External Sales')\n",
      "('Roger', 'Kellogg', '100', 50000.0, 'CSALE', 'Corporate External Sales')\n",
      "('Laura', 'Engels', '101', 45000.0, 'CSALE', 'Corporate External Sales')\n",
      "('Laura', 'Engels', '101', 45000.0, 'CSALE', 'Corporate External Sales')\n",
      "('Laura', 'Engels', '101', 45000.0, 'CSALE', 'Corporate External Sales')\n",
      "('Laura', 'Engels', '101', 45000.0, 'CSALE', 'Corporate External Sales')\n",
      "('Laura', 'Engels', '101', 22000.0, 'CSALE', 'Corporate External Sales')\n",
      "('Laura', 'Engels', '101', 22000.0, 'CSALE', 'Corporate External Sales')\n",
      "('Laura', 'Engels', '101', 26000.0, 'CSALE', 'Corporate External Sales')\n",
      "('Laura', 'Engels', '101', 26000.0, 'CSALE', 'Corporate External Sales')\n",
      "======================================== SALES PEOPLE\n",
      "('Roger', 'Kellogg', '100', 'CSALE')\n",
      "======================================== SALES PEOPLE\n",
      "('Laura', 'Engels', '101', 'CSALE')\n",
      "======================================== SALES PEOPLE\n",
      "('Thomas', 'Pratt', '102', 'CSALE')\n",
      "======================================== SALES PEOPLE\n",
      "('Kellogg', 'Roger')\n",
      "('Engels', 'Laura')\n",
      "======================================== FORMATING\n",
      "('Breen, Margret',)\n",
      "('Davidson, Fred',)\n",
      "('Davidson, Wilma',)\n",
      "('Davis, Elizabeth',)\n",
      "('Ellis, Francis',)\n",
      "('Engels, Laura',)\n",
      "('Forrest, Peter',)\n",
      "('Freach, Greta',)\n",
      "('French, Sara',)\n",
      "('Gantt, Jackson',)\n",
      "======================================== SUBSTR\n",
      "('Kellogg, Roger', None, None)\n",
      "('Engels, Laura', None, None)\n",
      "('Pratt, Thomas', None, None)\n",
      "('Saulzman, Randle', '2001/03/20', '20010320')\n",
      "('Davidson, Fred', '2003/01/11', '20030111')\n",
      "('Jones, Pamala', '2003/03/10', '20030310')\n",
      "('Ellis, Francis', '2005/02/12', '20050212')\n",
      "('Pollard, Franz', '2007/07/29', '20070729')\n",
      "('Williamson, Ursula', '2008/01/19', '20080119')\n",
      "('Ute, Ulsula', '2008/03/11', '20080311')\n",
      "('Freach, Greta', '2009/05/03', '20090503')\n",
      "('Forrest, Peter', '2010/04/03', '20100403')\n",
      "('Nulland, Nicholas', '2010/06/10', '20100610')\n",
      "('Holland, Henry', '2011/04/02', '20110402')\n",
      "('Keller, Bradley', '2011/04/30', '20110430')\n"
     ]
    }
   ],
   "metadata": {}
  },
  {
   "cell_type": "markdown",
   "source": [
    "<h2>Python Easter Egg</h2>"
   ],
   "metadata": {}
  },
  {
   "cell_type": "code",
   "execution_count": 44,
   "source": [
    "import this"
   ],
   "outputs": [
    {
     "output_type": "stream",
     "name": "stdout",
     "text": [
      "The Zen of Python, by Tim Peters\n",
      "\n",
      "Beautiful is better than ugly.\n",
      "Explicit is better than implicit.\n",
      "Simple is better than complex.\n",
      "Complex is better than complicated.\n",
      "Flat is better than nested.\n",
      "Sparse is better than dense.\n",
      "Readability counts.\n",
      "Special cases aren't special enough to break the rules.\n",
      "Although practicality beats purity.\n",
      "Errors should never pass silently.\n",
      "Unless explicitly silenced.\n",
      "In the face of ambiguity, refuse the temptation to guess.\n",
      "There should be one-- and preferably only one --obvious way to do it.\n",
      "Although that way may not be obvious at first unless you're Dutch.\n",
      "Now is better than never.\n",
      "Although never is often better than *right* now.\n",
      "If the implementation is hard to explain, it's a bad idea.\n",
      "If the implementation is easy to explain, it may be a good idea.\n",
      "Namespaces are one honking great idea -- let's do more of those!\n"
     ]
    }
   ],
   "metadata": {}
  },
  {
   "cell_type": "markdown",
   "source": [
    "<h2>Recursive</h2>"
   ],
   "metadata": {}
  },
  {
   "cell_type": "code",
   "execution_count": 43,
   "source": [
    "import sys\n",
    "sys.setrecursionlimit(1006)\n",
    "new_limit = sys.getrecursionlimit()\n",
    "print(new_limit)"
   ],
   "outputs": [
    {
     "output_type": "stream",
     "name": "stdout",
     "text": [
      "1006\n"
     ]
    }
   ],
   "metadata": {}
  },
  {
   "cell_type": "markdown",
   "source": [
    "<h2>Exercise on recursion</h2>\n",
    "Recursively print out the letters from the back to the front<br>\n",
    "phrase = \"PYTHON\""
   ],
   "metadata": {}
  },
  {
   "cell_type": "code",
   "execution_count": 45,
   "source": [
    "for i in \"PYTHON\":\n",
    "    print(i)"
   ],
   "outputs": [
    {
     "output_type": "stream",
     "name": "stdout",
     "text": [
      "P\n",
      "Y\n",
      "T\n",
      "H\n",
      "O\n",
      "N\n"
     ]
    }
   ],
   "metadata": {}
  },
  {
   "cell_type": "code",
   "execution_count": 48,
   "source": [
    "phrase = \"PYTHON\"\n",
    "for i in range(len(phrase)-1,-1,-1):\n",
    "    print(phrase[i])"
   ],
   "outputs": [
    {
     "output_type": "stream",
     "name": "stdout",
     "text": [
      "N\n",
      "O\n",
      "H\n",
      "T\n",
      "Y\n",
      "P\n"
     ]
    }
   ],
   "metadata": {}
  },
  {
   "cell_type": "code",
   "execution_count": 49,
   "source": [
    "def rev_string(phrase,len_str):\n",
    "    if len_str == -1:\n",
    "        return\n",
    "    print(phrase[len_str])\n",
    "    rev_string(phrase,len_str-1)\n",
    "    return ''\n",
    "phrase = \"PYTHON\"\n",
    "print(rev_string(phrase,len(phrase)-1))"
   ],
   "outputs": [
    {
     "output_type": "stream",
     "name": "stdout",
     "text": [
      "N\n",
      "O\n",
      "H\n",
      "T\n",
      "Y\n",
      "P\n",
      "\n"
     ]
    }
   ],
   "metadata": {}
  },
  {
   "cell_type": "code",
   "execution_count": 51,
   "source": [
    "import os\n",
    "working_dir = 'C:\\\\Projects\\\\SQL_NOSQL\\\\'\n",
    "\n",
    "print(os.getcwd())"
   ],
   "outputs": [
    {
     "output_type": "stream",
     "name": "stdout",
     "text": [
      "C:\\Projects\\SQL_NOSQL\n"
     ]
    }
   ],
   "metadata": {}
  },
  {
   "cell_type": "code",
   "execution_count": 57,
   "source": [
    "import mysql.connector\n",
    "\n",
    "mysql_config =  {\n",
    "  'user': 'root',\n",
    "  'password': 'admin321',\n",
    "  'host': '127.0.0.1'\n",
    "}\n",
    "conn = mysql.connector.connect(**mysql_config)\n",
    "curr = conn.cursor(buffered=True)\n",
    "curr.execute('CREATE DATABASE IF NOT EXISTS ABC_CORP ;')  # <------ The database\n",
    "conn.close()"
   ],
   "outputs": [],
   "metadata": {}
  },
  {
   "cell_type": "code",
   "execution_count": 60,
   "source": [
    "import mysql.connector\n",
    "\n",
    "mysql_config =  {\n",
    "  'user': 'root',\n",
    "  'password': 'admin321',\n",
    "  'host': '127.0.0.1'\n",
    "}\n",
    "conn = mysql.connector.connect(**mysql_config)\n",
    "curr = conn.cursor(buffered=True)\n",
    "curr.execute('SHOW DATABASES;')  # <------ The database\n",
    "tables = curr.fetchall()\n",
    "for table in tables:\n",
    "    print(table)\n",
    "conn.close()"
   ],
   "outputs": [
    {
     "output_type": "stream",
     "name": "stdout",
     "text": [
      "('abc_corp',)\n",
      "('information_schema',)\n",
      "('mysql',)\n",
      "('performance_schema',)\n",
      "('sys',)\n"
     ]
    }
   ],
   "metadata": {}
  },
  {
   "cell_type": "markdown",
   "source": [
    "<h2>MYSQL Data Types</h2>\n",
    "CHAR<br>\n",
    "VARCHAR<br>\n",
    "INT<br>\n",
    "INTEGER<br>\n",
    "FLOAT<br>\n",
    "DOUBLE<br>\n",
    "DECIMAL(10.2)<br>\n",
    "DATE<br>\n",
    "DATETIME<br>\n",
    "TIMESTAMP<br>"
   ],
   "metadata": {}
  },
  {
   "cell_type": "code",
   "execution_count": null,
   "source": [
    "# CREATE TABLE\n",
    "# code CHAR(2)\n",
    "# state_name VARCHAR(50)\n",
    "# USE abc_corp"
   ],
   "outputs": [],
   "metadata": {}
  },
  {
   "cell_type": "code",
   "execution_count": 72,
   "source": [
    "import os\n",
    "import mysql.connector\n",
    "\n",
    "mysql_config =  {\n",
    "  'user': 'root',\n",
    "  'password': 'admin321',\n",
    "  'host': '127.0.0.1'\n",
    "}\n",
    "conn = mysql.connector.connect(**mysql_config)\n",
    "curr = conn.cursor(buffered=True)\n",
    "curr.execute('USE abc_corp;')  # <------ The database\n",
    "sql = 'CREATE TABLE IF NOT EXISTS states (code CHAR(2),state_name VARCHAR(50))'\n",
    "curr.execute(sql)\n",
    "conn.commit()\n",
    "sql = 'DELETE FROM states;'\n",
    "curr.execute(sql)\n",
    "conn.commit()\n",
    "\n",
    "with open(r'c:\\projects\\US_states_codes.txt') as fh:\n",
    "    line = fh.readline()\n",
    "    while line:\n",
    "        state_name,code = line.split('-')\n",
    "        state_name = state_name.strip()\n",
    "        code = code.strip().replace('\\n','')\n",
    "        print(code,state_name)\n",
    "        sql = f'''INSERT INTO states VALUES ('{code}','{state_name}') '''\n",
    "        # print(sql)\n",
    "        curr.execute(sql)\n",
    "        conn.commit()\n",
    "        line = fh.readline()\n",
    "        \n",
    "curr.execute('SELECT code, state_name, length(state_name) FROM states ORDER BY state_name;')  # <------ The database\n",
    "tables = curr.fetchall()\n",
    "for table in tables:\n",
    "    print(table)        \n",
    "conn.close()"
   ],
   "outputs": [
    {
     "output_type": "stream",
     "name": "stdout",
     "text": [
      "AL Alabama\n",
      "AK Alaska\n",
      "AZ Arizona\n",
      "AR Arkansas\n",
      "CA California\n",
      "CO Colorado\n",
      "CT Connecticut\n",
      "DE Delaware\n",
      "FL Florida\n",
      "GA Georgia\n",
      "HI Hawaii\n",
      "ID Idaho\n",
      "IL Illinois\n",
      "IN Indiana\n",
      "IA Iowa\n",
      "KS Kansas\n",
      "KY Kentucky\n",
      "LA Louisiana\n",
      "ME Maine\n",
      "MD Maryland\n",
      "MA Massachusetts\n",
      "MI Michigan\n",
      "MN Minnesota\n",
      "MS Mississippi\n",
      "MO Missouri\n",
      "MT Montana\n",
      "NE Nebraska\n",
      "NV Nevada\n",
      "NH New Hampshire\n",
      "NJ New Jersey\n",
      "NM New Mexico\n",
      "NY New York\n",
      "NC North Carolina\n",
      "ND North Dakota\n",
      "OH Ohio\n",
      "OK Oklahoma\n",
      "OR Oregon\n",
      "PA Pennsylvania\n",
      "RI Rhode Island\n",
      "SC South Carolina\n",
      "SD South Dakota\n",
      "TN Tennessee\n",
      "TX Texas\n",
      "UT Utah\n",
      "VT Vermont\n",
      "VA Virginia\n",
      "WA Washington\n",
      "WV West Virginia\n",
      "WI Wisconsin\n",
      "WY Wyoming\n",
      "('AL', 'Alabama', 7)\n",
      "('AK', 'Alaska', 6)\n",
      "('AZ', 'Arizona', 7)\n",
      "('AR', 'Arkansas', 8)\n",
      "('CA', 'California', 10)\n",
      "('CO', 'Colorado', 8)\n",
      "('CT', 'Connecticut', 11)\n",
      "('DE', 'Delaware', 8)\n",
      "('FL', 'Florida', 7)\n",
      "('GA', 'Georgia', 7)\n",
      "('HI', 'Hawaii', 6)\n",
      "('ID', 'Idaho', 5)\n",
      "('IL', 'Illinois', 8)\n",
      "('IN', 'Indiana', 7)\n",
      "('IA', 'Iowa', 4)\n",
      "('KS', 'Kansas', 6)\n",
      "('KY', 'Kentucky', 8)\n",
      "('LA', 'Louisiana', 9)\n",
      "('ME', 'Maine', 5)\n",
      "('MD', 'Maryland', 8)\n",
      "('MA', 'Massachusetts', 13)\n",
      "('MI', 'Michigan', 8)\n",
      "('MN', 'Minnesota', 9)\n",
      "('MS', 'Mississippi', 11)\n",
      "('MO', 'Missouri', 8)\n",
      "('MT', 'Montana', 7)\n",
      "('NE', 'Nebraska', 8)\n",
      "('NV', 'Nevada', 6)\n",
      "('NH', 'New Hampshire', 13)\n",
      "('NJ', 'New Jersey', 10)\n",
      "('NM', 'New Mexico', 10)\n",
      "('NY', 'New York', 8)\n",
      "('NC', 'North Carolina', 14)\n",
      "('ND', 'North Dakota', 12)\n",
      "('OH', 'Ohio', 4)\n",
      "('OK', 'Oklahoma', 8)\n",
      "('OR', 'Oregon', 6)\n",
      "('PA', 'Pennsylvania', 12)\n",
      "('RI', 'Rhode Island', 12)\n",
      "('SC', 'South Carolina', 14)\n",
      "('SD', 'South Dakota', 12)\n",
      "('TN', 'Tennessee', 9)\n",
      "('TX', 'Texas', 5)\n",
      "('UT', 'Utah', 4)\n",
      "('VT', 'Vermont', 7)\n",
      "('VA', 'Virginia', 8)\n",
      "('WA', 'Washington', 10)\n",
      "('WV', 'West Virginia', 13)\n",
      "('WI', 'Wisconsin', 9)\n",
      "('WY', 'Wyoming', 7)\n"
     ]
    }
   ],
   "metadata": {}
  },
  {
   "cell_type": "code",
   "execution_count": null,
   "source": [],
   "outputs": [],
   "metadata": {}
  },
  {
   "cell_type": "code",
   "execution_count": null,
   "source": [],
   "outputs": [],
   "metadata": {}
  },
  {
   "cell_type": "code",
   "execution_count": null,
   "source": [],
   "outputs": [],
   "metadata": {}
  },
  {
   "cell_type": "code",
   "execution_count": null,
   "source": [],
   "outputs": [],
   "metadata": {}
  },
  {
   "cell_type": "code",
   "execution_count": null,
   "source": [],
   "outputs": [],
   "metadata": {}
  },
  {
   "cell_type": "code",
   "execution_count": null,
   "source": [],
   "outputs": [],
   "metadata": {}
  },
  {
   "cell_type": "code",
   "execution_count": null,
   "source": [],
   "outputs": [],
   "metadata": {}
  },
  {
   "cell_type": "code",
   "execution_count": null,
   "source": [],
   "outputs": [],
   "metadata": {}
  },
  {
   "cell_type": "code",
   "execution_count": null,
   "source": [],
   "outputs": [],
   "metadata": {}
  }
 ],
 "metadata": {
  "kernelspec": {
   "display_name": "Python 3",
   "language": "python",
   "name": "python3"
  },
  "language_info": {
   "codemirror_mode": {
    "name": "ipython",
    "version": 3
   },
   "file_extension": ".py",
   "mimetype": "text/x-python",
   "name": "python",
   "nbconvert_exporter": "python",
   "pygments_lexer": "ipython3",
   "version": "3.7.4"
  }
 },
 "nbformat": 4,
 "nbformat_minor": 2
}