{
 "cells": [
  {
   "cell_type": "code",
   "execution_count": null,
   "source": [
    "# Odd or Even \n",
    "def odd_even(num):\n",
    "    for i in num:\n",
    "        if i%2==0:\n",
    "            return \"Even\"\n",
    "        return \"Odd\"\n",
    "\n",
    "num = range(0,10)\n",
    "#odd_even(num)\n",
    "\n",
    "\n",
    "# Prime or Composite\n",
    "def prime_composite(num):\n",
    "    \n",
    "    for i in num:\n",
    "        if i > 23 and not (i%2==0 or i%3==0 or i%5==0 or i%7==0 or i%11==0 or i%13==0):\n",
    "            print (i,\"Prime\")\n",
    "            return \"Prime\"\n",
    "        return \"Composite\"\n",
    "\n",
    "num = range(0,10)\n",
    "num = [2,3,5,7,11,13,17,19,23]\n",
    "prime_composite(num)\n",
    "\n",
    "\n"
   ],
   "outputs": [],
   "metadata": {}
  },
  {
   "cell_type": "code",
   "execution_count": 1,
   "source": [
    "odd_even = lambda x: \"Even\" if x%2==0 else \"Odd\"\n",
    "for i in range(0,10):\n",
    "    print(odd_even(i))"
   ],
   "outputs": [
    {
     "output_type": "stream",
     "name": "stdout",
     "text": [
      "Even\n",
      "Odd\n",
      "Even\n",
      "Odd\n",
      "Even\n",
      "Odd\n",
      "Even\n",
      "Odd\n",
      "Even\n",
      "Odd\n"
     ]
    }
   ],
   "metadata": {}
  },
  {
   "cell_type": "code",
   "execution_count": null,
   "source": [
    "import math \n",
    "def isPrime(num):\n",
    "    prime = True\n",
    "    for i in range(2,int(math.sqrt(num)+1)):\n",
    "        if num % i == 0:\n",
    "            prime = False\n",
    "            return prime\n",
    "    return prime\n",
    "# print(isPrime(9)) \n",
    "# for i in range(100,131):\n",
    "#     print(isPrime(i),i)\n",
    "def isPrime_1(num):\n",
    "    for i in range(2,int(math.sqrt(num)+1)):\n",
    "        return False if num % i == 0 else True\n",
    "isPrime_1(4)\n",
    "def comp_or_prime(num):\n",
    "    return 'Prime' if isPrime(num) else 'Composite' \n",
    "for i in range(2,21):\n",
    "    print(comp_or_prime(i),i)"
   ],
   "outputs": [],
   "metadata": {}
  }
 ],
 "metadata": {
  "orig_nbformat": 4,
  "language_info": {
   "name": "python",
   "version": "3.9.7",
   "mimetype": "text/x-python",
   "codemirror_mode": {
    "name": "ipython",
    "version": 3
   },
   "pygments_lexer": "ipython3",
   "nbconvert_exporter": "python",
   "file_extension": ".py"
  },
  "kernelspec": {
   "name": "python3",
   "display_name": "Python 3.9.7 64-bit"
  },
  "interpreter": {
   "hash": "aee8b7b246df8f9039afb4144a1f6fd8d2ca17a180786b69acc140d282b71a49"
  }
 },
 "nbformat": 4,
 "nbformat_minor": 2
}