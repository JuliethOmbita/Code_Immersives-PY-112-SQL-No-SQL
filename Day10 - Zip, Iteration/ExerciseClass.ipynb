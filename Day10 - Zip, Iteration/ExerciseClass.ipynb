{
 "cells": [
  {
   "cell_type": "markdown",
   "source": [
    "# Exercise - Iteration\n",
    " colors = ['bluegreen','orange','aqua','Bluegray','oceangreen','white','Green','Skyblue']<br>\n",
    "1 - list all shades of green <br>\n",
    "2 - list all shades of blue<br>"
   ],
   "metadata": {}
  },
  {
   "cell_type": "code",
   "execution_count": 2,
   "source": [
    "colors = ['bluegreen','orange','aqua','Bluegray','oceangreen','white','Green','Skyblue']\n",
    "# 1 - list all shades of green\n",
    "# 2 - list all shades of blue\n",
    "for i in colors:\n",
    "    if 'green' in i.lower():\n",
    "        print(i)\n",
    "\n",
    "for i in colors:\n",
    "    if 'blue' in i.lower():\n",
    "        print(i)"
   ],
   "outputs": [
    {
     "output_type": "stream",
     "name": "stdout",
     "text": [
      "bluegreen\n",
      "oceangreen\n",
      "Green\n",
      "bluegreen\n",
      "Bluegray\n",
      "Skyblue\n"
     ]
    }
   ],
   "metadata": {}
  },
  {
   "cell_type": "code",
   "execution_count": 6,
   "source": [
    "# List Comprehension:\n",
    "\n",
    "shd_green = [i.capitalize() for i in colors if 'green' in i.lower()]\n",
    "print (f'Shade od green: {shd_green}')\n",
    "\n",
    "shd_green = [i.capitalize() for i in colors if 'blue' in i.lower()]\n",
    "print (f'Shade od blue: {shd_green}')\n"
   ],
   "outputs": [
    {
     "output_type": "stream",
     "name": "stdout",
     "text": [
      "Shade od green: ['Bluegreen', 'Oceangreen', 'Green']\n",
      "Shade od blue: ['Bluegreen', 'Bluegray', 'Skyblue']\n"
     ]
    }
   ],
   "metadata": {}
  },
  {
   "cell_type": "markdown",
   "source": [],
   "metadata": {}
  },
  {
   "cell_type": "markdown",
   "source": [
    "# Exercise - List Comprehasive, ZIP\n",
    "lastNames = ['Davis','Smith','Jones'] <br>\n",
    "empId = [111,222,333] <br>\n",
    "Show 2 methods to display the data as below: <br>\n",
    "[(111, 'Davis'), (222, 'Smith'), (333, 'Jones')] <br>"
   ],
   "metadata": {}
  },
  {
   "cell_type": "code",
   "execution_count": 12,
   "source": [
    "\n",
    "lastNames = ['Davis','Smith','Jones']\n",
    "empId = [111,222,333]\n",
    "\n",
    "# Methos 01 - For loop / List comprehesive \n",
    "my_list = []\n",
    "for i in range(len(lastNames)):\n",
    "    my_list += [(empId[i], lastNames[i])]\n",
    "\n",
    "print (f'Method 01: {my_list}')\n",
    "\n",
    "# Methos 01.a - List comprehesive \n",
    "my_list_1 = [(empId[i], lastNames[i]) for i in range(len(lastNames))]\n",
    " \n",
    "print (f'Method 01.a: {my_list_1}')\n",
    "\n",
    "#Method 02 - Zip\n",
    " \n",
    "my_list2 = zip(empId, lastNames)\n",
    "my_list2 = list(my_list2)\n",
    "print (f'Method 02: {my_list2}')\n",
    "\n"
   ],
   "outputs": [
    {
     "output_type": "stream",
     "name": "stdout",
     "text": [
      "Method 01: [(111, 'Davis'), (222, 'Smith'), (333, 'Jones')]\n",
      "Method 01.a: [(111, 'Davis'), (222, 'Smith'), (333, 'Jones')]\n",
      "Method 02: [(111, 'Davis'), (222, 'Smith'), (333, 'Jones')]\n"
     ]
    }
   ],
   "metadata": {}
  }
 ],
 "metadata": {
  "orig_nbformat": 4,
  "language_info": {
   "name": "python",
   "version": "3.9.7",
   "mimetype": "text/x-python",
   "codemirror_mode": {
    "name": "ipython",
    "version": 3
   },
   "pygments_lexer": "ipython3",
   "nbconvert_exporter": "python",
   "file_extension": ".py"
  },
  "kernelspec": {
   "name": "python3",
   "display_name": "Python 3.9.7 64-bit"
  },
  "interpreter": {
   "hash": "aee8b7b246df8f9039afb4144a1f6fd8d2ca17a180786b69acc140d282b71a49"
  }
 },
 "nbformat": 4,
 "nbformat_minor": 2
}