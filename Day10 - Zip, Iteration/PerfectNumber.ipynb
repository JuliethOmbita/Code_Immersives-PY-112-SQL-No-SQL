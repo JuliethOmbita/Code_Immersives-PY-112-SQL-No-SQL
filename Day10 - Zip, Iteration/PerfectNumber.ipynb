{
 "cells": [
  {
   "cell_type": "markdown",
   "source": [
    "# Perfect Numbers\n",
    "Is a number where if you add up all the factors of a number excluding the number it adds up to the number <br>\n",
    "Number = 6 <br>\n",
    "factors of 6 [1,2,3,6] <br>\n",
    "Exclude the 6 <br>\n",
    "add(1,2,3) = 6 <br>"
   ],
   "metadata": {}
  },
  {
   "cell_type": "code",
   "execution_count": 12,
   "source": [
    "factors_x = []\n",
    "x_low = 5\n",
    "x_high = 500\n",
    "def factor (x_low,x_high):\n",
    "    for x in range (x_low,x_high):\n",
    "        factors_x = [i for i in range(1, x + 1) if x % i == 0]\n",
    "        if sum(factors_x[:-1]) == factors_x[-1]:\n",
    "            print(f'The addition of {factors_x[:-1]} = {sum(factors_x[:-1])} ')\n",
    "            print(f'{factors_x[-1]} is a perfect number.')\n",
    "        \n",
    "factor (x_low,x_high)"
   ],
   "outputs": [
    {
     "output_type": "stream",
     "name": "stdout",
     "text": [
      "The addition of [1, 2, 3] = 6 \n",
      "6 is a perfect number.\n",
      "The addition of [1, 2, 4, 7, 14] = 28 \n",
      "28 is a perfect number.\n",
      "The addition of [1, 2, 4, 8, 16, 31, 62, 124, 248] = 496 \n",
      "496 is a perfect number.\n"
     ]
    }
   ],
   "metadata": {}
  }
 ],
 "metadata": {
  "orig_nbformat": 4,
  "language_info": {
   "name": "python",
   "version": "3.9.7",
   "mimetype": "text/x-python",
   "codemirror_mode": {
    "name": "ipython",
    "version": 3
   },
   "pygments_lexer": "ipython3",
   "nbconvert_exporter": "python",
   "file_extension": ".py"
  },
  "kernelspec": {
   "name": "python3",
   "display_name": "Python 3.9.7 64-bit"
  },
  "interpreter": {
   "hash": "aee8b7b246df8f9039afb4144a1f6fd8d2ca17a180786b69acc140d282b71a49"
  }
 },
 "nbformat": 4,
 "nbformat_minor": 2
}