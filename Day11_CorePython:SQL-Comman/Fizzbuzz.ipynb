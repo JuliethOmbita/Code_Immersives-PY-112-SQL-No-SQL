{
 "cells": [
  {
   "cell_type": "markdown",
   "source": [
    "# Exercise - FIZZ BUZZ\n",
    "Write the FIZZ BUZZ test as list comprehension or the long way <br>\n",
    "If the number is divisible by 3, print FIZZ <br>\n",
    "If the number is divisible by 5, print BUZZ <br>\n",
    "If the number is divisible by both 3 and 5, print FIZZBUZZ <br>\n"
   ],
   "metadata": {}
  },
  {
   "cell_type": "code",
   "execution_count": 6,
   "source": [
    "def fitbuzz():\n",
    "    first = \"fizz\"\n",
    "    second = \"buzz\"\n",
    "    fizzbuzzList = []\n",
    "\n",
    "    for i in range(1, 31):\n",
    "        if i % 3 == 0 and i % 5 == 0:\n",
    "            fizzbuzzList += [first + second]\n",
    "        elif i % 3 == 0:\n",
    "            fizzbuzzList += [first]\n",
    "        elif i % 5 == 0:\n",
    "            fizzbuzzList += [second]\n",
    "        else:\n",
    "            fizzbuzzList += [i]\n",
    "    return fizzbuzzList\n",
    "\n",
    "\n",
    "print(\n",
    "    f\"This is the outcome of the activity fitbuzz in a list: \\n{fitbuzz()}\\v\")\n"
   ],
   "outputs": [
    {
     "output_type": "stream",
     "name": "stdout",
     "text": [
      "This is the outcome of the activity fitbuzz in a list: \n",
      "[1, 2, 'fizz', 4, 'buzz', 'fizz', 7, 8, 'fizz', 'buzz', 11, 'fizz', 13, 14, 'fizzbuzz', 16, 17, 'fizz', 19, 'buzz', 'fizz', 22, 23, 'fizz', 'buzz', 26, 'fizz', 28, 29, 'fizzbuzz']\u000b\n"
     ]
    }
   ],
   "metadata": {}
  },
  {
   "cell_type": "code",
   "execution_count": 7,
   "source": [
    "def fitbuzz():\n",
    "    fizzbuzzList = ['fizzbuzz' if (i % 3 == 0 and i % 5 == 0) else 'fizz' if i % 3 == 0 else 'buzz' if i % 5 == 0 else i for i in range(1,31)]\n",
    "    return fizzbuzzList\n",
    "\n",
    "print (fitbuzz())"
   ],
   "outputs": [
    {
     "output_type": "stream",
     "name": "stdout",
     "text": [
      "[1, 2, 'fizz', 4, 'buzz', 'fizz', 7, 8, 'fizz', 'buzz', 11, 'fizz', 13, 14, 'fizzbuzz', 16, 17, 'fizz', 19, 'buzz', 'fizz', 22, 23, 'fizz', 'buzz', 26, 'fizz', 28, 29, 'fizzbuzz']\n"
     ]
    }
   ],
   "metadata": {}
  }
 ],
 "metadata": {
  "orig_nbformat": 4,
  "language_info": {
   "name": "python",
   "version": "3.9.7",
   "mimetype": "text/x-python",
   "codemirror_mode": {
    "name": "ipython",
    "version": 3
   },
   "pygments_lexer": "ipython3",
   "nbconvert_exporter": "python",
   "file_extension": ".py"
  },
  "kernelspec": {
   "name": "python3",
   "display_name": "Python 3.9.7 64-bit"
  },
  "interpreter": {
   "hash": "aee8b7b246df8f9039afb4144a1f6fd8d2ca17a180786b69acc140d282b71a49"
  }
 },
 "nbformat": 4,
 "nbformat_minor": 2
}