{
 "cells": [
  {
   "cell_type": "markdown",
   "source": [
    "# Exercise - Area\n",
    "\n",
    "\n",
    "Write code to calculate the area of each shape. Where\n",
    "T = Triangle\n",
    "R = Rectange\n",
    "C = Circle\n",
    "\n",
    "# Area of Triangle \n",
    "T = (height * base)/2 \n",
    "print (T)\n",
    "# Area of Rectangle \n",
    "R = width * length\n",
    "\n",
    "# Area of Cicle \n",
    "C = math.pi*(r**2)\n",
    "\n"
   ],
   "metadata": {}
  },
  {
   "cell_type": "code",
   "execution_count": 34,
   "source": [
    "# 1. Access to each elements \n",
    "# 2. Access to each shape\n",
    "# 3. \n",
    "# 4. Access the individual element\n",
    "measurements = [('T',(8,8)),('R',(4,6)),('C',(1)),('T',(14,6)),('R',(8,8)),('C',(5))]\n",
    "\n",
    "for shape in measurements:\n",
    "    if shape[0] == 'T': \n",
    "        print (f'The are of a triangle with (height,base) = {shape[1]}. A = {(shape[1][0] * shape[1][1])/2}')\n",
    "    elif shape[0] == 'R': \n",
    "        print()\n",
    "        print (f'The are of a rectangle with (width, length) = {shape[1]}. A = {shape[1][0] * shape[1][1]}')\n",
    "    elif shape[0] == 'C': \n",
    "        print()\n",
    "        print (f'The are of a circle with radio = {shape[1]}. A = {math.pi*(shape[1]**2)}')\n",
    "    \n",
    "        # print ((shape[0][0] * shape[0][1])/2 )"
   ],
   "outputs": [
    {
     "output_type": "stream",
     "name": "stdout",
     "text": [
      "The are of a triangle with (height,base) = (8, 8). A = 32.0\n",
      "\n",
      "The are of a rectangle with (width, length) = (4, 6). A = 24\n",
      "\n",
      "The are of a circle with radio = 1. A = 3.141592653589793\n",
      "The are of a triangle with (height,base) = (14, 6). A = 42.0\n",
      "\n",
      "The are of a rectangle with (width, length) = (8, 8). A = 64\n",
      "\n",
      "The are of a circle with radio = 5. A = 78.53981633974483\n"
     ]
    }
   ],
   "metadata": {}
  }
 ],
 "metadata": {
  "orig_nbformat": 4,
  "language_info": {
   "name": "python",
   "version": "3.9.7",
   "mimetype": "text/x-python",
   "codemirror_mode": {
    "name": "ipython",
    "version": 3
   },
   "pygments_lexer": "ipython3",
   "nbconvert_exporter": "python",
   "file_extension": ".py"
  },
  "kernelspec": {
   "name": "python3",
   "display_name": "Python 3.9.7 64-bit"
  },
  "interpreter": {
   "hash": "aee8b7b246df8f9039afb4144a1f6fd8d2ca17a180786b69acc140d282b71a49"
  }
 },
 "nbformat": 4,
 "nbformat_minor": 2
}