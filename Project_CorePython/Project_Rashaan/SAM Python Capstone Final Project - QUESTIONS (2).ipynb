{
 "cells": [
  {
   "cell_type": "markdown",
   "source": [
    "##### <h1 align=center><font size=5>SAM Python Capstone Final Project</font></h1>"
   ],
   "metadata": {}
  },
  {
   "cell_type": "markdown",
   "source": [
    "## Description"
   ],
   "metadata": {}
  },
  {
   "cell_type": "markdown",
   "source": [
    "<p>The final project is an automatic grading system.  The goal is open each of the files included in\n",
    "the compressed file</p>"
   ],
   "metadata": {}
  },
  {
   "cell_type": "markdown",
   "source": [
    "### Instructions\n",
    "<div class=\"alert alert-block alert-info\" style=\"margin-top: 20px\">\n",
    "\n",
    "1.  [Create a class roster by parsing the file names](#0)<br>\n",
    "2.  [Create a student exam GPA](#2)<br>\n",
    "3.  [Create a summary report](#4) <br>\n",
    "4.  [Create an input screen for weighted average](#6) <br> \n",
    "5.  [Apply weighted average- create report](#8) <br>  \n",
    "</div>\n",
    "<hr>"
   ],
   "metadata": {}
  },
  {
   "cell_type": "code",
   "execution_count": 3,
   "source": [
    "import glob\n",
    "import os\n",
    "\n",
    "cwd = os.getcwd()\n",
    "print(cwd)\n",
    "data_dir = r'/Users/julis_478/Documents/Python Immersives/PY-112 SQL, No SQL/Classes/Project'\n",
    "print(data_dir)"
   ],
   "outputs": [
    {
     "output_type": "stream",
     "name": "stdout",
     "text": [
      "/Users/julis_478/Documents/Python Immersives/PY-112 SQL, No SQL/Classes/Project\n",
      "/Users/julis_478/Documents/Python Immersives/PY-112 SQL, No SQL/Classes/Project\n"
     ]
    }
   ],
   "metadata": {}
  },
  {
   "cell_type": "markdown",
   "source": [
    "### Class roster<a id=\"0\"></a>\n",
    "#### 10 points\n",
    "#### Create a file called 'PYTHON_PTI_CAPSTONE_CLASS_ROSTER.TXT'\n",
    "#### In should contain an unduplicate list of class names\n",
    "#### 1. Lastname, Firstname\n",
    "#### 2. Lastname,Firstname\n",
    "#### NOTE: The names should be in alphabetical order by last name, first name and in proper case\n",
    "#### You must parse the file names to get the student names:  CAPSTONE_lastname_firstname_QUIZ.......txt"
   ],
   "metadata": {}
  },
  {
   "cell_type": "code",
   "execution_count": 42,
   "source": [
    "names = [['Christopher', 'JOHNSON'], ['Jessica', 'WILLIAMS'], ['Matthew', 'JONES'], ['Ashley', 'BROWN'], ['Ivana', 'SMITH']]\n",
    "sorted_list = sorted(names, key=lambda x: x[1])\n",
    "print(names)\n",
    "names[1].sort()\n",
    "print(names)\n",
    "with open('python_pti_capstone_class_roster.txt', 'w') as f:\n",
    "    f.write ('last_name ')\n",
    "    f.write ('first_name\\n')\n",
    "    for line in range(len(names)):\n",
    "        f.write(names[line][1].capitalize())\n",
    "        f.write(' ')\n",
    "        f.write(names[line][0].capitalize())\n",
    "        f.write('\\n')"
   ],
   "outputs": [
    {
     "output_type": "stream",
     "name": "stdout",
     "text": [
      "[['Christopher', 'JOHNSON'], ['Jessica', 'WILLIAMS'], ['Matthew', 'JONES'], ['Ashley', 'BROWN'], ['Ivana', 'SMITH']]\n",
      "[['Christopher', 'JOHNSON'], ['Jessica', 'WILLIAMS'], ['Matthew', 'JONES'], ['Ashley', 'BROWN'], ['Ivana', 'SMITH']]\n"
     ]
    }
   ],
   "metadata": {}
  },
  {
   "cell_type": "markdown",
   "source": [
    "### Class roster with mean test scores<a id=\"2\"></a>\n",
    "#### 30 points\n",
    "#### Create a file called 'PYTHON_PTI_CAPSTONE_CLASS_ROSTER_GPA.TXT'\n",
    "#### In should contain an unduplicate list of student names their graded scores and their mean\n",
    "#### 1. Lastname, Firstname - Test Score 1, Test Score 2, ... Final Exam Score, Mean\n",
    "#### 2. Lastname, Firstname - Test Score 1, Test Score 2, ... Final Exam Score, Mean\n",
    "#### NOTE: The names should be in alphabetical order by last name, first name and in proper case\n",
    "#### Use the file 'CAPSTONE_QUIZ_KEY_LESSON_1' through 5 to score the exams and calculate the mean"
   ],
   "metadata": {}
  },
  {
   "cell_type": "code",
   "execution_count": null,
   "source": [
    "# Add your code here\n",
    "\n",
    "#Use the funtion input()\n",
    "\n",
    "name = input('What is yout name?')\n",
    "print (f'Hello {name}')"
   ],
   "outputs": [],
   "metadata": {}
  },
  {
   "cell_type": "markdown",
   "source": [
    "### Class summary report<a id=\"4\"></a>\n",
    "#### 15 points\n",
    "#### Create a file called 'PYTHON_PTI_CAPSTONE_SUMMARY REPORT.TXT'\n",
    "#### It should contain the following\n",
    "#### 1. There were X students\n",
    "#### 2. Exam 1 - mean, standard deviation\n",
    "#### 3. Exam 2 - mean, standard deviation\n",
    "#### 4. Exam 3 - mean, standard deviation\n",
    "#### 5. Exam 4 - mean, standard deviation\n",
    "#### 6. Exam 5 - mean, standard deviation\n",
    "#### 7. Final exam - mean, standard deviation"
   ],
   "metadata": {}
  },
  {
   "cell_type": "code",
   "execution_count": null,
   "source": [
    "# Add your code here"
   ],
   "outputs": [],
   "metadata": {}
  },
  {
   "cell_type": "markdown",
   "source": [
    "### Class summary report<a id=\"6\"></a>\n",
    "#### 15 points\n",
    "#### Create an input screen which saves the following weights: Exam 1 through 5 are 15 points and final is 25 points\n",
    "#### Exam #\n",
    "#### Weight\n",
    "#### NOTE: BONUS - Pickle the data as a dictionary instead of creating a file 'PYTHON_PTI_CAPSTONE_WEIGHTS.TXT'"
   ],
   "metadata": {}
  },
  {
   "cell_type": "code",
   "execution_count": null,
   "source": [],
   "outputs": [],
   "metadata": {}
  },
  {
   "cell_type": "markdown",
   "source": [
    "### Final grade for roster<a id=\"8\"></a>\n",
    "#### 30 points\n",
    "#### List every student from highest to lowest final grade without weights PYTHON_PTI_CAPSTONE_GRADES.TXT\n",
    "#### List every student from highest to lowest final grade with weights  PYTHON_PTI_CAPSTONE_WEIGHTED_GRADES.TXT\n",
    "#### Use must open and use the PYTHON_PTI_CAPSTONE_WEIGHTS.TXT File created above\n",
    "#### 1. Last name, first name - Final grade\n",
    "#### 2. Last name, first name - Final grade\n",
    "#### Add a summary\n",
    "#### Mean, Mode, Median, Standard deviation\n",
    "#### How many students are within 1 standard deviation of the mean\n",
    "#### How many students are within 2 standard deviations of the mean\n",
    "#### How many students are within 3 standard deviations of the mean\n",
    "#### Is this a normal distribution?"
   ],
   "metadata": {}
  },
  {
   "cell_type": "code",
   "execution_count": null,
   "source": [],
   "outputs": [],
   "metadata": {}
  }
 ],
 "metadata": {
  "kernelspec": {
   "name": "python3",
   "display_name": "Python 3.9.7 64-bit"
  },
  "language_info": {
   "codemirror_mode": {
    "name": "ipython",
    "version": 3
   },
   "file_extension": ".py",
   "mimetype": "text/x-python",
   "name": "python",
   "nbconvert_exporter": "python",
   "pygments_lexer": "ipython3",
   "version": "3.9.7"
  },
  "interpreter": {
   "hash": "aee8b7b246df8f9039afb4144a1f6fd8d2ca17a180786b69acc140d282b71a49"
  }
 },
 "nbformat": 4,
 "nbformat_minor": 4
}