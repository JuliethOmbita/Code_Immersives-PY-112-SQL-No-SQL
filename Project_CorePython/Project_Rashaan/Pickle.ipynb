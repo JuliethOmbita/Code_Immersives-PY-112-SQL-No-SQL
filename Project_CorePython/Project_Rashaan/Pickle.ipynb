{
 "cells": [
  {
   "cell_type": "markdown",
   "source": [
    "# Pickle - Unpickle (Serialization)"
   ],
   "metadata": {}
  },
  {
   "cell_type": "code",
   "execution_count": 3,
   "source": [
    "import pickle \n",
    "import os\n",
    "\n",
    "os.chdir(r'/Users/julis_478/Documents/Python Immersives/PY-112 SQL, No SQL/Classes/Day10')\n",
    "print(os.getcwd())\n",
    "states = ['New York', 'New Jersey', 'Delaware']\n",
    "\n",
    "#Save obj to disk \n",
    "with open('my_state_list.dat', 'wb') as fh:\n",
    "    pickle.dump(states, fh, protocol=pickle.HIGHEST_PROTOCOL)\n",
    "\n",
    "#add new data\n",
    "states.append('New Mexico')\n",
    "states.append('Nevada')\n",
    "print(states)\n",
    "\n",
    "#restore version from the disk\n",
    "with open ('my_state_list.dat', 'rb') as fh:\n",
    "    states = pickle.load(fh)\n",
    "print(states)"
   ],
   "outputs": [
    {
     "output_type": "stream",
     "name": "stdout",
     "text": [
      "/Users/julis_478/Documents/Python Immersives/PY-112 SQL, No SQL/Classes/Day10\n",
      "['New York', 'New Jersey', 'Delaware', 'New Mexico', 'Nevada']\n",
      "['New York', 'New Jersey', 'Delaware']\n"
     ]
    }
   ],
   "metadata": {}
  },
  {
   "cell_type": "code",
   "execution_count": 9,
   "source": [
    "import pickle \n",
    "import os\n",
    "\n",
    "os.chdir(r'/Users/julis_478/Documents/Python Immersives/PY-112 SQL, No SQL/Classes/Day10')\n",
    "print(os.getcwd())\n",
    "my_sql_config = {'Username': 'Lsparks', 'password': 'Immersives'}\n",
    "#Save obj to disk \n",
    "with open('my_config.dat', 'wb') as fh:\n",
    "    pickle.dump(my_sql_config, fh, protocol=pickle.HIGHEST_PROTOCOL)\n",
    "del my_sql_config\n",
    "# print (my_sql_config)\n",
    "\n",
    "#restore version from the disk\n",
    "with open ('my_config.dat', 'rb') as fh:\n",
    "    my_sql_config = pickle.load(fh)\n",
    "\n",
    "print (f\"My user name is {my_sql_config['Username']}\")\n",
    "print(my_sql_config)"
   ],
   "outputs": [
    {
     "output_type": "stream",
     "name": "stdout",
     "text": [
      "/Users/julis_478/Documents/Python Immersives/PY-112 SQL, No SQL/Classes/Day10\n",
      "My user name is Lsparks\n",
      "{'Username': 'Lsparks', 'password': 'Immersives'}\n"
     ]
    }
   ],
   "metadata": {}
  },
  {
   "cell_type": "code",
   "execution_count": 4,
   "source": [
    "x = 10\n",
    "del x\n",
    "print(x)"
   ],
   "outputs": [
    {
     "output_type": "error",
     "ename": "NameError",
     "evalue": "name 'x' is not defined",
     "traceback": [
      "\u001b[0;31m---------------------------------------------------------------------------\u001b[0m",
      "\u001b[0;31mNameError\u001b[0m                                 Traceback (most recent call last)",
      "\u001b[0;32m/var/folders/pl/clj7x4m153j6y749_p0tpx4m0000gn/T/ipykernel_3312/3309143265.py\u001b[0m in \u001b[0;36m<module>\u001b[0;34m\u001b[0m\n\u001b[1;32m      1\u001b[0m \u001b[0mx\u001b[0m \u001b[0;34m=\u001b[0m \u001b[0;36m10\u001b[0m\u001b[0;34m\u001b[0m\u001b[0;34m\u001b[0m\u001b[0m\n\u001b[1;32m      2\u001b[0m \u001b[0;32mdel\u001b[0m \u001b[0mx\u001b[0m\u001b[0;34m\u001b[0m\u001b[0;34m\u001b[0m\u001b[0m\n\u001b[0;32m----> 3\u001b[0;31m \u001b[0mprint\u001b[0m\u001b[0;34m(\u001b[0m\u001b[0mx\u001b[0m\u001b[0;34m)\u001b[0m\u001b[0;34m\u001b[0m\u001b[0;34m\u001b[0m\u001b[0m\n\u001b[0m",
      "\u001b[0;31mNameError\u001b[0m: name 'x' is not defined"
     ]
    }
   ],
   "metadata": {}
  }
 ],
 "metadata": {
  "orig_nbformat": 4,
  "language_info": {
   "name": "python",
   "version": "3.9.7",
   "mimetype": "text/x-python",
   "codemirror_mode": {
    "name": "ipython",
    "version": 3
   },
   "pygments_lexer": "ipython3",
   "nbconvert_exporter": "python",
   "file_extension": ".py"
  },
  "kernelspec": {
   "name": "python3",
   "display_name": "Python 3.9.7 64-bit"
  },
  "interpreter": {
   "hash": "aee8b7b246df8f9039afb4144a1f6fd8d2ca17a180786b69acc140d282b71a49"
  }
 },
 "nbformat": 4,
 "nbformat_minor": 2
}