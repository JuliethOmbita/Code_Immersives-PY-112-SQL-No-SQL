{
 "cells": [
  {
   "cell_type": "markdown",
   "source": [
    "<a href=\"https://codeimmersives.com\"><img src = \"https://www.codeimmersives.com/wp-content/uploads/2019/09/CodeImmersives_Logo_RGB_NYC_BW.png\" width = 400> </a>\n",
    "\n",
    "\n",
    "<h1 align=center><font size = 5>Agenda</font></h1>"
   ],
   "metadata": {}
  },
  {
   "cell_type": "markdown",
   "source": [
    "<h2>Indexing</h2>\n",
    "The term indexing refers to the order of elements in a data structure.  Python list,<br>\n",
    "tuples and strings are zero based data structures.  Each element in the data structure starts<br>\n",
    "with an index of 0.  For example:<br>\n",
    "<code>\n",
    "cars = ['Ford','Tesla','Mercedes']\n",
    "print(cars[0])  # prints 'Ford'\n",
    "</code><br>\n",
    "The length of the list is 3 and the elements sit in index 0, 1, and 2.  We access these elements<br>\n",
    "by their index when we want to either print them or change their value."
   ],
   "metadata": {}
  },
  {
   "cell_type": "markdown",
   "source": [
    "As we have seen before to iterate over the elements in this data structure<br>\n",
    "we have several choices.<br>\n",
    "<br>\n",
    "method 1 - range<br>\n",
    "<code>\n",
    "cars = ['Ford','Tesla','Mercedes']\n",
    "for i in range(len(cars)):\n",
    "    print(cars[i]) \n",
    "</code>\n",
    "<br>\n",
    "<br>\n",
    "Method 2 - the 'in' operator<br><br>\n",
    "IT DOES NOT REQUIRE AN INDEX BECAUSE IN RETURNS THE ELEMENT NOT THE<br>\n",
    "POSITION OF THE ELEMENT<br><br>\n",
    "<code>\n",
    "for i in cars:\n",
    "    print(cars)   # There is no indexing here\n",
    "</code>\n",
    "<br><br>    \n",
    "Method 3 - Enumerate over the object<br>\n",
    "Enumerate unpacks a list, tuple, or string and returns an index and the item!<br>\n",
    "<br>\n",
    "<code>\n",
    "for i,car in enumerate(cars):\n",
    "    print(f'index = {i} and the element is {car} or {cars[i]}')\n",
    "</code>\n",
    "<br>\n",
    "The variable i is the index<br>"
   ],
   "metadata": {}
  },
  {
   "cell_type": "code",
   "execution_count": 3,
   "source": [
    "cars = ['Ford','Tesla','Mercedes']\n",
    "for i,car in enumerate(cars):\n",
    "    print(f'index = {i} and the element is {car} or {cars[i]}')"
   ],
   "outputs": [
    {
     "output_type": "stream",
     "name": "stdout",
     "text": [
      "index = 0 and the element is Ford or Ford\n",
      "index = 1 and the element is Tesla or Tesla\n",
      "index = 2 and the element is Mercedes or Mercedes\n"
     ]
    }
   ],
   "metadata": {}
  },
  {
   "cell_type": "markdown",
   "source": [
    "<h4>The example above works for lists and tuples</h4>"
   ],
   "metadata": {}
  },
  {
   "cell_type": "markdown",
   "source": [
    "<h2>Indexing does not apply to dictionaries</h2>\n",
    "Dictionaries use key - value pairs to access its internal structure elements."
   ],
   "metadata": {}
  },
  {
   "cell_type": "markdown",
   "source": [
    "<h2>Indexing - continued</h2>\n",
    "We use the index of an element to change an element in a list. <br>\n",
    "<br>\n",
    "<b>WE CANNOT CHANGE THE ELEMENTS OF A TUPLE.  THEY ARE IMMUTABLE</b><br><br>\n",
    "For a list:<br>\n",
    "Change the 2nd element in the cars list to Kia.<br>\n",
    "<code>\n",
    "cars = ['Ford','Tesla','Mercedes']\n",
    "cars[1] = 'Kia'   # Tesla overridden with Kia\n",
    "print(cars)\n",
    "</code>"
   ],
   "metadata": {}
  },
  {
   "cell_type": "code",
   "execution_count": 5,
   "source": [
    "cars = ['Ford','Tesla','Mercedes']\n",
    "cars[1] = 'Kia'  # Tesla overridden with Kia\n",
    "print(cars)"
   ],
   "outputs": [
    {
     "output_type": "stream",
     "name": "stdout",
     "text": [
      "['Ford', 'Kia', 'Mercedes']\n"
     ]
    }
   ],
   "metadata": {}
  },
  {
   "cell_type": "markdown",
   "source": [
    "<h2>index() - built in function</h2>\n",
    "We can use the python built in index function to find the index number of an element.\n",
    "<br><br>\n",
    "Which index number is 'Mercedes'?<br>\n",
    "<code>\n",
    "cars = ['Ford','Tesla','Mercedes']\n",
    "pos = cars.index('Mercedes')\n",
    "print(f'The car named Mercedes can be found at position {pos}')\n",
    "</code>"
   ],
   "metadata": {}
  },
  {
   "cell_type": "code",
   "execution_count": 6,
   "source": [
    "cars = ['Ford','Tesla','Mercedes']\n",
    "pos = cars.index('Mercedes')\n",
    "print(f'The car named Mercedes can be found at position {pos}')"
   ],
   "outputs": [
    {
     "output_type": "stream",
     "name": "stdout",
     "text": [
      "The car named Mercedes can be found at position 2\n"
     ]
    }
   ],
   "metadata": {}
  },
  {
   "cell_type": "markdown",
   "source": [
    "If an element is not in the list do a count before you run the index of<br>\n",
    "the item.<br>\n",
    "<br>\n",
    "The item must be in the list for an index is used to find the position"
   ],
   "metadata": {}
  },
  {
   "cell_type": "code",
   "execution_count": 9,
   "source": [
    "cars = ['Ford','Tesla','Mercedes']\n",
    "if cars.count('Toyota') > 0:\n",
    "    pos = cars.index('Toyota')   # Would produce an error because it is not in the list\n",
    "else:\n",
    "    print(f'Toyota is not in the list')"
   ],
   "outputs": [
    {
     "output_type": "stream",
     "name": "stdout",
     "text": [
      "Toyota is not in the list\n"
     ]
    }
   ],
   "metadata": {}
  },
  {
   "cell_type": "markdown",
   "source": [
    "<h4>Strings</h4>\n",
    "As we have seen before the same way we use an index for a list or tuple,<br>\n",
    "we can do with a string.<br>\n",
    "<code>\n",
    "words = 'A journey of a million miles begins with one step'\n",
    "for i in words:\n",
    "    print(i)\n",
    "</code>\n",
    "<br>\n",
    "Will return:<br>\n",
    "<code>\n",
    "A, ,j,o,u,r,n,e,y, ,o,f, ,a, ,m,i,l,l,i,o,n, ,m,i,l,e,s, ,b,e,g,i,n,s, ,w,i,t,h, ,o,n,e, ,s,t,e,p,    \n",
    "</code><br>\n",
    "The 3 ways to iterate over the string.<br>\n",
    "Method 1 - Range object<br>\n",
    "words = 'A journey of a million miles begins with one step'<br>\n",
    "<code>\n",
    "'''Method 1 - Range'''\n",
    "for i in range(len(words)):\n",
    "    print(words[i], end = ',')   # index used here\n",
    "print()\n",
    "\n",
    "'''Method 2 - in operator'''\n",
    "for i in words:             # No indexing here !!!\n",
    "    print(i, end = ',')\n",
    "print()\n",
    "\n",
    "'''Method 3 enumerate'''\n",
    "for i,word in enumerate(words):             # indexing here !!!\n",
    "    print(i, words[i])    # indexing here !!!\n",
    "print()\n",
    "</code>"
   ],
   "metadata": {}
  },
  {
   "cell_type": "code",
   "execution_count": 13,
   "source": [
    "words = 'A journey of a million miles begins with one step'\n",
    "for i in range(len(words)):\n",
    "    print(words[i], end = ',')   # index used here\n",
    "print()\n",
    "\n",
    "for i in words:             # No indexing here !!!\n",
    "    print(i, end = ',')\n",
    "print()\n",
    "\n",
    "for i,word in enumerate(words):             # indexing here !!!\n",
    "    print(i, words[i])    # indexing here !!!\n",
    "print()\n"
   ],
   "outputs": [
    {
     "output_type": "stream",
     "name": "stdout",
     "text": [
      "A, ,j,o,u,r,n,e,y, ,o,f, ,a, ,m,i,l,l,i,o,n, ,m,i,l,e,s, ,b,e,g,i,n,s, ,w,i,t,h, ,o,n,e, ,s,t,e,p,\n",
      "A, ,j,o,u,r,n,e,y, ,o,f, ,a, ,m,i,l,l,i,o,n, ,m,i,l,e,s, ,b,e,g,i,n,s, ,w,i,t,h, ,o,n,e, ,s,t,e,p,\n",
      "0 A\n",
      "1  \n",
      "2 j\n",
      "3 o\n",
      "4 u\n",
      "5 r\n",
      "6 n\n",
      "7 e\n",
      "8 y\n",
      "9  \n",
      "10 o\n",
      "11 f\n",
      "12  \n",
      "13 a\n",
      "14  \n",
      "15 m\n",
      "16 i\n",
      "17 l\n",
      "18 l\n",
      "19 i\n",
      "20 o\n",
      "21 n\n",
      "22  \n",
      "23 m\n",
      "24 i\n",
      "25 l\n",
      "26 e\n",
      "27 s\n",
      "28  \n",
      "29 b\n",
      "30 e\n",
      "31 g\n",
      "32 i\n",
      "33 n\n",
      "34 s\n",
      "35  \n",
      "36 w\n",
      "37 i\n",
      "38 t\n",
      "39 h\n",
      "40  \n",
      "41 o\n",
      "42 n\n",
      "43 e\n",
      "44  \n",
      "45 s\n",
      "46 t\n",
      "47 e\n",
      "48 p\n",
      "\n"
     ]
    }
   ],
   "metadata": {}
  },
  {
   "cell_type": "markdown",
   "source": [
    "<h2>Slicing</h2>\n",
    "Slicing is related to indexing.  Whereas indexing involved passing in one<br>\n",
    "parameter to get the element you want, slicing involves passing 2 or more implied <br>\n",
    "or explicit parameters to an object.<br><br>\n",
    "Slicing only applies to objects that are iterables like strings, lists and tuples.<br>\n",
    "You must use the square barackets and at least 2 explicit or implied parameters."
   ],
   "metadata": {}
  },
  {
   "cell_type": "markdown",
   "source": [
    "<h4>strings</h4>\n",
    "To get a 'slice' of our phrase, let's get characters 10 through 20.<br>\n",
    "To accomplish this do the following:<br>\n",
    "<code>\n",
    "words = 'A journey of a million miles begins with one step'\n",
    "print(words[10:21])\n",
    "<code>"
   ],
   "metadata": {}
  },
  {
   "cell_type": "code",
   "execution_count": 20,
   "source": [
    "words = 'A journey of a million miles begins with one step'\n",
    "print(words[10:21])"
   ],
   "outputs": [
    {
     "output_type": "stream",
     "name": "stdout",
     "text": [
      "of a millio\n"
     ]
    }
   ],
   "metadata": {}
  },
  {
   "cell_type": "markdown",
   "source": [
    "<h4>Lists and Tuples</h4>\n",
    "To get a slice of a tuple give at least 2 implied or explict parameters.<br>\n",
    "<br>\n",
    "<code>\n",
    "cars = ['Ford','Tesla','Mercedes','Kia','Volvo','BMW','Volkswagon']\n",
    "print(cars[2:4])\n",
    "</code><br>\n",
    "This will print the slice containing cars 2 and 3"
   ],
   "metadata": {}
  },
  {
   "cell_type": "code",
   "execution_count": 22,
   "source": [
    "cars = ['Ford','Tesla','Mercedes','Kia','Volvo','BMW','Volkswagon']\n",
    "print(cars[2:4])"
   ],
   "outputs": [
    {
     "output_type": "stream",
     "name": "stdout",
     "text": [
      "['Mercedes', 'Kia']\n"
     ]
    }
   ],
   "metadata": {}
  },
  {
   "cell_type": "markdown",
   "source": [
    "<h2>Implied parameter slicing</h2>\n",
    "We can imply a parameter.  For example if we wanted the<br>\n",
    "first 3 cars from the list we would type:<br>\n",
    "<code>\n",
    "cars = ['Ford','Tesla','Mercedes','Kia','Volvo','BMW','Volkswagon']\n",
    "print(cars[:3])\n",
    "</code>\n",
    "<br>\n",
    "There is an implied zero (0) before the ':'.<br>\n",
    "It will print cars with the index of 0,1 and 2."
   ],
   "metadata": {}
  },
  {
   "cell_type": "code",
   "execution_count": 24,
   "source": [
    "cars = ['Ford','Tesla','Mercedes','Kia','Volvo','BMW','Volkswagon']\n",
    "print(cars[:3])"
   ],
   "outputs": [
    {
     "output_type": "stream",
     "name": "stdout",
     "text": [
      "['Ford', 'Tesla', 'Mercedes']\n"
     ]
    }
   ],
   "metadata": {}
  },
  {
   "cell_type": "markdown",
   "source": [
    "The same trick applies to the end of the list.  If I wanted to print<br>\n",
    "all of the cars from the 4th car until the end of the list<br>\n",
    "Type:<br>\n",
    "<code>\n",
    "cars = ['Ford','Tesla','Mercedes','Kia','Volvo','BMW','Volkswagon']\n",
    "print(cars[4:])\n",
    "</code><br>\n",
    "Cars with an index of 4, 5 and 6 are printed.<br>\n",
    "The last parameter is implied and would be the length of the list."
   ],
   "metadata": {}
  },
  {
   "cell_type": "code",
   "execution_count": 25,
   "source": [
    "cars = ['Ford','Tesla','Mercedes','Kia','Volvo','BMW','Volkswagon']\n",
    "print(cars[4:])"
   ],
   "outputs": [
    {
     "output_type": "stream",
     "name": "stdout",
     "text": [
      "['Volvo', 'BMW', 'Volkswagon']\n"
     ]
    }
   ],
   "metadata": {}
  },
  {
   "cell_type": "markdown",
   "source": [
    "<h2>We can also use negative numbers</h2>\n",
    "If we wanted the last 2 items in our cars list.<br>\n",
    "Type:<br>\n",
    "<code>\n",
    "cars = ['Ford','Tesla','Mercedes','Kia','Volvo','BMW','Volkswagon']\n",
    "print(cars[-2:])\n",
    "</code>"
   ],
   "metadata": {}
  },
  {
   "cell_type": "code",
   "execution_count": 27,
   "source": [
    "cars = ['Ford','Tesla','Mercedes','Kia','Volvo','BMW','Volkswagon']\n",
    "print(cars[-2:])"
   ],
   "outputs": [
    {
     "output_type": "stream",
     "name": "stdout",
     "text": [
      "['BMW', 'Volkswagon']\n"
     ]
    }
   ],
   "metadata": {}
  },
  {
   "cell_type": "markdown",
   "source": [
    "If I wanted from the 3rd item in the list until the 2nd item from the end<br>\n",
    "I can use a positive and negative integer as parameters.<br>\n",
    "<code>\n",
    "cars = ['Ford','Tesla','Mercedes','Kia','Volvo','BMW','Volkswagon']\n",
    "print(cars[3:-1])  # remember 1 more than the end\n",
    "</code><br>\n",
    "The same rules apply to strings."
   ],
   "metadata": {}
  },
  {
   "cell_type": "code",
   "execution_count": 28,
   "source": [
    "cars = ['Ford','Tesla','Mercedes','Kia','Volvo','BMW','Volkswagon']\n",
    "print(cars[3:-1])  # remember 1 more than the end"
   ],
   "outputs": [
    {
     "output_type": "stream",
     "name": "stdout",
     "text": [
      "['Kia', 'Volvo', 'BMW']\n"
     ]
    }
   ],
   "metadata": {}
  },
  {
   "cell_type": "markdown",
   "source": [
    "<h2>Optional 3rd parameter in slicing</h2>\n",
    "The optional 3rd parameter is the step value.  This will<br>\n",
    "allow you to skip items in the list.<br>\n",
    "THIS WORKS THE SAME AS IN THE RANGE FUNCTION<br>\n",
    "<br>\n",
    "<code>\n",
    "cars = ['Ford','Tesla','Mercedes','Kia','Volvo','BMW','Volkswagon']\n",
    "print(cars[:-2:2])  # remember 1 more than the end\n",
    "</code><br>\n",
    "This code starts at the beginning of the list and prints up to<br>\n",
    "but not including the last 2 items in the list and skipping every other item"
   ],
   "metadata": {}
  },
  {
   "cell_type": "code",
   "execution_count": 29,
   "source": [
    "cars = ['Ford','Tesla','Mercedes','Kia','Volvo','BMW','Volkswagon']\n",
    "print(cars[:-2:2])  # remember 1 more than the end"
   ],
   "outputs": [
    {
     "output_type": "stream",
     "name": "stdout",
     "text": [
      "['Ford', 'Mercedes', 'Volvo']\n"
     ]
    }
   ],
   "metadata": {}
  },
  {
   "cell_type": "code",
   "execution_count": 3,
   "source": [
    "# Variable won't change its value bc it's imutable\n",
    "x = 'Ford'\n",
    "y = x\n",
    "print (x,y)\n",
    "print(id(x), id(y))\n",
    "x = 'Tesla'\n",
    "print(x,y)\n",
    "print(id(x), id(y))\n",
    "\n",
    "# When we change the value in x[0], it's updated y, cause list are mutable as well as dictionary. \n",
    "x = ['Tesla', \"Volvo\"]\n",
    "y = x\n",
    "print (x,y)\n",
    "print(id(x), id(y))\n",
    "x = 'Ford'\n",
    "print(x,y)\n",
    "\n",
    "\n",
    "# make a deep copy, The value of y won't change whenx is updated:\n",
    "x = ['Tesla', \"Volvo\"]\n",
    "y = x.copy()\n",
    "print (x,y)\n",
    "print(id(x), id(y))\n",
    "x = 'Ford'\n",
    "print(x,y)\n",
    "\n",
    "\n",
    "print(id(x), id(y))\n"
   ],
   "outputs": [
    {
     "output_type": "stream",
     "name": "stdout",
     "text": [
      "Ford Ford\n",
      "140669861152240 140669861152240\n",
      "Tesla Ford\n",
      "140669861250608 140669861152240\n",
      "['Tesla', 'Volvo'] ['Tesla', 'Volvo']\n",
      "140669861266880 140669861266880\n",
      "Ford ['Tesla', 'Volvo']\n",
      "['Tesla', 'Volvo'] ['Tesla', 'Volvo']\n",
      "140669861233024 140669861266752\n",
      "Ford ['Tesla', 'Volvo']\n",
      "140669861152240 140669861266752\n"
     ]
    }
   ],
   "metadata": {}
  },
  {
   "cell_type": "markdown",
   "source": [
    "<h2>Slicing Special Case</h2>\n",
    "Slicing can also be used to make a deep copy of a string, list or tuple.\n",
    "<br>\n",
    "<code>\n",
    "cars = ['Ford','Tesla','Mercedes','Kia','Volvo','BMW','Volkswagon']\n",
    "my_cars = cars[::]    # <=== Copy made here\n",
    "print(my_cars)\n",
    "print(id(cars),id(my_cars))\n",
    "</code><br>\n",
    "The ids of the list are different"
   ],
   "metadata": {}
  },
  {
   "cell_type": "code",
   "execution_count": 35,
   "source": [
    "cars = ['Ford','Tesla','Mercedes','Kia','Volvo','BMW','Volkswagon']\n",
    "my_cars = cars[::]\n",
    "print(my_cars)\n",
    "print(id(cars),id(my_cars))"
   ],
   "outputs": [
    {
     "output_type": "stream",
     "name": "stdout",
     "text": [
      "['Ford', 'Tesla', 'Mercedes', 'Kia', 'Volvo', 'BMW', 'Volkswagon']\n",
      "3079406818752 3079406866176\n"
     ]
    }
   ],
   "metadata": {}
  },
  {
   "cell_type": "markdown",
   "source": [
    "This is as opposed to a shallow copy which is only a reference to <br>\n",
    "an item.<br>\n",
    "<code>\n",
    "cars = ['Ford','Tesla','Mercedes','Kia','Volvo','BMW','Volkswagon']\n",
    "my_cars = cars\n",
    "print(my_cars)\n",
    "print(id(cars),id(my_cars))\n",
    "</code><br>\n",
    "The ids are the same"
   ],
   "metadata": {}
  },
  {
   "cell_type": "code",
   "execution_count": 1,
   "source": [
    "cars = ['Ford','Tesla','Mercedes','Kia','Volvo','BMW','Volkswagon']\n",
    "my_cars = cars\n",
    "print(my_cars)\n",
    "print(id(cars),id(my_cars))"
   ],
   "outputs": [
    {
     "output_type": "stream",
     "name": "stdout",
     "text": [
      "['Ford', 'Tesla', 'Mercedes', 'Kia', 'Volvo', 'BMW', 'Volkswagon']\n",
      "2041046740096 2041046740096\n"
     ]
    }
   ],
   "metadata": {}
  },
  {
   "cell_type": "markdown",
   "source": [
    "<h4>What does having the same id mean?</h4><br>\n",
    "It means that if you make a change to any one of the items,<br>\n",
    "it is reflected in both!!!!<br>\n",
    "<code>\n",
    "cars = ['Ford','Tesla','Mercedes','Kia','Volvo','BMW','Volkswagon']\n",
    "my_cars = cars\n",
    "print(my_cars)\n",
    "print(id(cars),id(my_cars))    \n",
    "cars[0] = 'Audi'   # Change made to cars replaced Ford with Audi\n",
    "print(my_cars)     # Change is reflected in my_cars\n",
    "</code>"
   ],
   "metadata": {}
  },
  {
   "cell_type": "code",
   "execution_count": 5,
   "source": [
    "cars = ['Ford','Tesla','Mercedes','Kia','Volvo','BMW','Volkswagon']\n",
    "my_cars = cars\n",
    "print(my_cars)\n",
    "print(id(cars),id(my_cars))    \n",
    "cars[0] = 'Audi'   # Change made to cars replaced Ford with Audi\n",
    "print(my_cars)     # Change is reflected in my_cars"
   ],
   "outputs": [
    {
     "output_type": "stream",
     "name": "stdout",
     "text": [
      "['Ford', 'Tesla', 'Mercedes', 'Kia', 'Volvo', 'BMW', 'Volkswagon']\n",
      "2041046743936 2041046743936\n",
      "['Audi', 'Tesla', 'Mercedes', 'Kia', 'Volvo', 'BMW', 'Volkswagon']\n"
     ]
    }
   ],
   "metadata": {}
  },
  {
   "cell_type": "markdown",
   "source": [],
   "metadata": {}
  },
  {
   "cell_type": "markdown",
   "source": [
    "<h2>Exercise</h2>\n",
    "Using our cars list.  Print every other car.<br>\n",
    "<code>\n",
    "cars = ['Ford','Tesla','Mercedes','Kia','Volvo','BMW','Volkswagon']    \n",
    "</code>"
   ],
   "metadata": {}
  },
  {
   "cell_type": "markdown",
   "source": [
    "<h4>Solution</h4>"
   ],
   "metadata": {}
  },
  {
   "cell_type": "code",
   "execution_count": 32,
   "source": [
    "cars = ['Ford','Tesla','Mercedes','Kia','Volvo','BMW','Volkswagon']\n",
    "res = cars[::2]\n",
    "print(res)"
   ],
   "outputs": [
    {
     "output_type": "stream",
     "name": "stdout",
     "text": [
      "['Ford', 'Mercedes', 'Volvo', 'Volkswagon']\n"
     ]
    }
   ],
   "metadata": {}
  },
  {
   "cell_type": "markdown",
   "source": [
    "<h2>Exercise</h2>\n",
    "For our cars list print the first letter and last letter of each car capitalized.<br>\n",
    "<code>\n",
    "cars = ['Ford','Tesla','Mercedes','Kia','Volvo','BMW','Volkswagon']    \n",
    "</code>"
   ],
   "metadata": {}
  },
  {
   "cell_type": "markdown",
   "source": [
    "First we must rethink the problem and break it into parts.<br>\n",
    "Step 1 - iterate over the object<br>\n",
    "Step 2 - Capitalize each element <br>\n",
    "Step 3 - USING SLICING GET THE FIRST LETTER!!!<br>\n",
    "Step 4 - USING SLICING GET THE LAST LETTER<br>\n",
    "<br>\n",
    "Step 1 - iterate below\n",
    "<code>\n",
    "cars = ['Ford','Tesla','Mercedes','Kia','Volvo','BMW','Volkswagon']\n",
    "res = [car for car in cars]\n",
    "print(res)\n",
    "</code>"
   ],
   "metadata": {}
  },
  {
   "cell_type": "markdown",
   "source": [
    "Step 2 - Capitalize below\n",
    "<code>\n",
    "cars = ['Ford','Tesla','Mercedes','Kia','Volvo','BMW','Volkswagon']\n",
    "res = [car.upper() for car in cars]\n",
    "print(res)\n",
    "</code>"
   ],
   "metadata": {}
  },
  {
   "cell_type": "markdown",
   "source": [
    "Step 3 - Get the first letter slice  below\n",
    "<code>\n",
    "cars = ['Ford','Tesla','Mercedes','Kia','Volvo','BMW','Volkswagon']\n",
    "res = [car.upper()[:1] for car in cars]\n",
    "print(res)\n",
    "</code>"
   ],
   "metadata": {}
  },
  {
   "cell_type": "markdown",
   "source": [
    "Step 4 - add the last letter slice  below\n",
    "<code>\n",
    "cars = ['Ford','Tesla','Mercedes','Kia','Volvo','BMW','Volkswagon']\n",
    "res = [car.upper()[:1] + car.upper()[-1:] for car in cars]\n",
    "print(res)\n",
    "</code>"
   ],
   "metadata": {}
  },
  {
   "cell_type": "markdown",
   "source": [
    "<h4>Solution</h4>"
   ],
   "metadata": {}
  },
  {
   "cell_type": "code",
   "execution_count": 9,
   "source": [
    "cars = ['Ford','Tesla','Mercedes','Kia','Volvo','BMW','Volkswagon']\n",
    "res = [car.upper()[:1] + car.upper()[-1:] for car in cars]\n",
    "print(res)"
   ],
   "outputs": [
    {
     "output_type": "stream",
     "name": "stdout",
     "text": [
      "['FD', 'TA', 'MS', 'KA', 'VO', 'BW', 'VN']\n"
     ]
    }
   ],
   "metadata": {}
  },
  {
   "cell_type": "markdown",
   "source": [
    "<h2>Exercise</h2>\n"
   ],
   "metadata": {}
  },
  {
   "cell_type": "markdown",
   "source": [
    "Print the name of every car that has an 'o' in its name.\n",
    "<br>\n",
    "<code>\n",
    "cars = ['Ford','Tesla','Mercedes','Kia','Volvo','BMW','Volkswagon']\n",
    "</code>"
   ],
   "metadata": {}
  },
  {
   "cell_type": "markdown",
   "source": [
    "<h4>Solution</h4>"
   ],
   "metadata": {}
  },
  {
   "cell_type": "code",
   "execution_count": 37,
   "source": [
    "res = [car for car in cars if 'o' in car]\n",
    "print(res)"
   ],
   "outputs": [
    {
     "output_type": "stream",
     "name": "stdout",
     "text": [
      "['Ford', 'Volvo', 'Volkswagon']\n"
     ]
    }
   ],
   "metadata": {}
  },
  {
   "cell_type": "markdown",
   "source": [
    "<h2>Exercise</h2>\n",
    "The following time series data represents the stock price<br>\n",
    "of a security over a 15 day period.  Calculate the 5 day rolling<br>\n",
    "average using slicing.<br>\n",
    "<code>\n",
    "daily_price = [23,22,7,23.1,23.7, 24, 23.5, 24, 24.1, 24.9, 25, 25.9,24.9,27,27.5]\n",
    "</code>\n",
    "Round your means to 2 decimal places"
   ],
   "metadata": {}
  },
  {
   "cell_type": "markdown",
   "source": [
    "<h4>Solution</h4>"
   ],
   "metadata": {}
  },
  {
   "cell_type": "code",
   "execution_count": 42,
   "source": [
    "daily_price = [23,22,7,23.1,23.7, 24, 23.5, 24, 24.1, 24.9, 25, 25.9,24.9,27,27.5]\n",
    "rolling_mean = [round(sum(daily_price[i-5:i])/5,2) for i,price in enumerate(daily_price) if i > 4]\n",
    "print(rolling_mean)"
   ],
   "outputs": [
    {
     "output_type": "stream",
     "name": "stdout",
     "text": [
      "[19.76, 19.96, 20.26, 23.66, 23.86, 24.1, 24.3, 24.78, 24.96, 25.54]\n"
     ]
    }
   ],
   "metadata": {}
  },
  {
   "cell_type": "markdown",
   "source": [
    "This notebook is part of a course at www.codeimmersives.com . If you accessed this notebook outside the course, you can get more information about this course online by clicking here."
   ],
   "metadata": {}
  },
  {
   "cell_type": "markdown",
   "source": [
    "<hr>\n",
    "\n",
    "Copyright &copy; 2021  Code Immersives"
   ],
   "metadata": {}
  }
 ],
 "metadata": {
  "kernelspec": {
   "name": "python3",
   "display_name": "Python 3.9.7 64-bit"
  },
  "language_info": {
   "codemirror_mode": {
    "name": "ipython",
    "version": 3
   },
   "file_extension": ".py",
   "mimetype": "text/x-python",
   "name": "python",
   "nbconvert_exporter": "python",
   "pygments_lexer": "ipython3",
   "version": "3.9.7"
  },
  "interpreter": {
   "hash": "aee8b7b246df8f9039afb4144a1f6fd8d2ca17a180786b69acc140d282b71a49"
  }
 },
 "nbformat": 4,
 "nbformat_minor": 4
}