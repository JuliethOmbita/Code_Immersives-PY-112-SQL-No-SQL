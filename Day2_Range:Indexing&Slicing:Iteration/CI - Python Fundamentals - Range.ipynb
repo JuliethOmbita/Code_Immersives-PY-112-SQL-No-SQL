{
 "cells": [
  {
   "cell_type": "markdown",
   "source": [
    "<a href=\"https://codeimmersives.com\"><img src = \"https://www.codeimmersives.com/wp-content/uploads/2019/09/CodeImmersives_Logo_RGB_NYC_BW.png\" width = 400> </a>\n",
    "\n",
    "\n",
    "<h1 align=center><font size = 5>Agenda</font></h1>"
   ],
   "metadata": {}
  },
  {
   "cell_type": "code",
   "execution_count": null,
   "source": [],
   "outputs": [],
   "metadata": {}
  },
  {
   "cell_type": "markdown",
   "source": [
    "<h2>Range</h2>\n",
    "The range function is a flexible python built in function used to<br>\n",
    "create a series of numbers.  The range function returns a range object.<br>\n",
    "To get the results cast the range object as a list or iterate through the <br>\n",
    "range object.<br>"
   ],
   "metadata": {}
  },
  {
   "cell_type": "markdown",
   "source": [
    "To generate a list of 10 numbers 0 through 9 type:<br>\n",
    "<code>\n",
    "x = range(10)\n",
    "for i in x:\n",
    "    print(i)\n",
    "</code>\n",
    "<br>\n"
   ],
   "metadata": {}
  },
  {
   "cell_type": "code",
   "execution_count": null,
   "source": [
    "x = range(10)\n",
    "for i in x:\n",
    "    print(i)"
   ],
   "outputs": [],
   "metadata": {}
  },
  {
   "cell_type": "markdown",
   "source": [
    "If we assign a variable to the output of a range statement<br>\n",
    "we have to use the list() function to cast the variable to<br>\n",
    "see the elements.<br>\n",
    "<code>\n",
    "x = range(10)\n",
    "print(x)\n",
    "</code>\n",
    "<br>\n",
    "Will return:<br>\n",
    "<code>\n",
    "range(0, 10)\n",
    "</code><br>\n",
    "To see all of the range object elements convert it to a list<br>\n",
    "<code>\n",
    "x = range(10)\n",
    "print(list(x))\n",
    "</code><br>\n",
    "Will return:<br>\n",
    "<code>\n",
    "[0, 1, 2, 3, 4, 5, 6, 7, 8, 9]\n",
    "</code>"
   ],
   "metadata": {}
  },
  {
   "cell_type": "markdown",
   "source": [
    "If you type:<br><br>\n",
    "<code>\n",
    "x = range(0)\n",
    "print(list(x))\n",
    "\n",
    "'''Does not run the print statement'''\n",
    "for i in x:\n",
    "    print(i)\n",
    "</code><br><br>\n",
    "It will return an empty list"
   ],
   "metadata": {}
  },
  {
   "cell_type": "code",
   "execution_count": 1,
   "source": [
    "x = range(0)\n",
    "print(list(x))"
   ],
   "outputs": [
    {
     "output_type": "stream",
     "name": "stdout",
     "text": [
      "[]\n"
     ]
    }
   ],
   "metadata": {}
  },
  {
   "cell_type": "markdown",
   "source": [
    "If you enter a negative number as a parameter to the range function it<br>\n",
    "creates a range object but it is empty.<br><br>\n",
    "<code>\n",
    "x = range(-10)\n",
    "print(x)\n",
    "print(list(x))\n",
    "\n",
    "for i in x:\n",
    "    print(i,end=',')\n",
    "print()\n",
    "</code>\n",
    "<br>"
   ],
   "metadata": {}
  },
  {
   "cell_type": "markdown",
   "source": [
    "Therefore the range function will take any object that resolves to an integer<br>\n",
    "as an input parameter.  <br>\n",
    "<code>\n",
    "x = [3,2,5,7,4]\n",
    "for i in range(len(x)):\n",
    "    print(x[i], endl = ',')  # Use the index of the list to get the values\n",
    "print()\n",
    "</code>\n",
    "<br>\n",
    "NOTE: You must use the index of the original list which is controlled by i to<br>\n",
    "get x[i]   <br>"
   ],
   "metadata": {}
  },
  {
   "cell_type": "markdown",
   "source": [
    "<h2>Range optional parameters</h2>\n",
    "You can use the range optional parameters.  The 2nd parameter passed<br>\n",
    "tells the range object the end point.  The default is counting by 1.<br>\n",
    "For example:<br>\n",
    "<code>\n",
    "for i in range(10,21):\n",
    "    print(i,endl=', ')\n",
    "print()\n",
    "</code>\n",
    "<br>\n",
    "This will count the numbers from 10 to 20.<br> <br>\n",
    "NOTE: The range object will go from the beginning number to 1 less than the end number. <br>\n"
   ],
   "metadata": {}
  },
  {
   "cell_type": "code",
   "execution_count": null,
   "source": [
    "for i in range(10,21):\n",
    "    print(i,end=',')\n",
    "print()"
   ],
   "outputs": [],
   "metadata": {}
  },
  {
   "cell_type": "markdown",
   "source": [
    "The range function can also count starting from negative numbers<br>\n",
    "To print the numbers -10 to 0 type:<br><br>\n",
    "<code>\n",
    "for i in range(-10,1):\n",
    "    print(i)\n",
    "</code>"
   ],
   "metadata": {}
  },
  {
   "cell_type": "markdown",
   "source": [
    "Lastly, the range function will take a 3rd parameter called the<br>\n",
    "step.  The step tells you how many numbers to skip in the series.<br>\n",
    "To print all of the odd numbers from 100 to 120 type the following:\n",
    "<br>\n",
    "<code>\n",
    "for i in range(101,120,2):\n",
    "    print(i,end=',')\n",
    "</code>\n",
    "<br>"
   ],
   "metadata": {}
  },
  {
   "cell_type": "code",
   "execution_count": null,
   "source": [
    "for i in range(101,120,2):\n",
    "    print(i,end=',')"
   ],
   "outputs": [],
   "metadata": {}
  },
  {
   "cell_type": "markdown",
   "source": [
    "The step parameter can also be a negative number which will allow<br>\n",
    "you to count backwards.  For example: <br>\n",
    "<code>\n",
    "for i in range(10,-1,-1):\n",
    "    print(i,end=',')\n",
    "</code>"
   ],
   "metadata": {}
  },
  {
   "cell_type": "code",
   "execution_count": null,
   "source": [
    "for i in range(10,-1,-1):\n",
    "    print(i,end=',')"
   ],
   "outputs": [],
   "metadata": {}
  },
  {
   "cell_type": "markdown",
   "source": [
    "<h2>Exercise</h2>\n",
    "1 - You have the following string and want to print out<br>\n",
    "every 3rd character.<br>\n",
    "<code>\n",
    "phrase = 'Learning at Code Immersives is challenging, but fun'\n",
    "</code>\n",
    "<br>\n",
    "2 - Print the answer as a string with no spaces or commas"
   ],
   "metadata": {}
  },
  {
   "cell_type": "code",
   "execution_count": null,
   "source": [
    "# (Julis)\n",
    "phrase = 'Learning at Code Immersives is challenging, but fun'\n",
    "\n",
    "for i in range(2, len(phrase), 3):\n",
    "    print (phrase[i], end = ',')\n",
    "\n",
    "# List Comprehension\n",
    "output_atv = [phrase[i] for i in range(2, len(phrase), 3)]\n",
    "print()\n",
    "print (output_atv)\n",
    "# Take spaces off (.strip()), and join all the item into a string (''.join)\n",
    "print()\n",
    "res = ''.join([phrase[x].strip() for x in range(2,len(phrase),3) if x])\n",
    "print(res)\n"
   ],
   "outputs": [],
   "metadata": {}
  },
  {
   "cell_type": "markdown",
   "source": [
    "<h4>Solution</h4>"
   ],
   "metadata": {}
  },
  {
   "cell_type": "code",
   "execution_count": null,
   "source": [
    "phrase = 'Learning at Code Immersives is challenging, but fun'\n",
    "for i in range(2,len(phrase),3):\n",
    "    print(phrase[i], end=',')\n",
    "#\n",
    "# list comprehension\n",
    "print()\n",
    "res = [phrase[x] for x in range(2,len(phrase),3)]\n",
    "print(res)\n",
    "\n",
    "print([phrase[x].strip() for x in range(2,len(phrase),3) if x])\n",
    "res = ''.join([phrase[x].strip() for x in range(2,len(phrase),3) if x])\n",
    "print(res)"
   ],
   "outputs": [],
   "metadata": {}
  },
  {
   "cell_type": "code",
   "execution_count": 36,
   "source": [
    "x = ' '\n",
    "print(x.strip())"
   ],
   "outputs": [
    {
     "output_type": "stream",
     "name": "stdout",
     "text": [
      "\n"
     ]
    }
   ],
   "metadata": {}
  },
  {
   "cell_type": "markdown",
   "source": [
    "<h2>Exercise</h2>\n",
    "Print all of the odd numbers between 50 and 100 <br>\n",
    "Print every other even number from 100 to 140"
   ],
   "metadata": {}
  },
  {
   "cell_type": "markdown",
   "source": [
    "<h4>Solution</h4>"
   ],
   "metadata": {}
  },
  {
   "cell_type": "code",
   "execution_count": null,
   "source": [
    "print([x for x in range(50,101) if x % 2 == 1])"
   ],
   "outputs": [],
   "metadata": {}
  },
  {
   "cell_type": "code",
   "execution_count": 1,
   "source": [
    "res = [x for x in range (100,141,4)]\n",
    "print (res)"
   ],
   "outputs": [
    {
     "output_type": "stream",
     "name": "stdout",
     "text": [
      "[100, 104, 108, 112, 116, 120, 124, 128, 132, 136, 140]\n"
     ]
    }
   ],
   "metadata": {}
  },
  {
   "cell_type": "markdown",
   "source": [
    "This notebook is part of a course at www.codeimmersives.com . If you accessed this notebook outside the course, you can get more information about this course online by clicking here."
   ],
   "metadata": {}
  },
  {
   "cell_type": "markdown",
   "source": [
    "<hr>\n",
    "\n",
    "Copyright &copy; 2021  Code Immersives"
   ],
   "metadata": {}
  }
 ],
 "metadata": {
  "kernelspec": {
   "name": "python3",
   "display_name": "Python 3.9.7 64-bit"
  },
  "language_info": {
   "codemirror_mode": {
    "name": "ipython",
    "version": 3
   },
   "file_extension": ".py",
   "mimetype": "text/x-python",
   "name": "python",
   "nbconvert_exporter": "python",
   "pygments_lexer": "ipython3",
   "version": "3.9.7"
  },
  "interpreter": {
   "hash": "aee8b7b246df8f9039afb4144a1f6fd8d2ca17a180786b69acc140d282b71a49"
  }
 },
 "nbformat": 4,
 "nbformat_minor": 4
}