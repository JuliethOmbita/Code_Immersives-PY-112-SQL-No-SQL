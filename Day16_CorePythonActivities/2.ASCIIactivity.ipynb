{
 "cells": [
  {
   "cell_type": "markdown",
   "source": [
    "Take the following words and sum up their ascii values\n",
    "For the first word 'Love'\n",
    "L = 76\n",
    "o = 111\n",
    "v = 118\n",
    "e = 11\n",
    "The sum is 406 words = ['Love','Python','Dictionary','List','Tuple','Set','Ternary']\n",
    "Return the word and the sum as a list of tuples:\n",
    "Output = ('Love',416)"
   ],
   "metadata": {}
  },
  {
   "cell_type": "code",
   "execution_count": 6,
   "source": [
    "words = ['Love','Python','Dictionary','List','Tuple','Set','Ternary']\n",
    "list_words = []\n",
    "for i in words:\n",
    "    add = 0 \n",
    "    for y in i:\n",
    "        add = add + ord(y)\n",
    "    print (f\"'{i}' its ascii value is: {add}'\")\n",
    "    list_words.append((i,add))\n",
    "print (list_words)"
   ],
   "outputs": [
    {
     "output_type": "stream",
     "name": "stdout",
     "text": [
      "'Love' its ascii value is: 406'\n",
      "'Python' its ascii value is: 642'\n",
      "'Dictionary' its ascii value is: 1046'\n",
      "'List' its ascii value is: 412'\n",
      "'Tuple' its ascii value is: 522'\n",
      "'Set' its ascii value is: 300'\n",
      "'Ternary' its ascii value is: 741'\n",
      "[('Love', 406), ('Python', 642), ('Dictionary', 1046), ('List', 412), ('Tuple', 522), ('Set', 300), ('Ternary', 741)]\n"
     ]
    }
   ],
   "metadata": {}
  }
 ],
 "metadata": {
  "orig_nbformat": 4,
  "language_info": {
   "name": "python",
   "version": "3.9.7",
   "mimetype": "text/x-python",
   "codemirror_mode": {
    "name": "ipython",
    "version": 3
   },
   "pygments_lexer": "ipython3",
   "nbconvert_exporter": "python",
   "file_extension": ".py"
  },
  "kernelspec": {
   "name": "python3",
   "display_name": "Python 3.9.7 64-bit"
  },
  "interpreter": {
   "hash": "aee8b7b246df8f9039afb4144a1f6fd8d2ca17a180786b69acc140d282b71a49"
  }
 },
 "nbformat": 4,
 "nbformat_minor": 2
}