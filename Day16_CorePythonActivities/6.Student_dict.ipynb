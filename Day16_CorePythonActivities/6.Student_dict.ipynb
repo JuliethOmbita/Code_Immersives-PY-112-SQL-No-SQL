{
 "cells": [
  {
   "cell_type": "markdown",
   "source": [
    "Exercise\n",
    "The following dictionary contains student ids and their grades:\n",
    "grades = {'100': {'Quiz-1': 80, 'Quiz-2': 92, 'Quiz-3': 84},\n",
    "         '101': {'Quiz-1': 93, 'Quiz-2': 95, 'Quiz-3': 90},\n",
    "         '102': {'Quiz-1': 88, 'Quiz-2': 94, 'Quiz-3': 88},\n",
    "         '103': {'Quiz-1': 88, 'Quiz-2': 97, 'Quiz-3': 93},\n",
    "         '104': {'Quiz-1': 85, 'Quiz-2': 92, 'Quiz-3': 90}}\n",
    "students = {'101': ['Morgan','Debra'],\n",
    "           '100': ['Palmer','Sara'],\n",
    "           '102': ['Delgado','Luis'],\n",
    "           '104': ['Cruz','Maria'],\n",
    "           '103': ['Korencho','Victor']}\n",
    "1 - Calculate the mean, median for each individual Quiz\n",
    "For example: process the grades, and median for Quiz 1 then Quiz 2 then Quiz 3\n",
    "2 - Calculate the mean for each student:\n",
    "Sample output --> 1 - last name, First initial Mean grade"
   ],
   "metadata": {}
  },
  {
   "cell_type": "code",
   "execution_count": 2,
   "source": [
    "grades = {'100': {'Quiz-1': 80, 'Quiz-2': 92, 'Quiz-3': 84},\n",
    "         '101': {'Quiz-1': 93, 'Quiz-2': 95, 'Quiz-3': 90},\n",
    "         '102': {'Quiz-1': 88, 'Quiz-2': 94, 'Quiz-3': 88},\n",
    "         '103': {'Quiz-1': 88, 'Quiz-2': 97, 'Quiz-3': 93},\n",
    "         '104': {'Quiz-1': 85, 'Quiz-2': 92, 'Quiz-3': 90}}\n",
    "students = {'101': ['Morgan','Debra'],\n",
    "           '100': ['Palmer','Sara'],\n",
    "           '102': ['Delgado','Luis'],\n",
    "           '104': ['Cruz','Maria'],\n",
    "           '103': ['Korencho','Victor']}"
   ],
   "outputs": [],
   "metadata": {}
  },
  {
   "cell_type": "code",
   "execution_count": 13,
   "source": [
    "# 1 - Calculate the mean, median for each individual Quiz. For example: process the grades, and median for Quiz 1 then Quiz 2 then Quiz 3\n",
    "\n",
    "import statistics \n",
    "\n",
    "\n",
    "quiz_1 = []\n",
    "quiz_2 = []\n",
    "quiz_3 = []\n",
    "\n",
    "for k,v in grades.items():\n",
    "    quiz_1.append(v['Quiz-1'])\n",
    "    quiz_2.append(v['Quiz-2'])\n",
    "    quiz_3.append(v['Quiz-3'])\n",
    "\n",
    "\n",
    "print (f'Quiz 1: {quiz_1}. \\n - mean: {statistics.mean(quiz_1)} \\n - median: {statistics.median(quiz_1)}')\n",
    "print (f'Quiz 2: {quiz_2}. \\n - mean: {statistics.mean(quiz_2)} \\n - median: {statistics.median(quiz_2)}')\n",
    "print (f'Quiz 3: {quiz_3}. \\n - mean: {statistics.mean(quiz_3)} \\n - median: {statistics.median(quiz_3)}')"
   ],
   "outputs": [
    {
     "output_type": "stream",
     "name": "stdout",
     "text": [
      "Quiz 1: [80, 93, 88, 88, 85]. \n",
      " - mean: 86.8 \n",
      " - median: 88\n",
      "Quiz 2: [92, 95, 94, 97, 92]. \n",
      " - mean: 94 \n",
      " - median: 94\n",
      "Quiz 3: [84, 90, 88, 93, 90]. \n",
      " - mean: 89 \n",
      " - median: 90\n"
     ]
    }
   ],
   "metadata": {}
  },
  {
   "cell_type": "code",
   "execution_count": null,
   "source": [
    "# Unfinished Iterable  1 - Calculate the mean, median for each individual Quiz. For example: process the grades, and median for Quiz 1 then Quiz 2 then Quiz 3\n",
    "\n",
    "import statistics \n",
    "\n",
    "\n",
    "quiz_1 = []\n",
    "quiz_2 = []\n",
    "quiz_3 = []\n",
    "\n",
    "for k,v in grades.items():\n",
    "    for i in range(len(v)):\n",
    "        # print (v)\n",
    "        quiz_1.append(v[f'Quiz-{i+1}'])\n",
    "print (quiz_1)\n",
    "#     quiz_2.append(v['Quiz-2'])\n",
    "#     quiz_3.append(v['Quiz-3'])\n",
    "\n",
    "\n",
    "print (f'Quiz 1: {quiz_1}. \\n - mean: {statistics.mean(quiz_1)} \\n - median: {statistics.median(quiz_1)}')\n",
    "# print (f'Quiz 2: {quiz_2}. \\n - mean: {statistics.mean(quiz_2)} \\n - median: {statistics.median(quiz_2)}')\n",
    "# print (f'Quiz 3: {quiz_3}. \\n - mean: {statistics.mean(quiz_3)} \\n - median: {statistics.median(quiz_3)}')"
   ],
   "outputs": [],
   "metadata": {}
  },
  {
   "cell_type": "code",
   "execution_count": 6,
   "source": [
    "# Kelvin - list all Quizzes\n",
    "def calc_mean(lst):\n",
    "    return sum(lst)/len(lst) if len(lst) > 0 else None\n",
    "\n",
    "grades = {'100': {'Quiz-1': 80, 'Quiz-2': 92, 'Quiz-3': 84},\n",
    "         '101': {'Quiz-1': 93, 'Quiz-2': 95, 'Quiz-3': 90},\n",
    "         '102': {'Quiz-1': 88, 'Quiz-2': 94, 'Quiz-3': 88},\n",
    "         '103': {'Quiz-1': 88, 'Quiz-2': 97, 'Quiz-3': 93},\n",
    "         '104': {'Quiz-1': 85, 'Quiz-2': 92, 'Quiz-3': 90}}\n",
    "\n",
    "students = {'101': ['Morgan','Debra'],\n",
    "           '100': ['Palmer','Sara'],\n",
    "           '102': ['Delgado','Luis'],\n",
    "           '104': ['Cruz','Maria'],\n",
    "           '103': ['Korencho','Victor']}\n",
    "\n",
    "quiz_scores = {}\n",
    "for k,v in grades.items():\n",
    "    for i in range(1,4):\n",
    "        print(i,v.get(f'Quiz-{i}'))\n",
    "        if not i in quiz_scores:\n",
    "            quiz_scores[i] = []\n",
    "        quiz_scores[i].append(v.get(f'Quiz-{i}'))\n",
    "print(quiz_scores)\n",
    "for quiz_no,values in quiz_scores.items():\n",
    "    print(f'The mean for quiz {quiz_no} is {calc_mean(values)}')"
   ],
   "outputs": [
    {
     "output_type": "stream",
     "name": "stdout",
     "text": [
      "1 80\n",
      "2 92\n",
      "3 84\n",
      "1 93\n",
      "2 95\n",
      "3 90\n",
      "1 88\n",
      "2 94\n",
      "3 88\n",
      "1 88\n",
      "2 97\n",
      "3 93\n",
      "1 85\n",
      "2 92\n",
      "3 90\n",
      "{1: [80, 93, 88, 88, 85], 2: [92, 95, 94, 97, 92], 3: [84, 90, 88, 93, 90]}\n",
      "The mean for quiz 1 is 86.8\n",
      "The mean for quiz 2 is 94.0\n",
      "The mean for quiz 3 is 89.0\n"
     ]
    }
   ],
   "metadata": {}
  },
  {
   "cell_type": "code",
   "execution_count": 7,
   "source": [
    "# 2 - Calculate the mean for each student: Sample output --> 1 - last name, First initial Mean grade\n",
    "import statistics\n",
    "\n",
    "for k,v in grades.items():\n",
    "    list_grades = v['Quiz-1'], v['Quiz-2'], v['Quiz-3']\n",
    "    statistics.mean(list_grades)\n",
    "    print (f'Student {students[k][1]} {students[k][0]}. \\n - Grades: {list_grades}.  \\n - Mean: {statistics.mean(list_grades)}')\n"
   ],
   "outputs": [
    {
     "output_type": "stream",
     "name": "stdout",
     "text": [
      "Student Sara Palmer. \n",
      " - Grades: (80, 92, 84).  \n",
      " - Mean: 85.33333333333333\n",
      "Student Debra Morgan. \n",
      " - Grades: (93, 95, 90).  \n",
      " - Mean: 92.66666666666667\n",
      "Student Luis Delgado. \n",
      " - Grades: (88, 94, 88).  \n",
      " - Mean: 90\n",
      "Student Victor Korencho. \n",
      " - Grades: (88, 97, 93).  \n",
      " - Mean: 92.66666666666667\n",
      "Student Maria Cruz. \n",
      " - Grades: (85, 92, 90).  \n",
      " - Mean: 89\n"
     ]
    }
   ],
   "metadata": {}
  },
  {
   "cell_type": "code",
   "execution_count": 15,
   "source": [
    "# 2.  Kelvin solution\n",
    "\n",
    "# list all Quizzes\n",
    "def calc_mean(lst):\n",
    "    return sum(lst)/len(lst) if len(lst) > 0 else None\n",
    "def calc_median(lst):\n",
    "    lst.sort()\n",
    "    # print(lst)\n",
    "    if len(lst) % 2 == 0:\n",
    "        # even number\n",
    "        middle_val = int(len(lst)/2)\n",
    "        median = (lst[middle_val-1] + lst[middle_val])/2\n",
    "    else:\n",
    "        # odd number - take the middle number\n",
    "        median = lst[int((len(lst)-1)/2)]\n",
    "    return median\n",
    "grades = {'100': {'Quiz-1': 80, 'Quiz-2': 92, 'Quiz-3': 84},\n",
    "         '101': {'Quiz-1': 93, 'Quiz-2': 95, 'Quiz-3': 90},\n",
    "         '102': {'Quiz-1': 88, 'Quiz-2': 94, 'Quiz-3': 88},\n",
    "         '103': {'Quiz-1': 88, 'Quiz-2': 97, 'Quiz-3': 93},\n",
    "         '104': {'Quiz-1': 85, 'Quiz-2': 92, 'Quiz-3': 90}}\n",
    "students = {'101': ['Morgan','Debra'],\n",
    "           '100': ['Palmer','Sara'],\n",
    "           '102': ['Delgado','Luis'],\n",
    "           '104': ['Cruz','Maria'],\n",
    "           '103': ['Korencho','Victor']}\n",
    "print(calc_median([80,70,85,90]))\n",
    "quiz_scores = {}\n",
    "for k,v in grades.items():\n",
    "    for i in range(1,4):\n",
    "        print(i,v.get(f'Quiz-{i}'))\n",
    "        if not i in quiz_scores:\n",
    "            quiz_scores[i] = []\n",
    "        quiz_scores[i].append(v.get(f'Quiz-{i}'))\n",
    "print(quiz_scores)\n",
    "for quiz_no,values in quiz_scores.items():\n",
    "    print(f'The mean for quiz {quiz_no} is {calc_mean(values)}')\n",
    "    print(f'The median for quiz {quiz_no} is {calc_median(values)}')\n",
    "print('*'*35)\n",
    "for k,v in grades.items():\n",
    "    sum_g = 0\n",
    "    s_grades = []\n",
    "    for k2,v2 in v.items():\n",
    "        s_grades.append(v2)\n",
    "    print(k,students[k][0],students[k][1][:1],calc_mean(s_grades))\n",
    "    print('='*35)"
   ],
   "outputs": [
    {
     "output_type": "stream",
     "name": "stdout",
     "text": [
      "82.5\n",
      "1 80\n",
      "2 92\n",
      "3 84\n",
      "1 93\n",
      "2 95\n",
      "3 90\n",
      "1 88\n",
      "2 94\n",
      "3 88\n",
      "1 88\n",
      "2 97\n",
      "3 93\n",
      "1 85\n",
      "2 92\n",
      "3 90\n",
      "{1: [80, 93, 88, 88, 85], 2: [92, 95, 94, 97, 92], 3: [84, 90, 88, 93, 90]}\n",
      "The mean for quiz 1 is 86.8\n",
      "The median for quiz 1 is 88\n",
      "The mean for quiz 2 is 94.0\n",
      "The median for quiz 2 is 94\n",
      "The mean for quiz 3 is 89.0\n",
      "The median for quiz 3 is 90\n",
      "***********************************\n",
      "100 Palmer S 85.33333333333333\n",
      "===================================\n",
      "101 Morgan D 92.66666666666667\n",
      "===================================\n",
      "102 Delgado L 90.0\n",
      "===================================\n",
      "103 Korencho V 92.66666666666667\n",
      "===================================\n",
      "104 Cruz M 89.0\n",
      "===================================\n"
     ]
    }
   ],
   "metadata": {}
  }
 ],
 "metadata": {
  "orig_nbformat": 4,
  "language_info": {
   "name": "python",
   "version": "3.9.7",
   "mimetype": "text/x-python",
   "codemirror_mode": {
    "name": "ipython",
    "version": 3
   },
   "pygments_lexer": "ipython3",
   "nbconvert_exporter": "python",
   "file_extension": ".py"
  },
  "kernelspec": {
   "name": "python3",
   "display_name": "Python 3.9.7 64-bit"
  },
  "interpreter": {
   "hash": "aee8b7b246df8f9039afb4144a1f6fd8d2ca17a180786b69acc140d282b71a49"
  }
 },
 "nbformat": 4,
 "nbformat_minor": 2
}