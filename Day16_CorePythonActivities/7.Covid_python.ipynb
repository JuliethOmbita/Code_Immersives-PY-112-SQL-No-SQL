{
 "cells": [
  {
   "cell_type": "markdown",
   "source": [
    "Using the vax rate file answer the following:\n",
    "The average percentage of people across states who refuse vaccination.\n",
    "The states where the vax rate is over 60% in population order\n",
    "THIS IS CORE PYTHON"
   ],
   "metadata": {}
  },
  {
   "cell_type": "code",
   "execution_count": 1,
   "source": [
    "import os\n",
    "\n",
    "proj_dir = r'/Users/julis_478/Documents/Python Immersives/PY-112 SQL, No SQL/Classes/Day16'\n",
    "os.chdir(proj_dir)\n",
    "\n",
    "refuse_vax_list = []\n",
    "vax_rate_list = []\n",
    "with open('covid_vax_rates.txt', 'r') as f:\n",
    "    headline = f.readline()\n",
    "    lines = f.readlines()\n",
    "\n",
    "    for line in lines:\n",
    "        state, refuse_vax_p, fully_vax_p, total_infect, covid_deaths = line.replace('%', '').replace('\\n', '').split('\\t')\n",
    "        refuse_vax_list.append(float(refuse_vax_p))\n",
    "        temp =  [state, float(fully_vax_p)]\n",
    "        vax_rate_list.append(temp)"
   ],
   "outputs": [
    {
     "output_type": "stream",
     "name": "stdout",
     "text": [
      "STATE\tSHARE_ADULT_POP_OF_WHO_WILL_LIKELY_REFUSE_VACCINATION\tPOP_CURRENTLY_FULLY_VACCINATED\tTOTAL_COVID-19_INFECTIONS_TO_DATE\tTOTAL_COVID-19_DEATHSTODATE\n",
      "\n"
     ]
    }
   ],
   "metadata": {}
  },
  {
   "cell_type": "code",
   "execution_count": 54,
   "source": [
    "# 1. The average percentage of people across states who refuse vaccination.\n",
    "print (f'The average percentage of people across states who refuse vaccination: {sum(refuse_vax_list)/len(refuse_vax_list)}%')\n"
   ],
   "outputs": [
    {
     "output_type": "stream",
     "name": "stdout",
     "text": [
      "The average percentage of people across states who refuse vaccination: 12.024%\n"
     ]
    }
   ],
   "metadata": {}
  },
  {
   "cell_type": "code",
   "execution_count": 55,
   "source": [
    "# 2. The states where the vax rate is over 60% in population order  \n",
    "rate_sorted = sorted(vax_rate_list, key=lambda state: state[1], reverse = True)   \n",
    "\n",
    "for i in vax_rate_list:\n",
    "    if i[1] > 60:\n",
    "        print (f'The vax rate of {i[0]} is {i[1]}')\n",
    "\n",
    "# for i in vax_rate_list:\n",
    "#     if i[1] > 60:\n",
    "print ([f'The vax rate of {i[0]} is {i[1]}' if i[1] > 60 for i in vax_rate_list])"
   ],
   "outputs": [
    {
     "output_type": "stream",
     "name": "stdout",
     "text": [
      "The vax rate of California is 61.7\n",
      "The vax rate of Colorado is 62.7\n",
      "The vax rate of Connecticut is 70.9\n",
      "The vax rate of Delaware is 60.6\n",
      "The vax rate of Florida is 60.6\n",
      "The vax rate of Illinois is 60.6\n",
      "The vax rate of Maine is 71.3\n",
      "The vax rate of Maryland is 66.3\n",
      "The vax rate of Massachusetts is 69.9\n",
      "The vax rate of Minnesota is 61.9\n",
      "The vax rate of New Hampshire is 63.5\n",
      "The vax rate of New Jersey is 66.6\n",
      "The vax rate of New Mexico is 62.5\n",
      "The vax rate of New York is 66.9\n",
      "The vax rate of Oregon is 63.6\n",
      "The vax rate of Pennsylvania is 61.1\n",
      "The vax rate of Rhode Island is 71.5\n",
      "The vax rate of Vermont is 71.4\n",
      "The vax rate of Virginia is 63.7\n",
      "The vax rate of Washington is 64.5\n"
     ]
    }
   ],
   "metadata": {}
  }
 ],
 "metadata": {
  "orig_nbformat": 4,
  "language_info": {
   "name": "python",
   "version": "3.9.7",
   "mimetype": "text/x-python",
   "codemirror_mode": {
    "name": "ipython",
    "version": 3
   },
   "pygments_lexer": "ipython3",
   "nbconvert_exporter": "python",
   "file_extension": ".py"
  },
  "kernelspec": {
   "name": "python3",
   "display_name": "Python 3.9.7 64-bit"
  },
  "interpreter": {
   "hash": "aee8b7b246df8f9039afb4144a1f6fd8d2ca17a180786b69acc140d282b71a49"
  }
 },
 "nbformat": 4,
 "nbformat_minor": 2
}