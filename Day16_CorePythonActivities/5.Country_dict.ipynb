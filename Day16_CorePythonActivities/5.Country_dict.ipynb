{
 "cells": [
  {
   "cell_type": "markdown",
   "source": [
    "Exercise\n",
    "np = {\"countries\":[{\"name\":\"Algeria\",\"code\":\"DZ\"},{\"name\":\"Argentina\",\"code\":\"AR\"},{\"name\":\"Australia\",\"code\":\"AU\"},{\"name\":\"Austria\",\"code\":\"AT\"},{\"name\":\"Austria-Hungary\"},{\"name\":\"Austrian Empire\"},{\"name\":\"Azerbaijan\",\"code\":\"AZ\"},{\"name\":\"Bangladesh\",\"code\":\"BD\"},{\"name\":\"Barbados\",\"code\":\"BB\"},{\"name\":\"Bavaria\",\"code\":\"DE\"},{\"name\":\"Belarus\",\"code\":\"BY\"},{\"name\":\"Belgian Congo\",\"code\":\"CD\"},{\"name\":\"Belgium\",\"code\":\"BE\"},{\"name\":\"Bosnia\",\"code\":\"BA\"},{\"name\":\"Bosnia and Herzegovina\",\"code\":\"BA\"},{\"name\":\"Brazil\",\"code\":\"BR\"},{\"name\":\"British India\",\"code\":\"IN\"},{\"name\":\"British Mandate of Palestine\",\"code\":\"IL\"},{\"name\":\"British Protectorate of Palestine\",\"code\":\"IL\"},{\"name\":\"British West Indies\",\"code\":\"LC\"},{\"name\":\"Bulgaria\",\"code\":\"BG\"},{\"name\":\"Burma\",\"code\":\"MM\"},{\"name\":\"Canada\",\"code\":\"CA\"},{\"name\":\"Chile\",\"code\":\"CL\"},{\"name\":\"China\",\"code\":\"CN\"},{\"name\":\"Colombia\",\"code\":\"CO\"},{\"name\":\"Costa Rica\",\"code\":\"CR\"},{\"name\":\"Crete\",\"code\":\"GR\"},{\"name\":\"Croatia\",\"code\":\"HR\"},{\"name\":\"Cyprus\",\"code\":\"CY\"},{\"name\":\"Czech Republic\",\"code\":\"CZ\"},{\"name\":\"Czechoslovakia\",\"code\":\"CZ\"},{\"name\":\"Democratic Republic of the Congo\",\"code\":\"CD\"},{\"name\":\"Democratic Republic of Vietnam\",\"code\":\"VN\"},{\"name\":\"Denmark\",\"code\":\"DK\"},{\"name\":\"East Friesland\",\"code\":\"DE\"},{\"name\":\"East Germany\",\"code\":\"DE\"},{\"name\":\"East Timor\",\"code\":\"TL\"},{\"name\":\"Egypt\",\"code\":\"EG\"},{\"name\":\"Ethiopia\",\"code\":\"ET\"},{\"name\":\"Faroe Islands (Denmark)\",\"code\":\"DK\"},{\"name\":\"Finland\",\"code\":\"FI\"},{\"name\":\"France\",\"code\":\"FR\"},{\"name\":\"Free City of Danzig\",\"code\":\"PL\"},{\"name\":\"French Algeria\",\"code\":\"DZ\"},{\"name\":\"Gabon\",\"code\":\"GA\"},{\"name\":\"German-occupied Poland\",\"code\":\"PL\"},{\"name\":\"Germany\",\"code\":\"DE\"},{\"name\":\"Ghana\",\"code\":\"GH\"},{\"name\":\"Gold Coast\",\"code\":\"GH\"},{\"name\":\"Greece\",\"code\":\"GR\"},{\"name\":\"Greenland\",\"code\":\"GL\"},{\"name\":\"Guadeloupe Island\",\"code\":\"GP\"},{\"name\":\"Guatemala\",\"code\":\"GT\"},{\"name\":\"Hesse-Kassel\",\"code\":\"DE\"},{\"name\":\"Hungarian Empire\",\"code\":\"CZ\"},{\"name\":\"Hungary\",\"code\":\"HU\"},{\"name\":\"Iceland\",\"code\":\"IS\"},{\"name\":\"India\",\"code\":\"IN\"},{\"name\":\"Indonesia\",\"code\":\"ID\"},{\"name\":\"Iran\",\"code\":\"IR\"},{\"name\":\"Iraq\",\"code\":\"IQ\"},{\"name\":\"Ireland\",\"code\":\"IE\"},{\"name\":\"Israel\",\"code\":\"IL\"},{\"name\":\"Italy\",\"code\":\"IT\"},{\"name\":\"Jamaica\",\"code\":\"JM\"},{\"name\":\"Japan\",\"code\":\"JP\"},{\"name\":\"Java, Dutch East Indies\",\"code\":\"ID\"},{\"name\":\"Kenya\",\"code\":\"KE\"},{\"name\":\"Korea\",\"code\":\"BR\"},{\"name\":\"Latvia\",\"code\":\"LV\"},{\"name\":\"Liberia\",\"code\":\"LR\"},{\"name\":\"Lithuania\",\"code\":\"LT\"},{\"name\":\"Luxembourg\",\"code\":\"LU\"},{\"name\":\"Madagascar\",\"code\":\"MG\"},{\"name\":\"Mauritius\",\"code\":\"MU\"},{\"name\":\"Mecklenburg\",\"code\":\"DE\"},{\"name\":\"Mexico\",\"code\":\"MX\"},{\"name\":\"Morocco\",\"code\":\"MA\"},{\"name\":\"Myanmar\",\"code\":\"MM\"},{\"name\":\"New Zealand\",\"code\":\"NZ\"},{\"name\":\"Nigeria\",\"code\":\"NG\"},{\"name\":\"North Macedonia\",\"code\":\"MK\"},{\"name\":\"Northern Ireland\",\"code\":\"GB\"},{\"name\":\"Northern Rhodesia\",\"code\":\"ZM\"},{\"name\":\"Norway\",\"code\":\"NO\"},{\"name\":\"Ottoman Empire\",\"code\":\"TR\"},{\"name\":\"Pakistan\",\"code\":\"PK\"},{\"name\":\"Palestine\",\"code\":\"US\"},{\"name\":\"Persia\",\"code\":\"IR\"},{\"name\":\"Peru\",\"code\":\"PE\"},{\"name\":\"Philippines\",\"code\":\"PH\"},{\"name\":\"Poland\",\"code\":\"PL\"},{\"name\":\"Poland, Russian Empire\",\"code\":\"PL\"},{\"name\":\"Portugal\",\"code\":\"PT\"},{\"name\":\"Prussia\",\"code\":\"PL\"},{\"name\":\"Puerto Rico\",\"code\":\"PR\"},{\"name\":\"Republic of Macedonia\",\"code\":\"MK\"},{\"name\":\"Romania\",\"code\":\"RO\"},{\"name\":\"Russia\",\"code\":\"RU\"},{\"name\":\"Russia, Soviet Union\",\"code\":\"RU\"},{\"name\":\"Russian Empire\",\"code\":\"AZ\"},{\"name\":\"Saint Lucia\",\"code\":\"LC\"},{\"name\":\"Schleswig\",\"code\":\"DE\"},{\"name\":\"Scotland\",\"code\":\"GB\"},{\"name\":\"Serbia\",\"code\":\"RS\"},{\"name\":\"Singapore\",\"code\":\"SG\"},{\"name\":\"Slovakia\",\"code\":\"SK\"},{\"name\":\"Slovenia\",\"code\":\"SI\"},{\"name\":\"South Africa\",\"code\":\"ZA\"},{\"name\":\"South Korea\",\"code\":\"KR\"},{\"name\":\"Southern Rhodesia\",\"code\":\"ZW\"},{\"name\":\"Spain\",\"code\":\"ES\"},{\"name\":\"Sweden\",\"code\":\"SE\"},{\"name\":\"Switzerland\",\"code\":\"CH\"},{\"name\":\"Taiwan\",\"code\":\"TW\"},{\"name\":\"the Netherlands\",\"code\":\"NL\"},{\"name\":\"Tibet\",\"code\":\"CN\"},{\"name\":\"Trinidad and Tobago\",\"code\":\"TT\"},{\"name\":\"Tunisia\",\"code\":\"TN\"},{\"name\":\"Turkey\",\"code\":\"TR\"},{\"name\":\"Tuscany\",\"code\":\"IT\"},{\"name\":\"Ukraine\",\"code\":\"UA\"},{\"name\":\"Union of South Africa\",\"code\":\"ZA\"},{\"name\":\"United Kingdom\",\"code\":\"GB\"},{\"name\":\"USA\",\"code\":\"US\"},{\"name\":\"USSR\",\"code\":\"RU\"},{\"name\":\"Venezuela\",\"code\":\"VE\"},{\"name\":\"Vietnam\",\"code\":\"VN\"},{\"name\":\"West Germany\",\"code\":\"DE\"},{\"name\":\"W\\u00fcrttemberg\",\"code\":\"DE\"},{\"name\":\"Yemen\",\"code\":\"YE\"},{\"name\":\"Yugoslavia\",\"code\":\"YU\"},{\"name\":\"Zambia\",\"code\":\"ZM\"},{\"name\":\"Zimbabwe\",\"code\":\"ZW\"}]} Output the following:\n",
    "1 - The country code, country name as a list of tuples\n",
    "2 - A list of the coutry codes in reverse alphabetical order\n",
    "3 - A total of the number of countries"
   ],
   "metadata": {}
  },
  {
   "cell_type": "code",
   "execution_count": 2,
   "source": [
    "np = {\"countries\":[{\"name\":\"Algeria\",\"code\":\"DZ\"},{\"name\":\"Argentina\",\"code\":\"AR\"},{\"name\":\"Australia\",\"code\":\"AU\"},{\"name\":\"Austria\",\"code\":\"AT\"},{\"name\":\"Austria-Hungary\"},{\"name\":\"Austrian Empire\"},{\"name\":\"Azerbaijan\",\"code\":\"AZ\"},{\"name\":\"Bangladesh\",\"code\":\"BD\"},{\"name\":\"Barbados\",\"code\":\"BB\"},{\"name\":\"Bavaria\",\"code\":\"DE\"},{\"name\":\"Belarus\",\"code\":\"BY\"},{\"name\":\"Belgian Congo\",\"code\":\"CD\"},{\"name\":\"Belgium\",\"code\":\"BE\"},{\"name\":\"Bosnia\",\"code\":\"BA\"},{\"name\":\"Bosnia and Herzegovina\",\"code\":\"BA\"},{\"name\":\"Brazil\",\"code\":\"BR\"},{\"name\":\"British India\",\"code\":\"IN\"},{\"name\":\"British Mandate of Palestine\",\"code\":\"IL\"},{\"name\":\"British Protectorate of Palestine\",\"code\":\"IL\"},{\"name\":\"British West Indies\",\"code\":\"LC\"},{\"name\":\"Bulgaria\",\"code\":\"BG\"},{\"name\":\"Burma\",\"code\":\"MM\"},{\"name\":\"Canada\",\"code\":\"CA\"},{\"name\":\"Chile\",\"code\":\"CL\"},{\"name\":\"China\",\"code\":\"CN\"},{\"name\":\"Colombia\",\"code\":\"CO\"},{\"name\":\"Costa Rica\",\"code\":\"CR\"},{\"name\":\"Crete\",\"code\":\"GR\"},{\"name\":\"Croatia\",\"code\":\"HR\"},{\"name\":\"Cyprus\",\"code\":\"CY\"},{\"name\":\"Czech Republic\",\"code\":\"CZ\"},{\"name\":\"Czechoslovakia\",\"code\":\"CZ\"},{\"name\":\"Democratic Republic of the Congo\",\"code\":\"CD\"},{\"name\":\"Democratic Republic of Vietnam\",\"code\":\"VN\"},{\"name\":\"Denmark\",\"code\":\"DK\"},{\"name\":\"East Friesland\",\"code\":\"DE\"},{\"name\":\"East Germany\",\"code\":\"DE\"},{\"name\":\"East Timor\",\"code\":\"TL\"},{\"name\":\"Egypt\",\"code\":\"EG\"},{\"name\":\"Ethiopia\",\"code\":\"ET\"},{\"name\":\"Faroe Islands (Denmark)\",\"code\":\"DK\"},{\"name\":\"Finland\",\"code\":\"FI\"},{\"name\":\"France\",\"code\":\"FR\"},{\"name\":\"Free City of Danzig\",\"code\":\"PL\"},{\"name\":\"French Algeria\",\"code\":\"DZ\"},{\"name\":\"Gabon\",\"code\":\"GA\"},{\"name\":\"German-occupied Poland\",\"code\":\"PL\"},{\"name\":\"Germany\",\"code\":\"DE\"},{\"name\":\"Ghana\",\"code\":\"GH\"},{\"name\":\"Gold Coast\",\"code\":\"GH\"},{\"name\":\"Greece\",\"code\":\"GR\"},{\"name\":\"Greenland\",\"code\":\"GL\"},{\"name\":\"Guadeloupe Island\",\"code\":\"GP\"},{\"name\":\"Guatemala\",\"code\":\"GT\"},{\"name\":\"Hesse-Kassel\",\"code\":\"DE\"},{\"name\":\"Hungarian Empire\",\"code\":\"CZ\"},{\"name\":\"Hungary\",\"code\":\"HU\"},{\"name\":\"Iceland\",\"code\":\"IS\"},{\"name\":\"India\",\"code\":\"IN\"},{\"name\":\"Indonesia\",\"code\":\"ID\"},{\"name\":\"Iran\",\"code\":\"IR\"},{\"name\":\"Iraq\",\"code\":\"IQ\"},{\"name\":\"Ireland\",\"code\":\"IE\"},{\"name\":\"Israel\",\"code\":\"IL\"},{\"name\":\"Italy\",\"code\":\"IT\"},{\"name\":\"Jamaica\",\"code\":\"JM\"},{\"name\":\"Japan\",\"code\":\"JP\"},{\"name\":\"Java, Dutch East Indies\",\"code\":\"ID\"},{\"name\":\"Kenya\",\"code\":\"KE\"},{\"name\":\"Korea\",\"code\":\"BR\"},{\"name\":\"Latvia\",\"code\":\"LV\"},{\"name\":\"Liberia\",\"code\":\"LR\"},{\"name\":\"Lithuania\",\"code\":\"LT\"},{\"name\":\"Luxembourg\",\"code\":\"LU\"},{\"name\":\"Madagascar\",\"code\":\"MG\"},{\"name\":\"Mauritius\",\"code\":\"MU\"},{\"name\":\"Mecklenburg\",\"code\":\"DE\"},{\"name\":\"Mexico\",\"code\":\"MX\"},{\"name\":\"Morocco\",\"code\":\"MA\"},{\"name\":\"Myanmar\",\"code\":\"MM\"},{\"name\":\"New Zealand\",\"code\":\"NZ\"},{\"name\":\"Nigeria\",\"code\":\"NG\"},{\"name\":\"North Macedonia\",\"code\":\"MK\"},{\"name\":\"Northern Ireland\",\"code\":\"GB\"},{\"name\":\"Northern Rhodesia\",\"code\":\"ZM\"},{\"name\":\"Norway\",\"code\":\"NO\"},{\"name\":\"Ottoman Empire\",\"code\":\"TR\"},{\"name\":\"Pakistan\",\"code\":\"PK\"},{\"name\":\"Palestine\",\"code\":\"US\"},{\"name\":\"Persia\",\"code\":\"IR\"},{\"name\":\"Peru\",\"code\":\"PE\"},{\"name\":\"Philippines\",\"code\":\"PH\"},{\"name\":\"Poland\",\"code\":\"PL\"},{\"name\":\"Poland, Russian Empire\",\"code\":\"PL\"},{\"name\":\"Portugal\",\"code\":\"PT\"},{\"name\":\"Prussia\",\"code\":\"PL\"},{\"name\":\"Puerto Rico\",\"code\":\"PR\"},{\"name\":\"Republic of Macedonia\",\"code\":\"MK\"},{\"name\":\"Romania\",\"code\":\"RO\"},{\"name\":\"Russia\",\"code\":\"RU\"},{\"name\":\"Russia, Soviet Union\",\"code\":\"RU\"},{\"name\":\"Russian Empire\",\"code\":\"AZ\"},{\"name\":\"Saint Lucia\",\"code\":\"LC\"},{\"name\":\"Schleswig\",\"code\":\"DE\"},{\"name\":\"Scotland\",\"code\":\"GB\"},{\"name\":\"Serbia\",\"code\":\"RS\"},{\"name\":\"Singapore\",\"code\":\"SG\"},{\"name\":\"Slovakia\",\"code\":\"SK\"},{\"name\":\"Slovenia\",\"code\":\"SI\"},{\"name\":\"South Africa\",\"code\":\"ZA\"},{\"name\":\"South Korea\",\"code\":\"KR\"},{\"name\":\"Southern Rhodesia\",\"code\":\"ZW\"},{\"name\":\"Spain\",\"code\":\"ES\"},{\"name\":\"Sweden\",\"code\":\"SE\"},{\"name\":\"Switzerland\",\"code\":\"CH\"},{\"name\":\"Taiwan\",\"code\":\"TW\"},{\"name\":\"the Netherlands\",\"code\":\"NL\"},{\"name\":\"Tibet\",\"code\":\"CN\"},{\"name\":\"Trinidad and Tobago\",\"code\":\"TT\"},{\"name\":\"Tunisia\",\"code\":\"TN\"},{\"name\":\"Turkey\",\"code\":\"TR\"},{\"name\":\"Tuscany\",\"code\":\"IT\"},{\"name\":\"Ukraine\",\"code\":\"UA\"},{\"name\":\"Union of South Africa\",\"code\":\"ZA\"},{\"name\":\"United Kingdom\",\"code\":\"GB\"},{\"name\":\"USA\",\"code\":\"US\"},{\"name\":\"USSR\",\"code\":\"RU\"},{\"name\":\"Venezuela\",\"code\":\"VE\"},{\"name\":\"Vietnam\",\"code\":\"VN\"},{\"name\":\"West Germany\",\"code\":\"DE\"},{\"name\":\"W\\u00fcrttemberg\",\"code\":\"DE\"},{\"name\":\"Yemen\",\"code\":\"YE\"},{\"name\":\"Yugoslavia\",\"code\":\"YU\"},{\"name\":\"Zambia\",\"code\":\"ZM\"},{\"name\":\"Zimbabwe\",\"code\":\"ZW\"}]}"
   ],
   "outputs": [],
   "metadata": {}
  },
  {
   "cell_type": "code",
   "execution_count": 42,
   "source": [
    "# 1 - The country code, country name as a list of tuples\n",
    "# 2 - A list of the coutry codes in reverse alphabetical order\n",
    "# 3 - A total of the number of countries\n",
    "\n",
    "countries = []\n",
    "for k,v in np.items():\n",
    "    for i in v:\n",
    "        if len(i) > 1:\n",
    "            country = i['name'], i['code']\n",
    "        else:\n",
    "            country = i['name'], 'NA' \n",
    "        countries.append(country) \n",
    "\n",
    "\n",
    "# 1 - The country code, country name as a list of tuples\n",
    "print (f'This is the list of tuple: {tuple (countries)}')\n"
   ],
   "outputs": [
    {
     "output_type": "stream",
     "name": "stdout",
     "text": [
      "This is the list of tuple: (('Algeria', 'DZ'), ('Argentina', 'AR'), ('Australia', 'AU'), ('Austria', 'AT'), ('Austria-Hungary', 'NA'), ('Austrian Empire', 'NA'), ('Azerbaijan', 'AZ'), ('Bangladesh', 'BD'), ('Barbados', 'BB'), ('Bavaria', 'DE'), ('Belarus', 'BY'), ('Belgian Congo', 'CD'), ('Belgium', 'BE'), ('Bosnia', 'BA'), ('Bosnia and Herzegovina', 'BA'), ('Brazil', 'BR'), ('British India', 'IN'), ('British Mandate of Palestine', 'IL'), ('British Protectorate of Palestine', 'IL'), ('British West Indies', 'LC'), ('Bulgaria', 'BG'), ('Burma', 'MM'), ('Canada', 'CA'), ('Chile', 'CL'), ('China', 'CN'), ('Colombia', 'CO'), ('Costa Rica', 'CR'), ('Crete', 'GR'), ('Croatia', 'HR'), ('Cyprus', 'CY'), ('Czech Republic', 'CZ'), ('Czechoslovakia', 'CZ'), ('Democratic Republic of the Congo', 'CD'), ('Democratic Republic of Vietnam', 'VN'), ('Denmark', 'DK'), ('East Friesland', 'DE'), ('East Germany', 'DE'), ('East Timor', 'TL'), ('Egypt', 'EG'), ('Ethiopia', 'ET'), ('Faroe Islands (Denmark)', 'DK'), ('Finland', 'FI'), ('France', 'FR'), ('Free City of Danzig', 'PL'), ('French Algeria', 'DZ'), ('Gabon', 'GA'), ('German-occupied Poland', 'PL'), ('Germany', 'DE'), ('Ghana', 'GH'), ('Gold Coast', 'GH'), ('Greece', 'GR'), ('Greenland', 'GL'), ('Guadeloupe Island', 'GP'), ('Guatemala', 'GT'), ('Hesse-Kassel', 'DE'), ('Hungarian Empire', 'CZ'), ('Hungary', 'HU'), ('Iceland', 'IS'), ('India', 'IN'), ('Indonesia', 'ID'), ('Iran', 'IR'), ('Iraq', 'IQ'), ('Ireland', 'IE'), ('Israel', 'IL'), ('Italy', 'IT'), ('Jamaica', 'JM'), ('Japan', 'JP'), ('Java, Dutch East Indies', 'ID'), ('Kenya', 'KE'), ('Korea', 'BR'), ('Latvia', 'LV'), ('Liberia', 'LR'), ('Lithuania', 'LT'), ('Luxembourg', 'LU'), ('Madagascar', 'MG'), ('Mauritius', 'MU'), ('Mecklenburg', 'DE'), ('Mexico', 'MX'), ('Morocco', 'MA'), ('Myanmar', 'MM'), ('New Zealand', 'NZ'), ('Nigeria', 'NG'), ('North Macedonia', 'MK'), ('Northern Ireland', 'GB'), ('Northern Rhodesia', 'ZM'), ('Norway', 'NO'), ('Ottoman Empire', 'TR'), ('Pakistan', 'PK'), ('Palestine', 'US'), ('Persia', 'IR'), ('Peru', 'PE'), ('Philippines', 'PH'), ('Poland', 'PL'), ('Poland, Russian Empire', 'PL'), ('Portugal', 'PT'), ('Prussia', 'PL'), ('Puerto Rico', 'PR'), ('Republic of Macedonia', 'MK'), ('Romania', 'RO'), ('Russia', 'RU'), ('Russia, Soviet Union', 'RU'), ('Russian Empire', 'AZ'), ('Saint Lucia', 'LC'), ('Schleswig', 'DE'), ('Scotland', 'GB'), ('Serbia', 'RS'), ('Singapore', 'SG'), ('Slovakia', 'SK'), ('Slovenia', 'SI'), ('South Africa', 'ZA'), ('South Korea', 'KR'), ('Southern Rhodesia', 'ZW'), ('Spain', 'ES'), ('Sweden', 'SE'), ('Switzerland', 'CH'), ('Taiwan', 'TW'), ('the Netherlands', 'NL'), ('Tibet', 'CN'), ('Trinidad and Tobago', 'TT'), ('Tunisia', 'TN'), ('Turkey', 'TR'), ('Tuscany', 'IT'), ('Ukraine', 'UA'), ('Union of South Africa', 'ZA'), ('United Kingdom', 'GB'), ('USA', 'US'), ('USSR', 'RU'), ('Venezuela', 'VE'), ('Vietnam', 'VN'), ('West Germany', 'DE'), ('Württemberg', 'DE'), ('Yemen', 'YE'), ('Yugoslavia', 'YU'), ('Zambia', 'ZM'), ('Zimbabwe', 'ZW'))\n"
     ]
    }
   ],
   "metadata": {}
  },
  {
   "cell_type": "code",
   "execution_count": 7,
   "source": [
    "#Kelvin solution\n",
    "countries = []\n",
    "for K,v in np.items():\n",
    "    print (K, type(v))\n",
    "    for values in v:\n",
    "        country = values.get('name')\n",
    "        code = values.get('code')\n",
    "        doce = code if code else 'N/A'\n",
    "        # print(code, country)\n",
    "        x = (code, country)\n",
    "        countries.append(x)\n",
    "\n",
    "print (countries)\n",
    "print(f'The total number of countries is {len(countries)}')"
   ],
   "outputs": [
    {
     "output_type": "stream",
     "name": "stdout",
     "text": [
      "countries <class 'list'>\n",
      "[('DZ', 'Algeria'), ('AR', 'Argentina'), ('AU', 'Australia'), ('AT', 'Austria'), (None, 'Austria-Hungary'), (None, 'Austrian Empire'), ('AZ', 'Azerbaijan'), ('BD', 'Bangladesh'), ('BB', 'Barbados'), ('DE', 'Bavaria'), ('BY', 'Belarus'), ('CD', 'Belgian Congo'), ('BE', 'Belgium'), ('BA', 'Bosnia'), ('BA', 'Bosnia and Herzegovina'), ('BR', 'Brazil'), ('IN', 'British India'), ('IL', 'British Mandate of Palestine'), ('IL', 'British Protectorate of Palestine'), ('LC', 'British West Indies'), ('BG', 'Bulgaria'), ('MM', 'Burma'), ('CA', 'Canada'), ('CL', 'Chile'), ('CN', 'China'), ('CO', 'Colombia'), ('CR', 'Costa Rica'), ('GR', 'Crete'), ('HR', 'Croatia'), ('CY', 'Cyprus'), ('CZ', 'Czech Republic'), ('CZ', 'Czechoslovakia'), ('CD', 'Democratic Republic of the Congo'), ('VN', 'Democratic Republic of Vietnam'), ('DK', 'Denmark'), ('DE', 'East Friesland'), ('DE', 'East Germany'), ('TL', 'East Timor'), ('EG', 'Egypt'), ('ET', 'Ethiopia'), ('DK', 'Faroe Islands (Denmark)'), ('FI', 'Finland'), ('FR', 'France'), ('PL', 'Free City of Danzig'), ('DZ', 'French Algeria'), ('GA', 'Gabon'), ('PL', 'German-occupied Poland'), ('DE', 'Germany'), ('GH', 'Ghana'), ('GH', 'Gold Coast'), ('GR', 'Greece'), ('GL', 'Greenland'), ('GP', 'Guadeloupe Island'), ('GT', 'Guatemala'), ('DE', 'Hesse-Kassel'), ('CZ', 'Hungarian Empire'), ('HU', 'Hungary'), ('IS', 'Iceland'), ('IN', 'India'), ('ID', 'Indonesia'), ('IR', 'Iran'), ('IQ', 'Iraq'), ('IE', 'Ireland'), ('IL', 'Israel'), ('IT', 'Italy'), ('JM', 'Jamaica'), ('JP', 'Japan'), ('ID', 'Java, Dutch East Indies'), ('KE', 'Kenya'), ('BR', 'Korea'), ('LV', 'Latvia'), ('LR', 'Liberia'), ('LT', 'Lithuania'), ('LU', 'Luxembourg'), ('MG', 'Madagascar'), ('MU', 'Mauritius'), ('DE', 'Mecklenburg'), ('MX', 'Mexico'), ('MA', 'Morocco'), ('MM', 'Myanmar'), ('NZ', 'New Zealand'), ('NG', 'Nigeria'), ('MK', 'North Macedonia'), ('GB', 'Northern Ireland'), ('ZM', 'Northern Rhodesia'), ('NO', 'Norway'), ('TR', 'Ottoman Empire'), ('PK', 'Pakistan'), ('US', 'Palestine'), ('IR', 'Persia'), ('PE', 'Peru'), ('PH', 'Philippines'), ('PL', 'Poland'), ('PL', 'Poland, Russian Empire'), ('PT', 'Portugal'), ('PL', 'Prussia'), ('PR', 'Puerto Rico'), ('MK', 'Republic of Macedonia'), ('RO', 'Romania'), ('RU', 'Russia'), ('RU', 'Russia, Soviet Union'), ('AZ', 'Russian Empire'), ('LC', 'Saint Lucia'), ('DE', 'Schleswig'), ('GB', 'Scotland'), ('RS', 'Serbia'), ('SG', 'Singapore'), ('SK', 'Slovakia'), ('SI', 'Slovenia'), ('ZA', 'South Africa'), ('KR', 'South Korea'), ('ZW', 'Southern Rhodesia'), ('ES', 'Spain'), ('SE', 'Sweden'), ('CH', 'Switzerland'), ('TW', 'Taiwan'), ('NL', 'the Netherlands'), ('CN', 'Tibet'), ('TT', 'Trinidad and Tobago'), ('TN', 'Tunisia'), ('TR', 'Turkey'), ('IT', 'Tuscany'), ('UA', 'Ukraine'), ('ZA', 'Union of South Africa'), ('GB', 'United Kingdom'), ('US', 'USA'), ('RU', 'USSR'), ('VE', 'Venezuela'), ('VN', 'Vietnam'), ('DE', 'West Germany'), ('DE', 'Württemberg'), ('YE', 'Yemen'), ('YU', 'Yugoslavia'), ('ZM', 'Zambia'), ('ZW', 'Zimbabwe')]\n",
      "The total number of countries is 135\n"
     ]
    }
   ],
   "metadata": {}
  },
  {
   "cell_type": "code",
   "execution_count": 43,
   "source": [
    "# 2 - A list of the coutry codes in reverse alphabetical order        \n",
    "countries.sort(reverse = True)\n",
    "print (f'This is the list of the coutry codes in reverse alphabetical order: {countries}')\n"
   ],
   "outputs": [
    {
     "output_type": "stream",
     "name": "stdout",
     "text": [
      "This is the list of the coutry codes in reverse alphabetical order: [('the Netherlands', 'NL'), ('Zimbabwe', 'ZW'), ('Zambia', 'ZM'), ('Yugoslavia', 'YU'), ('Yemen', 'YE'), ('Württemberg', 'DE'), ('West Germany', 'DE'), ('Vietnam', 'VN'), ('Venezuela', 'VE'), ('United Kingdom', 'GB'), ('Union of South Africa', 'ZA'), ('Ukraine', 'UA'), ('USSR', 'RU'), ('USA', 'US'), ('Tuscany', 'IT'), ('Turkey', 'TR'), ('Tunisia', 'TN'), ('Trinidad and Tobago', 'TT'), ('Tibet', 'CN'), ('Taiwan', 'TW'), ('Switzerland', 'CH'), ('Sweden', 'SE'), ('Spain', 'ES'), ('Southern Rhodesia', 'ZW'), ('South Korea', 'KR'), ('South Africa', 'ZA'), ('Slovenia', 'SI'), ('Slovakia', 'SK'), ('Singapore', 'SG'), ('Serbia', 'RS'), ('Scotland', 'GB'), ('Schleswig', 'DE'), ('Saint Lucia', 'LC'), ('Russian Empire', 'AZ'), ('Russia, Soviet Union', 'RU'), ('Russia', 'RU'), ('Romania', 'RO'), ('Republic of Macedonia', 'MK'), ('Puerto Rico', 'PR'), ('Prussia', 'PL'), ('Portugal', 'PT'), ('Poland, Russian Empire', 'PL'), ('Poland', 'PL'), ('Philippines', 'PH'), ('Peru', 'PE'), ('Persia', 'IR'), ('Palestine', 'US'), ('Pakistan', 'PK'), ('Ottoman Empire', 'TR'), ('Norway', 'NO'), ('Northern Rhodesia', 'ZM'), ('Northern Ireland', 'GB'), ('North Macedonia', 'MK'), ('Nigeria', 'NG'), ('New Zealand', 'NZ'), ('Myanmar', 'MM'), ('Morocco', 'MA'), ('Mexico', 'MX'), ('Mecklenburg', 'DE'), ('Mauritius', 'MU'), ('Madagascar', 'MG'), ('Luxembourg', 'LU'), ('Lithuania', 'LT'), ('Liberia', 'LR'), ('Latvia', 'LV'), ('Korea', 'BR'), ('Kenya', 'KE'), ('Java, Dutch East Indies', 'ID'), ('Japan', 'JP'), ('Jamaica', 'JM'), ('Italy', 'IT'), ('Israel', 'IL'), ('Ireland', 'IE'), ('Iraq', 'IQ'), ('Iran', 'IR'), ('Indonesia', 'ID'), ('India', 'IN'), ('Iceland', 'IS'), ('Hungary', 'HU'), ('Hungarian Empire', 'CZ'), ('Hesse-Kassel', 'DE'), ('Guatemala', 'GT'), ('Guadeloupe Island', 'GP'), ('Greenland', 'GL'), ('Greece', 'GR'), ('Gold Coast', 'GH'), ('Ghana', 'GH'), ('Germany', 'DE'), ('German-occupied Poland', 'PL'), ('Gabon', 'GA'), ('French Algeria', 'DZ'), ('Free City of Danzig', 'PL'), ('France', 'FR'), ('Finland', 'FI'), ('Faroe Islands (Denmark)', 'DK'), ('Ethiopia', 'ET'), ('Egypt', 'EG'), ('East Timor', 'TL'), ('East Germany', 'DE'), ('East Friesland', 'DE'), ('Denmark', 'DK'), ('Democratic Republic of the Congo', 'CD'), ('Democratic Republic of Vietnam', 'VN'), ('Czechoslovakia', 'CZ'), ('Czech Republic', 'CZ'), ('Cyprus', 'CY'), ('Croatia', 'HR'), ('Crete', 'GR'), ('Costa Rica', 'CR'), ('Colombia', 'CO'), ('China', 'CN'), ('Chile', 'CL'), ('Canada', 'CA'), ('Burma', 'MM'), ('Bulgaria', 'BG'), ('British West Indies', 'LC'), ('British Protectorate of Palestine', 'IL'), ('British Mandate of Palestine', 'IL'), ('British India', 'IN'), ('Brazil', 'BR'), ('Bosnia and Herzegovina', 'BA'), ('Bosnia', 'BA'), ('Belgium', 'BE'), ('Belgian Congo', 'CD'), ('Belarus', 'BY'), ('Bavaria', 'DE'), ('Barbados', 'BB'), ('Bangladesh', 'BD'), ('Azerbaijan', 'AZ'), ('Austrian Empire', 'NA'), ('Austria-Hungary', 'NA'), ('Austria', 'AT'), ('Australia', 'AU'), ('Argentina', 'AR'), ('Algeria', 'DZ')]\n"
     ]
    }
   ],
   "metadata": {}
  },
  {
   "cell_type": "code",
   "execution_count": 44,
   "source": [
    "\n",
    "# 3 - A total of the number of countries\n",
    "print (f'The total of the number of countries: {len(countries)}')"
   ],
   "outputs": [
    {
     "output_type": "stream",
     "name": "stdout",
     "text": [
      "The total of the number of countries: 135\n"
     ]
    }
   ],
   "metadata": {}
  }
 ],
 "metadata": {
  "orig_nbformat": 4,
  "language_info": {
   "name": "python",
   "version": "3.9.7",
   "mimetype": "text/x-python",
   "codemirror_mode": {
    "name": "ipython",
    "version": 3
   },
   "pygments_lexer": "ipython3",
   "nbconvert_exporter": "python",
   "file_extension": ".py"
  },
  "kernelspec": {
   "name": "python3",
   "display_name": "Python 3.9.7 64-bit"
  },
  "interpreter": {
   "hash": "aee8b7b246df8f9039afb4144a1f6fd8d2ca17a180786b69acc140d282b71a49"
  }
 },
 "nbformat": 4,
 "nbformat_minor": 2
}