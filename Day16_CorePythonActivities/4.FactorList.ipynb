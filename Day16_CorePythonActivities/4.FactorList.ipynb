{
 "cells": [
  {
   "cell_type": "markdown",
   "source": [
    "# Exercise\n",
    "Calculate the sum of the factors of all composite number from 100 to 200. Output the number, the sum of the factors, and the factor to the console"
   ],
   "metadata": {}
  },
  {
   "cell_type": "code",
   "execution_count": 1,
   "source": [
    "def is_prime(num):\n",
    "    prime = False\n",
    "    if num > 1:\n",
    "        prime = True\n",
    "        for i in range(2,num):\n",
    "            if num % i == 0:\n",
    "                prime = False\n",
    "                break\n",
    "    return prime\n",
    "\n",
    "for in_num in range(100,201):\n",
    "    if not is_prime(in_num):\n",
    "        factors_list = []\n",
    "        sum_fact = 0\n",
    "        for i in range(in_num+1):\n",
    "            if i >1 and in_num % i == 0:\n",
    "                factors_list.append(i)\n",
    "                sum_fact = sum_fact + i\n",
    "        print (f'The factor list of {in_num} is {factors_list}. The sum of the factors is: {sum_fact}')\n",
    "\n"
   ],
   "outputs": [
    {
     "output_type": "stream",
     "name": "stdout",
     "text": [
      "The factor list of 100 is [2, 4, 5, 10, 20, 25, 50, 100]. The sum of the factors is: 216\n",
      "The factor list of 102 is [2, 3, 6, 17, 34, 51, 102]. The sum of the factors is: 215\n",
      "The factor list of 104 is [2, 4, 8, 13, 26, 52, 104]. The sum of the factors is: 209\n",
      "The factor list of 105 is [3, 5, 7, 15, 21, 35, 105]. The sum of the factors is: 191\n",
      "The factor list of 106 is [2, 53, 106]. The sum of the factors is: 161\n",
      "The factor list of 108 is [2, 3, 4, 6, 9, 12, 18, 27, 36, 54, 108]. The sum of the factors is: 279\n",
      "The factor list of 110 is [2, 5, 10, 11, 22, 55, 110]. The sum of the factors is: 215\n",
      "The factor list of 111 is [3, 37, 111]. The sum of the factors is: 151\n",
      "The factor list of 112 is [2, 4, 7, 8, 14, 16, 28, 56, 112]. The sum of the factors is: 247\n",
      "The factor list of 114 is [2, 3, 6, 19, 38, 57, 114]. The sum of the factors is: 239\n",
      "The factor list of 115 is [5, 23, 115]. The sum of the factors is: 143\n",
      "The factor list of 116 is [2, 4, 29, 58, 116]. The sum of the factors is: 209\n",
      "The factor list of 117 is [3, 9, 13, 39, 117]. The sum of the factors is: 181\n",
      "The factor list of 118 is [2, 59, 118]. The sum of the factors is: 179\n",
      "The factor list of 119 is [7, 17, 119]. The sum of the factors is: 143\n",
      "The factor list of 120 is [2, 3, 4, 5, 6, 8, 10, 12, 15, 20, 24, 30, 40, 60, 120]. The sum of the factors is: 359\n",
      "The factor list of 121 is [11, 121]. The sum of the factors is: 132\n",
      "The factor list of 122 is [2, 61, 122]. The sum of the factors is: 185\n",
      "The factor list of 123 is [3, 41, 123]. The sum of the factors is: 167\n",
      "The factor list of 124 is [2, 4, 31, 62, 124]. The sum of the factors is: 223\n",
      "The factor list of 125 is [5, 25, 125]. The sum of the factors is: 155\n",
      "The factor list of 126 is [2, 3, 6, 7, 9, 14, 18, 21, 42, 63, 126]. The sum of the factors is: 311\n",
      "The factor list of 128 is [2, 4, 8, 16, 32, 64, 128]. The sum of the factors is: 254\n",
      "The factor list of 129 is [3, 43, 129]. The sum of the factors is: 175\n",
      "The factor list of 130 is [2, 5, 10, 13, 26, 65, 130]. The sum of the factors is: 251\n",
      "The factor list of 132 is [2, 3, 4, 6, 11, 12, 22, 33, 44, 66, 132]. The sum of the factors is: 335\n",
      "The factor list of 133 is [7, 19, 133]. The sum of the factors is: 159\n",
      "The factor list of 134 is [2, 67, 134]. The sum of the factors is: 203\n",
      "The factor list of 135 is [3, 5, 9, 15, 27, 45, 135]. The sum of the factors is: 239\n",
      "The factor list of 136 is [2, 4, 8, 17, 34, 68, 136]. The sum of the factors is: 269\n",
      "The factor list of 138 is [2, 3, 6, 23, 46, 69, 138]. The sum of the factors is: 287\n",
      "The factor list of 140 is [2, 4, 5, 7, 10, 14, 20, 28, 35, 70, 140]. The sum of the factors is: 335\n",
      "The factor list of 141 is [3, 47, 141]. The sum of the factors is: 191\n",
      "The factor list of 142 is [2, 71, 142]. The sum of the factors is: 215\n",
      "The factor list of 143 is [11, 13, 143]. The sum of the factors is: 167\n",
      "The factor list of 144 is [2, 3, 4, 6, 8, 9, 12, 16, 18, 24, 36, 48, 72, 144]. The sum of the factors is: 402\n",
      "The factor list of 145 is [5, 29, 145]. The sum of the factors is: 179\n",
      "The factor list of 146 is [2, 73, 146]. The sum of the factors is: 221\n",
      "The factor list of 147 is [3, 7, 21, 49, 147]. The sum of the factors is: 227\n",
      "The factor list of 148 is [2, 4, 37, 74, 148]. The sum of the factors is: 265\n",
      "The factor list of 150 is [2, 3, 5, 6, 10, 15, 25, 30, 50, 75, 150]. The sum of the factors is: 371\n",
      "The factor list of 152 is [2, 4, 8, 19, 38, 76, 152]. The sum of the factors is: 299\n",
      "The factor list of 153 is [3, 9, 17, 51, 153]. The sum of the factors is: 233\n",
      "The factor list of 154 is [2, 7, 11, 14, 22, 77, 154]. The sum of the factors is: 287\n",
      "The factor list of 155 is [5, 31, 155]. The sum of the factors is: 191\n",
      "The factor list of 156 is [2, 3, 4, 6, 12, 13, 26, 39, 52, 78, 156]. The sum of the factors is: 391\n",
      "The factor list of 158 is [2, 79, 158]. The sum of the factors is: 239\n",
      "The factor list of 159 is [3, 53, 159]. The sum of the factors is: 215\n",
      "The factor list of 160 is [2, 4, 5, 8, 10, 16, 20, 32, 40, 80, 160]. The sum of the factors is: 377\n",
      "The factor list of 161 is [7, 23, 161]. The sum of the factors is: 191\n",
      "The factor list of 162 is [2, 3, 6, 9, 18, 27, 54, 81, 162]. The sum of the factors is: 362\n",
      "The factor list of 164 is [2, 4, 41, 82, 164]. The sum of the factors is: 293\n",
      "The factor list of 165 is [3, 5, 11, 15, 33, 55, 165]. The sum of the factors is: 287\n",
      "The factor list of 166 is [2, 83, 166]. The sum of the factors is: 251\n",
      "The factor list of 168 is [2, 3, 4, 6, 7, 8, 12, 14, 21, 24, 28, 42, 56, 84, 168]. The sum of the factors is: 479\n",
      "The factor list of 169 is [13, 169]. The sum of the factors is: 182\n",
      "The factor list of 170 is [2, 5, 10, 17, 34, 85, 170]. The sum of the factors is: 323\n",
      "The factor list of 171 is [3, 9, 19, 57, 171]. The sum of the factors is: 259\n",
      "The factor list of 172 is [2, 4, 43, 86, 172]. The sum of the factors is: 307\n",
      "The factor list of 174 is [2, 3, 6, 29, 58, 87, 174]. The sum of the factors is: 359\n",
      "The factor list of 175 is [5, 7, 25, 35, 175]. The sum of the factors is: 247\n",
      "The factor list of 176 is [2, 4, 8, 11, 16, 22, 44, 88, 176]. The sum of the factors is: 371\n",
      "The factor list of 177 is [3, 59, 177]. The sum of the factors is: 239\n",
      "The factor list of 178 is [2, 89, 178]. The sum of the factors is: 269\n",
      "The factor list of 180 is [2, 3, 4, 5, 6, 9, 10, 12, 15, 18, 20, 30, 36, 45, 60, 90, 180]. The sum of the factors is: 545\n",
      "The factor list of 182 is [2, 7, 13, 14, 26, 91, 182]. The sum of the factors is: 335\n",
      "The factor list of 183 is [3, 61, 183]. The sum of the factors is: 247\n",
      "The factor list of 184 is [2, 4, 8, 23, 46, 92, 184]. The sum of the factors is: 359\n",
      "The factor list of 185 is [5, 37, 185]. The sum of the factors is: 227\n",
      "The factor list of 186 is [2, 3, 6, 31, 62, 93, 186]. The sum of the factors is: 383\n",
      "The factor list of 187 is [11, 17, 187]. The sum of the factors is: 215\n",
      "The factor list of 188 is [2, 4, 47, 94, 188]. The sum of the factors is: 335\n",
      "The factor list of 189 is [3, 7, 9, 21, 27, 63, 189]. The sum of the factors is: 319\n",
      "The factor list of 190 is [2, 5, 10, 19, 38, 95, 190]. The sum of the factors is: 359\n",
      "The factor list of 192 is [2, 3, 4, 6, 8, 12, 16, 24, 32, 48, 64, 96, 192]. The sum of the factors is: 507\n",
      "The factor list of 194 is [2, 97, 194]. The sum of the factors is: 293\n",
      "The factor list of 195 is [3, 5, 13, 15, 39, 65, 195]. The sum of the factors is: 335\n",
      "The factor list of 196 is [2, 4, 7, 14, 28, 49, 98, 196]. The sum of the factors is: 398\n",
      "The factor list of 198 is [2, 3, 6, 9, 11, 18, 22, 33, 66, 99, 198]. The sum of the factors is: 467\n",
      "The factor list of 200 is [2, 4, 5, 8, 10, 20, 25, 40, 50, 100, 200]. The sum of the factors is: 464\n"
     ]
    }
   ],
   "metadata": {}
  },
  {
   "cell_type": "code",
   "execution_count": null,
   "source": [
    "# Alternative solution \n",
    "\n",
    "# Exercise\n",
    "Calculate the sum of the factors of all composite number from 100 to 200. Output the number, the sum of the factors, and the factor to the console"
   ],
   "outputs": [],
   "metadata": {}
  }
 ],
 "metadata": {
  "orig_nbformat": 4,
  "language_info": {
   "name": "python",
   "version": "3.9.7",
   "mimetype": "text/x-python",
   "codemirror_mode": {
    "name": "ipython",
    "version": 3
   },
   "pygments_lexer": "ipython3",
   "nbconvert_exporter": "python",
   "file_extension": ".py"
  },
  "kernelspec": {
   "name": "python3",
   "display_name": "Python 3.9.7 64-bit"
  },
  "interpreter": {
   "hash": "aee8b7b246df8f9039afb4144a1f6fd8d2ca17a180786b69acc140d282b71a49"
  }
 },
 "nbformat": 4,
 "nbformat_minor": 2
}