{
 "cells": [
  {
   "cell_type": "markdown",
   "source": [
    "Diffference between <br>\n",
    "num**2 and (n-1)**2 \n"
   ],
   "metadata": {}
  },
  {
   "cell_type": "code",
   "execution_count": 8,
   "source": [
    "for n in range (1,21): \n",
    "    print (f'num = {n}, num**2 - (n-1)**2 =  {(n**2) - (n-1)**2}')"
   ],
   "outputs": [
    {
     "output_type": "stream",
     "name": "stdout",
     "text": [
      "num = 1, num**2 - (n-1)**2 =  1\n",
      "num = 2, num**2 - (n-1)**2 =  3\n",
      "num = 3, num**2 - (n-1)**2 =  5\n",
      "num = 4, num**2 - (n-1)**2 =  7\n",
      "num = 5, num**2 - (n-1)**2 =  9\n",
      "num = 6, num**2 - (n-1)**2 =  11\n",
      "num = 7, num**2 - (n-1)**2 =  13\n",
      "num = 8, num**2 - (n-1)**2 =  15\n",
      "num = 9, num**2 - (n-1)**2 =  17\n",
      "num = 10, num**2 - (n-1)**2 =  19\n",
      "num = 11, num**2 - (n-1)**2 =  21\n",
      "num = 12, num**2 - (n-1)**2 =  23\n",
      "num = 13, num**2 - (n-1)**2 =  25\n",
      "num = 14, num**2 - (n-1)**2 =  27\n",
      "num = 15, num**2 - (n-1)**2 =  29\n",
      "num = 16, num**2 - (n-1)**2 =  31\n",
      "num = 17, num**2 - (n-1)**2 =  33\n",
      "num = 18, num**2 - (n-1)**2 =  35\n",
      "num = 19, num**2 - (n-1)**2 =  37\n",
      "num = 20, num**2 - (n-1)**2 =  39\n"
     ]
    }
   ],
   "metadata": {}
  }
 ],
 "metadata": {
  "orig_nbformat": 4,
  "language_info": {
   "name": "python",
   "version": "3.9.7",
   "mimetype": "text/x-python",
   "codemirror_mode": {
    "name": "ipython",
    "version": 3
   },
   "pygments_lexer": "ipython3",
   "nbconvert_exporter": "python",
   "file_extension": ".py"
  },
  "kernelspec": {
   "name": "python3",
   "display_name": "Python 3.9.7 64-bit"
  },
  "interpreter": {
   "hash": "aee8b7b246df8f9039afb4144a1f6fd8d2ca17a180786b69acc140d282b71a49"
  }
 },
 "nbformat": 4,
 "nbformat_minor": 2
}