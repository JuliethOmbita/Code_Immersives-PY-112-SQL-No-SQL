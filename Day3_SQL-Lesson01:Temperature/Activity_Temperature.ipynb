{
 "cells": [
  {
   "cell_type": "code",
   "execution_count": null,
   "source": [
    "def celsiusToFahrenheit(cTemp):\n",
    "    \"\"\"\n",
    "    Convert the Celsius temperature to Fahrenheight\n",
    "    Function take a float or integer and returns a float\n",
    "    \"\"\"\n",
    "    fTemp = (cTemp * 9/5) + 32\n",
    "    return fTemp\n",
    "\n",
    "\n",
    "\n",
    "def fahrenheitToCelsius(temp):\n",
    "    \"\"\"\n",
    "    Convert the Fahrenheight temperature to Celsius \n",
    "    Function take a float or integer and returns a float\n",
    "    \"\"\"\n",
    "\n",
    "    cTemp = (temp-32) * 5/9\n",
    "    return  cTemp\n",
    "\n",
    "\n",
    "temp = 100\n",
    "# convert to Fahrenheit\n",
    "convertedTemp = celsiusToFahrenheit(temp)\n",
    "print('{0} Celsius = {1} Fahrenheit'.format(temp,convertedTemp))\n",
    "# convert to Celsius\n",
    "convertedTemp2 = fahrenheitToCelsius(temp)\n",
    "print('{0} Fahrenheit  = {1} Celsius'.format(temp,convertedTemp2))\n",
    "#\n",
    "print(help(celsiusToFahrenheit))"
   ],
   "outputs": [],
   "metadata": {}
  },
  {
   "cell_type": "code",
   "execution_count": null,
   "source": [
    "def convert(typeC, temp):\n",
    "    \"\"\"\n",
    "    Convert the Celsius temperature to Fahrenheight or the he Fahrenheight temperature to Celsius  \n",
    "    \"\"\"\n",
    "    if typeC.lower() == \"fahrenheit\":\n",
    "        fTemp = (temp * 9/5) + 32\n",
    "        return fTemp\n",
    "    elif typeC.lower() == \"celcius\":\n",
    "        cTemp = (temp-32) * 5/9\n",
    "        return  cTemp\n",
    "\n",
    "\n",
    "temp = 100\n",
    "temperature = convert(\"Fahrenheit\", temp)\n",
    "print(f'{temp} Celsius is {temperature} Fahrenheit')\n",
    "temperature = convert(\"Celcius\", temp)\n",
    "print(f'{temp} Fahrenheit is {temperature} Celsius')\n",
    "print()\n"
   ],
   "outputs": [],
   "metadata": {}
  },
  {
   "cell_type": "code",
   "execution_count": null,
   "source": [
    "tempList = [100,20,30,210]\n",
    "\n",
    "def convert(typeC, tempList):\n",
    "    \"\"\"\n",
    "    List Comprehension of Convert the Celsius temperature to Fahrenheight or the he Fahrenheight temperature to Celsius  \n",
    "    \"\"\"\n",
    "    convF = [(temp * 9/5) + 32 if typeC == \"fh\" else (temp-32) * 5/9 for temp in tempList]\n",
    "    print(tempList,convF)\n",
    "\n",
    "convert(\"fh\", tempList)\n",
    "#print(help(convert))"
   ],
   "outputs": [],
   "metadata": {}
  },
  {
   "cell_type": "code",
   "execution_count": null,
   "source": [
    "# LAMBA\n",
    "\n",
    "temp = 100\n",
    "typeC = \"fahrenheit\"\n",
    "convF = lambda typeC, temp: (temp * 9/5) + 32  if typeC.lower() == \"fahrenheit\" else (temp-32) * 5/9 \n",
    "print()\n",
    "print (f'The convertion of {temp} in {typeC} is {convF(typeC, temp)}.')\n",
    "\n",
    "# LAMBA with a list\n",
    "\n"
   ],
   "outputs": [],
   "metadata": {}
  }
 ],
 "metadata": {
  "orig_nbformat": 4,
  "language_info": {
   "name": "python",
   "version": "3.9.7",
   "mimetype": "text/x-python",
   "codemirror_mode": {
    "name": "ipython",
    "version": 3
   },
   "pygments_lexer": "ipython3",
   "nbconvert_exporter": "python",
   "file_extension": ".py"
  },
  "kernelspec": {
   "name": "python3",
   "display_name": "Python 3.9.7 64-bit"
  },
  "interpreter": {
   "hash": "aee8b7b246df8f9039afb4144a1f6fd8d2ca17a180786b69acc140d282b71a49"
  }
 },
 "nbformat": 4,
 "nbformat_minor": 2
}