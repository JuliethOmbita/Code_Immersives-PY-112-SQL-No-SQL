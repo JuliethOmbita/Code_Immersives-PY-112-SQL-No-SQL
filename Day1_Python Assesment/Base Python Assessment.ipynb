{
 "cells": [
  {
   "cell_type": "markdown",
   "source": [
    "<a href=\"https://codeimmersives.com\"><img src = \"https://www.codeimmersives.com/wp-content/uploads/2019/09/CodeImmersives_Logo_RGB_NYC_BW.png\" width = 400> </a>\n",
    "\n",
    "\n",
    "<h1 align=center><font size = 5>Python Assessment</font></h1>"
   ],
   "metadata": {}
  },
  {
   "cell_type": "markdown",
   "source": [
    "<h2 #0>Exercise 1</h2><a id=\"0\"></a>\n",
    "<code>\n",
    "purchases = {'2021-01-01': \n",
    "                 {'item-001': \n",
    "                      {'name': 'Alka Seltzer'},\n",
    "                 'item-002': \n",
    "                      {'name': 'Rolaids'},\n",
    "                 'item-003': \n",
    "                      {'name': 'Orange juice'}  }                \n",
    "            }\n",
    "</code>\n",
    "<br>\n",
    "<h4>List all of the names of items purchased</h4>"
   ],
   "metadata": {}
  },
  {
   "cell_type": "code",
   "execution_count": null,
   "source": [
    "purchases = {'2021-01-01': \n",
    "                 {'item-001': \n",
    "                      {'name': 'Alka Seltzer'},\n",
    "                 'item-002': \n",
    "                      {'name': 'Rolaids'},\n",
    "                 'item-003': \n",
    "                      {'name': 'Orange juice'}}\n",
    "             }\n",
    "                \n",
    "print(type(purchases))    \n",
    "if isinstance(purchases,dict):\n",
    "    print(f'I found a dictionary {purchases}')\n",
    "print('='*35)\n",
    "# Step 1 - iterate\n",
    "for k,v in purchases.items():\n",
    "     #print(k, v)        # k is the date, v is the values, which is another dictionary\n",
    "     #print(type(v),v)   # type of v is a dictionary\n",
    "     for k2,v2 in v.items():  # In this way to iterate inside of v dictionary k2 are the keys ('item-001-3')\n",
    "          #print(v2)      # v2 are the values, within a dictionary too. \n",
    "          #print(type(v2), v2) # v2 is a dictionary too. \n",
    "          for k3, v3 in v2.items(): # This is the 3rd itaration ober the dictionary. To get the values:\n",
    "               print(f'You bought {v3}')"
   ],
   "outputs": [],
   "metadata": {}
  },
  {
   "cell_type": "markdown",
   "source": [
    "<h2> Example of 2 Keys in the dictionary with the same key name "
   ],
   "metadata": {}
  },
  {
   "cell_type": "code",
   "execution_count": null,
   "source": [
    "toys = {'Slinky': 9.99, 'YoYo': 14.99, 'Slinky': 5.49}\n",
    "print(toys)"
   ],
   "outputs": [],
   "metadata": {}
  },
  {
   "cell_type": "markdown",
   "source": [
    "<h2>Exercise 2</h2><a id=\"2\"></a>\n",
    "<code>\n",
    "purchases = {'2021-01-01': \n",
    "                 {'item-001': \n",
    "                      {'name': 'Alka Seltzer'},\n",
    "                 'item-002': \n",
    "                      {'name': 'Rolaids'},\n",
    "                 'item-003': \n",
    "                      {'name': 'Orange juice'}  }                \n",
    "            }\n",
    "</code>\n",
    "<br>\n",
    "1 - Add a 4th item with a key of 'item-004' and name of 'Bloody Mary'<br>\n",
    "2 - Add a 5th item with a key of 'item-005' and name of 'Pineapple Juice'<br>\n",
    "3 - print all item names purchased<br>\n",
    "4 - print all juice items"
   ],
   "metadata": {}
  },
  {
   "cell_type": "code",
   "execution_count": null,
   "source": [
    "purchases = {'2021-01-01': \n",
    "                 {'item-001': \n",
    "                      {'name': 'Alka Seltzer'},\n",
    "                 'item-002': \n",
    "                      {'name': 'Rolaids'},\n",
    "                 'item-003': \n",
    "                      {'name': 'Orange juice'}}                \n",
    "            }\n",
    "# 1/2 - Add a 4th and 5th item with a key of 'item-004', 'item-005' and name of 'Bloody Mary' and'Pineapple Juice'\n",
    "\n",
    "purchases['2021-01-01']['item-004'] = {'name' : 'Bloody Mary'}\n",
    "purchases['2021-01-01']['item-005'] = {'name' : 'Pineapple Juice'}\n",
    "\n",
    "# 3 - print all item names purchased\n",
    "for k,v in purchases.items():\n",
    "     for k2, v2 in v.items():\n",
    "          for k3, v3 in v2.items():\n",
    "               print(f'You bought {v3}')\n",
    "print ()\n",
    "# 4 - print all juice items\n",
    "for k,v in purchases.items():\n",
    "     for k2, v2 in v.items():\n",
    "          for k3, v3 in v2.items():\n",
    "               if 'juice' in v3.lower():\n",
    "                    print(f'You bought this juices: {v3}')"
   ],
   "outputs": [],
   "metadata": {}
  },
  {
   "cell_type": "markdown",
   "source": [
    "<h2> Dunder methods are built in reserved methods for a class. \n",
    "ex. "
   ],
   "metadata": {}
  },
  {
   "cell_type": "code",
   "execution_count": null,
   "source": [
    "purchases = {'2021-01-01': \n",
    "                 {'item-001': \n",
    "                      {'name': 'Alka Seltzer'},\n",
    "                 'item-002': \n",
    "                      {'name': 'Rolaids'},\n",
    "                 'item-003': \n",
    "                      {'name': 'Orange juice'}  }                \n",
    "            }\n",
    "methods = dir(purchases)\n",
    "print(type(methods))\n",
    "# iterate over a list:\n",
    "#  Method1 - for loop \n",
    "\n",
    "for i in methods:\n",
    "    print(i)\n",
    "print ('+' * 35)\n",
    "\n",
    "# Method2 - for loop include a index\n",
    "for i in range (len(methods)):\n",
    "    print (i, methods[i])\n",
    "print ('+' * 35)\n",
    "\n",
    "# Method3 \n",
    "for i, method_name in enumerate(methods):\n",
    "    print(i,method_name)\n",
    "print ('+' * 35)\n",
    "\n",
    "# Method4 -  List comprehension\n",
    "ms = [i for i in methods]\n",
    "print (ms)\n",
    "print (\"=\"*35)\n",
    "#         - List comprehension with a condition\n",
    "ms = [i for i in methods if not i[:2] == '__']\n",
    "print (ms)\n",
    "print (\"=\"*35)\n",
    "#         - Usinf .startwith() method\n",
    "ms = [i for i in methods if not i.startswith('__')]\n",
    "print (ms)\n",
    "print (\"=\"*35)\n"
   ],
   "outputs": [],
   "metadata": {}
  },
  {
   "cell_type": "markdown",
   "source": [
    "<h2> Extract mathods with the name 'items' as part of the name"
   ],
   "metadata": {}
  },
  {
   "cell_type": "code",
   "execution_count": null,
   "source": [
    "methods = dir(purchases)\n",
    "\n",
    "ms = [i for i in methods if 'item' in i]\n",
    "print (ms)"
   ],
   "outputs": [],
   "metadata": {}
  },
  {
   "cell_type": "markdown",
   "source": [
    "<h2>Exercise 3</h2><a id=\"4\"></a>\n",
    "<code>\n",
    "items = ['Alka Seltzer', 'Rolaids', 'Orange juice', 'Bloody Mary', 'Pineapple Juice']\n",
    "</code>\n",
    "<br>\n",
    "1 - Randomly pick 3 items out of the list using iteration and name it basket1 - WITHOUT REPLACEMENT<br>\n",
    "2a - Randomly pick 3 items out of the list using iteration and name it basket2 - WITH REPLACEMENT<br>\n",
    "2b - List the items remaining in the basket"
   ],
   "metadata": {}
  },
  {
   "cell_type": "code",
   "execution_count": 4,
   "source": [
    "import random\n",
    "\n",
    "items = ['Alka Seltzer', 'Rolaids', 'Orange juice', 'Bloody Mary', 'Pineapple Juice']\n",
    "items_chosen = 0\n",
    "basket1 = []\n",
    "# 1 - Randomly pick 3 items out of the list using iteration and name it basket1 - WITHOUT REPLACEMENT\n",
    "for item in range(3):\n",
    "    rmd_choice = random.choice(items)\n",
    "    basket1.append(rmd_choice)\n",
    "    \n",
    "print()\n",
    "print(f'The original list of items is: {items}')\n",
    "print()\n",
    "print(f'The items of the Basket 1 are: {basket1}')\n",
    "print()\n",
    "\n",
    "# 2a - Randomly pick 3 items out of the list using iteration and name it basket2 - WITH REPLACEMENT\n",
    "items_chosen2 = 0\n",
    "basket2 = []\n",
    "for item in range(3):\n",
    "    rmd_choice = random.choice(items)\n",
    "    items.remove(rmd_choice)\n",
    "    basket2.append(rmd_choice)\n",
    "print(f'The items of the Basket 2 are: {basket2}')\n",
    "print()\n",
    "# 2b - List the items remaining in the basket\n",
    "print(f'The items remaining in the item list are: {items}')\n",
    "print()\n",
    "\n",
    "\n"
   ],
   "outputs": [
    {
     "output_type": "stream",
     "name": "stdout",
     "text": [
      "\n",
      "The original list of items is: ['Alka Seltzer', 'Rolaids', 'Orange juice', 'Bloody Mary', 'Pineapple Juice']\n",
      "\n",
      "The items of the Basket 1 are: ['Rolaids', 'Alka Seltzer', 'Pineapple Juice']\n",
      "\n",
      "The items of the Basket 2 are: ['Orange juice', 'Rolaids', 'Pineapple Juice']\n",
      "\n",
      "The items remaining in the item list are: ['Alka Seltzer', 'Bloody Mary']\n",
      "\n"
     ]
    }
   ],
   "metadata": {}
  },
  {
   "cell_type": "markdown",
   "source": [
    "<h2>Exercise 4</h2><a id=\"6\"></a>\n",
    "From the numbers 1 through 120 pick all numbers that are divisible by 3 and 5"
   ],
   "metadata": {}
  },
  {
   "cell_type": "code",
   "execution_count": 5,
   "source": [
    "for i in range(1, 121):\n",
    "    if i % 3 == 0 and i % 5 == 0:\n",
    "        print(f'{i} is divisible ny 3 and 5.')\n"
   ],
   "outputs": [
    {
     "output_type": "stream",
     "name": "stdout",
     "text": [
      "15 is divisible ny 3 and 5.\n",
      "30 is divisible ny 3 and 5.\n",
      "45 is divisible ny 3 and 5.\n",
      "60 is divisible ny 3 and 5.\n",
      "75 is divisible ny 3 and 5.\n",
      "90 is divisible ny 3 and 5.\n",
      "105 is divisible ny 3 and 5.\n",
      "120 is divisible ny 3 and 5.\n"
     ]
    }
   ],
   "metadata": {}
  },
  {
   "cell_type": "markdown",
   "source": [
    "<h2>Exercise 5</h2><a id=\"8\"></a>\n",
    "From the numbers 1 through 300 pick all numbers that the sum of the digits are divisible by 9<br>\n",
    "For example the number 261 if we add the digits 2 + 6 + 1 = 9"
   ],
   "metadata": {}
  },
  {
   "cell_type": "code",
   "execution_count": 6,
   "source": [
    "divisible_9 = []\n",
    "for num in range (1,301):\n",
    "    num = str(num)\n",
    "    total = 0\n",
    "    for digit in num:\n",
    "        total += int(digit)\n",
    "    if total % 9 == 0:\n",
    "        divisible_9.append(int(num))\n",
    "print(f'The digits that are addd up and divisible by 9 are:\\n {divisible_9}')\n"
   ],
   "outputs": [
    {
     "output_type": "stream",
     "name": "stdout",
     "text": [
      "The digits that are addd up and divisible by 9 are:\n",
      " [9, 18, 27, 36, 45, 54, 63, 72, 81, 90, 99, 108, 117, 126, 135, 144, 153, 162, 171, 180, 189, 198, 207, 216, 225, 234, 243, 252, 261, 270, 279, 288, 297]\n"
     ]
    }
   ],
   "metadata": {}
  },
  {
   "cell_type": "markdown",
   "source": [
    "<h2>Exercise 6</h2><a id=\"10\"></a>\n",
    "<code>\n",
    "numbers = [2,7,9,12,15,3,11,22,17,6,0,-8]\n",
    "</code><br>\n",
    "List all 2 number combinations that add up to 9<br>\n",
    "List all 2 number permutations that add up to 9<br>"
   ],
   "metadata": {}
  },
  {
   "cell_type": "code",
   "execution_count": 28,
   "source": [
    "numbers = [2,7,9,12,15,3,11,22,17,6,0,-8]\n",
    "add_perm = []\n",
    "add_conv = []\n",
    "\n",
    "for pos1, val1 in enumerate(numbers):\n",
    "    for pos2, val2 in enumerate(numbers):\n",
    "        if val1+val2 == 9 and not pos1 == pos2:\n",
    "            if not [val1,val2] in add_conv and not [val2,val1] in add_conv: \n",
    "                add_conv.append([val1, val2])\n",
    "            if val1 + val2 == 9: #Orden does not matter\n",
    "                add_perm.append([val1,val2])\n",
    "print (f'This as the convinations that add up to 9: {add_conv}')\n",
    "print ()\n",
    "print (f'This as the permutations that add up to 9: {add_perm}')\n"
   ],
   "outputs": [
    {
     "output_type": "stream",
     "name": "stdout",
     "text": [
      "This as the convinations that add up to 9: [[2, 7], [9, 0], [3, 6], [17, -8]]\n",
      "\n",
      "This as the permutations that add up to 9: [[2, 7], [7, 2], [9, 0], [3, 6], [17, -8], [6, 3], [0, 9], [-8, 17]]\n"
     ]
    }
   ],
   "metadata": {}
  },
  {
   "cell_type": "markdown",
   "source": [
    "<h2>Exercise 7</h2><a id=\"22\"></a>\n",
    "<code>\n",
    "list_1 = ['chair','stools','dresser','picture frame']\n",
    "list_2 = ['mirror','rug','tv stand','chair','dresser']\n",
    "</code><br>\n",
    "1 - Print an unduplicated list of all items in both lists (union)<br>\n",
    "2 - Which items are duplicated in each list (intersection)"
   ],
   "metadata": {}
  },
  {
   "cell_type": "code",
   "execution_count": null,
   "source": [
    "list_1 = ['chair','stools','dresser','picture frame']\n",
    "list_2 = ['mirror','rug','tv stand','chair','dresser']\n",
    "\n",
    "print (f'The lsit-1: {list_1}')\n",
    "print (f'The lsit-2: {list_2}')\n",
    "print()\n",
    "# 1 - Print an unduplicated list of all items in both lists (union)\n",
    "union_list = list(set().union(list_1,list_2))\n",
    "print(f'The unduplicated list of all items in both lists: {union_list}')\n",
    "# 2 - Which items are duplicated in each list (intersection)\n",
    "intersection_list = list(set(list_1) & set(list_2))\n",
    "print(f'The duplicated itmes in each list: {intersection_list}')"
   ],
   "outputs": [],
   "metadata": {}
  },
  {
   "cell_type": "markdown",
   "source": [
    "<h2>Exercise 8</h2><a id=\"14\"></a>\n",
    "Create a simulated deck of cards as a list <br>\n",
    "Cards have the following attributes:<br>\n",
    "4 suits - Clubs, Spades, Diamonds and Hearts<br>\n",
    "Cards numbered 2 through 10 plus Jack, Queen, King and Ace"
   ],
   "metadata": {}
  },
  {
   "cell_type": "code",
   "execution_count": 42,
   "source": [
    "import random\n",
    "\n",
    "suits = ['Clubs', 'Spades', 'Diamonds', 'Hearts']\n",
    "num_cards = range(2,11)\n",
    "face_cards = ['Jack', 'Queen', 'King', 'Ace']\n",
    "cards = list(num_cards) + face_cards\n",
    "\n",
    "deck = []\n",
    "for i in suits:\n",
    "    for card in cards:\n",
    "        deck.append(f'{card} of {i}') #Append a list of a string and variables\n",
    "print(f'This is the deck: \\n{deck}')\n",
    "print ()\n",
    "\n",
    "card1 = random.choice(deck)\n",
    "card2 = random.choice(deck)\n",
    "print (f'You dealt 2 cards: \\n1. {card1} \\n2. {card2}')\n",
    "print ()\n",
    "\n",
    "#Shuffle my cards\n",
    "random.shuffle(deck)\n",
    "\n",
    "print(f'This is the deck shuffled: \\n{deck}')\n",
    "print ()\n",
    "help(random.shuffle)"
   ],
   "outputs": [
    {
     "output_type": "stream",
     "name": "stdout",
     "text": [
      "This is the deck: \n",
      "['2 of Clubs', '3 of Clubs', '4 of Clubs', '5 of Clubs', '6 of Clubs', '7 of Clubs', '8 of Clubs', '9 of Clubs', '10 of Clubs', 'Jack of Clubs', 'Queen of Clubs', 'King of Clubs', 'Ace of Clubs', '2 of Spades', '3 of Spades', '4 of Spades', '5 of Spades', '6 of Spades', '7 of Spades', '8 of Spades', '9 of Spades', '10 of Spades', 'Jack of Spades', 'Queen of Spades', 'King of Spades', 'Ace of Spades', '2 of Diamonds', '3 of Diamonds', '4 of Diamonds', '5 of Diamonds', '6 of Diamonds', '7 of Diamonds', '8 of Diamonds', '9 of Diamonds', '10 of Diamonds', 'Jack of Diamonds', 'Queen of Diamonds', 'King of Diamonds', 'Ace of Diamonds', '2 of Hearts', '3 of Hearts', '4 of Hearts', '5 of Hearts', '6 of Hearts', '7 of Hearts', '8 of Hearts', '9 of Hearts', '10 of Hearts', 'Jack of Hearts', 'Queen of Hearts', 'King of Hearts', 'Ace of Hearts']\n",
      "\n",
      "You dealt 2 cards: \n",
      "1. 7 of Clubs \n",
      "2. Jack of Clubs\n",
      "\n",
      "This is the deck shuffled: \n",
      "['10 of Clubs', '9 of Hearts', '6 of Hearts', '3 of Diamonds', 'King of Hearts', 'Jack of Hearts', '3 of Spades', '9 of Diamonds', 'Queen of Spades', 'Ace of Diamonds', 'Jack of Diamonds', '5 of Hearts', '4 of Clubs', '9 of Spades', '10 of Spades', '8 of Hearts', 'Jack of Clubs', '8 of Diamonds', '7 of Hearts', '6 of Diamonds', '2 of Diamonds', '5 of Spades', '9 of Clubs', '5 of Diamonds', '4 of Hearts', 'Queen of Diamonds', '5 of Clubs', '6 of Clubs', 'Jack of Spades', '3 of Hearts', 'King of Diamonds', '8 of Spades', 'Queen of Clubs', '2 of Spades', '7 of Diamonds', 'Ace of Clubs', '8 of Clubs', '7 of Clubs', '7 of Spades', '10 of Diamonds', 'King of Spades', 'Queen of Hearts', '2 of Hearts', 'King of Clubs', '6 of Spades', 'Ace of Spades', 'Ace of Hearts', '4 of Spades', '10 of Hearts', '2 of Clubs', '3 of Clubs', '4 of Diamonds']\n",
      "\n",
      "Help on method shuffle in module random:\n",
      "\n",
      "shuffle(x, random=None) method of random.Random instance\n",
      "    Shuffle list x in place, and return None.\n",
      "    \n",
      "    Optional argument random is a 0-argument function returning a\n",
      "    random float in [0.0, 1.0); if it is the default None, the\n",
      "    standard random.random will be used.\n",
      "\n"
     ]
    }
   ],
   "metadata": {}
  },
  {
   "cell_type": "markdown",
   "source": [
    "<h2>Exercise 9</h2><a id=\"16\"></a>\n",
    "a - Recreate a simulated deck of cards as a dictionary where the key is the name<br>\n",
    "and the value is the value of the card.  Remember the Ace can be a 1 or 11<br>\n",
    "b - Deal 3 players (player_1, player_2, player_3) 2 cards and determine who has the higher amount<br>\n",
    "NOTE: Deal with the fact the Ace returns a tuple take the higher amount for now"
   ],
   "metadata": {}
  },
  {
   "cell_type": "code",
   "execution_count": 56,
   "source": [
    "import random\n",
    "\n",
    "suits = ['Clubs', 'Spades', 'Diamonds', 'Hearts']\n",
    "\n",
    "num_cards = range(2,11)\n",
    "face_cards = ['Jack', 'Queen', 'King','Ace']\n",
    "\n",
    "cards = list(num_cards) + face_cards\n",
    "deck = []\n",
    "\n",
    "#method 1 - Creating the list manually\n",
    "card_value = [2,3,4,5,6,7,8,9,10,10,10,10,(1,11)]\n",
    "\n",
    "#method 2 - Creating the list through List Comprehensive\n",
    "card_value = [x if isinstance(x,int) else (1,11) if x == 'Ace' else 10 for x in cards]\n",
    "\n",
    "deck = {}\n",
    "for i in suits:\n",
    "    for j,card in enumerate(cards):\n",
    "        deck[f'{card} of {i}'] = card_value[j]\n",
    "print(f\"Deck and it's value: \\n {deck end =','}\")"
   ],
   "outputs": [
    {
     "output_type": "stream",
     "name": "stdout",
     "text": [
      "Deck and it's value: \n",
      " {'2 of Clubs': 2, '3 of Clubs': 3, '4 of Clubs': 4, '5 of Clubs': 5, '6 of Clubs': 6, '7 of Clubs': 7, '8 of Clubs': 8, '9 of Clubs': 9, '10 of Clubs': 10, 'Jack of Clubs': 10, 'Queen of Clubs': 10, 'King of Clubs': 10, 'Ace of Clubs': (1, 11), '2 of Spades': 2, '3 of Spades': 3, '4 of Spades': 4, '5 of Spades': 5, '6 of Spades': 6, '7 of Spades': 7, '8 of Spades': 8, '9 of Spades': 9, '10 of Spades': 10, 'Jack of Spades': 10, 'Queen of Spades': 10, 'King of Spades': 10, 'Ace of Spades': (1, 11), '2 of Diamonds': 2, '3 of Diamonds': 3, '4 of Diamonds': 4, '5 of Diamonds': 5, '6 of Diamonds': 6, '7 of Diamonds': 7, '8 of Diamonds': 8, '9 of Diamonds': 9, '10 of Diamonds': 10, 'Jack of Diamonds': 10, 'Queen of Diamonds': 10, 'King of Diamonds': 10, 'Ace of Diamonds': (1, 11), '2 of Hearts': 2, '3 of Hearts': 3, '4 of Hearts': 4, '5 of Hearts': 5, '6 of Hearts': 6, '7 of Hearts': 7, '8 of Hearts': 8, '9 of Hearts': 9, '10 of Hearts': 10, 'Jack of Hearts': 10, 'Queen of Hearts': 10, 'King of Hearts': 10, 'Ace of Hearts': (1, 11)} end =','\n"
     ]
    }
   ],
   "metadata": {}
  },
  {
   "cell_type": "markdown",
   "source": [
    "<h2>Exercise 10</h2>\n",
    "Create a program the outputs the first day of the month, the last day of the month,<br>\n",
    "and the number of days in the month as a list<br>\n",
    "Example<br>\n",
    "(1/1/2020,1/31/2020,31 days)<br>\n",
    "(2/1/2020,2/29/2020,29 days)<br>\n",
    "<br>\n",
    "NOTE: Do not import calendar"
   ],
   "metadata": {}
  },
  {
   "cell_type": "code",
   "execution_count": 57,
   "source": [
    "import datetime\n",
    "\n",
    "# step 1 - create the months\n",
    "# step 2 - create the first day of every month\n",
    "# step 3 - get the next month minus 1 day to get the last day of that month\n",
    "# step 4 - Calculate the number of days in the month\n",
    "\n",
    "year = 2020\n",
    "for i in range(1,13):\n",
    "    first_day_of_month = datetime.date(year,i,1)\n",
    "    if i == 12:\n",
    "        last_day_of_month =  datetime.date(year+1,1,1) - datetime.timedelta(days = 1)\n",
    "    else:\n",
    "        last_day_of_month =  datetime.date(year,i+1,1) - datetime.timedelta(days = 1)\n",
    "\n",
    "    # method 1 - subtract the 2 dates and add 1\n",
    "    # print(type(first_day_of_month),type(last_day_of_month))\n",
    "    print(first_day_of_month,last_day_of_month,(last_day_of_month - first_day_of_month).days+1)\n",
    "\n",
    "    # method 2 - use slicing\n",
    "    print(first_day_of_month,last_day_of_month,last_day_of_month.strftime('%Y/%m/%d')[-2:])\n"
   ],
   "outputs": [
    {
     "output_type": "stream",
     "name": "stdout",
     "text": [
      "2020-01-01 2020-01-31 31\n",
      "2020-01-01 2020-01-31 31\n",
      "2020-02-01 2020-02-29 29\n",
      "2020-02-01 2020-02-29 29\n",
      "2020-03-01 2020-03-31 31\n",
      "2020-03-01 2020-03-31 31\n",
      "2020-04-01 2020-04-30 30\n",
      "2020-04-01 2020-04-30 30\n",
      "2020-05-01 2020-05-31 31\n",
      "2020-05-01 2020-05-31 31\n",
      "2020-06-01 2020-06-30 30\n",
      "2020-06-01 2020-06-30 30\n",
      "2020-07-01 2020-07-31 31\n",
      "2020-07-01 2020-07-31 31\n",
      "2020-08-01 2020-08-31 31\n",
      "2020-08-01 2020-08-31 31\n",
      "2020-09-01 2020-09-30 30\n",
      "2020-09-01 2020-09-30 30\n",
      "2020-10-01 2020-10-31 31\n",
      "2020-10-01 2020-10-31 31\n",
      "2020-11-01 2020-11-30 30\n",
      "2020-11-01 2020-11-30 30\n",
      "2020-12-01 2020-12-31 31\n",
      "2020-12-01 2020-12-31 31\n"
     ]
    }
   ],
   "metadata": {}
  },
  {
   "cell_type": "markdown",
   "source": [
    "This notebook is part of a python assessment for a knowledge check for a course at www.codeimmersives.com . If you accessed this notebook outside the course, you can get more information about this course online by \n",
    "clicking [here](https://www.codeimmersives.com/programs/python-aws/)."
   ],
   "metadata": {}
  },
  {
   "cell_type": "markdown",
   "source": [
    "<hr>\n",
    "\n",
    "Copyright &copy; 2021  Code Immersives"
   ],
   "metadata": {}
  }
 ],
 "metadata": {
  "kernelspec": {
   "name": "python3",
   "display_name": "Python 3.9.7 64-bit"
  },
  "language_info": {
   "codemirror_mode": {
    "name": "ipython",
    "version": 3
   },
   "file_extension": ".py",
   "mimetype": "text/x-python",
   "name": "python",
   "nbconvert_exporter": "python",
   "pygments_lexer": "ipython3",
   "version": "3.9.7"
  },
  "interpreter": {
   "hash": "aee8b7b246df8f9039afb4144a1f6fd8d2ca17a180786b69acc140d282b71a49"
  }
 },
 "nbformat": 4,
 "nbformat_minor": 4
}