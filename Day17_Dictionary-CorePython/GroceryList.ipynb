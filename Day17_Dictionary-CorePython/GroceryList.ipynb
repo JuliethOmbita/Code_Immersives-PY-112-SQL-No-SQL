{
 "cells": [
  {
   "cell_type": "markdown",
   "source": [
    "Exercise\n",
    "grocery_list = {'2021-1-3':{'milk': 4.99},\n",
    "                '2021-1-10':{'milk': 4.99,'eggs': 6.99, 'beer': 14.99},\n",
    "                '2021-1-17':{'Milk': 4.99,'eggs': 7.99, 'coffee': 6.79},\n",
    "                '2021-1-24':{'milk': 4.49,'diapers': 16.99, 'flour': 3.99},\n",
    "                '2021-2-1':{'Broccoli': 2.99,'Onions': 1.99, 'peppers': 3.69},\n",
    "                '2021-2-6':{'milk': 4.99,'eggs': 6.99, 'beer': 19.99},\n",
    "                '2021-2-17':{'milk': 5.09,'broccoli': 2.79, 'beer': 21.99},\n",
    "                '2021-2-28':{'Diapers': 4.99,'eggs': 6.99, 'beer': 17.99},\n",
    "                '2021-3-5':{'Coffee': 6.19,'eggs': 6.99, 'beer': 18.99},\n",
    "                '2021-3-13':{'diapers': 4.99,'eggs': 6.49, 'Onions': 2.39},\n",
    "                '2021-3-20':{'Flour': 4.19,'Beer': 17.99, 'Diapers': 12.99},\n",
    "                '2021-4-1':{'milk': 5.29,'eggs': 7.59,'Flour': 4.39}}\n",
    "1 - What was the total grocery bill for each month\n",
    "2 - What was the average price paid for each commodity (remove misspellings) \n",
    "3 - Create a dictionary with the item name as key and the value a tuple with\n",
    "(the number of times item purchased,Total spent across all months)\n",
    "In [ ]:"
   ],
   "metadata": {}
  },
  {
   "cell_type": "code",
   "execution_count": 1,
   "source": [
    "grocery_list = {'2021-1-3':{'milk': 4.99},\n",
    "                '2021-1-10':{'milk': 4.99,'eggs': 6.99, 'beer': 14.99},\n",
    "                '2021-1-17':{'Milk': 4.99,'eggs': 7.99, 'coffee': 6.79},\n",
    "                '2021-1-24':{'milk': 4.49,'diapers': 16.99, 'flour': 3.99},\n",
    "                '2021-2-1':{'Broccoli': 2.99,'Onions': 1.99, 'peppers': 3.69},\n",
    "                '2021-2-6':{'milk': 4.99,'eggs': 6.99, 'beer': 19.99},\n",
    "                '2021-2-17':{'milk': 5.09,'broccoli': 2.79, 'beer': 21.99},\n",
    "                '2021-2-28':{'Diapers': 4.99,'eggs': 6.99, 'beer': 17.99},\n",
    "                '2021-3-5':{'Coffee': 6.19,'eggs': 6.99, 'beer': 18.99},\n",
    "                '2021-3-13':{'diapers': 4.99,'eggs': 6.49, 'Onions': 2.39},\n",
    "                '2021-3-20':{'Flour': 4.19,'Beer': 17.99, 'Diapers': 12.99},\n",
    "                '2021-4-1':{'milk': 5.29,'eggs': 7.59,'Flour': 4.39}}"
   ],
   "outputs": [],
   "metadata": {}
  },
  {
   "cell_type": "code",
   "execution_count": 98,
   "source": [
    "# 1. \n",
    "tot_month = {}\n",
    "for dates,vals in grocery_list.items():\n",
    "    y,m,d = dates.split('-')\n",
    "    if not m in tot_month:\n",
    "        tot_month[m] = 0\n",
    "    tot_month[m] += sum([v2 for k2,v2 in vals.items()])\n",
    "print (tot_month)"
   ],
   "outputs": [
    {
     "output_type": "stream",
     "name": "stdout",
     "text": [
      "{'1': 77.2, '2': 100.47999999999999, '3': 81.21000000000001, '4': 17.27}\n"
     ]
    }
   ],
   "metadata": {}
  },
  {
   "cell_type": "code",
   "execution_count": 107,
   "source": [
    "# 2 - What was the average price paid for each commodity (remove misspellings) \n",
    "per_item = {}\n",
    "for dates,vals in grocery_list.items():\n",
    "    for comodity,price in vals.items():\n",
    "        # print (comodity)\n",
    "        comodity = comodity.title()\n",
    "        if not comodity in per_item:\n",
    "            per_item[comodity] = []\n",
    "        per_item[comodity].append(price)\n",
    "print (per_item)\n",
    "print()\n",
    "avg_cost = [(k,round(sum(v)/len(v),2) if len(v) else None) for k,v in per_item.items()]\n",
    "print (avg_cost)"
   ],
   "outputs": [
    {
     "output_type": "stream",
     "name": "stdout",
     "text": [
      "{'Milk': [4.99, 4.99, 4.99, 4.49, 4.99, 5.09, 5.29], 'Eggs': [6.99, 7.99, 6.99, 6.99, 6.99, 6.49, 7.59], 'Beer': [14.99, 19.99, 21.99, 17.99, 18.99, 17.99], 'Coffee': [6.79, 6.19], 'Diapers': [16.99, 4.99, 4.99, 12.99], 'Flour': [3.99, 4.19, 4.39], 'Broccoli': [2.99, 2.79], 'Onions': [1.99, 2.39], 'Peppers': [3.69]}\n",
      "\n",
      "[('Milk', 4.98), ('Eggs', 7.15), ('Beer', 18.66), ('Coffee', 6.49), ('Diapers', 9.99), ('Flour', 4.19), ('Broccoli', 2.89), ('Onions', 2.19), ('Peppers', 3.69)]\n"
     ]
    }
   ],
   "metadata": {}
  },
  {
   "cell_type": "code",
   "execution_count": 109,
   "source": [
    "# 3 - Create a dictionary with the item name as key and the value a tuple with\n",
    "# (the number of times item purchased,Total spent across all months)\n",
    "# In [ ]:\n",
    "\n",
    "per_item = {}\n",
    "for dates,vals in grocery_list.items():\n",
    "    for comodity,price in vals.items():\n",
    "        # print (comodity)\n",
    "        comodity = comodity.title()\n",
    "        if not comodity in per_item:\n",
    "            per_item[comodity] = []\n",
    "        per_item[comodity].append(price)\n",
    "# print (per_item)\n",
    "print()\n",
    "\n",
    "avg_cost = {k: (len(v),round(sum(v),2)) for k,v in per_item.items()}\n",
    "print (avg_cost)\n"
   ],
   "outputs": [
    {
     "output_type": "stream",
     "name": "stdout",
     "text": [
      "\n",
      "{'Milk': (7, 34.83), 'Eggs': (7, 50.03), 'Beer': (6, 111.94), 'Coffee': (2, 12.98), 'Diapers': (4, 39.96), 'Flour': (3, 12.57), 'Broccoli': (2, 5.78), 'Onions': (2, 4.38), 'Peppers': (1, 3.69)}\n"
     ]
    }
   ],
   "metadata": {}
  }
 ],
 "metadata": {
  "orig_nbformat": 4,
  "language_info": {
   "name": "python",
   "version": "3.9.7",
   "mimetype": "text/x-python",
   "codemirror_mode": {
    "name": "ipython",
    "version": 3
   },
   "pygments_lexer": "ipython3",
   "nbconvert_exporter": "python",
   "file_extension": ".py"
  },
  "kernelspec": {
   "name": "python3",
   "display_name": "Python 3.9.7 64-bit"
  },
  "interpreter": {
   "hash": "aee8b7b246df8f9039afb4144a1f6fd8d2ca17a180786b69acc140d282b71a49"
  }
 },
 "nbformat": 4,
 "nbformat_minor": 2
}