{
 "cells": [
  {
   "cell_type": "markdown",
   "source": [
    "<h2>Exercise</h2>\n",
    "Take the following phrases iterate over them and return the top 5 letters found in <br>\n",
    "all of the phrases:<br>\n",
    "<code>\n",
    "phrases = [['How much wood could a wood chuck chuck if a woodchuck could chuck wood'],\n",
    "           ['Sally sells sea shells by the sea shore']]\n",
    "</code>"
   ],
   "metadata": {}
  },
  {
   "cell_type": "code",
   "execution_count": 14,
   "source": [
    "phrases = [['How much wood could a wood chuck chuck if a woodchuck could chuck wood'],\n",
    "           ['Sally sells sea shells by the sea shore']]\n",
    "letters = {}\n",
    "for i in phrases[0]:\n",
    "    for y,x in enumerate (i):\n",
    "        x.lower() \n",
    "        if not x in letters:\n",
    "            letters [x] = 0 \n",
    "        letters [x] += 1 \n",
    "print (letters)\n",
    "\n",
    "\n",
    "    # for y in phrases[i]:\n",
    "    #     print (y)"
   ],
   "outputs": [
    {
     "output_type": "stream",
     "name": "stdout",
     "text": [
      "{'H': 1, 'o': 11, 'w': 5, ' ': 13, 'm': 1, 'u': 7, 'c': 11, 'h': 5, 'd': 6, 'l': 2, 'a': 2, 'k': 4, 'i': 1, 'f': 1}\n"
     ]
    }
   ],
   "metadata": {}
  },
  {
   "cell_type": "code",
   "execution_count": null,
   "source": [
    "for row in c.execute('SELECT dept_name FROM depts'):\n",
    "    # print (row[0], len (row[0]))\n",
    "    for letter in row[0]:\n",
    "        letter = 'SPACE' if letter == ' ' else letter.lower()\n",
    "        if not letter in letters:\n",
    "            letters [letter] = 0 \n",
    "        letters [letter] += 1 \n",
    "print (letters)"
   ],
   "outputs": [],
   "metadata": {}
  }
 ],
 "metadata": {
  "orig_nbformat": 4,
  "language_info": {
   "name": "python",
   "version": "3.9.7",
   "mimetype": "text/x-python",
   "codemirror_mode": {
    "name": "ipython",
    "version": 3
   },
   "pygments_lexer": "ipython3",
   "nbconvert_exporter": "python",
   "file_extension": ".py"
  },
  "kernelspec": {
   "name": "python3",
   "display_name": "Python 3.9.7 64-bit"
  },
  "interpreter": {
   "hash": "aee8b7b246df8f9039afb4144a1f6fd8d2ca17a180786b69acc140d282b71a49"
  }
 },
 "nbformat": 4,
 "nbformat_minor": 2
}