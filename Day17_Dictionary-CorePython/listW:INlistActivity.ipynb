{
 "cells": [
  {
   "cell_type": "markdown",
   "source": [
    "Exercise\n",
    "Flatten the following list within a list: \n",
    "items = [['Red','Yellow','Blue'],['Orange','Silver','Black'],['Teal','Green']]\n",
    "In [19]:"
   ],
   "metadata": {}
  },
  {
   "cell_type": "code",
   "execution_count": 3,
   "source": [
    "items = [['Red','Yellow','Blue'],['Orange','Silver','Black'],['Teal','Green']]\n",
    "my_list = [y for i in range (len(items)) for y in items[i]]\n",
    "# print (my_list)\n",
    "\n",
    "print(sum(items, []))"
   ],
   "outputs": [
    {
     "output_type": "stream",
     "name": "stdout",
     "text": [
      "['Red', 'Yellow', 'Blue', 'Orange', 'Silver', 'Black', 'Teal', 'Green']\n"
     ]
    }
   ],
   "metadata": {}
  }
 ],
 "metadata": {
  "orig_nbformat": 4,
  "language_info": {
   "name": "python",
   "version": "3.9.7",
   "mimetype": "text/x-python",
   "codemirror_mode": {
    "name": "ipython",
    "version": 3
   },
   "pygments_lexer": "ipython3",
   "nbconvert_exporter": "python",
   "file_extension": ".py"
  },
  "kernelspec": {
   "name": "python3",
   "display_name": "Python 3.9.7 64-bit"
  },
  "interpreter": {
   "hash": "aee8b7b246df8f9039afb4144a1f6fd8d2ca17a180786b69acc140d282b71a49"
  }
 },
 "nbformat": 4,
 "nbformat_minor": 2
}