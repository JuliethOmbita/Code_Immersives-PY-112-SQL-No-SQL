{
 "cells": [
  {
   "cell_type": "code",
   "execution_count": 35,
   "source": [
    "#Create a database\n",
    "\n",
    "import sqlite3\n",
    "import os\n",
    "\n",
    "cwd = os.getcwd()\n",
    "# print(cwd)\n",
    "os.chdir(r'/Users/julis_478/Documents/Python Immersives/PY-112 SQL, No SQL/Classes/Day9')\n",
    "conn = sqlite3.connect('library.db')  # <== create the database\n",
    "cwd = os.getcwd()\n",
    "c = conn.cursor()\n"
   ],
   "outputs": [],
   "metadata": {}
  },
  {
   "cell_type": "code",
   "execution_count": 37,
   "source": [
    "#Create person and book tables and insert the information of a book\n",
    "\n",
    "import sqlite3\n",
    "import os\n",
    "\n",
    "os.chdir(r'/Users/julis_478/Documents/Python Immersives/PY-112 SQL, No SQL/Classes/Day9')\n",
    "conn = sqlite3.connect('library.db')  # <== create the database\n",
    "c = conn.cursor()\n",
    "\n",
    "c.executescript('''\n",
    "    create table IF NOT EXISTS person(\n",
    "        first_name TEXT,\n",
    "        last_name TEXT,\n",
    "        age INTEGER\n",
    "    );\n",
    "    create table IF NOT EXISTS book(\n",
    "        title TEXT,\n",
    "        author TEXT,\n",
    "        published TEXT\n",
    "    );\n",
    "\n",
    "    insert INTO book(title, author, published) VALUES ('Dirk Gently''y Holistic Detective Agency', 'Doublas Adam', 1987);\n",
    "    ''')\n",
    "conn.commit()\n",
    "c.execute('SELECT * FROM book')\n",
    "r = c.fetchone()\n",
    "for book in r:\n",
    "    print(book)\n",
    "conn.close()\n"
   ],
   "outputs": [
    {
     "output_type": "stream",
     "name": "stdout",
     "text": [
      "Dirk Gently'y Holistic Detective Agency\n",
      "Doublas Adam\n",
      "1987\n"
     ]
    }
   ],
   "metadata": {}
  },
  {
   "cell_type": "code",
   "execution_count": 38,
   "source": [
    "# Which tables were created\n",
    "\n",
    "import sqlite3\n",
    "import os\n",
    "\n",
    "os.chdir(r'/Users/julis_478/Documents/Python Immersives/PY-112 SQL, No SQL/Classes/Day9')\n",
    "conn = sqlite3.connect('library.db')  # <== create the database\n",
    "c = conn.cursor()\n",
    "# list all of the tables\n",
    "c.execute(\"\"\"SELECT name FROM sqlite_master\"\"\")\n",
    "tables = c.fetchall()\n",
    "for table in tables:\n",
    "    print(table)\n",
    "conn.close()"
   ],
   "outputs": [
    {
     "output_type": "stream",
     "name": "stdout",
     "text": [
      "('person',)\n",
      "('books',)\n",
      "('book',)\n"
     ]
    }
   ],
   "metadata": {}
  },
  {
   "cell_type": "code",
   "execution_count": 41,
   "source": [
    "# Get rid of the book table - DELETE a Table\n",
    "\n",
    "\n",
    "import sqlite3\n",
    "import os\n",
    "\n",
    "os.chdir(r'/Users/julis_478/Documents/Python Immersives/PY-112 SQL, No SQL/Classes/Day9')\n",
    "conn = sqlite3.connect('library.db')  # <== create the database\n",
    "c = conn.cursor()\n",
    "c.execute(\"\"\"SELECT name FROM sqlite_master\"\"\")\n",
    "tables = c.fetchall()\n",
    "\n",
    "#Verify if the table is in library\n",
    "\n",
    "for table in tables:\n",
    "    print(table)\n",
    "    if table[0] == 'book':\n",
    "        c.execute('DROP TABLE book')\n",
    "        print (f'Deleted {table[0]}')\n",
    "        conn.commit()\n",
    "        \n",
    "print ('='*35)\n",
    "c.execute(\"\"\"SELECT name FROM sqlite_master\"\"\")\n",
    "tables = c.fetchall()\n",
    "for table in tables:\n",
    "    print(table)\n",
    "\n",
    "conn.close()"
   ],
   "outputs": [
    {
     "output_type": "stream",
     "name": "stdout",
     "text": [
      "('person',)\n",
      "('books',)\n",
      "Deleted books\n",
      "===================================\n",
      "('person',)\n"
     ]
    }
   ],
   "metadata": {}
  },
  {
   "cell_type": "code",
   "execution_count": 42,
   "source": [
    "import sqlite3\n",
    "import os\n",
    "\n",
    "os.chdir(r'/Users/julis_478/Documents/Python Immersives/PY-112 SQL, No SQL/Classes/Day9')\n",
    "conn = sqlite3.connect('library.db')  # <== create the database\n",
    "c = conn.cursor()\n",
    "c.execute('''\n",
    "    create table IF NOT EXISTS books(\n",
    "        id TEXT,\n",
    "        title TEXT,\n",
    "        author TEXT\n",
    "    );''')\n",
    "\n",
    "c.execute(\"\"\"INSERT into books(id, title, author) values ('001','Outliers','Malcolm Gladwell');\"\"\")\n",
    "c.execute(\"\"\"INSERT into books(id, title, author) values ('002','Humble Pie','Matt Parker');\"\"\")\n",
    "c.execute(\"\"\"INSERT into books(id, title, author) values ('003','52 Small Changes','Brett Blumenthal');\"\"\")\n",
    "c.execute(\"\"\"INSERT into books(id, title, author) values ('004','Blink','Malcolm Gladwell');\"\"\")\n",
    "c.execute(\"\"\"INSERT into books(id, title, author) values ('005','The Tipping Point','Malcolm Gladwell');\"\"\")\n",
    "c.execute(\"\"\"INSERT into books(id, title, author) values ('006','All the Powers of Earth','Sidney Blumenthal'); \"\"\")\n",
    "conn.commit()\n",
    "c.execute('SELECT * FROM books')\n",
    "books = c.fetchall()\n",
    "\n",
    "for book in books:\n",
    "    print(book)\n",
    "    print('='*35)\n",
    "conn.close()\n",
    "\n"
   ],
   "outputs": [
    {
     "output_type": "stream",
     "name": "stdout",
     "text": [
      "('001', 'Outliers', 'Malcolm Gladwell')\n",
      "===================================\n",
      "('002', 'Humble Pie', 'Matt Parker')\n",
      "===================================\n",
      "('003', '52 Small Changes', 'Brett Blumenthal')\n",
      "===================================\n",
      "('004', 'Blink', 'Malcolm Gladwell')\n",
      "===================================\n",
      "('005', 'The Tipping Point', 'Malcolm Gladwell')\n",
      "===================================\n",
      "('006', 'All the Powers of Earth', 'Sidney Blumenthal')\n",
      "===================================\n"
     ]
    }
   ],
   "metadata": {}
  },
  {
   "cell_type": "code",
   "execution_count": 43,
   "source": [
    "#count all the values in book\n",
    " \n",
    "import sqlite3\n",
    "import os\n",
    "\n",
    "os.chdir(r'/Users/julis_478/Documents/Python Immersives/PY-112 SQL, No SQL/Classes/Day9')\n",
    "conn = sqlite3.connect('library.db')  # <== create the database\n",
    "c = conn.cursor()\n",
    "c.execute('SELECT ALL count(*) FROM books') #count all the values in book\n",
    "books = c.fetchall()\n",
    "\n",
    "for book in books:\n",
    "    print(book)\n",
    "    print('+'*35)\n",
    "    conn.close()"
   ],
   "outputs": [
    {
     "output_type": "stream",
     "name": "stdout",
     "text": [
      "(6,)\n",
      "+++++++++++++++++++++++++++++++++++\n"
     ]
    }
   ],
   "metadata": {}
  },
  {
   "cell_type": "code",
   "execution_count": 30,
   "source": [
    "#Count distint values based on a field name\n",
    " \n",
    "import sqlite3\n",
    "import os\n",
    "\n",
    "os.chdir(r'/Users/julis_478/Documents/Python Immersives/PY-112 SQL, No SQL/Classes/Day9')\n",
    "conn = sqlite3.connect('library.db')  # <== create the database\n",
    "c = conn.cursor()\n",
    "c.execute('SELECT count(DISTINCT id) FROM books') #count all the values in book\n",
    "books = c.fetchall()\n",
    "\n",
    "for book in books:\n",
    "    print(book)\n",
    "    print('+'*35)\n",
    "    conn.close()"
   ],
   "outputs": [
    {
     "output_type": "stream",
     "name": "stdout",
     "text": [
      "(6,)\n",
      "+++++++++++++++++++++++++++++++++++\n"
     ]
    }
   ],
   "metadata": {}
  },
  {
   "cell_type": "code",
   "execution_count": 44,
   "source": [
    "#Count distint values based on a field name\n",
    "# (No run - next boxes wont work)\n",
    " \n",
    "import sqlite3\n",
    "import os\n",
    "\n",
    "os.chdir(r'/Users/julis_478/Documents/Python Immersives/PY-112 SQL, No SQL/Classes/Day9')\n",
    "conn = sqlite3.connect('library.db')  # <== create the database\n",
    "c = conn.cursor()\n",
    "c.execute('ALTER TABLE books RENAME TO my_books') #count all the values in book\n",
    "conn.commit()\n",
    "c.execute('SELECT * FROM my_books')\n",
    "books = c.fetchall()\n",
    "\n",
    "for book in books:\n",
    "    print(book)\n",
    "\n",
    "#Rename it back to books\n",
    "c.execute('ALTER TABLE my_books RENAME TO books')\n",
    "conn.commit()\n",
    "conn.close()"
   ],
   "outputs": [
    {
     "output_type": "stream",
     "name": "stdout",
     "text": [
      "('001', 'Outliers', 'Malcolm Gladwell')\n",
      "('002', 'Humble Pie', 'Matt Parker')\n",
      "('003', '52 Small Changes', 'Brett Blumenthal')\n",
      "('004', 'Blink', 'Malcolm Gladwell')\n",
      "('005', 'The Tipping Point', 'Malcolm Gladwell')\n",
      "('006', 'All the Powers of Earth', 'Sidney Blumenthal')\n"
     ]
    }
   ],
   "metadata": {}
  },
  {
   "cell_type": "code",
   "execution_count": 45,
   "source": [
    "#Rename a collumn\n",
    " \n",
    "import sqlite3\n",
    "import os\n",
    "\n",
    "os.chdir(r'/Users/julis_478/Documents/Python Immersives/PY-112 SQL, No SQL/Classes/Day9')\n",
    "conn = sqlite3.connect('library.db')  # <== create the database\n",
    "c = conn.cursor()\n",
    "c.execute('ALTER TABLE books RENAME COLUMN title TO sub_title') #count all the values in book\n",
    "conn.commit()\n",
    "c.execute('SELECT * FROM books')\n",
    "books = c.fetchall()\n",
    "#\n",
    "for book in books:\n",
    "    print(book)\n",
    "    print('='*30)\n",
    "\n",
    "# Rename it back\n",
    "c.execute('ALTER TABLE books RENAME COLUMN sub_title TO title') #count all the values in book\n",
    "conn.commit()\n",
    "c.execute('SELECT * FROM books')\n",
    "books = c.fetchall()\n",
    "#\n",
    "for book in books:\n",
    "    print(book)\n",
    "    print('='*30)\n",
    "conn.close()\n"
   ],
   "outputs": [
    {
     "output_type": "stream",
     "name": "stdout",
     "text": [
      "('001', 'Outliers', 'Malcolm Gladwell')\n",
      "==============================\n",
      "('002', 'Humble Pie', 'Matt Parker')\n",
      "==============================\n",
      "('003', '52 Small Changes', 'Brett Blumenthal')\n",
      "==============================\n",
      "('004', 'Blink', 'Malcolm Gladwell')\n",
      "==============================\n",
      "('005', 'The Tipping Point', 'Malcolm Gladwell')\n",
      "==============================\n",
      "('006', 'All the Powers of Earth', 'Sidney Blumenthal')\n",
      "==============================\n",
      "('001', 'Outliers', 'Malcolm Gladwell')\n",
      "==============================\n",
      "('002', 'Humble Pie', 'Matt Parker')\n",
      "==============================\n",
      "('003', '52 Small Changes', 'Brett Blumenthal')\n",
      "==============================\n",
      "('004', 'Blink', 'Malcolm Gladwell')\n",
      "==============================\n",
      "('005', 'The Tipping Point', 'Malcolm Gladwell')\n",
      "==============================\n",
      "('006', 'All the Powers of Earth', 'Sidney Blumenthal')\n",
      "==============================\n"
     ]
    }
   ],
   "metadata": {}
  },
  {
   "cell_type": "code",
   "execution_count": 46,
   "source": [
    "# Add column to a table \n",
    "\n",
    "import sqlite3\n",
    "import os\n",
    "\n",
    "os.chdir(r'/Users/julis_478/Documents/Python Immersives/PY-112 SQL, No SQL/Classes/Day9')\n",
    "conn = sqlite3.connect('library.db')  # <== create the database\n",
    "c = conn.cursor()\n",
    "c.execute('ALTER TABLE books ADD COLUMN price TEXT')\n",
    "conn.commit()\n",
    "c.execute('ALTER TABLE books ADD COLUMN ebook_price TEXT')\n",
    "conn.commit()\n",
    "c.execute('SELECT * FROM books')\n",
    "books = c.fetchall()\n",
    "#\n",
    "for book in books:\n",
    "    print(book)\n",
    "    print('='*30)\n",
    "conn.close()\n"
   ],
   "outputs": [
    {
     "output_type": "stream",
     "name": "stdout",
     "text": [
      "('001', 'Outliers', 'Malcolm Gladwell', None, None)\n",
      "==============================\n",
      "('002', 'Humble Pie', 'Matt Parker', None, None)\n",
      "==============================\n",
      "('003', '52 Small Changes', 'Brett Blumenthal', None, None)\n",
      "==============================\n",
      "('004', 'Blink', 'Malcolm Gladwell', None, None)\n",
      "==============================\n",
      "('005', 'The Tipping Point', 'Malcolm Gladwell', None, None)\n",
      "==============================\n",
      "('006', 'All the Powers of Earth', 'Sidney Blumenthal', None, None)\n",
      "==============================\n"
     ]
    }
   ],
   "metadata": {}
  },
  {
   "cell_type": "code",
   "execution_count": 47,
   "source": [
    "import sqlite3\n",
    "import os\n",
    "\n",
    "os.chdir(r'/Users/julis_478/Documents/Python Immersives/PY-112 SQL, No SQL/Classes/Day9')\n",
    "conn = sqlite3.connect('library.db')  # <== create the database\n",
    "c = conn.cursor()\n",
    "c.execute(''' \n",
    "    UPDATE books SET\n",
    "    price = '12.99' \n",
    "    WHERE author = 'Malcolm Gladwell'\n",
    "''')\n",
    "conn.commit()\n",
    "c.execute('SELECT * FROM books')\n",
    "books = c.fetchall()\n",
    "#\n",
    "for book in books:\n",
    "    print(book)\n",
    "    print('='*30)\n",
    "conn.close()"
   ],
   "outputs": [
    {
     "output_type": "stream",
     "name": "stdout",
     "text": [
      "('001', 'Outliers', 'Malcolm Gladwell', '12.99', None)\n",
      "==============================\n",
      "('002', 'Humble Pie', 'Matt Parker', None, None)\n",
      "==============================\n",
      "('003', '52 Small Changes', 'Brett Blumenthal', None, None)\n",
      "==============================\n",
      "('004', 'Blink', 'Malcolm Gladwell', '12.99', None)\n",
      "==============================\n",
      "('005', 'The Tipping Point', 'Malcolm Gladwell', '12.99', None)\n",
      "==============================\n",
      "('006', 'All the Powers of Earth', 'Sidney Blumenthal', None, None)\n",
      "==============================\n"
     ]
    }
   ],
   "metadata": {}
  },
  {
   "cell_type": "markdown",
   "source": [
    "<h2>Exercise  </h2>\n",
    "<br>\n",
    "Set the price of all Blumnethal books at 9.99 <br>\n",
    "Set the price of Matt Parker's book at 7.99 <br>"
   ],
   "metadata": {}
  },
  {
   "cell_type": "code",
   "execution_count": 48,
   "source": [
    "import sqlite3\n",
    "import os\n",
    "\n",
    "os.chdir(r'/Users/julis_478/Documents/Python Immersives/PY-112 SQL, No SQL/Classes/Day9')\n",
    "conn = sqlite3.connect('library.db')  # <== create the database\n",
    "c = conn.cursor()\n",
    "c.execute('UPDATE books SET price = \"9.99\" WHERE author LIKE \"%Blumenthal\"')\n",
    "# c.execute('SELECT rowid,* FROM customers WHERE LastName LIKE \"T%\" ')  # <== The % sign is used as a wildcard\n",
    "customers = c.fetchall()\n",
    "conn.commit()\n",
    "c.execute('SELECT * FROM books')\n",
    "books = c.fetchall()\n",
    "#\n",
    "for book in books:\n",
    "    print(book)\n",
    "    print('='*30)\n",
    "conn.close()"
   ],
   "outputs": [
    {
     "output_type": "stream",
     "name": "stdout",
     "text": [
      "('001', 'Outliers', 'Malcolm Gladwell', '12.99', None)\n",
      "==============================\n",
      "('002', 'Humble Pie', 'Matt Parker', None, None)\n",
      "==============================\n",
      "('003', '52 Small Changes', 'Brett Blumenthal', '9.99', None)\n",
      "==============================\n",
      "('004', 'Blink', 'Malcolm Gladwell', '12.99', None)\n",
      "==============================\n",
      "('005', 'The Tipping Point', 'Malcolm Gladwell', '12.99', None)\n",
      "==============================\n",
      "('006', 'All the Powers of Earth', 'Sidney Blumenthal', '9.99', None)\n",
      "==============================\n"
     ]
    }
   ],
   "metadata": {}
  },
  {
   "cell_type": "code",
   "execution_count": 49,
   "source": [
    "import sqlite3\n",
    "import os\n",
    "\n",
    "os.chdir(r'/Users/julis_478/Documents/Python Immersives/PY-112 SQL, No SQL/Classes/Day9')\n",
    "conn = sqlite3.connect('library.db')  # <== create the database\n",
    "c = conn.cursor()\n",
    "c.execute('UPDATE books SET price = \"7.99\" WHERE author = \"Matt Parker\"')\n",
    "# c.execute('SELECT rowid,* FROM customers WHERE LastName LIKE \"T%\" ')  # <== The % sign is used as a wildcard\n",
    "customers = c.fetchall()\n",
    "conn.commit()\n",
    "c.execute('SELECT * FROM books')\n",
    "books = c.fetchall()\n",
    "#\n",
    "for book in books:\n",
    "    print(book)\n",
    "    print('='*30)\n",
    "conn.close()"
   ],
   "outputs": [
    {
     "output_type": "stream",
     "name": "stdout",
     "text": [
      "('001', 'Outliers', 'Malcolm Gladwell', '12.99', None)\n",
      "==============================\n",
      "('002', 'Humble Pie', 'Matt Parker', '7.99', None)\n",
      "==============================\n",
      "('003', '52 Small Changes', 'Brett Blumenthal', '9.99', None)\n",
      "==============================\n",
      "('004', 'Blink', 'Malcolm Gladwell', '12.99', None)\n",
      "==============================\n",
      "('005', 'The Tipping Point', 'Malcolm Gladwell', '12.99', None)\n",
      "==============================\n",
      "('006', 'All the Powers of Earth', 'Sidney Blumenthal', '9.99', None)\n",
      "==============================\n"
     ]
    }
   ],
   "metadata": {}
  },
  {
   "cell_type": "code",
   "execution_count": 1,
   "source": [
    "#Add a collumn\n",
    " \n",
    "import sqlite3\n",
    "import os\n",
    "\n",
    "os.chdir(r'/Users/julis_478/Documents/Python Immersives/PY-112 SQL, No SQL/Classes/Day9')\n",
    "conn = sqlite3.connect('library.db')  # <== create the database\n",
    "c = conn.cursor()\n",
    "c.execute('ALTER TABLE books ADD COLUMN Likes INTEGER') #count all the values in book\n",
    "conn.commit()\n",
    "c.execute('SELECT * FROM books')\n",
    "books = c.fetchall()\n",
    "#\n",
    "for book in books:\n",
    "    print(book)\n",
    "    print('='*30)\n",
    "conn.close()    "
   ],
   "outputs": [
    {
     "output_type": "stream",
     "name": "stdout",
     "text": [
      "('001', 'Outliers', 'Malcolm Gladwell', '12.99', None, None)\n",
      "==============================\n",
      "('002', 'Humble Pie', 'Matt Parker', '7.99', None, None)\n",
      "==============================\n",
      "('003', '52 Small Changes', 'Brett Blumenthal', '9.99', None, None)\n",
      "==============================\n",
      "('004', 'Blink', 'Malcolm Gladwell', '12.99', None, None)\n",
      "==============================\n",
      "('005', 'The Tipping Point', 'Malcolm Gladwell', '12.99', None, None)\n",
      "==============================\n",
      "('006', 'All the Powers of Earth', 'Sidney Blumenthal', '9.99', None, None)\n",
      "==============================\n"
     ]
    }
   ],
   "metadata": {}
  },
  {
   "cell_type": "markdown",
   "source": [
    "# Exercise\n",
    "1 - If the author last name is 'Gladwell' give him 10000 likes <br>\n",
    "2 - If the book name is Humble Pie give it 7000 likes <br>\n",
    "3 - If the title has the word Earth in it give it 5000 likes and an ebook_price = 8.49 <br>"
   ],
   "metadata": {}
  },
  {
   "cell_type": "code",
   "execution_count": 2,
   "source": [
    "# 1 - If the author last name is 'Gladwell' give him 10000 likes\n",
    "import sqlite3\n",
    "import os\n",
    "\n",
    "os.chdir(r'/Users/julis_478/Documents/Python Immersives/PY-112 SQL, No SQL/Classes/Day9')\n",
    "conn = sqlite3.connect('library.db')  # <== create the database\n",
    "c = conn.cursor()\n",
    "c.execute('UPDATE books SET Likes = \"10000\" WHERE author LIKE \"%Gladwell\"')\n",
    "customers = c.fetchall()\n",
    "conn.commit()\n",
    "c.execute('SELECT * FROM books')\n",
    "books = c.fetchall()\n",
    "#\n",
    "for book in books:\n",
    "    print(book)\n",
    "    print('='*30)\n",
    "conn.close()"
   ],
   "outputs": [
    {
     "output_type": "stream",
     "name": "stdout",
     "text": [
      "('001', 'Outliers', 'Malcolm Gladwell', '12.99', None, 10000)\n",
      "==============================\n",
      "('002', 'Humble Pie', 'Matt Parker', '7.99', None, None)\n",
      "==============================\n",
      "('003', '52 Small Changes', 'Brett Blumenthal', '9.99', None, None)\n",
      "==============================\n",
      "('004', 'Blink', 'Malcolm Gladwell', '12.99', None, 10000)\n",
      "==============================\n",
      "('005', 'The Tipping Point', 'Malcolm Gladwell', '12.99', None, 10000)\n",
      "==============================\n",
      "('006', 'All the Powers of Earth', 'Sidney Blumenthal', '9.99', None, None)\n",
      "==============================\n"
     ]
    }
   ],
   "metadata": {}
  },
  {
   "cell_type": "code",
   "execution_count": 3,
   "source": [
    "# 2 - If the book name is Humble Pie give it 7000 likes\n",
    "import sqlite3\n",
    "import os\n",
    "\n",
    "os.chdir(r'/Users/julis_478/Documents/Python Immersives/PY-112 SQL, No SQL/Classes/Day9')\n",
    "conn = sqlite3.connect('library.db')  # <== create the database\n",
    "c = conn.cursor()\n",
    "c.execute('UPDATE books SET Likes = \"7000\" WHERE title = \"Humble Pie\"')\n",
    "customers = c.fetchall()\n",
    "conn.commit()\n",
    "c.execute('SELECT * FROM books')\n",
    "books = c.fetchall()\n",
    "#\n",
    "for book in books:\n",
    "    print(book)\n",
    "    print('='*30)\n",
    "conn.close()"
   ],
   "outputs": [
    {
     "output_type": "stream",
     "name": "stdout",
     "text": [
      "('001', 'Outliers', 'Malcolm Gladwell', '12.99', None, 10000)\n",
      "==============================\n",
      "('002', 'Humble Pie', 'Matt Parker', '7.99', None, 7000)\n",
      "==============================\n",
      "('003', '52 Small Changes', 'Brett Blumenthal', '9.99', None, None)\n",
      "==============================\n",
      "('004', 'Blink', 'Malcolm Gladwell', '12.99', None, 10000)\n",
      "==============================\n",
      "('005', 'The Tipping Point', 'Malcolm Gladwell', '12.99', None, 10000)\n",
      "==============================\n",
      "('006', 'All the Powers of Earth', 'Sidney Blumenthal', '9.99', None, None)\n",
      "==============================\n"
     ]
    }
   ],
   "metadata": {}
  },
  {
   "cell_type": "code",
   "execution_count": 11,
   "source": [
    "#3 - If the title has the word Earth in it give it 5000 likes and an ebook_price = 8.49\n",
    "\n",
    "import sqlite3\n",
    "import os\n",
    "\n",
    "os.chdir(r'/Users/julis_478/Documents/Python Immersives/PY-112 SQL, No SQL/Classes/Day9')\n",
    "conn = sqlite3.connect('library.db')  # <== create the database\n",
    "c = conn.cursor()\n",
    "c.execute('UPDATE books SET Likes = \"5000\", ebook_price = \"9.48\" WHERE title LIKE \"%Earth%\"')\n",
    "customers = c.fetchall()\n",
    "conn.commit()\n",
    "c.execute('SELECT * FROM books')\n",
    "books = c.fetchall()\n",
    "#\n",
    "for book in books:\n",
    "    print(book)\n",
    "    print('='*30)\n",
    "conn.close()"
   ],
   "outputs": [
    {
     "output_type": "stream",
     "name": "stdout",
     "text": [
      "('001', 'Outliers', 'Malcolm Gladwell', '12.99', None, 10000)\n",
      "==============================\n",
      "('002', 'Humble Pie', 'Matt Parker', '7.99', None, 7000)\n",
      "==============================\n",
      "('003', '52 Small Changes', 'Brett Blumenthal', '9.99', None, None)\n",
      "==============================\n",
      "('004', 'Blink', 'Malcolm Gladwell', '12.99', None, 10000)\n",
      "==============================\n",
      "('005', 'The Tipping Point', 'Malcolm Gladwell', '12.99', None, 10000)\n",
      "==============================\n",
      "('006', 'All the Powers of Earth', 'Sidney Blumenthal', '9.99', '9.48', 5000)\n",
      "==============================\n"
     ]
    }
   ],
   "metadata": {}
  },
  {
   "cell_type": "code",
   "execution_count": 13,
   "source": [
    "import sqlite3\n",
    "\n",
    "os.chdir(r'/Users/julis_478/Documents/Python Immersives/PY-112 SQL, No SQL/Classes/Day9')\n",
    "conn = sqlite3.connect('library.db')  # <== create the database\n",
    "c = conn.cursor()\n",
    "c.executescript('''UPDATE books SET\n",
    "price = 7.99,\n",
    "ebook_price = 4.49\n",
    "WHERE author =  'Matt Parker';\n",
    "\n",
    "UPDATE books SET\n",
    "price = 5.99,\n",
    "ebook_price = 3.99\n",
    "WHERE author =  'Brett Blumenthal';\n",
    "''')\n",
    "conn.commit()\n",
    "c.execute('SELECT * FROM books')\n",
    "books = c.fetchall()\n",
    "#\n",
    "for book in books:\n",
    "    print(book)\n",
    "conn.close()\n",
    "print('='*30)"
   ],
   "outputs": [
    {
     "output_type": "stream",
     "name": "stdout",
     "text": [
      "('001', 'Outliers', 'Malcolm Gladwell', '12.99', None, 10000)\n",
      "('002', 'Humble Pie', 'Matt Parker', '7.99', '4.49', 7000)\n",
      "('003', '52 Small Changes', 'Brett Blumenthal', '5.99', '3.99', None)\n",
      "('004', 'Blink', 'Malcolm Gladwell', '12.99', None, 10000)\n",
      "('005', 'The Tipping Point', 'Malcolm Gladwell', '12.99', None, 10000)\n",
      "('006', 'All the Powers of Earth', 'Sidney Blumenthal', '9.99', '9.48', 5000)\n",
      "==============================\n"
     ]
    }
   ],
   "metadata": {}
  },
  {
   "cell_type": "markdown",
   "source": [
    "# MIN, MAX, CAST"
   ],
   "metadata": {}
  },
  {
   "cell_type": "code",
   "execution_count": 15,
   "source": [
    "#3 - If the title has the word Earth in it give it 5000 likes and an ebook_price = 8.49\n",
    "\n",
    "import sqlite3\n",
    "import os\n",
    "\n",
    "os.chdir(r'/Users/julis_478/Documents/Python Immersives/PY-112 SQL, No SQL/Classes/Day9')\n",
    "conn = sqlite3.connect('library.db')  # <== create the database\n",
    "c = conn.cursor()\n",
    "c.execute('''SELECT MIN(CAST(price as REAL)) FROM books ORDER BY price''')\n",
    "books = c.fetchall()\n",
    "# conn.commit()\n",
    "# c.execute('SELECT * FROM books')\n",
    "# books = c.fetchall()\n",
    "#\n",
    "for book in books:\n",
    "    print(book)\n",
    "    print('='*30)\n",
    "# conn.close()"
   ],
   "outputs": [
    {
     "output_type": "stream",
     "name": "stdout",
     "text": [
      "(5.99,)\n",
      "==============================\n"
     ]
    }
   ],
   "metadata": {}
  },
  {
   "cell_type": "code",
   "execution_count": 16,
   "source": [
    "import sqlite3\n",
    "\n",
    "os.chdir(r'/Users/julis_478/Documents/Python Immersives/PY-112 SQL, No SQL/Classes/Day9')\n",
    "conn = sqlite3.connect('library.db')  # <== create the database\n",
    "c = conn.cursor()\n",
    "c.execute('''SELECT Likes FROM books ORDER BY Likes DESC''')\n",
    "books = c.fetchall()\n",
    "\n",
    "for book in books:\n",
    "    print(book)\n",
    "print('='*30)\n",
    "c.execute('''SELECT MAX(Likes) FROM books''')\n",
    "# conn.close()"
   ],
   "outputs": [
    {
     "output_type": "stream",
     "name": "stdout",
     "text": [
      "(10000,)\n",
      "(10000,)\n",
      "(10000,)\n",
      "(7000,)\n",
      "(5000,)\n",
      "(None,)\n",
      "==============================\n"
     ]
    },
    {
     "output_type": "execute_result",
     "data": {
      "text/plain": [
       "<sqlite3.Cursor at 0x7fe9c0bd0ab0>"
      ]
     },
     "metadata": {},
     "execution_count": 16
    }
   ],
   "metadata": {}
  },
  {
   "cell_type": "markdown",
   "source": [
    "# SUM() and AVG()"
   ],
   "metadata": {}
  },
  {
   "cell_type": "code",
   "execution_count": 17,
   "source": [
    "import sqlite3\n",
    "\n",
    "os.chdir(r'/Users/julis_478/Documents/Python Immersives/PY-112 SQL, No SQL/Classes/Day9')\n",
    "conn = sqlite3.connect('library.db')  # <== create the database\n",
    "c = conn.cursor()\n",
    "c.execute('''SELECT AVG(CAST(price as REAL)) FROM books''')\n",
    "books = c.fetchall()\n",
    "# conn.commit()\n",
    "# c.execute('SELECT * FROM books')\n",
    "# books = c.fetchall()\n",
    "#\n",
    "for book in books:\n",
    "    print(book)\n",
    "    \n",
    "conn.close()\n",
    "print('='*30)"
   ],
   "outputs": [
    {
     "output_type": "stream",
     "name": "stdout",
     "text": [
      "(10.49,)\n",
      "==============================\n"
     ]
    }
   ],
   "metadata": {}
  },
  {
   "cell_type": "code",
   "execution_count": 18,
   "source": [
    "import sqlite3\n",
    "\n",
    "os.chdir(r'/Users/julis_478/Documents/Python Immersives/PY-112 SQL, No SQL/Classes/Day9')\n",
    "conn = sqlite3.connect('library.db')  # <== create the database\n",
    "c = conn.cursor()\n",
    "c.execute('''SELECT SUM(CAST(price as REAL)) FROM books''')\n",
    "books = c.fetchall()\n",
    "# conn.commit()\n",
    "# c.execute('SELECT * FROM books')\n",
    "# books = c.fetchall()\n",
    "#\n",
    "for book in books:\n",
    "    print(book)\n",
    "    \n",
    "conn.close()\n",
    "print('='*30)"
   ],
   "outputs": [
    {
     "output_type": "stream",
     "name": "stdout",
     "text": [
      "(62.940000000000005,)\n",
      "==============================\n"
     ]
    }
   ],
   "metadata": {}
  }
 ],
 "metadata": {
  "orig_nbformat": 4,
  "language_info": {
   "name": "python",
   "version": "3.9.7",
   "mimetype": "text/x-python",
   "codemirror_mode": {
    "name": "ipython",
    "version": 3
   },
   "pygments_lexer": "ipython3",
   "nbconvert_exporter": "python",
   "file_extension": ".py"
  },
  "kernelspec": {
   "name": "python3",
   "display_name": "Python 3.9.7 64-bit"
  },
  "interpreter": {
   "hash": "aee8b7b246df8f9039afb4144a1f6fd8d2ca17a180786b69acc140d282b71a49"
  }
 },
 "nbformat": 4,
 "nbformat_minor": 2
}