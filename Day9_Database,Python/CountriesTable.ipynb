{
 "cells": [
  {
   "cell_type": "markdown",
   "source": [
    "<h2>Activity - Country update</h2>\n",
    "\n",
    "<br>Create a table with the following, country_name,population and country_order\n",
    "<br>- Print the countries in Alpha order\n",
    "<br>- Print in population size order\n",
    "<br>- Assign a country order to the blank country order field using update sql command\n"
   ],
   "metadata": {}
  },
  {
   "cell_type": "code",
   "execution_count": null,
   "source": [
    "# \n",
    "os.chdir(r'/Users/julis_478/Documents/Python Immersives/PY-112 SQL, No SQL/Classes/Day9')\n",
    "conn = sqlite3.connect('countries.db') # create or use the db\n",
    "c = conn.cursor()\n",
    "c.execute('''\n",
    "    CREATE TABLE IF NOT EXISTS country (\n",
    "    country_name TEXT,\n",
    "    population INTEGER,\n",
    "    country_order INTEGER\n",
    "    )\n",
    "''')\n",
    "conn.commit()\n",
    "# c.execute('SELECT * FROM books')\n",
    "# books = c.fetchall()\n",
    "# #\n",
    "# for book in books:\n",
    "#     print(book)\n",
    "#     print('='*30)\n",
    "\n",
    "country_data = {}\n",
    "with open('Country_pops.csv','r') as fh:\n",
    "    line = fh.readline()\n",
    "    line_cntr = 0\n",
    "    while line:\n",
    "        # skip the header\n",
    "        if line_cntr > 1:\n",
    "            name, *population = line.split(',')\n",
    "            population = \\\n",
    "            (''.join([x.strip('\\n') for x in population])).replace('\"','').replace('-','')\n",
    "            country_data[name] = int(population)\n",
    "            print(name, population)\n",
    "            pop_data = (name, population)\n",
    "            c.execute('INSERT INTO country (country_name, population) VALUES (?,?)',pop_data)\n",
    "        line_cntr += 1\n",
    "        line = fh.readline()\n",
    "# print(country_data)\n",
    "sorted_pop = sorted(country_data.items(), key = lambda kv: kv[1], reverse = True)\n",
    "print(sorted_pop)\n",
    "conn.close()\n"
   ],
   "outputs": [],
   "metadata": {}
  },
  {
   "cell_type": "code",
   "execution_count": 52,
   "source": [
    "os.chdir(r'/Users/julis_478/Documents/Python Immersives/PY-112 SQL, No SQL/Classes/Day9')\n",
    "conn = sqlite3.connect('countries.db') # create or use the db\n",
    "c = conn.cursor()\n",
    "for order_no,c_data in enumerate(sorted_pop):\n",
    "    order_tuple = (order_no,c_data[0])\n",
    "    c.execute('UPDATE country SET country_order = ? WHERE country_name = ?',order_tuple)\n",
    "conn.commit()\n",
    "c.execute('SELECT * FROM country')\n",
    "countries = c.fetchall()\n",
    "#\n",
    "for country in countries:\n",
    "    print(country)\n",
    "conn.close()"
   ],
   "outputs": [],
   "metadata": {}
  }
 ],
 "metadata": {
  "orig_nbformat": 4,
  "language_info": {
   "name": "python",
   "version": "3.9.7",
   "mimetype": "text/x-python",
   "codemirror_mode": {
    "name": "ipython",
    "version": 3
   },
   "pygments_lexer": "ipython3",
   "nbconvert_exporter": "python",
   "file_extension": ".py"
  },
  "kernelspec": {
   "name": "python3",
   "display_name": "Python 3.9.7 64-bit"
  },
  "interpreter": {
   "hash": "aee8b7b246df8f9039afb4144a1f6fd8d2ca17a180786b69acc140d282b71a49"
  }
 },
 "nbformat": 4,
 "nbformat_minor": 2
}