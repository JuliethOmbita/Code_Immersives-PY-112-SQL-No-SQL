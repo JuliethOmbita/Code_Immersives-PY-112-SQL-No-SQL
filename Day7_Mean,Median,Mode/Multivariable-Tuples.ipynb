{
 "cells": [
  {
   "cell_type": "code",
   "execution_count": null,
   "source": [
    "# Multi variable assignment\n",
    "\n",
    "# Swappin values\n",
    "a = 90 \n",
    "b = 80\n",
    "a,b = b,a \n",
    "print (f'a = {a}')\n",
    "print (f'b = {b}')"
   ],
   "outputs": [],
   "metadata": {}
  },
  {
   "cell_type": "code",
   "execution_count": null,
   "source": [
    "#Unpacking\n",
    "\n",
    "values = [10,20,30,40]\n",
    "a, b, c, d = values \n",
    "print (a)\n",
    "print (b)\n",
    "print (c)\n",
    "print (d)"
   ],
   "outputs": [],
   "metadata": {}
  },
  {
   "cell_type": "code",
   "execution_count": null,
   "source": [
    "values = [10,20,30,40]\n",
    "a, *not_used, d = values \n",
    "print (a)\n",
    "print (not_used)\n",
    "print (d)"
   ],
   "outputs": [],
   "metadata": {}
  },
  {
   "cell_type": "code",
   "execution_count": null,
   "source": [
    "name = ['George', 'Herbert', 'Walker', 'Burh']\n",
    "first_name, *ignore, last_name = name\n",
    "print (first_name)\n",
    "print (ignore)\n",
    "print (last_name)"
   ],
   "outputs": [],
   "metadata": {}
  },
  {
   "cell_type": "markdown",
   "source": [
    "<h2>Exercise</h2>\n",
    "Correct the following code\n",
    "<code>\n",
    "import math\n",
    "def isPrime(num):\n",
    "    prime = True\n",
    "    for i in range(2,int(math.sqrt(num)+1)):\n",
    "        if num % i == 0:\n",
    "            prime = False\n",
    "            break\n",
    "    return prime\n",
    "\n",
    "def factors(num):\n",
    "    factors = []\n",
    "    for i in range(2,num):\n",
    "        if num % i == 0 and isPrime(i):\n",
    "            factors.append(i)\n",
    "        print(i)\n",
    "    return factors \n",
    "\n",
    "for j in range(2,51):\n",
    "    print(f'The prime factors of {j} are {factors(j)}')\n",
    "</code>"
   ],
   "metadata": {}
  },
  {
   "cell_type": "code",
   "execution_count": null,
   "source": [
    "import math\n",
    "def isPrime(num):\n",
    "    prime = True\n",
    "    for i in range(2,int(math.sqrt(num)+1)):\n",
    "        if num % i == 0:\n",
    "            prime = False\n",
    "            break\n",
    "    return prime\n",
    "\n",
    "def factors(num):\n",
    "    factors = []\n",
    "    for i in range(2,num+1):    # num+1 will allow to consider the number itself\n",
    "        if num % i == 0 and isPrime(i):\n",
    "            factors.append(i)\n",
    "        print(i)\n",
    "    return factors \n",
    "\n",
    "\n",
    "# is÷Prime(5)\n",
    "for j in range(2,51):\n",
    "    print(f'The prime factors of {j} are {factors(j)}')"
   ],
   "outputs": [],
   "metadata": {}
  },
  {
   "cell_type": "code",
   "execution_count": null,
   "source": [
    "#TList of tuples \n",
    "\n",
    "# Filter on the max_number if max_number is greater than 1\n",
    "results = [(87, 3), (88, 3), (90, 2), (84, 1), (86, 1), (89, 1), (93, 1)]\n",
    "max_num = results[0][1]\n",
    "modes = []\n",
    "print(f'The max number is {max_num}')\n",
    "for result in results:\n",
    "    if max_num > 1 and result[1] == max_num:\n",
    "        print(result,result[0])\n",
    "        modes.append(result[0])\n",
    "print(f'The modes are {modes}')"
   ],
   "outputs": [],
   "metadata": {}
  }
 ],
 "metadata": {
  "orig_nbformat": 4,
  "language_info": {
   "name": "python",
   "version": "3.9.7",
   "mimetype": "text/x-python",
   "codemirror_mode": {
    "name": "ipython",
    "version": 3
   },
   "pygments_lexer": "ipython3",
   "nbconvert_exporter": "python",
   "file_extension": ".py"
  },
  "kernelspec": {
   "name": "python3",
   "display_name": "Python 3.9.7 64-bit"
  },
  "interpreter": {
   "hash": "aee8b7b246df8f9039afb4144a1f6fd8d2ca17a180786b69acc140d282b71a49"
  }
 },
 "nbformat": 4,
 "nbformat_minor": 2
}