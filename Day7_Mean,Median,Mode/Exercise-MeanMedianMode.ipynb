{
 "cells": [
  {
   "cell_type": "markdown",
   "source": [
    "<h2>Exercise - Mean, Median and Mode </h2>\n",
    "Calculate the mean, median, and mode of the following data set:<br>\n",
    "<br>numList = [88,89,90,93,84,86,88,91,88,87]"
   ],
   "metadata": {}
  },
  {
   "cell_type": "code",
   "execution_count": 11,
   "source": [
    "def calc_mean(myList):\n",
    "    '''\n",
    "    Calculate the mean of a list or a tuple\n",
    "    return a float\n",
    "    '''\n",
    "    return round(sum(myList)/len(myList),2)\n",
    "\n",
    "def calc_median(myList):\n",
    "    '''\n",
    "    Calculate the middle number in an unordered list\n",
    "    return a float\n",
    "    '''\n",
    "    median_val = None\n",
    "    myList.sort()\n",
    "    if len(myList) > 1:\n",
    "        if len(myList) % 2 == 0:\n",
    "            middle_pos = (int(len(myList)/2))\n",
    "            median_val = ((myList[middle_pos-1] + myList[middle_pos])/2)\n",
    "        else:\n",
    "            median_val = (int(len(myList)/2))\n",
    "    return median_val\n",
    "\n",
    "def calc_mode(myList):\n",
    "    '''\n",
    "    Calculate the most common number\n",
    "    return either None, 1 mode float or multiple modes\n",
    "    '''\n",
    "    myList.sort()\n",
    "    modes = {}\n",
    "    for i in myList:\n",
    "        if not i in modes:\n",
    "            modes[i] = 0\n",
    "        modes[i] += 1\n",
    "        # print (modes)\n",
    "    #sort the dictionary by values\n",
    "    sorted_modes = sorted(modes.items(), key = lambda kv:kv[1], reverse = True)\n",
    "    # print (sorted_modes)\n",
    "    max_iter = sorted_modes[0][1]\n",
    "    # print (max_iter)\n",
    "    if max_iter > 1:\n",
    "        modes = [sorted_modes[i][0] for i,val in enumerate(sorted_modes) if sorted_modes[i][1] == max_iter]\n",
    "    return modes\n",
    "\n",
    "\n",
    "\n",
    "numList = [88,89,90,93,84,86,87,90,88,87]\n",
    "numList.sort()\n",
    "\n",
    "print(f'The mean of {numList} is : \\n   {calc_mean(numList)}')\n",
    "print(f'The median of {numList} is : \\n   {calc_median(numList)}')\n",
    "print(f'The mode of {numList} is : \\n   {calc_mode(numList)}')\n"
   ],
   "outputs": [
    {
     "output_type": "stream",
     "name": "stdout",
     "text": [
      "The mean of [84, 86, 87, 87, 88, 88, 89, 90, 90, 93] is : \n",
      "   88.2\n",
      "The median of [84, 86, 87, 87, 88, 88, 89, 90, 90, 93] is : \n",
      "   88.0\n",
      "The mode of [84, 86, 87, 87, 88, 88, 89, 90, 90, 93] is : \n",
      "   [87, 88, 90]\n"
     ]
    }
   ],
   "metadata": {}
  }
 ],
 "metadata": {
  "orig_nbformat": 4,
  "language_info": {
   "name": "python",
   "version": "3.9.7",
   "mimetype": "text/x-python",
   "codemirror_mode": {
    "name": "ipython",
    "version": 3
   },
   "pygments_lexer": "ipython3",
   "nbconvert_exporter": "python",
   "file_extension": ".py"
  },
  "kernelspec": {
   "name": "python3",
   "display_name": "Python 3.9.7 64-bit"
  },
  "interpreter": {
   "hash": "aee8b7b246df8f9039afb4144a1f6fd8d2ca17a180786b69acc140d282b71a49"
  }
 },
 "nbformat": 4,
 "nbformat_minor": 2
}