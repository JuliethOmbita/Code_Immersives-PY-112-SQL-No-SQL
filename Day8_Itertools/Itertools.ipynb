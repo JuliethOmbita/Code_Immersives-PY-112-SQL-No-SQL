{
 "cells": [
  {
   "cell_type": "code",
   "execution_count": null,
   "source": [
    "import itertools\n",
    "\n",
    "dir (itertools)"
   ],
   "outputs": [],
   "metadata": {}
  },
  {
   "cell_type": "code",
   "execution_count": null,
   "source": [
    "import itertools\n",
    "# x = [1,3,6,5,-2,22,7,-94,104,99,2,8,17,12]\n",
    "\n",
    "x = ['A', 'B', 'C']\n",
    "\n",
    "''' \n",
    "Combination\n",
    "AB\n",
    "AC\n",
    "BC\n",
    "\n",
    "Permutations\n",
    "AB\n",
    "AC\n",
    "BC\n",
    "BA \n",
    "CA\n",
    "CB\n",
    "\n",
    "Permutarion  3! = 3 x 2 x 1 = 6\n",
    "'''\n",
    "\n",
    "x_pairs = itertools.permutations(x,2)\n",
    "print (x_pairs)\n",
    "print(list(x_pairs))\n",
    "\n",
    "\n",
    "x_pairs = itertools.combinations(x,2)\n",
    "print (x_pairs)\n",
    "print(list(x_pairs))\n"
   ],
   "outputs": [],
   "metadata": {}
  },
  {
   "cell_type": "code",
   "execution_count": null,
   "source": [
    "# Ejectcise 3, using itertool\n",
    "\n",
    "import itertools\n",
    "x = [1,3,6,5,-2,22,7,-94,104,99,2,8,17,12]\n",
    "\n",
    "x_pairs = itertools.combinations(x,2)\n",
    "target = 10\n",
    "# print ([x for x in list(x_pairs) if x[0] + x[1] == target])\n",
    "print ([x for x in list(x_pairs) if sum(x) == target])\n"
   ],
   "outputs": [],
   "metadata": {}
  },
  {
   "cell_type": "code",
   "execution_count": null,
   "source": [
    "# Using help() to undertand how to use intertools\n",
    "\n",
    "help(itertools.combinations)"
   ],
   "outputs": [],
   "metadata": {}
  },
  {
   "cell_type": "code",
   "execution_count": null,
   "source": [
    "# Print the \n",
    "\n",
    "\n",
    "import itertools\n",
    "x = [1,3,6,5,-2,22,7,-94,104,99,2,8,17,12]\n",
    "\n",
    "\n",
    "def is_prime (num):\n",
    "    flag = False\n",
    "    if num > 1:\n",
    "        for i in range(2, num):\n",
    "            if (num % i) == 0:\n",
    "                flag = True\n",
    "                break\n",
    "        if not flag:\n",
    "            return True\n",
    "            \n",
    "\n",
    "x_pairs = itertools.combinations(x,3)\n",
    "target = 10\n",
    "# print ([x for x in list(x_pairs) if x[0] + x[1] == target])\n",
    "print ([x for x in list(x_pairs) if is_prime (sum(x)) == True])\n",
    "\n",
    "# print(is_prime(3))"
   ],
   "outputs": [],
   "metadata": {}
  },
  {
   "cell_type": "code",
   "execution_count": null,
   "source": [
    "# Print the \n",
    "\n",
    "\n",
    "import itertools\n",
    "x = [1,3,6,5,-2,22,7,-94,104,99,2,8,17,12]\n",
    "\n",
    "\n",
    "def is_prime (num):\n",
    "    prime = False\n",
    "    if num > 1:\n",
    "        prime = True\n",
    "        for i in range(2, num):\n",
    "            if (num % i) == 0:\n",
    "                prime = False\n",
    "                break\n",
    "    return prime\n",
    "            \n",
    "\n",
    "x_pairs = itertools.combinations(x,3)\n",
    "target = 10\n",
    "# print ([x for x in list(x_pairs) if x[0] + x[1] == target])\n",
    "print ([(x,sum(x)) for x in list(x_pairs) if is_prime (sum(x)) ])\n",
    "\n",
    "print(is_prime(3))"
   ],
   "outputs": [],
   "metadata": {}
  },
  {
   "cell_type": "code",
   "execution_count": null,
   "source": [
    "def is_prime (num):\n",
    "    if num > 1:\n",
    "        # check for factors\n",
    "        for i in range(2, num):\n",
    "            if (num % i) == 0:\n",
    "                # if factor is found, set flag to True\n",
    "                flag = True\n",
    "                # break out of loop\n",
    "                break\n",
    "\n",
    "\n",
    "def is_prime (num):\n",
    "    flag = False\n",
    "    if num > 1:\n",
    "        for i in range(2, num):\n",
    "            if (num % i) == 0:\n",
    "                flag = True\n",
    "                break\n",
    "        if not flag:\n",
    "            num_primes.append(num)"
   ],
   "outputs": [],
   "metadata": {}
  }
 ],
 "metadata": {
  "orig_nbformat": 4,
  "language_info": {
   "name": "python",
   "version": "3.9.7"
  },
  "kernelspec": {
   "name": "python3",
   "display_name": "Python 3.9.7 64-bit"
  },
  "interpreter": {
   "hash": "aee8b7b246df8f9039afb4144a1f6fd8d2ca17a180786b69acc140d282b71a49"
  }
 },
 "nbformat": 4,
 "nbformat_minor": 2
}