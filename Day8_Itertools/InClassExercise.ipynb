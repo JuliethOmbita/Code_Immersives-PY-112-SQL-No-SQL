{
 "cells": [
  {
   "cell_type": "code",
   "execution_count": null,
   "source": [
    "# Exercise 1\n",
    "# Find all even numbers in the following list\n",
    "x = [12,3,'William',14,5,20,'Olga',22,104,'Ralph',99,8,17]\n",
    "\n",
    "print (f'The even number of {x}:')\n",
    "for i in x:\n",
    "    if isinstance (i, int) and i%2 == 0:\n",
    "        print(i, end = ',')\n",
    "print ()\n",
    "print ([even for even in x if isinstance(even,(int,float)) and even % 2 == 0]) # Rasahna Solutions\n",
    "\n"
   ],
   "outputs": [],
   "metadata": {}
  },
  {
   "cell_type": "code",
   "execution_count": null,
   "source": [
    "# Exercise 2\n",
    "# Extract all managers from the list of titles. 'Manager' in the title.\n",
    "titles = ['team leader','squad leader','manager','managing director','director of operations',\n",
    "         'operations manager','operations manager (US)', 'operations manager (Canada)',\n",
    "          'Operations manager (Mexico)']\n",
    "\n",
    "print ('The manager are:')\n",
    "for i in titles:\n",
    "    if 'Manager'.lower() in i:\n",
    "        print(f' - {i.capitalize()}')\n",
    "\n",
    "\n"
   ],
   "outputs": [],
   "metadata": {}
  },
  {
   "cell_type": "code",
   "execution_count": null,
   "source": [
    "# Exercise 3:\n",
    "# Find all 2 number combinations that add to 10\n",
    "sum_10 = []\n",
    "x = [1,3,6,5,-2,22,7,-94,104,99,2,8,17,12]\n",
    "for i in x:\n",
    "    for j in x:\n",
    "        if i + j == 10 and not (i == j):\n",
    "            if not (j,i) in sum_10:\n",
    "                print (i,j)\n",
    "                sum_10.append((i,j))\n",
    "            # print (f'Conbination (i,j): ({i},{j})')\n",
    "print (sum_10)\n"
   ],
   "outputs": [],
   "metadata": {}
  }
 ],
 "metadata": {
  "orig_nbformat": 4,
  "language_info": {
   "name": "python",
   "version": "3.9.7",
   "mimetype": "text/x-python",
   "codemirror_mode": {
    "name": "ipython",
    "version": 3
   },
   "pygments_lexer": "ipython3",
   "nbconvert_exporter": "python",
   "file_extension": ".py"
  },
  "kernelspec": {
   "name": "python3",
   "display_name": "Python 3.9.7 64-bit"
  },
  "interpreter": {
   "hash": "aee8b7b246df8f9039afb4144a1f6fd8d2ca17a180786b69acc140d282b71a49"
  }
 },
 "nbformat": 4,
 "nbformat_minor": 2
}