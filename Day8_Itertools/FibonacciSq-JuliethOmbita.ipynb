{
 "cells": [
  {
   "cell_type": "markdown",
   "source": [
    "\n",
    "<h2 #0>Exercise : Fibonacci sequence</h2><a id=\"0\"></a>\n",
    "<br>\n",
    "<br>Calculating the Fibonacci sequence      seed = [0,1] <br>\n",
    "<br>Generate the Fibonacci sequence to the 15th number"
   ],
   "metadata": {}
  },
  {
   "cell_type": "code",
   "execution_count": 17,
   "source": [
    "\n",
    "def calc_Fibo (seq, total_iter):\n",
    "    for i in range (total_iter):\n",
    "        new_dig = seq[-2] + seq [-1]\n",
    "        seq += [new_dig]\n",
    "    return (seq)\n",
    "\n",
    "print (f'The Fibonacci sequence to the 15th number: \\n {calc_Fibo ([0,1],15)}')\n"
   ],
   "outputs": [
    {
     "output_type": "stream",
     "name": "stdout",
     "text": [
      "The Fibonacci sequence to the 15th number: \n",
      " [0, 1, 1, 2, 3, 5, 8, 13, 21, 34, 55, 89, 144, 233, 377, 610, 987]\n"
     ]
    }
   ],
   "metadata": {}
  }
 ],
 "metadata": {
  "orig_nbformat": 4,
  "language_info": {
   "name": "python",
   "version": "3.9.7",
   "mimetype": "text/x-python",
   "codemirror_mode": {
    "name": "ipython",
    "version": 3
   },
   "pygments_lexer": "ipython3",
   "nbconvert_exporter": "python",
   "file_extension": ".py"
  },
  "kernelspec": {
   "name": "python3",
   "display_name": "Python 3.9.7 64-bit"
  },
  "interpreter": {
   "hash": "aee8b7b246df8f9039afb4144a1f6fd8d2ca17a180786b69acc140d282b71a49"
  }
 },
 "nbformat": 4,
 "nbformat_minor": 2
}