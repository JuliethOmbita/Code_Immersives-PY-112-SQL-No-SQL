{
 "cells": [
  {
   "cell_type": "markdown",
   "source": [
    "# Python Easteregg"
   ],
   "metadata": {}
  },
  {
   "cell_type": "code",
   "execution_count": null,
   "source": [
    "import this"
   ],
   "outputs": [],
   "metadata": {}
  },
  {
   "cell_type": "code",
   "execution_count": null,
   "source": [
    "for i in 'PYTHON':\n",
    "    print(i)"
   ],
   "outputs": [],
   "metadata": {}
  },
  {
   "cell_type": "code",
   "execution_count": null,
   "source": [
    "phrase = 'PYTHON'\n",
    "for i in range (len(phrase)-1,-1,-1):\n",
    "    print(i,phrase[i])"
   ],
   "outputs": [],
   "metadata": {}
  },
  {
   "cell_type": "markdown",
   "source": [
    "# recursive - a funtion call itself "
   ],
   "metadata": {}
  },
  {
   "cell_type": "code",
   "execution_count": null,
   "source": [
    "def rev_string(phrase, len_str):\n",
    "    if len_str == -1:\n",
    "        return\n",
    "    print (phrase [len_str])\n",
    "    rev_string(phrase, len_str - 1)\n",
    "    return\n",
    "phrase = 'PYTHON'\n",
    "print (rev_string(phrase, len(phrase) - 1))"
   ],
   "outputs": [],
   "metadata": {}
  },
  {
   "cell_type": "markdown",
   "source": [
    "# MYSQL"
   ],
   "metadata": {}
  },
  {
   "cell_type": "code",
   "execution_count": null,
   "source": [
    "import os\n",
    "\n",
    "working_dir = r'/Users/julis_478/Documents/Python Immersives/PY-112 SQL, No SQL/Classes/Day13:14'\n",
    "print(os.getcwd())"
   ],
   "outputs": [],
   "metadata": {}
  },
  {
   "cell_type": "code",
   "execution_count": null,
   "source": [
    "import mysql.connector\n",
    "\n",
    "mysql_config =  {\n",
    "  'user': 'root',\n",
    "  'password': 'Admin321',\n",
    "  'host': '127.0.0.1',\n",
    "  'auth_plugin':'mysql_native_password'\n",
    "}\n",
    "conn = mysql.connector.connect(**mysql_config)\n",
    "curr = conn.cursor(buffered=True)\n",
    "curr.execute('CREATE DATABASE IF NOT EXISTS ABC_CORP;')  # <------ The database"
   ],
   "outputs": [],
   "metadata": {}
  },
  {
   "cell_type": "code",
   "execution_count": null,
   "source": [
    "import mysql.connector\n",
    "\n",
    "mysql_config =  {\n",
    "  'user': 'root',\n",
    "  'password': 'Admin321',\n",
    "  'host': '127.0.0.1',\n",
    "  'auth_plugin':'mysql_native_password'\n",
    "}\n",
    "conn = mysql.connector.connect(**mysql_config)\n",
    "curr = conn.cursor(buffered=True)\n",
    "curr.execute('SHOW DATABASES;')  # <------ The database\n",
    "tables = curr.fetchall()\n",
    "for table in tables:\n",
    "    print(table)\n",
    "conn.close() "
   ],
   "outputs": [],
   "metadata": {}
  },
  {
   "cell_type": "markdown",
   "source": [
    "# MYSQL Data Types:\n",
    "CHAR <br>\n",
    "VARCHAR<br>\n",
    "INT<br>\n",
    "INTEGER<br>\n",
    "FLOAT<br>\n",
    "DOUBLE<br>\n",
    "DECIMAL (10.2)<br>\n",
    "DATE <br>\n",
    "DATETIME<br>\n",
    "TIMESTAMP<br>"
   ],
   "metadata": {}
  },
  {
   "cell_type": "code",
   "execution_count": 21,
   "source": [
    "import os\n",
    "import mysql.connector\n",
    "\n",
    "mysql_config =  {\n",
    "  'user': 'root',\n",
    "  'password': 'Admin321',\n",
    "  'host': '127.0.0.1',\n",
    "  'auth_plugin':'mysql_native_password'\n",
    "}\n",
    "conn = mysql.connector.connect(**mysql_config)\n",
    "curr = conn.cursor(buffered=True)\n",
    "curr.execute('USE ABC_CORP;')\n",
    "sql = 'CREATE TABLE IF NOT EXISTS states (code CHAR(2), state_name VARCHAR(50));'\n",
    "curr.execute(sql)\n",
    "sql = 'DELETE FROM states;'\n",
    "curr.execute(sql)\n",
    "conn.commit()\n",
    "\n",
    "with open('US_states_codes.txt') as f:\n",
    "    content = f.readlines()\n",
    "    for est in (content):\n",
    "        state_name, code = est.strip().split(\" - \")\n",
    "        sql = f\"INSERT INTO states VALUES ('{code}','{state_name}')\"\n",
    "        curr.execute(sql)\n",
    "        conn.commit()\n",
    "        line = f.readline()\n",
    "\n",
    "curr.execute('SELECT code, state_name, lenght(state_name) FROM states ')"
   ],
   "outputs": [],
   "metadata": {}
  },
  {
   "cell_type": "code",
   "execution_count": null,
   "source": [
    "for row in curr.execute('SELECT code, state_name FROM states ORDER BY state_name ASC'):\n",
    "    names = curr.fetchall()"
   ],
   "outputs": [],
   "metadata": {}
  },
  {
   "cell_type": "code",
   "execution_count": null,
   "source": [
    "import mysql.connector\n",
    "\n",
    "mysql_config =  {\n",
    "  'user': 'root',\n",
    "  'password': 'Admin321',\n",
    "  'host': '127.0.0.1',\n",
    "  'auth_plugin':'mysql_native_password'\n",
    "}\n",
    "conn = mysql.connector.connect(**mysql_config)\n",
    "curr = conn.cursor(buffered=True)\n",
    "curr.execute('SHOW DATABASES;')  # <------ The database\n",
    "tables = curr.fetchall()\n",
    "for table in tables:\n",
    "    print(table)\n",
    "# conn.close() "
   ],
   "outputs": [],
   "metadata": {}
  },
  {
   "cell_type": "code",
   "execution_count": null,
   "source": [
    "import os\n",
    "\n",
    "os.chdir(r'/Users/julis_478/Documents/Python Immersives/PY-112 SQL, No SQL/Classes/Day13:14')\n",
    "with open('US_states_codes.txt') as f:\n",
    "    content = f.readlines()\n",
    "    for est in (content):\n",
    "        line = est.strip().split(\" - \")\n",
    "        print(line)\n",
    "        "
   ],
   "outputs": [],
   "metadata": {}
  }
 ],
 "metadata": {
  "orig_nbformat": 4,
  "language_info": {
   "name": "python",
   "version": "3.9.7",
   "mimetype": "text/x-python",
   "codemirror_mode": {
    "name": "ipython",
    "version": 3
   },
   "pygments_lexer": "ipython3",
   "nbconvert_exporter": "python",
   "file_extension": ".py"
  },
  "kernelspec": {
   "name": "python3",
   "display_name": "Python 3.9.7 64-bit"
  },
  "interpreter": {
   "hash": "aee8b7b246df8f9039afb4144a1f6fd8d2ca17a180786b69acc140d282b71a49"
  }
 },
 "nbformat": 4,
 "nbformat_minor": 2
}