{
 "cells": [
  {
   "cell_type": "markdown",
   "source": [
    "# Exercise\n",
    "Using the states table answer the following: <br>\n",
    "1 - List all states with the word 'New'<br>\n",
    "2 - How many states have more than 1 word names<br>\n",
    "3 - List all of the states with either 'North', 'South', 'West' or 'East' in the name <br>\n",
    "4 - Print all the states where the statename is Rhode Island or Maine or New Hampshire <br>\n"
   ],
   "metadata": {}
  },
  {
   "cell_type": "code",
   "execution_count": 1,
   "source": [
    "import mysql.connector\n",
    "import os\n",
    "\n",
    "mysql_config =  {\n",
    "  'user': 'root',\n",
    "  'password': 'Admin321',\n",
    "  'host': '127.0.0.1',\n",
    "  'auth_plugin':'mysql_native_password'\n",
    "}\n",
    "conn = mysql.connector.connect(**mysql_config)\n",
    "curr = conn.cursor(buffered=True)\n",
    "curr.execute('USE abc_corp;')  # <------ The database\n",
    "sql = 'CREATE TABLE IF NOT EXISTS states (code CHAR(2),state_name VARCHAR(50))'\n",
    "curr.execute(sql)\n",
    "conn.commit()\n",
    "sql = 'DELETE FROM states;'\n",
    "curr.execute(sql)\n",
    "conn.commit()\n",
    "\n",
    "# /Users/julis_478/Documents/Python Immersives/PY-112 SQL, No SQL/Classes/Day15\n",
    "proj_dir = r'/Users/julis_478/Documents/Python Immersives/PY-112 SQL, No SQL/Classes/Day15'\n",
    "os.chdir(proj_dir)\n",
    "with open(r'US_states_codes.txt') as fh:\n",
    "    line = fh.readlines()\n",
    "    for i in line:\n",
    "        state_name,code = i.split('-')\n",
    "        state_name = state_name.strip()\n",
    "        code = code.strip().replace('\\n','')\n",
    "        print(code,state_name)\n",
    "        sql = f'''INSERT INTO states VALUES ('{code}','{state_name}') '''\n",
    "        curr.execute(sql)\n",
    "        conn.commit()\n",
    "\n",
    "# conn.close() "
   ],
   "outputs": [
    {
     "output_type": "stream",
     "name": "stdout",
     "text": [
      "AL Alabama\n",
      "AK Alaska\n",
      "AZ Arizona\n",
      "AR Arkansas\n",
      "CA California\n",
      "CO Colorado\n",
      "CT Connecticut\n",
      "DE Delaware\n",
      "FL Florida\n",
      "GA Georgia\n",
      "HI Hawaii\n",
      "ID Idaho\n",
      "IL Illinois\n",
      "IN Indiana\n",
      "IA Iowa\n",
      "KS Kansas\n",
      "KY Kentucky\n",
      "LA Louisiana\n",
      "ME Maine\n",
      "MD Maryland\n",
      "MA Massachusetts\n",
      "MI Michigan\n",
      "MN Minnesota\n",
      "MS Mississippi\n",
      "MO Missouri\n",
      "MT Montana\n",
      "NE Nebraska\n",
      "NV Nevada\n",
      "NH New Hampshire\n",
      "NJ New Jersey\n",
      "NM New Mexico\n",
      "NY New York\n",
      "NC North Carolina\n",
      "ND North Dakota\n",
      "OH Ohio\n",
      "OK Oklahoma\n",
      "OR Oregon\n",
      "PA Pennsylvania\n",
      "RI Rhode Island\n",
      "SC South Carolina\n",
      "SD South Dakota\n",
      "TN Tennessee\n",
      "TX Texas\n",
      "UT Utah\n",
      "VT Vermont\n",
      "VA Virginia\n",
      "WA Washington\n",
      "WV West Virginia\n",
      "WI Wisconsin\n",
      "WY Wyoming\n"
     ]
    }
   ],
   "metadata": {}
  },
  {
   "cell_type": "code",
   "execution_count": 54,
   "source": [
    "# a.\n",
    "\n",
    "import mysql.connector\n",
    "import os\n",
    "\n",
    "mysql_config =  {\n",
    "  'user': 'root',\n",
    "  'password': 'Admin321',\n",
    "  'host': '127.0.0.1',\n",
    "  'auth_plugin':'mysql_native_password'\n",
    "}\n",
    "conn = mysql.connector.connect(**mysql_config)\n",
    "curr = conn.cursor(buffered=True)\n",
    "curr.execute('USE abc_corp;')  # <------ The database\n",
    "curr.execute('''SELECT code, state_name \n",
    "FROM states \n",
    "WHERE state_name LIKE \"New%\"\n",
    ";''') \n",
    "tables = curr.fetchall()\n",
    "for table in tables:\n",
    "    print(table)\n"
   ],
   "outputs": [
    {
     "output_type": "stream",
     "name": "stdout",
     "text": [
      "('NH', 'New Hampshire')\n",
      "('NJ', 'New Jersey')\n",
      "('NM', 'New Mexico')\n",
      "('NY', 'New York')\n"
     ]
    }
   ],
   "metadata": {}
  },
  {
   "cell_type": "code",
   "execution_count": 55,
   "source": [
    "# 2 - How many states have more than 1 word names\n",
    "\n",
    "import mysql.connector\n",
    "import os\n",
    "\n",
    "mysql_config =  {\n",
    "  'user': 'root',\n",
    "  'password': 'Admin321',\n",
    "  'host': '127.0.0.1',\n",
    "  'auth_plugin':'mysql_native_password'\n",
    "}\n",
    "conn = mysql.connector.connect(**mysql_config)\n",
    "curr = conn.cursor(buffered=True)\n",
    "curr.execute('USE abc_corp;')  # <------ The database\n",
    "curr.execute('''SELECT code, state_name \n",
    "FROM states \n",
    "WHERE state_name LIKE \"% %\"\n",
    ";''') \n",
    "tables = curr.fetchall()\n",
    "for table in tables:\n",
    "    print(table)"
   ],
   "outputs": [
    {
     "output_type": "stream",
     "name": "stdout",
     "text": [
      "('NH', 'New Hampshire')\n",
      "('NJ', 'New Jersey')\n",
      "('NM', 'New Mexico')\n",
      "('NY', 'New York')\n",
      "('NC', 'North Carolina')\n",
      "('ND', 'North Dakota')\n",
      "('RI', 'Rhode Island')\n",
      "('SC', 'South Carolina')\n",
      "('SD', 'South Dakota')\n",
      "('WV', 'West Virginia')\n"
     ]
    }
   ],
   "metadata": {}
  },
  {
   "cell_type": "code",
   "execution_count": 67,
   "source": [
    "# 3 - List all of the states with either 'North', 'South', 'West' or 'East' in the name\n",
    "\n",
    "\n",
    "import mysql.connector\n",
    "import os\n",
    "\n",
    "mysql_config =  {\n",
    "  'user': 'root',\n",
    "  'password': 'Admin321',\n",
    "  'host': '127.0.0.1',\n",
    "  'auth_plugin':'mysql_native_password'\n",
    "}\n",
    "conn = mysql.connector.connect(**mysql_config)\n",
    "curr = conn.cursor(buffered=True)\n",
    "curr.execute('USE abc_corp;')  # <------ The database\n",
    "curr.execute('''SELECT code, state_name \n",
    "FROM states \n",
    "WHERE state_name LIKE \"%North%\" or state_name LIKE \"%South%\" or state_name LIKE \"%West%\"  or state_name LIKE \"%East%\"\n",
    ";''') \n",
    "tables = curr.fetchall()\n",
    "for table in tables:\n",
    "    print(table)"
   ],
   "outputs": [
    {
     "output_type": "stream",
     "name": "stdout",
     "text": [
      "('NC', 'North Carolina')\n",
      "('ND', 'North Dakota')\n",
      "('SC', 'South Carolina')\n",
      "('SD', 'South Dakota')\n",
      "('WV', 'West Virginia')\n"
     ]
    }
   ],
   "metadata": {}
  },
  {
   "cell_type": "code",
   "execution_count": 52,
   "source": [
    "import mysql.connector\n",
    "import os\n",
    "\n",
    "mysql_config =  {\n",
    "  'user': 'root',\n",
    "  'password': 'Admin321',\n",
    "  'host': '127.0.0.1',\n",
    "  'auth_plugin':'mysql_native_password'\n",
    "}\n",
    "conn = mysql.connector.connect(**mysql_config)\n",
    "curr = conn.cursor(buffered=True)\n",
    "curr.execute('USE abc_corp;')  # <------ The database\n",
    "curr.execute('''SELECT code, state_name \n",
    "FROM states \n",
    "WHERE state_name IN ('Rhode Island','Maine','New Hampshire')\n",
    ";''') \n",
    "tables = curr.fetchall()\n",
    "for table in tables:\n",
    "    print(table)"
   ],
   "outputs": [
    {
     "output_type": "stream",
     "name": "stdout",
     "text": [
      "('ME', 'Maine')\n",
      "('NH', 'New Hampshire')\n",
      "('RI', 'Rhode Island')\n"
     ]
    }
   ],
   "metadata": {}
  },
  {
   "cell_type": "code",
   "execution_count": null,
   "source": [
    "curr.execute('SELECT * FROM states WHERE state_name = \"%New%\"')\n",
    "tables = curr.fetchall()\n",
    "for table in tables:\n",
    "    print(table)\n",
    "print('='*40)"
   ],
   "outputs": [],
   "metadata": {}
  },
  {
   "cell_type": "code",
   "execution_count": null,
   "source": [
    "c.execute('SELECT * FROM states WHERE LIKE state_name = \"% %\"')\n",
    "tables = c.fetchall()\n",
    "for table in tables:\n",
    "    print(table)\n",
    "print('='*40)"
   ],
   "outputs": [],
   "metadata": {}
  },
  {
   "cell_type": "code",
   "execution_count": null,
   "source": [
    "# 3 - List all of the states with either 'North', 'South', 'West' or 'East' in the name\n",
    "c.execute('SELECT * FROM states WHERE state_name = \"North\" WHERE state_name = \"South\" WHERE state_name = \"West\" WHERE state_name = \"East\"')\n",
    "tables = c.fetchall()\n",
    "for table in tables:\n",
    "    print(table)\n",
    "print('='*40)"
   ],
   "outputs": [],
   "metadata": {}
  },
  {
   "cell_type": "code",
   "execution_count": null,
   "source": [
    "# 4 - Print all the states where the statename is Rhode Island or Maine or New Hampshire\n",
    "c.execute('SELECT * FROM states WHERE state_name = \"Rhode Island\" WHERE state_name = \"Maine\" WHERE state_name = \"New Hampshire\"')\n",
    "tables = c.fetchall()\n",
    "for table in tables:\n",
    "    print(table)\n",
    "print('='*40)"
   ],
   "outputs": [],
   "metadata": {}
  },
  {
   "cell_type": "code",
   "execution_count": null,
   "source": [
    "import mysql.connector\n",
    "import os\n",
    "\n",
    "mysql_config =  {\n",
    "  'user': 'root',\n",
    "  'password': 'Admin321',\n",
    "  'host': '127.0.0.1',\n",
    "  'auth_plugin':'mysql_native_password'\n",
    "}\n",
    "conn = mysql.connector.connect(**mysql_config)\n",
    "curr = conn.cursor(buffered=True)\n",
    "curr.execute('USE abc_corp;')  # <------ The database\n",
    "\n",
    "curr.execute('SELECT code, state_name FROM states;')  # <------ The database\n",
    "tables = curr.fetchall()\n",
    "for table in tables:\n",
    "    print(table)        \n",
    "conn.close()\n",
    "# Refine my SQL\n",
    "curr.execute('SELECT code, state_name FROM states WHERE state_name LIKE \"NEW%\";')\n",
    "table = curr.fetchall()\n",
    "for table in table:\n",
    "  print (table)\n",
    "  curr.close()\n"
   ],
   "outputs": [],
   "metadata": {}
  }
 ],
 "metadata": {
  "orig_nbformat": 4,
  "language_info": {
   "name": "python",
   "version": "3.9.7",
   "mimetype": "text/x-python",
   "codemirror_mode": {
    "name": "ipython",
    "version": 3
   },
   "pygments_lexer": "ipython3",
   "nbconvert_exporter": "python",
   "file_extension": ".py"
  },
  "kernelspec": {
   "name": "python3",
   "display_name": "Python 3.9.7 64-bit"
  },
  "interpreter": {
   "hash": "aee8b7b246df8f9039afb4144a1f6fd8d2ca17a180786b69acc140d282b71a49"
  }
 },
 "nbformat": 4,
 "nbformat_minor": 2
}