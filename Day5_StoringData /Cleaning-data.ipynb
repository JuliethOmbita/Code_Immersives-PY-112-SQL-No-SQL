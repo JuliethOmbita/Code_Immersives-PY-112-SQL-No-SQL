{
 "cells": [
  {
   "cell_type": "code",
   "execution_count": null,
   "source": [
    "import re\n",
    "\n",
    "myFile = open(\"US_Presidents_unordered.txt\", \"r\")\n",
    "headLine = myFile.readline()\n",
    "content = []\n",
    "\n",
    "for i in range(len(myFile)):\n",
    "    myFile.readline()\n",
    "#print(content)\n",
    "print(\"Here\")\n",
    "# x0 = ['first_name', 'last_name', 'middle_name', 'begin_term', 'end_term', 'presidential_order']\n",
    "\n",
    "removed = content.replace(\".\",\"\").replace(\"'\",\"\").replace(\"\\n\",\"\")\n",
    "print(removed)\n",
    "print(\"=\"*35)\n",
    "x = re.split(' |,', removed) \n",
    "print(x)\n",
    "# for i in x:\n",
    "#     print(i)\n",
    "# print(type(x))\n",
    "# x.append(x[0])\n",
    "# x.pop(x[0])\n",
    "# print(x)\n",
    "# print(\"hello\")\n",
    "# a_dict = zip (x0, x)\n",
    "# print(dict(a_dict))\n"
   ],
   "outputs": [],
   "metadata": {}
  },
  {
   "cell_type": "markdown",
   "source": [
    "Exercise\n",
    "Open the file 'US_Presidents_unordered.txt'\n",
    "1 - Add the data to a data structure\n",
    "2 - Separate the dat into the following:\n",
    "first_name, last_name, middle_name,\n",
    "begin_term, end_term, presidential order\n",
    "3 - Create a report to disk with the following in presidential order:\n",
    "order, \"last_name, first_name middle_initial, begin term, end_term, years in office"
   ],
   "metadata": {}
  },
  {
   "cell_type": "code",
   "execution_count": null,
   "source": [
    "import re\n",
    "myFile = open(\"US_Presidents_unordered.txt\", \"r\")\n",
    "headLine = myFile.readline()\n",
    "content = myFile.readlines()\n",
    "\n",
    "print(headLine)\n",
    "#print(content, len(content))\n",
    "# removed = content.replace(\".\",\"\").replace(\"'\",\"\").replace(\"\\n\",\"\")\n",
    "clean_content = []\n",
    "for i, presd in enumerate(content):\n",
    "    # clean_content += i.replace(\".\",\"\").replace(\"'\",\"\").replace(\"\\n\",\"\")\n",
    "    x = presd.replace(\".\",\"\").replace(\"'\",\"\").replace(\"\\n\",\"\")\n",
    "    x = re.split(' |,', x) \n",
    "    print(x)\n",
    "    clean_content.append(x)\n",
    "    print (clean_content)\n",
    "print(clean_content[0],clean_content[1])\n",
    "\n"
   ],
   "outputs": [],
   "metadata": {}
  },
  {
   "cell_type": "code",
   "execution_count": 136,
   "source": [
    "import re\n",
    "\n",
    "# Open the file 'US_Presidents_unordered.txt'\n",
    "myFile = open(\"US_Presidents_unordered.txt\", \"r\")\n",
    "# 1 - Add the data to a data structure\n",
    "headLine = myFile.readline()\n",
    "content = myFile.readlines()\n",
    "# 2 - Separate the dat into the following: presidential_order, first_name, middle_name, last_name, begin_term, end_term\n",
    "print(headLine)\n",
    "clean_content = []\n",
    "order_id = []\n",
    "for presd in (content):\n",
    "    cln = presd.replace(\".\",\"\").replace(\"'\",\"\").replace(\"\\n\",\"\")\n",
    "    cln = re.split(' |,', cln)\n",
    "    order_id.append(cln[0])\n",
    "    cln.pop(0)\n",
    "    clean_content.append(cln)\n",
    "\n",
    "print(clean_content[0],clean_content[1])\n",
    "print (order_id)\n",
    "# 3 - Create a report to disk with the following in presidential order: order, \"last_name, first_name middle_initial, begin term, end_term, years in office\n"
   ],
   "outputs": [
    {
     "output_type": "stream",
     "name": "stdout",
     "text": [
      "Name,Term_Start,Term_End\n",
      "\n",
      "['Ronald', 'Reagan', '01/20/1981', '01/20/1989'] ['George', 'Bush', '01/20/1989', '01/20/1993']\n",
      "['40', '41', '29', '30', '43', '4', '10', '1', '25', '26', '27', '3', '23', '5', '6', '7', '8', '36', '9', '32', '11', '44', '12', '33', '34', '15', '16', '38', '19', '20', '21', '22', '2', '24', '42', '28', '13', '14', '31', '39', '35', '37', '17', '18']\n"
     ]
    }
   ],
   "metadata": {}
  },
  {
   "cell_type": "code",
   "execution_count": 145,
   "source": [
    "import re\n",
    "\n",
    "# Open the file 'US_Presidents_unordered.txt'\n",
    "myFile = open(\"US_Presidents_unordered.txt\", \"r\")\n",
    "# 1 - Add the data to a data structure\n",
    "headLine = myFile.readline()\n",
    "content = myFile.readlines()\n",
    "# 2 - Separate the dat into the following: presidential_order, first_name, middle_name, last_name, begin_term, end_term\n",
    "print(headLine)\n",
    "clean_content = []\n",
    "order_id = []\n",
    "for presd in (content):\n",
    "    cln = presd.replace(\".\",\"\").replace(\"'\",\"\").replace(\"\\n\",\"\")\n",
    "    cln = re.split(' |,', cln)\n",
    "    order_id.append(cln[0])\n",
    "    cln.pop(0)\n",
    "    clean_content.append(cln)\n",
    "\n",
    "print(clean_content[0],clean_content[1])\n",
    "print (order_id)\n",
    "# 3 - Create a report to disk with the following in presidential order: order, \"last_name, first_name middle_initial, begin term, end_term, years in office\n",
    "report = zip (order_id, clean_content)\n",
    "print(dict(report))\n",
    "\n",
    "years_office = (clean_content[0],clean_content[1])"
   ],
   "outputs": [
    {
     "output_type": "stream",
     "name": "stdout",
     "text": [
      "Name,Term_Start,Term_End\n",
      "\n",
      "['Ronald', 'Reagan', '01/20/1981', '01/20/1989'] ['George', 'Bush', '01/20/1989', '01/20/1993']\n",
      "['40', '41', '29', '30', '43', '4', '10', '1', '25', '26', '27', '3', '23', '5', '6', '7', '8', '36', '9', '32', '11', '44', '12', '33', '34', '15', '16', '38', '19', '20', '21', '22', '2', '24', '42', '28', '13', '14', '31', '39', '35', '37', '17', '18']\n",
      "{'40': ['Ronald', 'Reagan', '01/20/1981', '01/20/1989'], '41': ['George', 'Bush', '01/20/1989', '01/20/1993'], '29': ['Warren', 'G', 'Harding', '03/04/1921', '08/02/1923'], '30': ['Calvin', 'Coolidge', '08/02/1923', '03/04/1929'], '43': ['George', 'W', 'Bush', '01/20/2001', '01/20/2009'], '4': ['James', 'Madison', '03/04/1809', '03/04/1817'], '10': ['John', 'Tyler', '04/04/1841', '03/04/1845'], '1': ['George', 'Washington', '04/30/1789', '03/04/1797'], '25': ['William', 'McKinley', '03/04/1897', '09/14/1901'], '26': ['Theodore', 'Roosevelt', '09/14/1901', '03/04/1909'], '27': ['William', 'Howard', 'Taft', '03/04/1909', '03/04/1913'], '3': ['Thomas', 'Jefferson', '03/04/1801', '03/04/1809'], '23': ['Benjamin', 'Harrison', '03/04/1889', '03/04/1893'], '5': ['James', 'Monroe', '03/04/1817', '03/04/1825'], '6': ['John', 'Quincy', 'Adams', '03/04/1825', '03/04/1829'], '7': ['Andrew', 'Jackson', '03/04/1829', '03/04/1837'], '8': ['Martin', 'Van', 'Buren', '03/04/1837', '03/04/1841'], '36': ['Lyndon', 'B', 'Johnson', '11/22/1963', '01/20/1969'], '9': ['William', 'Henry', 'Harrison', '03/04/1841', '04/04/1841'], '32': ['Franklin', 'D', 'Roosevelt', '03/04/1933', '04/12/1945'], '11': ['James', 'K', 'Polk', '03/04/1845', '03/04/1849'], '44': ['Barack', 'Obama', '01/20/2009', '01/20/2017'], '12': ['Zachary', 'Taylor', '03/04/1849', '07/09/1850'], '33': ['Harry', 'S', 'Truman', '04/12/1945', '01/20/1953'], '34': ['Dwight', 'Eisenhower', '01/20/1953', '01/20/1961'], '15': ['James', 'Buchanan', '03/04/1857', '03/04/1861'], '16': ['Abraham', 'Lincoln', '03/04/1861', '04/15/1865'], '38': ['Gerald', 'Ford', '08/09/1974', '01/20/1977'], '19': ['Rutherford', 'B', 'Hayes', '03/04/1877', '03/04/1881'], '20': ['James', 'Garfield', '03/04/1881', '09/19/1881'], '21': ['Chester', 'Arthur', '09/19/1881', '03/04/1885'], '22': ['Grover', 'Cleveland', '03/04/1885', '03/04/1889'], '2': ['John', 'Adams', '03/04/1797', '03/04/1801'], '24': ['Grover', 'Cleveland', '03/04/1893', '03/04/1897'], '42': ['Bill', 'Clinton', '01/20/1993', '01/20/2001'], '28': ['Woodrow', 'Wilson', '03/04/1913', '03/04/1921'], '13': ['Millard', 'Fillmore', '07/09/1850', '03/04/1853'], '14': ['Franklin', 'Pierce', '03/04/1853', '03/04/1857'], '31': ['Herbert', 'Hoover', '03/04/1929', '03/04/1933'], '39': ['Jimmy', 'Carter', '01/20/1977', '01/20/1981'], '35': ['John', 'F', 'Kennedy', '01/20/1961', '11/22/1963'], '37': ['Richard', 'Nixon', '01/20/1969', '08/09/1974'], '17': ['Andrew', 'Johnson', '04/15/1865', '03/04/1869'], '18': ['Ulysses', 'S', 'Grant', '03/04/1869', '03/04/1877']}\n"
     ]
    }
   ],
   "metadata": {}
  },
  {
   "cell_type": "code",
   "execution_count": 146,
   "source": [
    "import datetime\n",
    "years_office = (clean_content[0],clean_content[1])\n",
    "print (years_office[1][-1], years_office[1][-2])\n",
    "date_time = datetime.strptime(years_office[1][-1], '%m/%d/%y'\n",
    "\n",
    "#years_office =  datetime.date(years_office[1][-1]) - datetime.timedelta(years_office[1][-2])"
   ],
   "outputs": [
    {
     "output_type": "error",
     "ename": "SyntaxError",
     "evalue": "unexpected EOF while parsing (1563465251.py, line 6)",
     "traceback": [
      "\u001b[0;36m  File \u001b[0;32m\"/var/folders/pl/clj7x4m153j6y749_p0tpx4m0000gn/T/ipykernel_3188/1563465251.py\"\u001b[0;36m, line \u001b[0;32m6\u001b[0m\n\u001b[0;31m    #years_office =  datetime.date(years_office[1][-1]) - datetime.timedelta(years_office[1][-2])\u001b[0m\n\u001b[0m                                                                                                 ^\u001b[0m\n\u001b[0;31mSyntaxError\u001b[0m\u001b[0;31m:\u001b[0m unexpected EOF while parsing\n"
     ]
    }
   ],
   "metadata": {}
  }
 ],
 "metadata": {
  "orig_nbformat": 4,
  "language_info": {
   "name": "python",
   "version": "3.9.7",
   "mimetype": "text/x-python",
   "codemirror_mode": {
    "name": "ipython",
    "version": 3
   },
   "pygments_lexer": "ipython3",
   "nbconvert_exporter": "python",
   "file_extension": ".py"
  },
  "kernelspec": {
   "name": "python3",
   "display_name": "Python 3.9.7 64-bit"
  },
  "interpreter": {
   "hash": "aee8b7b246df8f9039afb4144a1f6fd8d2ca17a180786b69acc140d282b71a49"
  }
 },
 "nbformat": 4,
 "nbformat_minor": 2
}