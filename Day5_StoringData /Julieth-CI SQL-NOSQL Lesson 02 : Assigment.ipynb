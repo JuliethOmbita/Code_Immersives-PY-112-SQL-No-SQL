{
 "cells": [
  {
   "cell_type": "code",
   "execution_count": 24,
   "source": [
    "import sqlite3\n",
    "import os\n",
    "\n",
    "os.chdir(r'/Users/julis_478/Documents/Python Immersives/PY-112 SQL, No SQL/Classes/Activities Github/Day4_SQL-Lesson 02')\n",
    "conn = sqlite3.connect('customer.db')\n",
    "c = conn.cursor()\n",
    "# conn.commit()\n",
    "# conn.close()"
   ],
   "outputs": [],
   "metadata": {}
  },
  {
   "cell_type": "code",
   "execution_count": 25,
   "source": [
    "import os \n",
    "print(os.getcwd())"
   ],
   "outputs": [
    {
     "output_type": "stream",
     "name": "stdout",
     "text": [
      "/Users/julis_478/Documents/Python Immersives/PY-112 SQL, No SQL/Classes/Activities Github/Day4_SQL-Lesson 02\n"
     ]
    }
   ],
   "metadata": {}
  },
  {
   "cell_type": "code",
   "execution_count": 41,
   "source": [
    "conn = sqlite3.connect('customer.db')\n",
    "c = conn.cursor()\n",
    "c.execute('''CREATE TABLE IF NOT EXISTS customers (\n",
    "    first_name TEXT,\n",
    "    last_name TEXT,\n",
    "    address1 TEXT,\n",
    "    address2 TEXT,\n",
    "    city TEXT,\n",
    "    state TEXT,\n",
    "    zip TEXT\n",
    ")''')\n",
    "c.execute('DELETE FROM customers')\n",
    "\n",
    "conn.commit() # <=== commit our table changes to the database !!!\n",
    "# conn.close()  # Close the connection"
   ],
   "outputs": [],
   "metadata": {}
  },
  {
   "cell_type": "code",
   "execution_count": 42,
   "source": [
    "# Retreive all table names in the database\n",
    "for row in c.execute(\"SELECT name FROM sqlite_master\"):\n",
    "    print(row)\n",
    "print ()\n",
    "# Below asks for only 2 specific fields from this table\n",
    "for row in conn.execute(\"SELECT first_name, last_name FROM customers\"):\n",
    "    print(row)\n",
    "# Return all fields from the table customers\n",
    "print ()\n",
    "for row in conn.execute(\"SELECT * FROM customers\"):\n",
    "    print(row)\n",
    "\n",
    "conn.commit()  # <=== commit our table to the database\n",
    "# conn.close()"
   ],
   "outputs": [
    {
     "output_type": "stream",
     "name": "stdout",
     "text": [
      "('customers',)\n",
      "\n",
      "\n"
     ]
    }
   ],
   "metadata": {}
  },
  {
   "cell_type": "code",
   "execution_count": 43,
   "source": [
    "import sqlite3\n",
    "import os\n",
    "\n",
    "os.chdir(r'/Users/julis_478/Documents/Python Immersives/PY-112 SQL, No SQL/Classes/Activities Github/Day4_SQL-Lesson 02')\n",
    "conn = sqlite3.connect('customer.db') #Careate or open a database\n",
    "c = conn.cursor() # Create a cursor connection to the database\n",
    "all_customers = [\n",
    "('Fred', 'Fentree', '12 Williams street Avenue', 'Apt 1a', 'Brooklyn', 'NY', '11234'),\n",
    "('Mary', 'Pew', '1 Park Avenue', 'Apt 2a', 'New York', 'NY', '11234'),\n",
    "('Mary', 'Roberts', '1 Park Avenue', 'Apt 2a', 'New York', 'NY', '11234'),\n",
    "('Mary', 'Jones', '10 Center Ave', 'Apt 10b', 'Brooklyn', 'NY', '11234'),\n",
    "('Lea', 'Jones', '1 Park Avenue', 'Apt 2a', 'Bronx', 'NY', '11234') \n",
    "]\n",
    "c.executemany('INSERT INTO customers VALUES (?,?,?,?,?,?,?)', all_customers)\n",
    "conn.commit()\n",
    "# Return all fields from the table customers\n",
    "for row in conn.execute(\"\"\"SELECT * FROM customers\"\"\"):\n",
    "    print(row)\n",
    "# conn.close()\n"
   ],
   "outputs": [
    {
     "output_type": "stream",
     "name": "stdout",
     "text": [
      "('Fred', 'Fentree', '12 Williams street Avenue', 'Apt 1a', 'Brooklyn', 'NY', '11234')\n",
      "('Mary', 'Pew', '1 Park Avenue', 'Apt 2a', 'New York', 'NY', '11234')\n",
      "('Mary', 'Roberts', '1 Park Avenue', 'Apt 2a', 'New York', 'NY', '11234')\n",
      "('Mary', 'Jones', '10 Center Ave', 'Apt 10b', 'Brooklyn', 'NY', '11234')\n",
      "('Lea', 'Jones', '1 Park Avenue', 'Apt 2a', 'Bronx', 'NY', '11234')\n"
     ]
    }
   ],
   "metadata": {}
  },
  {
   "cell_type": "markdown",
   "source": [
    "# Return an unduplicated list of the cities in the customer database "
   ],
   "metadata": {}
  },
  {
   "cell_type": "code",
   "execution_count": 44,
   "source": [
    "#Retrieve just the list of city  \n",
    "city = []\n",
    "for row in conn.execute(\"\"\"SELECT city FROM customers \"\"\"): \n",
    "    city.append(row[0])\n",
    "print(city)\n",
    "print(set(city))\n",
    "print()\n",
    "# Mth 2 - DISTINCT\n",
    "for row in conn.execute(\"\"\"SELECT DISTINCT city FROM customers \"\"\"):\n",
    "    print(row)"
   ],
   "outputs": [
    {
     "output_type": "stream",
     "name": "stdout",
     "text": [
      "['Brooklyn', 'New York', 'New York', 'Brooklyn', 'Bronx']\n",
      "{'Bronx', 'New York', 'Brooklyn'}\n",
      "\n",
      "('Brooklyn',)\n",
      "('New York',)\n",
      "('Bronx',)\n"
     ]
    }
   ],
   "metadata": {}
  },
  {
   "cell_type": "code",
   "execution_count": 20,
   "source": [
    "# 1. City en Alpha order using python\n",
    "\n",
    "city = []\n",
    "for row in conn.execute(\"\"\"SELECT city FROM customers \"\"\"):\n",
    "    city.append(row[0])\n",
    "city_list = list(set(city))\n",
    "# In alpha order or ASCending (ASC)\n",
    "city_list.sort()\n",
    "print (city_list)\n",
    "print('='*35)\n",
    "# In reverse alpha order or DESCending  (DESC)\n",
    "city_list.sort(reverse=True)\n",
    "print (city_list)\n",
    "print('='*35)\n",
    "\n",
    "# 1. City en Alpha order using SQL\n",
    "# In alpha order or ASCending (ASC)\n",
    "for row in conn.execute(\"\"\"SELECT DISTINCT city FROM customers ORDER BY city ASC\"\"\"):\n",
    "    print(row)\n",
    "print('='*35)\n",
    "\n",
    "# In reverse alpha order or DESCending  (DESC)\n",
    "for row in conn.execute(\"\"\"SELECT DISTINCT city FROM customers ORDER BY city DESC\"\"\"):\n",
    "    print(row)"
   ],
   "outputs": [
    {
     "output_type": "stream",
     "name": "stdout",
     "text": [
      "['Bronx', 'Brooklyn', 'New York']\n",
      "===================================\n",
      "['New York', 'Brooklyn', 'Bronx']\n",
      "===================================\n",
      "('Bronx',)\n",
      "('Brooklyn',)\n",
      "('New York',)\n",
      "===================================\n",
      "('New York',)\n",
      "('Brooklyn',)\n",
      "('Bronx',)\n"
     ]
    }
   ],
   "metadata": {}
  },
  {
   "cell_type": "markdown",
   "source": [
    "# Exercise <br>\n",
    "1 - List all customers whose name starts with 'M'. <br>\n",
    "2 - Count of all customer names and the number of times the first name appears in out table. <br>\n"
   ],
   "metadata": {}
  },
  {
   "cell_type": "code",
   "execution_count": 45,
   "source": [
    "# STEPS\n",
    "# 1. Print everything\n",
    "# 2. Refine the list\n",
    "\n",
    "# Mth 1\n",
    "for row in conn.execute(\"SELECT first_name FROM customers\"):\n",
    "    if row[0][:1] =='M':\n",
    "         print (row[0])\n",
    "print()\n",
    "\n",
    "# Mth 1 - LIKE clause\n",
    "for row in conn.execute(\"SELECT first_name FROM customers WHERE first_name LIKE 'M%'\"):\n",
    "    print (row[0])\n",
    "\n"
   ],
   "outputs": [
    {
     "output_type": "stream",
     "name": "stdout",
     "text": [
      "Mary\n",
      "Mary\n",
      "Mary\n",
      "\n",
      "Mary\n",
      "Mary\n",
      "Mary\n"
     ]
    }
   ],
   "metadata": {}
  },
  {
   "cell_type": "code",
   "execution_count": 22,
   "source": [
    "names = {}\n",
    "for row in conn.execute(\"\"\"SELECT first_name FROM customers\"\"\"):\n",
    "    name = row[0] # Get each name\n",
    "    if not name in names: # Does this name exist in the dictionary?\n",
    "        names[name] = 0   # It does so set the count to 0 for that name\n",
    "    names[name] += 1\n",
    "print(names)\n",
    "# conn.commit()  # <=== commit our table to the database\n",
    "# conn.close()"
   ],
   "outputs": [
    {
     "output_type": "stream",
     "name": "stdout",
     "text": [
      "{'Fred': 2, 'Mary': 6, 'Lea': 2}\n"
     ]
    }
   ],
   "metadata": {}
  },
  {
   "cell_type": "code",
   "execution_count": 46,
   "source": [
    "# fetchall() - all data into a list  \n",
    "\n",
    "import sqlite3\n",
    "import os\n",
    "\n",
    "os.chdir(r'/Users/julis_478/Documents/Python Immersives/PY-112 SQL, No SQL/Classes/Activities Github/Day4_SQL-Lesson 02')\n",
    "conn = sqlite3.connect('customer.db')\n",
    "c = conn.cursor()\n",
    "\n",
    "c.execute('SELECT * FROM customers')\n",
    "print(c.fetchall())\n",
    "conn.commit()\n",
    "conn.close()"
   ],
   "outputs": [
    {
     "output_type": "stream",
     "name": "stdout",
     "text": [
      "[('Fred', 'Fentree', '12 Williams street Avenue', 'Apt 1a', 'Brooklyn', 'NY', '11234'), ('Mary', 'Pew', '1 Park Avenue', 'Apt 2a', 'New York', 'NY', '11234'), ('Mary', 'Roberts', '1 Park Avenue', 'Apt 2a', 'New York', 'NY', '11234'), ('Mary', 'Jones', '10 Center Ave', 'Apt 10b', 'Brooklyn', 'NY', '11234'), ('Lea', 'Jones', '1 Park Avenue', 'Apt 2a', 'Bronx', 'NY', '11234')]\n"
     ]
    }
   ],
   "metadata": {}
  },
  {
   "cell_type": "code",
   "execution_count": 47,
   "source": [
    "# fetchone() - one item in a list\n",
    "\n",
    "import sqlite3\n",
    "import os\n",
    "\n",
    "os.chdir(r'/Users/julis_478/Documents/Python Immersives/PY-112 SQL, No SQL/Classes/Activities Github/Day4_SQL-Lesson 02')\n",
    "conn = sqlite3.connect('customer.db')\n",
    "c = conn.cursor()\n",
    "\n",
    "c.execute('SELECT * FROM customers')\n",
    "print(c.fetchone())\n",
    "conn.commit()\n",
    "conn.close()"
   ],
   "outputs": [
    {
     "output_type": "stream",
     "name": "stdout",
     "text": [
      "('Fred', 'Fentree', '12 Williams street Avenue', 'Apt 1a', 'Brooklyn', 'NY', '11234')\n"
     ]
    }
   ],
   "metadata": {}
  },
  {
   "cell_type": "code",
   "execution_count": 48,
   "source": [
    "# fetchmany(3) \n",
    "import sqlite3\n",
    "import os\n",
    "\n",
    "os.chdir(r'/Users/julis_478/Documents/Python Immersives/PY-112 SQL, No SQL/Classes/Activities Github/Day4_SQL-Lesson 02')\n",
    "conn = sqlite3.connect('customer.db')\n",
    "c = conn.cursor()\n",
    "\n",
    "c.execute('SELECT * FROM customers')\n",
    "print(c.fetchmany(3))\n",
    "conn.commit()\n",
    "conn.close()"
   ],
   "outputs": [
    {
     "output_type": "stream",
     "name": "stdout",
     "text": [
      "[('Fred', 'Fentree', '12 Williams street Avenue', 'Apt 1a', 'Brooklyn', 'NY', '11234'), ('Mary', 'Pew', '1 Park Avenue', 'Apt 2a', 'New York', 'NY', '11234'), ('Mary', 'Roberts', '1 Park Avenue', 'Apt 2a', 'New York', 'NY', '11234')]\n"
     ]
    }
   ],
   "metadata": {}
  },
  {
   "cell_type": "markdown",
   "source": [
    "# Filter data using a WHERE clause"
   ],
   "metadata": {}
  },
  {
   "cell_type": "markdown",
   "source": [
    "List all the customers where first name is = 'Mary'"
   ],
   "metadata": {}
  },
  {
   "cell_type": "code",
   "execution_count": 49,
   "source": [
    "import sqlite3\n",
    "import os\n",
    "\n",
    "os.chdir(r'/Users/julis_478/Documents/Python Immersives/PY-112 SQL, No SQL/Classes/Activities Github/Day4_SQL-Lesson 02')\n",
    "conn = sqlite3.connect('customer.db')\n",
    "c = conn.cursor()\n",
    "\n",
    "c.execute('SELECT * FROM customers WHERE first_name = \"Mary\"')\n",
    "print(c.fetchall())\n",
    "conn.commit()\n",
    "conn.close()"
   ],
   "outputs": [
    {
     "output_type": "stream",
     "name": "stdout",
     "text": [
      "[('Mary', 'Pew', '1 Park Avenue', 'Apt 2a', 'New York', 'NY', '11234'), ('Mary', 'Roberts', '1 Park Avenue', 'Apt 2a', 'New York', 'NY', '11234'), ('Mary', 'Jones', '10 Center Ave', 'Apt 10b', 'Brooklyn', 'NY', '11234')]\n"
     ]
    }
   ],
   "metadata": {}
  },
  {
   "cell_type": "code",
   "execution_count": 50,
   "source": [
    "# Compound query based on more than one field\n",
    "import sqlite3\n",
    "import os\n",
    "\n",
    "os.chdir(r'/Users/julis_478/Documents/Python Immersives/PY-112 SQL, No SQL/Classes/Activities Github/Day4_SQL-Lesson 02')\n",
    "conn = sqlite3.connect('customer.db')\n",
    "c = conn.cursor()\n",
    "\n",
    "c.execute('SELECT * FROM customers WHERE first_name = \"Mary\" AND address2=\"Apt 2a\"')\n",
    "print(c.fetchall())\n",
    "conn.commit()\n",
    "conn.close()"
   ],
   "outputs": [
    {
     "output_type": "stream",
     "name": "stdout",
     "text": [
      "[('Mary', 'Pew', '1 Park Avenue', 'Apt 2a', 'New York', 'NY', '11234'), ('Mary', 'Roberts', '1 Park Avenue', 'Apt 2a', 'New York', 'NY', '11234')]\n"
     ]
    }
   ],
   "metadata": {}
  },
  {
   "cell_type": "markdown",
   "source": [
    "# Exercise \n",
    "1- Create a table called Depts <br>\n",
    "2- The table struct ure is the following: <br>\n",
    "dept code TEXT, <br>\n",
    "dept_name TEXT<br> \n",
    "3- Add the following depts <br>\n",
    "FIN, Finance <br>\n",
    "ACC, Accounting <br>\n",
    "HR, Human Resources <br>\n",
    "I.T., Information Technology <br>\n",
    "BACK, Back Office <br>\n",
    "SALE, Sales <br>\n",
    "4- Query and print all depts <br>\n",
    "5 - Using core python query all dept_codes with the letter 'A' inside the code"
   ],
   "metadata": {}
  },
  {
   "cell_type": "code",
   "execution_count": 51,
   "source": [
    "import sqlite3\n",
    "import os\n",
    "\n",
    "os.chdir(r'/Users/julis_478/Documents/Python Immersives/PY-112 SQL, No SQL/Classes/Activities Github/Day4_SQL-Lesson 02')\n",
    "conn = sqlite3.connect('customer.db')\n",
    "c = conn.cursor()\n",
    "\n",
    "# The asterick allows you to retreive all of the fields\n",
    "c.execute(\"\"\"CREATE TABLE IF NOT EXISTS depts (dept_code TEXT,\n",
    "dept_name TEXT)\"\"\")\n",
    "conn.commit()\n",
    "# Which tables exists in my database\n",
    "for row in c.execute(\"\"\"SELECT name FROM sqlite_master\"\"\"):\n",
    "    print(row)\n",
    "    print()\n",
    "#\n",
    "all_depts = [ \n",
    "    ('FIN', 'Finance'),\n",
    "    ('ACC', 'Accounting'),\n",
    "    ('HR', 'Human Resources'),\n",
    "    ('I.T.', 'Information Technology'),\n",
    "    ('BACK' , 'Back Office'),\n",
    "    ('SALE' , 'Sales'),\n",
    "]\n",
    "c.executemany('INSERT INTO depts VALUES (?,?)',all_depts)\n",
    "conn.commit()\n",
    "for row in c.execute('SELECT * FROM depts'):\n",
    "    print(row)\n",
    "print()\n",
    "\n",
    "for row in c.execute('SELECT dept_code FROM depts'):\n",
    "    print(row)\n",
    "print()"
   ],
   "outputs": [
    {
     "output_type": "stream",
     "name": "stdout",
     "text": [
      "('customers',)\n",
      "\n",
      "('depts',)\n",
      "\n",
      "('FIN', 'Finance')\n",
      "('ACC', 'Accounting')\n",
      "('HR', 'Human Resources')\n",
      "('I.T.', 'Information Technology')\n",
      "('BACK', 'Back Office')\n",
      "('SALE', 'Sales')\n",
      "\n",
      "('FIN',)\n",
      "('ACC',)\n",
      "('HR',)\n",
      "('I.T.',)\n",
      "('BACK',)\n",
      "('SALE',)\n",
      "\n"
     ]
    }
   ],
   "metadata": {}
  },
  {
   "cell_type": "code",
   "execution_count": 52,
   "source": [
    "# Using core python query all dept_codes with the letter 'A' inside the code\n",
    "for row in c.execute('SELECT dept_code FROM depts'):\n",
    "    if 'A' in row[0]:\n",
    "        print(row)"
   ],
   "outputs": [
    {
     "output_type": "stream",
     "name": "stdout",
     "text": [
      "('ACC',)\n",
      "('BACK',)\n",
      "('SALE',)\n"
     ]
    }
   ],
   "metadata": {}
  },
  {
   "cell_type": "markdown",
   "source": [
    "<h2>Find the letter 'A' in the dept_code using SQL</h2>"
   ],
   "metadata": {}
  },
  {
   "cell_type": "code",
   "execution_count": 63,
   "source": [
    "# Give me all depts that starts with the letter A \n",
    "for row in c.execute(\"SELECT dept_code FROM depts WHERE dept_code LIKE 'A%'\"):\n",
    "    print(row)\n",
    "print('+'*35)\n",
    "\n",
    "# Give me all depts that ends with the letter E \n",
    "for row in c.execute(\"SELECT dept_code FROM depts WHERE dept_code LIKE '%E'\"):\n",
    "    print(row) \n",
    "print('+'*35)\n",
    "\n",
    "# Give me all depts that contains the letter 'A'\n",
    "for row in c.execute(\"SELECT dept_code FROM depts WHERE dept_code LIKE '%A%' \"):\n",
    "    print(row)\n",
    "print('+'*35)\n",
    "\n",
    "# Add an or statement\n",
    "for row in c.execute(\"SELECT dept_code FROM depts WHERE dept_code LIKE '%A%' or dept_code LIKE '%N' \"):\n",
    "    print(row)\n",
    "print('+'*35)\n",
    "\n",
    "# not statement\n",
    "for row in c.execute(\"SELECT dept_code FROM depts WHERE dept_code NOT LIKE '%A%'  \"):\n",
    "    print(row)\n",
    "conn.commit()\n",
    "conn.close()"
   ],
   "outputs": [
    {
     "output_type": "stream",
     "name": "stdout",
     "text": [
      "('ACC',)\n",
      "+++++++++++++++++++++++++++++++++++\n",
      "('SALE',)\n",
      "+++++++++++++++++++++++++++++++++++\n",
      "('ACC',)\n",
      "('BACK',)\n",
      "('SALE',)\n",
      "+++++++++++++++++++++++++++++++++++\n",
      "('FIN',)\n",
      "('ACC',)\n",
      "('BACK',)\n",
      "('SALE',)\n",
      "+++++++++++++++++++++++++++++++++++\n",
      "('FIN',)\n",
      "('HR',)\n",
      "('I.T.',)\n"
     ]
    }
   ],
   "metadata": {}
  },
  {
   "cell_type": "markdown",
   "source": [
    "<h2>Homework</h2>\n",
    "Iterate through all of the department names and return<br>\n",
    "1 - The lower case count of each letter found.  Include an<br>\n",
    "entry for a space by using the key 'SPACE'.<br>\n",
    "2 - It should be in descending order by frequency of the letter<br>\n",
    "3 - Another data structure in Alphabetic order by letter found"
   ],
   "metadata": {}
  },
  {
   "cell_type": "code",
   "execution_count": 66,
   "source": [
    "# 1 - The lower case count of each letter found.  Include an entry for a space by using the key 'SPACE'.\n",
    "import sqlite3\n",
    "import os\n",
    "\n",
    "os.chdir(r'/Users/julis_478/Documents/Python Immersives/PY-112 SQL, No SQL/Classes/Activities Github/Day4_SQL-Lesson 02')\n",
    "conn = sqlite3.connect('customer.db')\n",
    "c = conn.cursor()\n",
    "depts_info = []\n",
    "for row in c.execute('SELECT dept_name FROM depts'):\n",
    "    dept_info = [row[0]],len(row[0]) \n",
    "    depts_info.append(dept_info)\n",
    "    print(f'The lower case name of each department: {row[0].lower()}. It has {len(row[0])} characteres.')\n",
    "print()\n",
    "print (depts_info)"
   ],
   "outputs": [
    {
     "output_type": "stream",
     "name": "stdout",
     "text": [
      "The lower case name of each department: finance. It has 7 characteres.\n",
      "The lower case name of each department: accounting. It has 10 characteres.\n",
      "The lower case name of each department: human resources. It has 15 characteres.\n",
      "The lower case name of each department: information technology. It has 22 characteres.\n",
      "The lower case name of each department: back office. It has 11 characteres.\n",
      "The lower case name of each department: sales. It has 5 characteres.\n",
      "\n",
      "[(['Finance'], 7), (['Accounting'], 10), (['Human Resources'], 15), (['Information Technology'], 22), (['Back Office'], 11), (['Sales'], 5)]\n"
     ]
    }
   ],
   "metadata": {}
  },
  {
   "cell_type": "code",
   "execution_count": 15,
   "source": [
    "# 1 - The lower case count of each letter found.  Include an entry for a space by using the key 'SPACE'.\n",
    "import sqlite3\n",
    "import os\n",
    "\n",
    "os.chdir(r'/Users/julis_478/Documents/Python Immersives/PY-112 SQL, No SQL/Classes/Activities Github/Day4_SQL-Lesson 02')\n",
    "conn = sqlite3.connect('customer.db')\n",
    "c = conn.cursor()\n",
    "depts_info = []\n",
    "letters = {}\n",
    "for row in c.execute('SELECT dept_name FROM depts'):\n",
    "    # print (row[0], len (row[0]))\n",
    "    for letter in row[0]:\n",
    "        letter = 'SPACE' if letter == ' ' else letter.lower()\n",
    "        if not letter in letters:\n",
    "            letters [letter] = 0 \n",
    "        letters [letter] += 1 \n",
    "print (letters)\n",
    "\n"
   ],
   "outputs": [
    {
     "output_type": "stream",
     "name": "stdout",
     "text": [
      "{'f': 4, 'i': 5, 'n': 8, 'a': 6, 'c': 7, 'e': 6, 'o': 7, 'u': 3, 't': 3, 'g': 2, 'h': 2, 'm': 2, 'SPACE': 3, 'r': 3, 's': 4, 'l': 2, 'y': 1, 'b': 1, 'k': 1}\n"
     ]
    }
   ],
   "metadata": {}
  },
  {
   "cell_type": "code",
   "execution_count": 24,
   "source": [
    "# 2 - It should be in descending order by frequency of the letter\n",
    "\n",
    "print ('Sorted by item founf - Descending')\n",
    "all_sorted = sorted(letters.items(), key = lambda kv: kv[1], reverse = True)\n",
    "print (all_sorted)"
   ],
   "outputs": [
    {
     "output_type": "stream",
     "name": "stdout",
     "text": [
      "Sorted by item founf - Descending\n",
      "[('n', 8), ('c', 7), ('o', 7), ('a', 6), ('e', 6), ('i', 5), ('f', 4), ('s', 4), ('u', 3), ('t', 3), ('SPACE', 3), ('r', 3), ('g', 2), ('h', 2), ('m', 2), ('l', 2), ('y', 1), ('b', 1), ('k', 1)]\n",
      "[('n', 8), ('c', 7), ('o', 7), ('a', 6), ('e', 6), ('i', 5), ('f', 4), ('s', 4), ('u', 3), ('t', 3), ('SPACE', 3), ('r', 3), ('g', 2), ('h', 2), ('m', 2), ('l', 2), ('y', 1), ('b', 1), ('k', 1)]\n"
     ]
    }
   ],
   "metadata": {}
  },
  {
   "cell_type": "code",
   "execution_count": 23,
   "source": [
    "# 3 - Another data structure in Alphabetic order by letter found\n",
    "print ('Sorted in alpha order')\n",
    "all_sorted = sorted(letters.items(), key = lambda kv: kv[0], reverse = True)\n",
    "print (all_sorted)"
   ],
   "outputs": [
    {
     "output_type": "stream",
     "name": "stdout",
     "text": [
      "Sorted in alpha order\n",
      "[('y', 1), ('u', 3), ('t', 3), ('s', 4), ('r', 3), ('o', 7), ('n', 8), ('m', 2), ('l', 2), ('k', 1), ('i', 5), ('h', 2), ('g', 2), ('f', 4), ('e', 6), ('c', 7), ('b', 1), ('a', 6), ('SPACE', 3)]\n"
     ]
    }
   ],
   "metadata": {}
  },
  {
   "cell_type": "code",
   "execution_count": 26,
   "source": [
    "#Turn a list of tuple back into a Dictionary\n",
    "a1 = {all_sorted[i][0]:all_sorted[i][1] for i in range (len (all_sorted))}\n",
    "print (a1)"
   ],
   "outputs": [
    {
     "output_type": "stream",
     "name": "stdout",
     "text": [
      "{'n': 8, 'c': 7, 'o': 7, 'a': 6, 'e': 6, 'i': 5, 'f': 4, 's': 4, 'u': 3, 't': 3, 'SPACE': 3, 'r': 3, 'g': 2, 'h': 2, 'm': 2, 'l': 2, 'y': 1, 'b': 1, 'k': 1}\n"
     ]
    }
   ],
   "metadata": {}
  }
 ],
 "metadata": {
  "orig_nbformat": 4,
  "language_info": {
   "name": "python",
   "version": "3.9.7",
   "mimetype": "text/x-python",
   "codemirror_mode": {
    "name": "ipython",
    "version": 3
   },
   "pygments_lexer": "ipython3",
   "nbconvert_exporter": "python",
   "file_extension": ".py"
  },
  "kernelspec": {
   "name": "python3",
   "display_name": "Python 3.9.7 64-bit"
  },
  "interpreter": {
   "hash": "aee8b7b246df8f9039afb4144a1f6fd8d2ca17a180786b69acc140d282b71a49"
  }
 },
 "nbformat": 4,
 "nbformat_minor": 2
}